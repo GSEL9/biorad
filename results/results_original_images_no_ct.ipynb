{
 "cells": [
  {
   "cell_type": "code",
   "execution_count": null,
   "metadata": {},
   "outputs": [],
   "source": [
    "import numpy as np\n",
    "import pandas as pd\n",
    "\n",
    "import seaborn as sns\n",
    "import matplotlib.pyplot as plt\n",
    "\n",
    "%matplotlib inline"
   ]
  },
  {
   "cell_type": "code",
   "execution_count": null,
   "metadata": {},
   "outputs": [],
   "source": [
    "results = pd.read_csv(\n",
    "    './../../data_source/results/original_images/all_features_original_images.csv',\n",
    "    index_col=0\n",
    ")\n",
    "results.head()"
   ]
  },
  {
   "cell_type": "code",
   "execution_count": null,
   "metadata": {},
   "outputs": [],
   "source": [
    "results.shape"
   ]
  },
  {
   "cell_type": "code",
   "execution_count": null,
   "metadata": {},
   "outputs": [],
   "source": [
    "_selector_lbls, _estimator_lbls = [], []\n",
    "for label in np.unique(results['experiment_id']):\n",
    "    \n",
    "    selector_lbl, estimator_lbl = label.split('_')\n",
    "\n",
    "    _selector_lbls.append(selector_lbl)\n",
    "    _estimator_lbls.append(estimator_lbl)\n",
    "\n",
    "selector_lbls = np.unique(_selector_lbls)\n",
    "estimator_lbls = np.unique(_estimator_lbls)"
   ]
  },
  {
   "cell_type": "code",
   "execution_count": null,
   "metadata": {},
   "outputs": [],
   "source": [
    "to_drop = ['MRMRSelection', 'ANOVAFvalueSelection']\n",
    "selector_lbls = np.array([label for label in selector_lbls if not label in to_drop])\n",
    "\n",
    "selector_lbls"
   ]
  },
  {
   "cell_type": "code",
   "execution_count": null,
   "metadata": {},
   "outputs": [],
   "source": [
    "estimator_lbls"
   ]
  },
  {
   "cell_type": "code",
   "execution_count": null,
   "metadata": {},
   "outputs": [],
   "source": [
    "results_mat = np.zeros((len(estimator_lbls), len(selector_lbls)))\n",
    "for row_num, estimator_lbl in enumerate(estimator_lbls):\n",
    "    for col_num, selector_lbl in enumerate(selector_lbls):\n",
    "        \n",
    "        label = f'{selector_lbl}_{estimator_lbl}'\n",
    "        location = np.where(label == np.array(results['experiment_id']))\n",
    "        scores = results.iloc[np.squeeze(location), :]['test_score']\n",
    "        \n",
    "        results_mat[row_num, col_num] = np.mean(scores)"
   ]
  },
  {
   "cell_type": "code",
   "execution_count": null,
   "metadata": {},
   "outputs": [],
   "source": [
    "plt.figure(figsize=(10, 10))\n",
    "sns.heatmap(\n",
    "    results_mat * 100,\n",
    "    xticklabels=selector_lbls,\n",
    "    yticklabels=estimator_lbls,\n",
    "    vmin=np.nanmin(results_mat) * 100 - 1e-4, \n",
    "    vmax=np.nanmax(results_mat) * 100 + 1e-4,\n",
    "    cmap=plt.cm.viridis, \n",
    "    robust=True,\n",
    "    annot=True, \n",
    "    fmt='.2f', \n",
    "    square=1, \n",
    "    linewidth=.5, \n",
    "    cbar=True,\n",
    "    cbar_kws={'shrink': 0.8},  \n",
    ")\n",
    "plt.xticks(np.arange(7), rotation=45, ha='center')\n",
    "plt.tight_layout()\n",
    "#plt.savefig(\n",
    "#    './../../../figures/50evals_50reps_univariate_dfs.png',\n",
    "#    bbox_inches='tight',\n",
    "#    transparent=True,\n",
    "#    dpi=100, \n",
    "#)"
   ]
  }
 ],
 "metadata": {
  "kernelspec": {
   "display_name": "Python 3",
   "language": "python",
   "name": "python3"
  },
  "language_info": {
   "codemirror_mode": {
    "name": "ipython",
    "version": 3
   },
   "file_extension": ".py",
   "mimetype": "text/x-python",
   "name": "python",
   "nbconvert_exporter": "python",
   "pygments_lexer": "ipython3",
   "version": "3.6.2"
  }
 },
 "nbformat": 4,
 "nbformat_minor": 2
}
