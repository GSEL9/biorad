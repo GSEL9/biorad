{
 "cells": [
  {
   "cell_type": "code",
   "execution_count": 1,
   "metadata": {},
   "outputs": [],
   "source": [
    "import numpy as np\n",
    "import pandas as pd\n",
    "\n",
    "import seaborn as sns\n",
    "import matplotlib.pyplot as plt\n",
    "\n",
    "%matplotlib inline"
   ]
  },
  {
   "cell_type": "code",
   "execution_count": 2,
   "metadata": {},
   "outputs": [
    {
     "data": {
      "text/html": [
       "<div>\n",
       "<style scoped>\n",
       "    .dataframe tbody tr th:only-of-type {\n",
       "        vertical-align: middle;\n",
       "    }\n",
       "\n",
       "    .dataframe tbody tr th {\n",
       "        vertical-align: top;\n",
       "    }\n",
       "\n",
       "    .dataframe thead th {\n",
       "        text-align: right;\n",
       "    }\n",
       "</style>\n",
       "<table border=\"1\" class=\"dataframe\">\n",
       "  <thead>\n",
       "    <tr style=\"text-align: right;\">\n",
       "      <th></th>\n",
       "      <th>exp_id</th>\n",
       "      <th>experiment_id</th>\n",
       "      <th>PLSREstimator__n_components</th>\n",
       "      <th>PLSREstimator__tol</th>\n",
       "      <th>StudentTTestSelection__num_features</th>\n",
       "      <th>test_score</th>\n",
       "      <th>train_score</th>\n",
       "      <th>test_score_variance</th>\n",
       "      <th>train_score_variance</th>\n",
       "      <th>feature_votes</th>\n",
       "      <th>...</th>\n",
       "      <th>RFEstimator__min_samples_leaf</th>\n",
       "      <th>RFEstimator__n_estimators</th>\n",
       "      <th>KNNEstimator__leaf_size</th>\n",
       "      <th>KNNEstimator__metric</th>\n",
       "      <th>KNNEstimator__n_neighbors</th>\n",
       "      <th>KNNEstimator__p</th>\n",
       "      <th>DTreeEstimator__criterion</th>\n",
       "      <th>DTreeEstimator__max_depth</th>\n",
       "      <th>DTreeEstimator__max_features</th>\n",
       "      <th>DTreeEstimator__min_samples_leaf</th>\n",
       "    </tr>\n",
       "  </thead>\n",
       "  <tbody>\n",
       "    <tr>\n",
       "      <th>0</th>\n",
       "      <td>44</td>\n",
       "      <td>StudentTTestSelection_PLSREstimator</td>\n",
       "      <td>26.0</td>\n",
       "      <td>0.000652</td>\n",
       "      <td>50.0</td>\n",
       "      <td>0.516667</td>\n",
       "      <td>0.509712</td>\n",
       "      <td>0.001111</td>\n",
       "      <td>0.000054</td>\n",
       "      <td>[10 10 10 10 10 10 10 10 10 10 10 10 10 10 10 ...</td>\n",
       "      <td>...</td>\n",
       "      <td>NaN</td>\n",
       "      <td>NaN</td>\n",
       "      <td>NaN</td>\n",
       "      <td>NaN</td>\n",
       "      <td>NaN</td>\n",
       "      <td>NaN</td>\n",
       "      <td>NaN</td>\n",
       "      <td>NaN</td>\n",
       "      <td>NaN</td>\n",
       "      <td>NaN</td>\n",
       "    </tr>\n",
       "    <tr>\n",
       "      <th>1</th>\n",
       "      <td>47</td>\n",
       "      <td>StudentTTestSelection_PLSREstimator</td>\n",
       "      <td>39.0</td>\n",
       "      <td>0.009892</td>\n",
       "      <td>49.0</td>\n",
       "      <td>0.522619</td>\n",
       "      <td>0.510589</td>\n",
       "      <td>0.001421</td>\n",
       "      <td>0.000028</td>\n",
       "      <td>[10 10 10 10 10 10 10 10 10 10 10 10 10 10 10 ...</td>\n",
       "      <td>...</td>\n",
       "      <td>NaN</td>\n",
       "      <td>NaN</td>\n",
       "      <td>NaN</td>\n",
       "      <td>NaN</td>\n",
       "      <td>NaN</td>\n",
       "      <td>NaN</td>\n",
       "      <td>NaN</td>\n",
       "      <td>NaN</td>\n",
       "      <td>NaN</td>\n",
       "      <td>NaN</td>\n",
       "    </tr>\n",
       "    <tr>\n",
       "      <th>2</th>\n",
       "      <td>0</td>\n",
       "      <td>StudentTTestSelection_PLSREstimator</td>\n",
       "      <td>28.0</td>\n",
       "      <td>0.007740</td>\n",
       "      <td>37.0</td>\n",
       "      <td>0.521429</td>\n",
       "      <td>0.506140</td>\n",
       "      <td>0.001752</td>\n",
       "      <td>0.000078</td>\n",
       "      <td>[10 10 10 10 10 10 10 10 10 10 10 10 10 10 10 ...</td>\n",
       "      <td>...</td>\n",
       "      <td>NaN</td>\n",
       "      <td>NaN</td>\n",
       "      <td>NaN</td>\n",
       "      <td>NaN</td>\n",
       "      <td>NaN</td>\n",
       "      <td>NaN</td>\n",
       "      <td>NaN</td>\n",
       "      <td>NaN</td>\n",
       "      <td>NaN</td>\n",
       "      <td>NaN</td>\n",
       "    </tr>\n",
       "    <tr>\n",
       "      <th>3</th>\n",
       "      <td>3</td>\n",
       "      <td>StudentTTestSelection_PLSREstimator</td>\n",
       "      <td>40.0</td>\n",
       "      <td>0.002739</td>\n",
       "      <td>18.0</td>\n",
       "      <td>0.511630</td>\n",
       "      <td>0.500877</td>\n",
       "      <td>0.001217</td>\n",
       "      <td>0.000007</td>\n",
       "      <td>[10 10 10 10 10 10 10 10 10 10 10 10 10 10 10 ...</td>\n",
       "      <td>...</td>\n",
       "      <td>NaN</td>\n",
       "      <td>NaN</td>\n",
       "      <td>NaN</td>\n",
       "      <td>NaN</td>\n",
       "      <td>NaN</td>\n",
       "      <td>NaN</td>\n",
       "      <td>NaN</td>\n",
       "      <td>NaN</td>\n",
       "      <td>NaN</td>\n",
       "      <td>NaN</td>\n",
       "    </tr>\n",
       "    <tr>\n",
       "      <th>4</th>\n",
       "      <td>3</td>\n",
       "      <td>StudentTTestSelection_PLSREstimator</td>\n",
       "      <td>40.0</td>\n",
       "      <td>0.002739</td>\n",
       "      <td>18.0</td>\n",
       "      <td>0.511630</td>\n",
       "      <td>0.500877</td>\n",
       "      <td>0.001217</td>\n",
       "      <td>0.000007</td>\n",
       "      <td>[10 10 10 10 10 10 10 10 10 10 10 10 10 10 10 ...</td>\n",
       "      <td>...</td>\n",
       "      <td>NaN</td>\n",
       "      <td>NaN</td>\n",
       "      <td>NaN</td>\n",
       "      <td>NaN</td>\n",
       "      <td>NaN</td>\n",
       "      <td>NaN</td>\n",
       "      <td>NaN</td>\n",
       "      <td>NaN</td>\n",
       "      <td>NaN</td>\n",
       "      <td>NaN</td>\n",
       "    </tr>\n",
       "  </tbody>\n",
       "</table>\n",
       "<p>5 rows × 41 columns</p>\n",
       "</div>"
      ],
      "text/plain": [
       "   exp_id                        experiment_id  PLSREstimator__n_components  \\\n",
       "0      44  StudentTTestSelection_PLSREstimator                         26.0   \n",
       "1      47  StudentTTestSelection_PLSREstimator                         39.0   \n",
       "2       0  StudentTTestSelection_PLSREstimator                         28.0   \n",
       "3       3  StudentTTestSelection_PLSREstimator                         40.0   \n",
       "4       3  StudentTTestSelection_PLSREstimator                         40.0   \n",
       "\n",
       "   PLSREstimator__tol  StudentTTestSelection__num_features  test_score  \\\n",
       "0            0.000652                                 50.0    0.516667   \n",
       "1            0.009892                                 49.0    0.522619   \n",
       "2            0.007740                                 37.0    0.521429   \n",
       "3            0.002739                                 18.0    0.511630   \n",
       "4            0.002739                                 18.0    0.511630   \n",
       "\n",
       "   train_score  test_score_variance  train_score_variance  \\\n",
       "0     0.509712             0.001111              0.000054   \n",
       "1     0.510589             0.001421              0.000028   \n",
       "2     0.506140             0.001752              0.000078   \n",
       "3     0.500877             0.001217              0.000007   \n",
       "4     0.500877             0.001217              0.000007   \n",
       "\n",
       "                                       feature_votes  ...  \\\n",
       "0  [10 10 10 10 10 10 10 10 10 10 10 10 10 10 10 ...  ...   \n",
       "1  [10 10 10 10 10 10 10 10 10 10 10 10 10 10 10 ...  ...   \n",
       "2  [10 10 10 10 10 10 10 10 10 10 10 10 10 10 10 ...  ...   \n",
       "3  [10 10 10 10 10 10 10 10 10 10 10 10 10 10 10 ...  ...   \n",
       "4  [10 10 10 10 10 10 10 10 10 10 10 10 10 10 10 ...  ...   \n",
       "\n",
       "  RFEstimator__min_samples_leaf  RFEstimator__n_estimators  \\\n",
       "0                           NaN                        NaN   \n",
       "1                           NaN                        NaN   \n",
       "2                           NaN                        NaN   \n",
       "3                           NaN                        NaN   \n",
       "4                           NaN                        NaN   \n",
       "\n",
       "   KNNEstimator__leaf_size  KNNEstimator__metric  KNNEstimator__n_neighbors  \\\n",
       "0                      NaN                   NaN                        NaN   \n",
       "1                      NaN                   NaN                        NaN   \n",
       "2                      NaN                   NaN                        NaN   \n",
       "3                      NaN                   NaN                        NaN   \n",
       "4                      NaN                   NaN                        NaN   \n",
       "\n",
       "   KNNEstimator__p  DTreeEstimator__criterion  DTreeEstimator__max_depth  \\\n",
       "0              NaN                        NaN                        NaN   \n",
       "1              NaN                        NaN                        NaN   \n",
       "2              NaN                        NaN                        NaN   \n",
       "3              NaN                        NaN                        NaN   \n",
       "4              NaN                        NaN                        NaN   \n",
       "\n",
       "   DTreeEstimator__max_features DTreeEstimator__min_samples_leaf  \n",
       "0                           NaN                              NaN  \n",
       "1                           NaN                              NaN  \n",
       "2                           NaN                              NaN  \n",
       "3                           NaN                              NaN  \n",
       "4                           NaN                              NaN  \n",
       "\n",
       "[5 rows x 41 columns]"
      ]
     },
     "execution_count": 2,
     "metadata": {},
     "output_type": "execute_result"
    }
   ],
   "source": [
    "results = pd.read_csv(\n",
    "    './../../data_source/results/removed_broken_images/all_features_removed_broken_images.csv',\n",
    "    index_col=0\n",
    ")\n",
    "results.head()"
   ]
  },
  {
   "cell_type": "code",
   "execution_count": 3,
   "metadata": {},
   "outputs": [
    {
     "data": {
      "text/plain": [
       "(2100, 41)"
      ]
     },
     "execution_count": 3,
     "metadata": {},
     "output_type": "execute_result"
    }
   ],
   "source": [
    "results.shape"
   ]
  },
  {
   "cell_type": "code",
   "execution_count": 4,
   "metadata": {},
   "outputs": [],
   "source": [
    "_selector_lbls, _estimator_lbls = [], []\n",
    "for label in np.unique(results['experiment_id']):\n",
    "    \n",
    "    selector_lbl, estimator_lbl = label.split('_')\n",
    "\n",
    "    _selector_lbls.append(selector_lbl)\n",
    "    _estimator_lbls.append(estimator_lbl)\n",
    "\n",
    "selector_lbls = np.unique(_selector_lbls)\n",
    "estimator_lbls = np.unique(_estimator_lbls)"
   ]
  },
  {
   "cell_type": "code",
   "execution_count": 5,
   "metadata": {},
   "outputs": [
    {
     "data": {
      "text/plain": [
       "array(['ChiSquareSelection', 'DummySelection', 'FisherScoreSelection',\n",
       "       'MutualInformationSelection', 'ReliefFSelection',\n",
       "       'StudentTTestSelection', 'WilcoxonSelection'], dtype='<U26')"
      ]
     },
     "execution_count": 5,
     "metadata": {},
     "output_type": "execute_result"
    }
   ],
   "source": [
    "to_drop = ['MRMRSelection', 'ANOVAFvalueSelection']\n",
    "selector_lbls = np.array([label for label in selector_lbls if not label in to_drop])\n",
    "\n",
    "selector_lbls"
   ]
  },
  {
   "cell_type": "code",
   "execution_count": 6,
   "metadata": {},
   "outputs": [
    {
     "data": {
      "text/plain": [
       "array(['DTreeEstimator', 'KNNEstimator', 'LogRegEstimator',\n",
       "       'PLSREstimator', 'RFEstimator', 'SVCEstimator'], dtype='<U15')"
      ]
     },
     "execution_count": 6,
     "metadata": {},
     "output_type": "execute_result"
    }
   ],
   "source": [
    "estimator_lbls"
   ]
  },
  {
   "cell_type": "code",
   "execution_count": 7,
   "metadata": {},
   "outputs": [],
   "source": [
    "results_mat = np.zeros((len(estimator_lbls), len(selector_lbls)))\n",
    "for row_num, estimator_lbl in enumerate(estimator_lbls):\n",
    "    for col_num, selector_lbl in enumerate(selector_lbls):\n",
    "        \n",
    "        label = f'{selector_lbl}_{estimator_lbl}'\n",
    "        location = np.where(label == np.array(results['experiment_id']))\n",
    "        scores = results.iloc[np.squeeze(location), :]['test_score']\n",
    "        \n",
    "        results_mat[row_num, col_num] = np.mean(scores)"
   ]
  },
  {
   "cell_type": "code",
   "execution_count": 8,
   "metadata": {},
   "outputs": [
    {
     "data": {
      "image/png": "[encoded data removed]",
      "text/plain": [
       "<Figure size 720x720 with 2 Axes>"
      ]
     },
     "metadata": {
      "needs_background": "light"
     },
     "output_type": "display_data"
    }
   ],
   "source": [
    "plt.figure(figsize=(10, 10))\n",
    "sns.heatmap(\n",
    "    results_mat * 100,\n",
    "    xticklabels=selector_lbls,\n",
    "    yticklabels=estimator_lbls,\n",
    "    vmin=np.nanmin(results_mat) * 100 - 1e-4, \n",
    "    vmax=np.nanmax(results_mat) * 100 + 1e-4,\n",
    "    cmap=plt.cm.viridis, \n",
    "    robust=True,\n",
    "    annot=True, \n",
    "    fmt='.2f', \n",
    "    square=1, \n",
    "    linewidth=.5, \n",
    "    cbar=True,\n",
    "    cbar_kws={'shrink': 0.8},  \n",
    ")\n",
    "plt.xticks(np.arange(7), rotation=45, ha='center')\n",
    "plt.tight_layout()\n",
    "#plt.savefig(\n",
    "#    './../../../figures/50evals_50reps_univariate_dfs.png',\n",
    "#    bbox_inches='tight',\n",
    "#    transparent=True,\n",
    "#    dpi=100, \n",
    "#)"
   ]
  },
  {
   "cell_type": "code",
   "execution_count": null,
   "metadata": {},
   "outputs": [],
   "source": []
  }
 ],
 "metadata": {
  "kernelspec": {
   "display_name": "Python 3",
   "language": "python",
   "name": "python3"
  },
  "language_info": {
   "codemirror_mode": {
    "name": "ipython",
    "version": 3
   },
   "file_extension": ".py",
   "mimetype": "text/x-python",
   "name": "python",
   "nbconvert_exporter": "python",
   "pygments_lexer": "ipython3",
   "version": "3.6.2"
  }
 },
 "nbformat": 4,
 "nbformat_minor": 2
}
