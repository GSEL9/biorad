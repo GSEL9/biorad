{
 "cells": [
  {
   "cell_type": "markdown",
   "metadata": {},
   "source": [
    "# Radiomics Feature Extraction\n",
    "\n",
    "Extracting features from PET and CT images."
   ]
  },
  {
   "cell_type": "code",
   "execution_count": 1,
   "metadata": {},
   "outputs": [],
   "source": [
    "import os\n",
    "import nrrd\n",
    "import utils \n",
    "import radiomics\n",
    "\n",
    "import numpy as np\n",
    "import pandas as pd\n",
    "import matplotlib.pyplot as plt\n",
    "\n",
    "from feature_extraction import feature_extractor\n",
    "\n",
    "%matplotlib inline"
   ]
  },
  {
   "cell_type": "code",
   "execution_count": 2,
   "metadata": {},
   "outputs": [],
   "source": [
    "path_masksdir = './../../data_source/images/masks_nrrd/'\n",
    "path_ct_imagedir = './../../data_source/images/ct_nrrd/'\n",
    "path_pet_imagedir = './../../data_source/images/pet_nrrd/'"
   ]
  },
  {
   "cell_type": "code",
   "execution_count": 3,
   "metadata": {},
   "outputs": [],
   "source": [
    "paths_ct_images = utils.sample_paths(\n",
    "    path_ct_imagedir, path_masksdir, target_format='nrrd'\n",
    ")\n",
    "paths_pet_images = utils.sample_paths(\n",
    "    path_pet_imagedir, path_masksdir, target_format='nrrd'\n",
    ")"
   ]
  },
  {
   "cell_type": "markdown",
   "metadata": {},
   "source": [
    "## Setup"
   ]
  },
  {
   "cell_type": "code",
   "execution_count": null,
   "metadata": {},
   "outputs": [],
   "source": [
    "def z_score_transform(image, n=None):\n",
    "    # Texture features is shown to be more stable after GL normalizations.\n",
    "    # Ref: Voxel size and gray level normalization of CT radiomic features \n",
    "    #      in lung cancer.\n",
    "    _image = np.copy(image)\n",
    "    \n",
    "    # Z-score transformation.\n",
    "    image_std = np.std(_image)\n",
    "    image_zscore = (_image - np.mean(_image)) / image_std\n",
    "    \n",
    "    # Remove outliers.\n",
    "    if n is not None:\n",
    "        outliers = n * image_std \n",
    "        image_zscore = np.clip(image_zscore, -1.0 * outliers, outliers)\n",
    "\n",
    "    return image_zscore\n",
    "\n",
    "\n",
    "def bin_widths(path_images, nbins, n=3, z_scoring=False, outlier_removal=None):\n",
    "    \"\"\"Average min and max to compare histogram across stacks.\n",
    "    Fixed bin iwdth (and not fixed bin size) to compare texture\n",
    "    features across stacks.\n",
    "    \n",
    "    \"\"\"\n",
    "    img_max, img_min = [], []\n",
    "    for image_path in path_images:\n",
    "        image, _ = nrrd.read(image_path['Image'])\n",
    "        \n",
    "        if z_scoring:\n",
    "            image = z_score_transform(image, n=outlier_removal)\n",
    "        \n",
    "        img_max.append(np.ceil(np.max(image)))\n",
    "        img_min.append(np.floor(np.min(image)))\n",
    "  \n",
    "    return (np.mean(img_max) - np.mean(img_min)) / nbins"
   ]
  },
  {
   "cell_type": "code",
   "execution_count": null,
   "metadata": {},
   "outputs": [],
   "source": [
    "bin_widths(paths_ct_images, 32), bin_widths(paths_ct_images, 64), bin_widths(paths_ct_images, 128)"
   ]
  },
  {
   "cell_type": "code",
   "execution_count": null,
   "metadata": {},
   "outputs": [],
   "source": [
    "bin_widths(paths_pet_images, 32), bin_widths(paths_pet_images, 64), bin_widths(paths_pet_images, 128)"
   ]
  },
  {
   "cell_type": "code",
   "execution_count": null,
   "metadata": {},
   "outputs": [],
   "source": [
    "# NOTE: Bin iwdths for Z-scored CT texture features.\n",
    "print(bin_widths(paths_ct_images, 32, z_scoring=True, outlier_removal=3))\n",
    "print(bin_widths(paths_ct_images, 64, z_scoring=True, outlier_removal=3))\n",
    "print(bin_widths(paths_ct_images, 128, z_scoring=True, outlier_removal=3))"
   ]
  },
  {
   "cell_type": "markdown",
   "metadata": {},
   "source": [
    "## Calculate features"
   ]
  },
  {
   "cell_type": "code",
   "execution_count": 9,
   "metadata": {},
   "outputs": [
    {
     "name": "stdout",
     "output_type": "stream",
     "text": [
      "Initiated feature extraction.\n"
     ]
    },
    {
     "name": "stderr",
     "output_type": "stream",
     "text": [
      "[Parallel(n_jobs=3)]: Using backend LokyBackend with 3 concurrent workers.\n",
      "[Parallel(n_jobs=3)]: Done  44 tasks      | elapsed:    8.8s\n",
      "[Parallel(n_jobs=3)]: Done 198 out of 198 | elapsed:   33.8s finished\n",
      "[Parallel(n_jobs=3)]: Using backend LokyBackend with 3 concurrent workers.\n"
     ]
    },
    {
     "name": "stdout",
     "output_type": "stream",
     "text": [
      "Initiated feature extraction.\n"
     ]
    },
    {
     "name": "stderr",
     "output_type": "stream",
     "text": [
      "[Parallel(n_jobs=3)]: Done  44 tasks      | elapsed:    8.3s\n",
      "[Parallel(n_jobs=3)]: Done 198 out of 198 | elapsed:   31.1s finished\n",
      "[Parallel(n_jobs=3)]: Using backend LokyBackend with 3 concurrent workers.\n"
     ]
    },
    {
     "name": "stdout",
     "output_type": "stream",
     "text": [
      "Initiated feature extraction.\n"
     ]
    },
    {
     "name": "stderr",
     "output_type": "stream",
     "text": [
      "[Parallel(n_jobs=3)]: Done  44 tasks      | elapsed:    7.6s\n",
      "[Parallel(n_jobs=3)]: Done 198 out of 198 | elapsed:   41.7s finished\n"
     ]
    }
   ],
   "source": [
    "ct_param_files = [\n",
    "    #'./parameter_files/shape_original_images/shape_config.yaml',\n",
    "    #'./parameter_files/firstorder_original_images/ct32_firstorder_original_images_config.yaml',\n",
    "    #'./parameter_files/firstorder_original_images/ct64_firstorder_original_images_config.yaml',\n",
    "    #'./parameter_files/firstorder_original_images/ct128_firstorder_original_images_config.yaml'\n",
    "    './parameter_files/texture_original_images/ct32_texture_original_images_config.yaml',\n",
    "    './parameter_files/texture_original_images/ct64_texture_original_images_config.yaml',\n",
    "    './parameter_files/texture_original_images/ct128_texture_original_images_config.yaml',\n",
    "]\n",
    "ct_feature_files = [\n",
    "    #'./../../data_source/radiomic_features/shape_original_images/shape_original_masks.csv',\n",
    "    #'./../../data_source/radiomic_features/firstorder_original_images/ct32_firstorder_original_images.csv',\n",
    "    #'./../../data_source/radiomic_features/firstorder_original_images/ct64_firstorder_original_images.csv',\n",
    "    #'./../../data_source/radiomic_features/firstorder_original_images/ct128_firstorder_original_images.csv'\n",
    "    './../../data_source/radiomic_features/texture_original_images/ct32_texture_original_images.csv',\n",
    "    './../../data_source/radiomic_features/texture_original_images/ct64_texture_original_images.csv',\n",
    "    './../../data_source/radiomic_features/texture_original_images/ct128_texture_original_images.csv',\n",
    "]\n",
    "for ct_param_file, ct_feature_file in zip(ct_param_files, ct_feature_files):\n",
    "    feature_extractor(\n",
    "        param_file=ct_param_file, \n",
    "        paths_to_images_and_masks=paths_ct_images, \n",
    "        verbose=1, \n",
    "        path_to_results=ct_feature_file,\n",
    "        n_jobs=None, \n",
    "        drop_missing=True, \n",
    "        variance_thresh=0.0\n",
    "    )"
   ]
  },
  {
   "cell_type": "code",
   "execution_count": 10,
   "metadata": {},
   "outputs": [
    {
     "name": "stderr",
     "output_type": "stream",
     "text": [
      "[Parallel(n_jobs=3)]: Using backend LokyBackend with 3 concurrent workers.\n"
     ]
    },
    {
     "name": "stdout",
     "output_type": "stream",
     "text": [
      "Initiated feature extraction.\n"
     ]
    },
    {
     "name": "stderr",
     "output_type": "stream",
     "text": [
      "[Parallel(n_jobs=3)]: Done  44 tasks      | elapsed:    8.0s\n",
      "[Parallel(n_jobs=3)]: Done 198 out of 198 | elapsed:   31.8s finished\n",
      "[Parallel(n_jobs=3)]: Using backend LokyBackend with 3 concurrent workers.\n"
     ]
    },
    {
     "name": "stdout",
     "output_type": "stream",
     "text": [
      "Initiated feature extraction.\n"
     ]
    },
    {
     "name": "stderr",
     "output_type": "stream",
     "text": [
      "[Parallel(n_jobs=3)]: Done  44 tasks      | elapsed:    8.6s\n",
      "[Parallel(n_jobs=3)]: Done 198 out of 198 | elapsed:   40.5s finished\n"
     ]
    },
    {
     "name": "stdout",
     "output_type": "stream",
     "text": [
      "Initiated feature extraction.\n"
     ]
    },
    {
     "name": "stderr",
     "output_type": "stream",
     "text": [
      "[Parallel(n_jobs=3)]: Using backend LokyBackend with 3 concurrent workers.\n",
      "[Parallel(n_jobs=3)]: Done  44 tasks      | elapsed:   25.5s\n",
      "[Parallel(n_jobs=3)]: Done 198 out of 198 | elapsed:  1.5min finished\n"
     ]
    }
   ],
   "source": [
    "pet_param_files = [\n",
    "    #'./parameter_files/firstorder_original_images/pet32_firstorder_original_images_config.yaml',\n",
    "    #'./parameter_files/firstorder_original_images/pet64_firstorder_original_images_config.yaml',\n",
    "    #'./parameter_files/firstorder_original_images/pet128_firstorder_original_images_config.yaml'\n",
    "    './parameter_files/texture_original_images/pet32_texture_original_images_config.yaml',\n",
    "    './parameter_files/texture_original_images/pet64_texture_original_images_config.yaml',\n",
    "    './parameter_files/texture_original_images/pet128_texture_original_images_config.yaml',\n",
    "]\n",
    "pet_feature_files = [\n",
    "    #'./../../data_source/radiomic_features/firstorder_original_images/pet32_firstorder_original_images.csv',\n",
    "    #'./../../data_source/radiomic_features/firstorder_original_images/pet64_firstorder_original_images.csv',\n",
    "    #'./../../data_source/radiomic_features/firstorder_original_images/pet128_firstorder_original_images.csv'\n",
    "    './../../data_source/radiomic_features/texture_original_images/pet32_texture_original_images.csv',\n",
    "    './../../data_source/radiomic_features/texture_original_images/pet64_texture_original_images.csv',\n",
    "    './../../data_source/radiomic_features/texture_original_images/pet128_texture_original_images.csv',\n",
    "]\n",
    "for pet_param_file, pet_feature_file in zip(pet_param_files, pet_feature_files):\n",
    "    feature_extractor(\n",
    "        param_file=pet_param_file, \n",
    "        paths_to_images_and_masks=paths_pet_images, \n",
    "        verbose=1, \n",
    "        path_to_results=pet_feature_file,\n",
    "        n_jobs=None, \n",
    "        drop_missing=True, \n",
    "        variance_thresh=0.0\n",
    "    )"
   ]
  },
  {
   "cell_type": "code",
   "execution_count": null,
   "metadata": {},
   "outputs": [],
   "source": []
  }
 ],
 "metadata": {
  "anaconda-cloud": {},
  "kernelspec": {
   "display_name": "Python 3",
   "language": "python",
   "name": "python3"
  },
  "language_info": {
   "codemirror_mode": {
    "name": "ipython",
    "version": 3
   },
   "file_extension": ".py",
   "mimetype": "text/x-python",
   "name": "python",
   "nbconvert_exporter": "python",
   "pygments_lexer": "ipython3",
   "version": "3.6.2"
  }
 },
 "nbformat": 4,
 "nbformat_minor": 2
}
