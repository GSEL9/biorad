{
 "cells": [
  {
   "cell_type": "markdown",
   "metadata": {},
   "source": [
    "**Goal**: \n",
    "\n",
    "Determine if Hassan transform renders some (CT) texture of firstorder features independent of GL discretization which leads to a reduction of the feature space dimensionality.\n",
    "\n",
    "[Hassan supplementary matreial](https://static-content.springer.com/esm/art%3A10.1038%2Fs41598-018-28895-9/MediaObjects/41598_2018_28895_MOESM1_ESM.pdf)\n",
    "\n",
    "**NOTE**\n",
    "* Image voxels are 1 mm$^3$."
   ]
  },
  {
   "cell_type": "code",
   "execution_count": 1,
   "metadata": {},
   "outputs": [],
   "source": [
    "import os\n",
    "import re\n",
    "import nrrd\n",
    "\n",
    "from ioutil import sample_paths\n",
    "\n",
    "import numpy as np\n",
    "import pandas as pd\n",
    "\n",
    "import seaborn as sns\n",
    "import matplotlib.pyplot as plt\n",
    "\n",
    "%matplotlib inline"
   ]
  },
  {
   "cell_type": "code",
   "execution_count": 2,
   "metadata": {},
   "outputs": [],
   "source": [
    "ICC_THRESH = 0.8"
   ]
  },
  {
   "cell_type": "code",
   "execution_count": 3,
   "metadata": {},
   "outputs": [],
   "source": [
    "path_to_ct = './../../data_source/images/ct_removed_broken_slices/'\n",
    "path_to_ct_masks = './../../data_source/images/masks_removed_broken_slices_ct_size/'\n",
    "\n",
    "path_firstoder_features = './../../data_source/to_analysis/removed_broken_slices/firstorder_removed_broken_slices.csv'\n",
    "path_texture_features = './../../data_source/to_analysis/removed_broken_slices/texture_removed_broken_slices.csv'\n",
    "\n",
    "path_transf_features = './../../data_source/to_analysis/removed_broken_slices/hassan_all_features_removed_broken_slices.csv'"
   ]
  },
  {
   "cell_type": "markdown",
   "metadata": {},
   "source": [
    "# Get number of GL"
   ]
  },
  {
   "cell_type": "code",
   "execution_count": 4,
   "metadata": {},
   "outputs": [],
   "source": [
    "# NOTE: \n",
    "# * term `equispaced gray levels`.\n",
    "# * the voxel intensities (gray levels) within the VOI are resampled to 2^N number of bins, where N \n",
    "#   ranges from 3 to 8.\n",
    "\n",
    "# Bin widhts for Z-scored CT stacks.\n",
    "width32 = 0.5787627551020408\n",
    "width64 = 0.2893813775510204\n",
    "width128 = 0.1446906887755102\n",
    "\n",
    "# NOTE: Read from other image directory if not calc. bins for\n",
    "# original images.\n",
    "path_ct_stacks = sample_paths(path_to_ct, path_to_ct_masks, target_format='nrrd')\n",
    "\n",
    "gl_32bins = np.zeros(len(path_ct_stacks))\n",
    "gl_64bins = np.zeros(len(path_ct_stacks))\n",
    "gl_128bins = np.zeros(len(path_ct_stacks))\n",
    "\n",
    "\n",
    "idx = []\n",
    "for num, ct_path in enumerate(path_ct_stacks):\n",
    "    \n",
    "    fname = os.path.basename(ct_path['Image'])\n",
    "    idx_num = re.findall(r'\\d+', fname.split('.')[0])[0]\n",
    "    idx.append(int(idx_num))\n",
    "    \n",
    "    image, _ = nrrd.read(ct_path['Image'])\n",
    "    mask, _ = nrrd.read(ct_path['Mask'])\n",
    "    \n",
    "    _cropped = image * mask\n",
    "    cropped = _cropped[_cropped != 0]\n",
    "        \n",
    "    # NOTE: Z-scoring for CT texture features.\n",
    "    cropped = (cropped - np.mean(cropped)) / (np.std(cropped) + + 1e-10)\n",
    "    \n",
    "    data = cropped.ravel()\n",
    "    \n",
    "    # Binning operation as conducted in PyRadiomics.\n",
    "    minimum = min(data)\n",
    "    maximum = max(data)\n",
    "\n",
    "    low_32_bound = minimum - (minimum % width32)\n",
    "    low_64_bound = minimum - (minimum % width64)\n",
    "    low_128_bound = minimum - (minimum % width128)\n",
    "\n",
    "    high_32_bound = maximum + 2 * width32\n",
    "    high_64_bound = maximum + 2 * width64\n",
    "    high_128_bound = maximum + 2 * width128\n",
    "\n",
    "    bin_32_edges = np.arange(low_32_bound, high_32_bound, width32)\n",
    "    bin_64_edges = np.arange(low_64_bound, high_64_bound, width64)\n",
    "    bin_128_edges = np.arange(low_128_bound, high_128_bound, width128)\n",
    "    \n",
    "    gl_32bins[num] = np.size(bin_32_edges)\n",
    "    gl_64bins[num] = np.size(bin_64_edges)\n",
    "    gl_128bins[num] = np.size(bin_128_edges)"
   ]
  },
  {
   "cell_type": "code",
   "execution_count": 5,
   "metadata": {},
   "outputs": [
    {
     "data": {
      "text/plain": [
       "((196,), (196,), (196,))"
      ]
     },
     "execution_count": 5,
     "metadata": {},
     "output_type": "execute_result"
    }
   ],
   "source": [
    "gl_32bins.shape, gl_64bins.shape, gl_128bins.shape"
   ]
  },
  {
   "cell_type": "code",
   "execution_count": 6,
   "metadata": {},
   "outputs": [
    {
     "data": {
      "text/plain": [
       "((196, 42), (196, 3))"
      ]
     },
     "execution_count": 6,
     "metadata": {},
     "output_type": "execute_result"
    }
   ],
   "source": [
    "clinical_features = pd.read_csv('./../../data_source/to_analysis/clinical_params.csv', index_col=0)\n",
    "pet_params = pd.read_csv('./../../data_source/to_analysis/pet_params.csv', index_col=0)\n",
    "\n",
    "clinical_features = clinical_features.loc[idx, :]\n",
    "pet_params = pet_params.loc[idx, :]\n",
    "\n",
    "clinical_features.shape, pet_params.shape"
   ]
  },
  {
   "cell_type": "code",
   "execution_count": 7,
   "metadata": {},
   "outputs": [
    {
     "data": {
      "text/plain": [
       "(33.25, 63.494897959183675, 123.97448979591837)"
      ]
     },
     "execution_count": 7,
     "metadata": {},
     "output_type": "execute_result"
    }
   ],
   "source": [
    "# The average number of bins per GL discretization for the CURRENT images.\n",
    "np.mean(gl_32bins), np.mean(gl_64bins), np.mean(gl_128bins)"
   ]
  },
  {
   "cell_type": "code",
   "execution_count": 8,
   "metadata": {},
   "outputs": [],
   "source": [
    "# https://github.com/cosanlab/nltools/blob/master/nltools/data/brain_data.py\n",
    "# https://www.aliquote.org/cours/2012_biomed/biblio/Shrout1979.pdf\n",
    "def icc(X):\n",
    "    \"\"\"Calculate intraclass correlation coefficient (ICC). \n",
    "    \n",
    "    Reference: \n",
    "        Shrout, P. E., & Fleiss, J. L. (1979). Intraclass correlations: uses in\n",
    "        assessing rater reliability. Psychological bulletin, 86(2), 420.\n",
    "    \n",
    "    Args:\n",
    "        X (array-like): Data matrix with observations on rows\n",
    "            and measurements on columns.\n",
    "\n",
    "    Returns:\n",
    "        (float): Intraclass correlation coefficient.\n",
    "                \n",
    "    \"\"\"\n",
    "    n, k = np.shape(X)\n",
    "\n",
    "    # Degrees of Freedom.\n",
    "    dfc = k - 1\n",
    "    dfe = (n - 1) * (k - 1)\n",
    "    dfr = n - 1\n",
    "\n",
    "    # Sum Square Total.\n",
    "    mean_X = np.mean(X)\n",
    "    SST = ((X - mean_X) ** 2).sum()\n",
    "\n",
    "    # Create the design matrix for the different levels:\n",
    "    # * Sessions.\n",
    "    d = np.kron(np.eye(k), np.ones((n, 1)))  \n",
    "    # * Subjects.\n",
    "    d0 = np.tile(np.eye(n), (k, 1))  \n",
    "    D = np.hstack([d, d0])\n",
    "\n",
    "    # Sum Square Error.\n",
    "    predicted_X = np.dot(\n",
    "        np.dot(\n",
    "            np.dot(\n",
    "                D, np.linalg.pinv(np.dot(D.T, D))), D.T\n",
    "            ), \n",
    "            X.flatten('F')\n",
    "        )\n",
    "    residuals = X.flatten('F') - predicted_X\n",
    "    SSE = np.sum(residuals ** 2)\n",
    "    MSE = SSE / dfe\n",
    "\n",
    "    # Sum square column effect (between colums).\n",
    "    SSC = np.sum((np.mean(X, 0) - mean_X) ** 2) * n\n",
    "    MSC = SSC / dfc / n\n",
    "\n",
    "    # Sum Square subject effect (between rows/subjects).\n",
    "    SSR = SST - SSC - SSE\n",
    "    MSR = SSR / dfr\n",
    "\n",
    "    ICC = (MSR - MSE) / (MSR + (k - 1) * MSE)\n",
    "    \n",
    "    return ICC"
   ]
  },
  {
   "cell_type": "code",
   "execution_count": 9,
   "metadata": {},
   "outputs": [
    {
     "data": {
      "text/html": [
       "<div>\n",
       "<style scoped>\n",
       "    .dataframe tbody tr th:only-of-type {\n",
       "        vertical-align: middle;\n",
       "    }\n",
       "\n",
       "    .dataframe tbody tr th {\n",
       "        vertical-align: top;\n",
       "    }\n",
       "\n",
       "    .dataframe thead th {\n",
       "        text-align: right;\n",
       "    }\n",
       "</style>\n",
       "<table border=\"1\" class=\"dataframe\">\n",
       "  <thead>\n",
       "    <tr style=\"text-align: right;\">\n",
       "      <th></th>\n",
       "      <th>CT_original_firstorder_10Percentile</th>\n",
       "      <th>CT_original_firstorder_90Percentile</th>\n",
       "      <th>CT_original_firstorder_Energy</th>\n",
       "      <th>CT_original_firstorder_Entropy_32bins</th>\n",
       "      <th>CT_original_firstorder_Entropy_64bins</th>\n",
       "      <th>CT_original_firstorder_Entropy_128bins</th>\n",
       "      <th>CT_original_firstorder_InterquartileRange</th>\n",
       "      <th>CT_original_firstorder_Kurtosis</th>\n",
       "      <th>CT_original_firstorder_Maximum</th>\n",
       "      <th>CT_original_firstorder_Mean</th>\n",
       "      <th>...</th>\n",
       "      <th>PET_original_ngtdm_Coarseness_128bins</th>\n",
       "      <th>PET_original_ngtdm_Complexity_32bins</th>\n",
       "      <th>PET_original_ngtdm_Complexity_64bins</th>\n",
       "      <th>PET_original_ngtdm_Complexity_128bins</th>\n",
       "      <th>PET_original_ngtdm_Contrast_32bins</th>\n",
       "      <th>PET_original_ngtdm_Contrast_64bins</th>\n",
       "      <th>PET_original_ngtdm_Contrast_128bins</th>\n",
       "      <th>PET_original_ngtdm_Strength_32bins</th>\n",
       "      <th>PET_original_ngtdm_Strength_64bins</th>\n",
       "      <th>PET_original_ngtdm_Strength_128bins</th>\n",
       "    </tr>\n",
       "  </thead>\n",
       "  <tbody>\n",
       "    <tr>\n",
       "      <th>2</th>\n",
       "      <td>1064.131380</td>\n",
       "      <td>1116.375669</td>\n",
       "      <td>1.934609e+10</td>\n",
       "      <td>1.598086</td>\n",
       "      <td>2.422321</td>\n",
       "      <td>3.378726</td>\n",
       "      <td>23.744564</td>\n",
       "      <td>59.893869</td>\n",
       "      <td>1450.980316</td>\n",
       "      <td>1086.596504</td>\n",
       "      <td>...</td>\n",
       "      <td>0.000554</td>\n",
       "      <td>0.332260</td>\n",
       "      <td>2.875649</td>\n",
       "      <td>49.308852</td>\n",
       "      <td>0.000127</td>\n",
       "      <td>0.000164</td>\n",
       "      <td>0.001203</td>\n",
       "      <td>0.060466</td>\n",
       "      <td>0.214173</td>\n",
       "      <td>0.297980</td>\n",
       "    </tr>\n",
       "    <tr>\n",
       "      <th>4</th>\n",
       "      <td>972.027466</td>\n",
       "      <td>1183.041657</td>\n",
       "      <td>1.149213e+10</td>\n",
       "      <td>3.115232</td>\n",
       "      <td>4.083211</td>\n",
       "      <td>5.068944</td>\n",
       "      <td>79.044404</td>\n",
       "      <td>8.933352</td>\n",
       "      <td>1414.363699</td>\n",
       "      <td>1086.186295</td>\n",
       "      <td>...</td>\n",
       "      <td>0.001349</td>\n",
       "      <td>3.740105</td>\n",
       "      <td>14.209499</td>\n",
       "      <td>67.042138</td>\n",
       "      <td>0.004490</td>\n",
       "      <td>0.004617</td>\n",
       "      <td>0.006914</td>\n",
       "      <td>0.024249</td>\n",
       "      <td>0.091105</td>\n",
       "      <td>0.388307</td>\n",
       "    </tr>\n",
       "    <tr>\n",
       "      <th>5</th>\n",
       "      <td>1030.239139</td>\n",
       "      <td>1177.917830</td>\n",
       "      <td>1.989521e+10</td>\n",
       "      <td>2.694620</td>\n",
       "      <td>3.642433</td>\n",
       "      <td>4.622903</td>\n",
       "      <td>45.224022</td>\n",
       "      <td>14.831983</td>\n",
       "      <td>1763.283818</td>\n",
       "      <td>1104.664236</td>\n",
       "      <td>...</td>\n",
       "      <td>0.000810</td>\n",
       "      <td>2.453277</td>\n",
       "      <td>15.646650</td>\n",
       "      <td>106.093147</td>\n",
       "      <td>0.000985</td>\n",
       "      <td>0.000963</td>\n",
       "      <td>0.002301</td>\n",
       "      <td>0.039365</td>\n",
       "      <td>0.193554</td>\n",
       "      <td>0.592523</td>\n",
       "    </tr>\n",
       "    <tr>\n",
       "      <th>8</th>\n",
       "      <td>1028.577020</td>\n",
       "      <td>1085.938888</td>\n",
       "      <td>7.735412e+10</td>\n",
       "      <td>1.507373</td>\n",
       "      <td>2.414556</td>\n",
       "      <td>3.339893</td>\n",
       "      <td>22.494850</td>\n",
       "      <td>55.850257</td>\n",
       "      <td>1534.148775</td>\n",
       "      <td>1053.427788</td>\n",
       "      <td>...</td>\n",
       "      <td>0.000127</td>\n",
       "      <td>2.153056</td>\n",
       "      <td>11.631694</td>\n",
       "      <td>174.011183</td>\n",
       "      <td>0.000500</td>\n",
       "      <td>0.000441</td>\n",
       "      <td>0.001784</td>\n",
       "      <td>0.024303</td>\n",
       "      <td>0.133040</td>\n",
       "      <td>0.282213</td>\n",
       "    </tr>\n",
       "    <tr>\n",
       "      <th>10</th>\n",
       "      <td>1054.821012</td>\n",
       "      <td>1099.248341</td>\n",
       "      <td>1.240511e+10</td>\n",
       "      <td>1.369524</td>\n",
       "      <td>2.148839</td>\n",
       "      <td>3.076923</td>\n",
       "      <td>17.745937</td>\n",
       "      <td>46.402736</td>\n",
       "      <td>1364.937514</td>\n",
       "      <td>1072.696565</td>\n",
       "      <td>...</td>\n",
       "      <td>0.001227</td>\n",
       "      <td>0.564743</td>\n",
       "      <td>3.452748</td>\n",
       "      <td>36.475226</td>\n",
       "      <td>0.000115</td>\n",
       "      <td>0.000414</td>\n",
       "      <td>0.001741</td>\n",
       "      <td>0.096332</td>\n",
       "      <td>0.245306</td>\n",
       "      <td>0.538985</td>\n",
       "    </tr>\n",
       "  </tbody>\n",
       "</table>\n",
       "<p>5 rows × 494 columns</p>\n",
       "</div>"
      ],
      "text/plain": [
       "    CT_original_firstorder_10Percentile  CT_original_firstorder_90Percentile  \\\n",
       "2                           1064.131380                          1116.375669   \n",
       "4                            972.027466                          1183.041657   \n",
       "5                           1030.239139                          1177.917830   \n",
       "8                           1028.577020                          1085.938888   \n",
       "10                          1054.821012                          1099.248341   \n",
       "\n",
       "    CT_original_firstorder_Energy  CT_original_firstorder_Entropy_32bins  \\\n",
       "2                    1.934609e+10                               1.598086   \n",
       "4                    1.149213e+10                               3.115232   \n",
       "5                    1.989521e+10                               2.694620   \n",
       "8                    7.735412e+10                               1.507373   \n",
       "10                   1.240511e+10                               1.369524   \n",
       "\n",
       "    CT_original_firstorder_Entropy_64bins  \\\n",
       "2                                2.422321   \n",
       "4                                4.083211   \n",
       "5                                3.642433   \n",
       "8                                2.414556   \n",
       "10                               2.148839   \n",
       "\n",
       "    CT_original_firstorder_Entropy_128bins  \\\n",
       "2                                 3.378726   \n",
       "4                                 5.068944   \n",
       "5                                 4.622903   \n",
       "8                                 3.339893   \n",
       "10                                3.076923   \n",
       "\n",
       "    CT_original_firstorder_InterquartileRange  \\\n",
       "2                                   23.744564   \n",
       "4                                   79.044404   \n",
       "5                                   45.224022   \n",
       "8                                   22.494850   \n",
       "10                                  17.745937   \n",
       "\n",
       "    CT_original_firstorder_Kurtosis  CT_original_firstorder_Maximum  \\\n",
       "2                         59.893869                     1450.980316   \n",
       "4                          8.933352                     1414.363699   \n",
       "5                         14.831983                     1763.283818   \n",
       "8                         55.850257                     1534.148775   \n",
       "10                        46.402736                     1364.937514   \n",
       "\n",
       "    CT_original_firstorder_Mean  ...  PET_original_ngtdm_Coarseness_128bins  \\\n",
       "2                   1086.596504  ...                               0.000554   \n",
       "4                   1086.186295  ...                               0.001349   \n",
       "5                   1104.664236  ...                               0.000810   \n",
       "8                   1053.427788  ...                               0.000127   \n",
       "10                  1072.696565  ...                               0.001227   \n",
       "\n",
       "    PET_original_ngtdm_Complexity_32bins  \\\n",
       "2                               0.332260   \n",
       "4                               3.740105   \n",
       "5                               2.453277   \n",
       "8                               2.153056   \n",
       "10                              0.564743   \n",
       "\n",
       "    PET_original_ngtdm_Complexity_64bins  \\\n",
       "2                               2.875649   \n",
       "4                              14.209499   \n",
       "5                              15.646650   \n",
       "8                              11.631694   \n",
       "10                              3.452748   \n",
       "\n",
       "    PET_original_ngtdm_Complexity_128bins  PET_original_ngtdm_Contrast_32bins  \\\n",
       "2                               49.308852                            0.000127   \n",
       "4                               67.042138                            0.004490   \n",
       "5                              106.093147                            0.000985   \n",
       "8                              174.011183                            0.000500   \n",
       "10                              36.475226                            0.000115   \n",
       "\n",
       "    PET_original_ngtdm_Contrast_64bins  PET_original_ngtdm_Contrast_128bins  \\\n",
       "2                             0.000164                             0.001203   \n",
       "4                             0.004617                             0.006914   \n",
       "5                             0.000963                             0.002301   \n",
       "8                             0.000441                             0.001784   \n",
       "10                            0.000414                             0.001741   \n",
       "\n",
       "    PET_original_ngtdm_Strength_32bins  PET_original_ngtdm_Strength_64bins  \\\n",
       "2                             0.060466                            0.214173   \n",
       "4                             0.024249                            0.091105   \n",
       "5                             0.039365                            0.193554   \n",
       "8                             0.024303                            0.133040   \n",
       "10                            0.096332                            0.245306   \n",
       "\n",
       "    PET_original_ngtdm_Strength_128bins  \n",
       "2                              0.297980  \n",
       "4                              0.388307  \n",
       "5                              0.592523  \n",
       "8                              0.282213  \n",
       "10                             0.538985  \n",
       "\n",
       "[5 rows x 494 columns]"
      ]
     },
     "execution_count": 9,
     "metadata": {},
     "output_type": "execute_result"
    }
   ],
   "source": [
    "firstorder = pd.read_csv(path_firstoder_features, index_col=0)\n",
    "texture = pd.read_csv(path_texture_features, index_col=0)\n",
    "features = pd.concat((firstorder, texture), axis=1)\n",
    "features.head()"
   ]
  },
  {
   "cell_type": "code",
   "execution_count": 10,
   "metadata": {},
   "outputs": [
    {
     "data": {
      "text/plain": [
       "(196, 494)"
      ]
     },
     "execution_count": 10,
     "metadata": {},
     "output_type": "execute_result"
    }
   ],
   "source": [
    "features.shape"
   ]
  },
  {
   "cell_type": "code",
   "execution_count": 11,
   "metadata": {},
   "outputs": [
    {
     "data": {
      "text/html": [
       "<div>\n",
       "<style scoped>\n",
       "    .dataframe tbody tr th:only-of-type {\n",
       "        vertical-align: middle;\n",
       "    }\n",
       "\n",
       "    .dataframe tbody tr th {\n",
       "        vertical-align: top;\n",
       "    }\n",
       "\n",
       "    .dataframe thead th {\n",
       "        text-align: right;\n",
       "    }\n",
       "</style>\n",
       "<table border=\"1\" class=\"dataframe\">\n",
       "  <thead>\n",
       "    <tr style=\"text-align: right;\">\n",
       "      <th></th>\n",
       "      <th>CT_original_firstorder_10Percentile</th>\n",
       "      <th>CT_original_firstorder_90Percentile</th>\n",
       "      <th>CT_original_firstorder_Energy</th>\n",
       "      <th>CT_original_firstorder_Entropy_32bins</th>\n",
       "      <th>CT_original_firstorder_Entropy_64bins</th>\n",
       "      <th>CT_original_firstorder_Entropy_128bins</th>\n",
       "      <th>CT_original_firstorder_InterquartileRange</th>\n",
       "      <th>CT_original_firstorder_Kurtosis</th>\n",
       "      <th>CT_original_firstorder_Maximum</th>\n",
       "      <th>CT_original_firstorder_Mean</th>\n",
       "      <th>...</th>\n",
       "      <th>CT_original_ngtdm_Coarseness_128bins</th>\n",
       "      <th>CT_original_ngtdm_Complexity_32bins</th>\n",
       "      <th>CT_original_ngtdm_Complexity_64bins</th>\n",
       "      <th>CT_original_ngtdm_Complexity_128bins</th>\n",
       "      <th>CT_original_ngtdm_Contrast_32bins</th>\n",
       "      <th>CT_original_ngtdm_Contrast_64bins</th>\n",
       "      <th>CT_original_ngtdm_Contrast_128bins</th>\n",
       "      <th>CT_original_ngtdm_Strength_32bins</th>\n",
       "      <th>CT_original_ngtdm_Strength_64bins</th>\n",
       "      <th>CT_original_ngtdm_Strength_128bins</th>\n",
       "    </tr>\n",
       "  </thead>\n",
       "  <tbody>\n",
       "    <tr>\n",
       "      <th>2</th>\n",
       "      <td>1064.131380</td>\n",
       "      <td>1116.375669</td>\n",
       "      <td>1.934609e+10</td>\n",
       "      <td>1.598086</td>\n",
       "      <td>2.422321</td>\n",
       "      <td>3.378726</td>\n",
       "      <td>23.744564</td>\n",
       "      <td>59.893869</td>\n",
       "      <td>1450.980316</td>\n",
       "      <td>1086.596504</td>\n",
       "      <td>...</td>\n",
       "      <td>0.000554</td>\n",
       "      <td>0.332260</td>\n",
       "      <td>2.875649</td>\n",
       "      <td>49.308852</td>\n",
       "      <td>0.000127</td>\n",
       "      <td>0.000164</td>\n",
       "      <td>0.001203</td>\n",
       "      <td>0.060466</td>\n",
       "      <td>0.214173</td>\n",
       "      <td>0.297980</td>\n",
       "    </tr>\n",
       "    <tr>\n",
       "      <th>4</th>\n",
       "      <td>972.027466</td>\n",
       "      <td>1183.041657</td>\n",
       "      <td>1.149213e+10</td>\n",
       "      <td>3.115232</td>\n",
       "      <td>4.083211</td>\n",
       "      <td>5.068944</td>\n",
       "      <td>79.044404</td>\n",
       "      <td>8.933352</td>\n",
       "      <td>1414.363699</td>\n",
       "      <td>1086.186295</td>\n",
       "      <td>...</td>\n",
       "      <td>0.001349</td>\n",
       "      <td>3.740105</td>\n",
       "      <td>14.209499</td>\n",
       "      <td>67.042138</td>\n",
       "      <td>0.004490</td>\n",
       "      <td>0.004617</td>\n",
       "      <td>0.006914</td>\n",
       "      <td>0.024249</td>\n",
       "      <td>0.091105</td>\n",
       "      <td>0.388307</td>\n",
       "    </tr>\n",
       "    <tr>\n",
       "      <th>5</th>\n",
       "      <td>1030.239139</td>\n",
       "      <td>1177.917830</td>\n",
       "      <td>1.989521e+10</td>\n",
       "      <td>2.694620</td>\n",
       "      <td>3.642433</td>\n",
       "      <td>4.622903</td>\n",
       "      <td>45.224022</td>\n",
       "      <td>14.831983</td>\n",
       "      <td>1763.283818</td>\n",
       "      <td>1104.664236</td>\n",
       "      <td>...</td>\n",
       "      <td>0.000810</td>\n",
       "      <td>2.453277</td>\n",
       "      <td>15.646650</td>\n",
       "      <td>106.093147</td>\n",
       "      <td>0.000985</td>\n",
       "      <td>0.000963</td>\n",
       "      <td>0.002301</td>\n",
       "      <td>0.039365</td>\n",
       "      <td>0.193554</td>\n",
       "      <td>0.592523</td>\n",
       "    </tr>\n",
       "    <tr>\n",
       "      <th>8</th>\n",
       "      <td>1028.577020</td>\n",
       "      <td>1085.938888</td>\n",
       "      <td>7.735412e+10</td>\n",
       "      <td>1.507373</td>\n",
       "      <td>2.414556</td>\n",
       "      <td>3.339893</td>\n",
       "      <td>22.494850</td>\n",
       "      <td>55.850257</td>\n",
       "      <td>1534.148775</td>\n",
       "      <td>1053.427788</td>\n",
       "      <td>...</td>\n",
       "      <td>0.000127</td>\n",
       "      <td>2.153056</td>\n",
       "      <td>11.631694</td>\n",
       "      <td>174.011183</td>\n",
       "      <td>0.000500</td>\n",
       "      <td>0.000441</td>\n",
       "      <td>0.001784</td>\n",
       "      <td>0.024303</td>\n",
       "      <td>0.133040</td>\n",
       "      <td>0.282213</td>\n",
       "    </tr>\n",
       "    <tr>\n",
       "      <th>10</th>\n",
       "      <td>1054.821012</td>\n",
       "      <td>1099.248341</td>\n",
       "      <td>1.240511e+10</td>\n",
       "      <td>1.369524</td>\n",
       "      <td>2.148839</td>\n",
       "      <td>3.076923</td>\n",
       "      <td>17.745937</td>\n",
       "      <td>46.402736</td>\n",
       "      <td>1364.937514</td>\n",
       "      <td>1072.696565</td>\n",
       "      <td>...</td>\n",
       "      <td>0.001227</td>\n",
       "      <td>0.564743</td>\n",
       "      <td>3.452748</td>\n",
       "      <td>36.475226</td>\n",
       "      <td>0.000115</td>\n",
       "      <td>0.000414</td>\n",
       "      <td>0.001741</td>\n",
       "      <td>0.096332</td>\n",
       "      <td>0.245306</td>\n",
       "      <td>0.538985</td>\n",
       "    </tr>\n",
       "  </tbody>\n",
       "</table>\n",
       "<p>5 rows × 247 columns</p>\n",
       "</div>"
      ],
      "text/plain": [
       "    CT_original_firstorder_10Percentile  CT_original_firstorder_90Percentile  \\\n",
       "2                           1064.131380                          1116.375669   \n",
       "4                            972.027466                          1183.041657   \n",
       "5                           1030.239139                          1177.917830   \n",
       "8                           1028.577020                          1085.938888   \n",
       "10                          1054.821012                          1099.248341   \n",
       "\n",
       "    CT_original_firstorder_Energy  CT_original_firstorder_Entropy_32bins  \\\n",
       "2                    1.934609e+10                               1.598086   \n",
       "4                    1.149213e+10                               3.115232   \n",
       "5                    1.989521e+10                               2.694620   \n",
       "8                    7.735412e+10                               1.507373   \n",
       "10                   1.240511e+10                               1.369524   \n",
       "\n",
       "    CT_original_firstorder_Entropy_64bins  \\\n",
       "2                                2.422321   \n",
       "4                                4.083211   \n",
       "5                                3.642433   \n",
       "8                                2.414556   \n",
       "10                               2.148839   \n",
       "\n",
       "    CT_original_firstorder_Entropy_128bins  \\\n",
       "2                                 3.378726   \n",
       "4                                 5.068944   \n",
       "5                                 4.622903   \n",
       "8                                 3.339893   \n",
       "10                                3.076923   \n",
       "\n",
       "    CT_original_firstorder_InterquartileRange  \\\n",
       "2                                   23.744564   \n",
       "4                                   79.044404   \n",
       "5                                   45.224022   \n",
       "8                                   22.494850   \n",
       "10                                  17.745937   \n",
       "\n",
       "    CT_original_firstorder_Kurtosis  CT_original_firstorder_Maximum  \\\n",
       "2                         59.893869                     1450.980316   \n",
       "4                          8.933352                     1414.363699   \n",
       "5                         14.831983                     1763.283818   \n",
       "8                         55.850257                     1534.148775   \n",
       "10                        46.402736                     1364.937514   \n",
       "\n",
       "    CT_original_firstorder_Mean  ...  CT_original_ngtdm_Coarseness_128bins  \\\n",
       "2                   1086.596504  ...                              0.000554   \n",
       "4                   1086.186295  ...                              0.001349   \n",
       "5                   1104.664236  ...                              0.000810   \n",
       "8                   1053.427788  ...                              0.000127   \n",
       "10                  1072.696565  ...                              0.001227   \n",
       "\n",
       "    CT_original_ngtdm_Complexity_32bins  CT_original_ngtdm_Complexity_64bins  \\\n",
       "2                              0.332260                             2.875649   \n",
       "4                              3.740105                            14.209499   \n",
       "5                              2.453277                            15.646650   \n",
       "8                              2.153056                            11.631694   \n",
       "10                             0.564743                             3.452748   \n",
       "\n",
       "    CT_original_ngtdm_Complexity_128bins  CT_original_ngtdm_Contrast_32bins  \\\n",
       "2                              49.308852                           0.000127   \n",
       "4                              67.042138                           0.004490   \n",
       "5                             106.093147                           0.000985   \n",
       "8                             174.011183                           0.000500   \n",
       "10                             36.475226                           0.000115   \n",
       "\n",
       "    CT_original_ngtdm_Contrast_64bins  CT_original_ngtdm_Contrast_128bins  \\\n",
       "2                            0.000164                            0.001203   \n",
       "4                            0.004617                            0.006914   \n",
       "5                            0.000963                            0.002301   \n",
       "8                            0.000441                            0.001784   \n",
       "10                           0.000414                            0.001741   \n",
       "\n",
       "    CT_original_ngtdm_Strength_32bins  CT_original_ngtdm_Strength_64bins  \\\n",
       "2                            0.060466                           0.214173   \n",
       "4                            0.024249                           0.091105   \n",
       "5                            0.039365                           0.193554   \n",
       "8                            0.024303                           0.133040   \n",
       "10                           0.096332                           0.245306   \n",
       "\n",
       "    CT_original_ngtdm_Strength_128bins  \n",
       "2                             0.297980  \n",
       "4                             0.388307  \n",
       "5                             0.592523  \n",
       "8                             0.282213  \n",
       "10                            0.538985  \n",
       "\n",
       "[5 rows x 247 columns]"
      ]
     },
     "execution_count": 11,
     "metadata": {},
     "output_type": "execute_result"
    }
   ],
   "source": [
    "CT_texture = features.filter(regex='CT')\n",
    "CT_texture.head()"
   ]
  },
  {
   "cell_type": "code",
   "execution_count": 12,
   "metadata": {},
   "outputs": [],
   "source": [
    "# Hassan found 17 features with trend varying according to GL discr. \n",
    "\n",
    "# Ng is the number of discrete gray levels in the image.\n",
    "\n",
    "# Feature definitions implemented by Hassan et al. were compared to the feature definitions \n",
    "# implemented in the PyRadiomics Python package.\n",
    "\n",
    "# GLCM features normalized by the number of gray levels:\n",
    "# * Entropy (found! named joint entropy in pyrad)\n",
    "# * Diff. entropy (found!)\n",
    "# * Sum entropy (found!)\n",
    "# * Contrast (found!)\n",
    "# * Mean (NOT found!)\n",
    "# * Sum Variance (NOT found! deprecated in pyrad)\n",
    "# * Difference Variance (found! try out, but DIFFERENT seems to be formula in pyrad)\n",
    "# * Sum Average (found!)\n",
    "# * Difference Average (found! try out, but DIFFERENT seems to be formula in pyrad)\n",
    "# * Dissimilarity (NOT found!)\n",
    "\n",
    "\n",
    "# GLRLM features normalized by the number of gray levels.\n",
    "# * GLNU (found!)\n",
    "# * HGRE (found!) \n",
    "# * SRHGE (found!)\n",
    "\n",
    "# NGTDM features normalized by the number of gray levels.\n",
    "# * Contrast (found!)\n",
    "# * Complexity (found!)\n",
    "# * Texture strength (found! names strength only in pyrad)\n",
    "\n",
    "# GLSZM features normalized by the number of gray levels.\n",
    "# * HIE (NOT found!)"
   ]
  },
  {
   "cell_type": "markdown",
   "metadata": {},
   "source": [
    "# Intercorrelation Coefficient of all features"
   ]
  },
  {
   "cell_type": "code",
   "execution_count": 13,
   "metadata": {},
   "outputs": [
    {
     "data": {
      "text/plain": [
       "24"
      ]
     },
     "execution_count": 13,
     "metadata": {},
     "output_type": "execute_result"
    }
   ],
   "source": [
    "col_regexes = np.unique([('_').join(col.split('_')[:-1]) for col in features.columns])\n",
    "\n",
    "#assert col_regexes.size * 3 == features.columns.size\n",
    "\n",
    "all_feat_icc = np.zeros(col_regexes.size)\n",
    "for num, label in enumerate(col_regexes):\n",
    "    all_feat_icc[num] = icc(features.filter(regex=label).values)\n",
    "    \n",
    "sum(all_feat_icc >= ICC_THRESH)"
   ]
  },
  {
   "cell_type": "code",
   "execution_count": 14,
   "metadata": {},
   "outputs": [
    {
     "data": {
      "text/plain": [
       "['CT_original_firstorder_Entropy',\n",
       " 'CT_original_glcm_Correlation',\n",
       " 'CT_original_glcm_Imc1',\n",
       " 'CT_original_glcm_MCC',\n",
       " 'CT_original_gldm_GrayLevelNonUniformity',\n",
       " 'CT_original_gldm_SmallDependenceLowGrayLevelEmphasis',\n",
       " 'CT_original_glrlm_GrayLevelNonUniformityNormalized',\n",
       " 'CT_original_glrlm_RunLengthNonUniformityNormalized',\n",
       " 'CT_original_glrlm_RunPercentage',\n",
       " 'CT_original_glrlm_ShortRunEmphasis',\n",
       " 'CT_original_glszm_LargeAreaHighGrayLevelEmphasis',\n",
       " 'CT_original_glszm_ZoneEntropy',\n",
       " 'PET_original_firstorder_Entropy',\n",
       " 'PET_original_glcm_Correlation',\n",
       " 'PET_original_glcm_Imc1',\n",
       " 'PET_original_glcm_MCC',\n",
       " 'PET_original_gldm_GrayLevelNonUniformity',\n",
       " 'PET_original_gldm_SmallDependenceLowGrayLevelEmphasis',\n",
       " 'PET_original_glrlm_GrayLevelNonUniformityNormalized',\n",
       " 'PET_original_glrlm_RunLengthNonUniformityNormalized',\n",
       " 'PET_original_glrlm_RunPercentage',\n",
       " 'PET_original_glrlm_ShortRunEmphasis',\n",
       " 'PET_original_glszm_LargeAreaHighGrayLevelEmphasis',\n",
       " 'PET_original_glszm_ZoneEntropy']"
      ]
     },
     "execution_count": 14,
     "metadata": {},
     "output_type": "execute_result"
    }
   ],
   "source": [
    "list(col_regexes[all_feat_icc >= ICC_THRESH])"
   ]
  },
  {
   "cell_type": "code",
   "execution_count": 15,
   "metadata": {},
   "outputs": [
    {
     "data": {
      "text/plain": [
       "(24, 1)"
      ]
     },
     "execution_count": 15,
     "metadata": {},
     "output_type": "execute_result"
    }
   ],
   "source": [
    "df_icc_all_feats = pd.DataFrame(\n",
    "    all_feat_icc[all_feat_icc >= ICC_THRESH],\n",
    "    index=col_regexes[all_feat_icc >= ICC_THRESH],\n",
    "    columns=['Score']\n",
    ")\n",
    "df_icc_all_feats.shape"
   ]
  },
  {
   "cell_type": "code",
   "execution_count": 16,
   "metadata": {},
   "outputs": [
    {
     "data": {
      "image/png": "[encoded data removed]",
      "text/plain": [
       "<Figure size 864x576 with 1 Axes>"
      ]
     },
     "metadata": {
      "needs_background": "light"
     },
     "output_type": "display_data"
    }
   ],
   "source": [
    "# Plotting features with ICC > ICC_THRESH.\n",
    "plt.figure(figsize=(12, 8))\n",
    "sns.barplot(\n",
    "    x=df_icc_all_feats.index, \n",
    "    y='Score', \n",
    "    data=df_icc_all_feats, \n",
    "    #palette='PuBu',\n",
    "    palette='muted',\n",
    ")\n",
    "plt.ylabel('Interclass Correlation Coefficient', fontsize='16')\n",
    "plt.xticks(\n",
    "    np.arange(df_icc_all_feats.index.size), df_icc_all_feats.index, rotation=45, ha='right'\n",
    ")\n",
    "plt.axhline(y=ICC_THRESH, linestyle='--', alpha=0.8, color='k')#'darkblue')\n",
    "plt.tight_layout()\n",
    "plt.savefig(\n",
    "    './icc_original_images.png'\n",
    ")"
   ]
  },
  {
   "cell_type": "markdown",
   "metadata": {},
   "source": [
    "# Hassan Transform of Selected Features"
   ]
  },
  {
   "cell_type": "code",
   "execution_count": 17,
   "metadata": {},
   "outputs": [],
   "source": [
    "hassan_transforms = {\n",
    "    'CT_original_glcm_DifferenceEntropy': lambda Ng, feature: feature / np.log(Ng ** 2),\n",
    "    'CT_original_glcm_JointEntropy': lambda Ng, feature: feature / np.log(Ng ** 2),\n",
    "    'CT_original_glcm_SumEntropy': lambda Ng, feature: feature / np.log(Ng ** 2),\n",
    "    'CT_original_glcm_Contrast': lambda Ng, feature: feature / (Ng ** 2),\n",
    "    'CT_original_glcm_DifferenceVariance': lambda Ng, feature: feature / (Ng ** 2),\n",
    "    'CT_original_glcm_SumAverage': lambda Ng, feature: feature / Ng,\n",
    "    'CT_original_glcm_DifferenceAverage': lambda Ng, feature: feature / Ng,\n",
    "    'CT_original_glrlm_GrayLevelNonUniformity': lambda Ng, feature: feature * Ng,\n",
    "    'CT_original_glrlm_HighGrayLevelRunEmphasis': lambda Ng, feature: feature / (Ng ** 2),\n",
    "    'CT_original_glrlm_ShortRunHighGrayLevelEmphasis': lambda Ng, feature: feature / (Ng ** 2),\n",
    "    'CT_original_ngtdm_Contrast': lambda Ng, feature: feature / Ng,\n",
    "    'CT_original_ngtdm_Complexity': lambda Ng, feature: feature / (Ng ** 3),\n",
    "    'CT_original_ngtdm_Strength': lambda Ng, feature: feature / (Ng ** 2),\n",
    "}"
   ]
  },
  {
   "cell_type": "code",
   "execution_count": 18,
   "metadata": {},
   "outputs": [],
   "source": [
    "# NB: Bins widths for transformation should correspond to \n",
    "# feature extraction protocol (e.g. Z-score transf. CT scans).\n",
    "gl_bins = [gl_32bins, gl_64bins, gl_32bins]\n",
    "\n",
    "icc_orig_feat = np.zeros(len(hassan_transforms.keys()))\n",
    "icc_norm_feat = np.zeros(len(hassan_transforms.keys()))\n",
    "for num, (key, transform) in enumerate(hassan_transforms.items()):\n",
    "    \n",
    "    X_orig = CT_texture.filter(regex=key).values\n",
    "    icc_orig_feat[num] = icc(X_orig)\n",
    "    \n",
    "    X_norm = np.zeros_like(X_orig)    \n",
    "    for _num, gl_bin in enumerate(gl_bins):\n",
    "        X_norm[:, _num] = transform(\n",
    "            gl_bin, features.loc[:, features.columns[num]]\n",
    "        )\n",
    "    icc_norm_feat[num] = icc(X_norm)"
   ]
  },
  {
   "cell_type": "code",
   "execution_count": 19,
   "metadata": {},
   "outputs": [
    {
     "data": {
      "text/html": [
       "<div>\n",
       "<style scoped>\n",
       "    .dataframe tbody tr th:only-of-type {\n",
       "        vertical-align: middle;\n",
       "    }\n",
       "\n",
       "    .dataframe tbody tr th {\n",
       "        vertical-align: top;\n",
       "    }\n",
       "\n",
       "    .dataframe thead th {\n",
       "        text-align: right;\n",
       "    }\n",
       "</style>\n",
       "<table border=\"1\" class=\"dataframe\">\n",
       "  <thead>\n",
       "    <tr style=\"text-align: right;\">\n",
       "      <th></th>\n",
       "      <th>Score</th>\n",
       "      <th>Kind</th>\n",
       "    </tr>\n",
       "  </thead>\n",
       "  <tbody>\n",
       "    <tr>\n",
       "      <th>CT_original_glcm_DifferenceEntropy</th>\n",
       "      <td>0.789770</td>\n",
       "      <td>Original</td>\n",
       "    </tr>\n",
       "    <tr>\n",
       "      <th>CT_original_glcm_JointEntropy</th>\n",
       "      <td>0.754210</td>\n",
       "      <td>Original</td>\n",
       "    </tr>\n",
       "    <tr>\n",
       "      <th>CT_original_glcm_SumEntropy</th>\n",
       "      <td>0.755770</td>\n",
       "      <td>Original</td>\n",
       "    </tr>\n",
       "    <tr>\n",
       "      <th>CT_original_glcm_Contrast</th>\n",
       "      <td>0.318157</td>\n",
       "      <td>Original</td>\n",
       "    </tr>\n",
       "    <tr>\n",
       "      <th>CT_original_glcm_DifferenceVariance</th>\n",
       "      <td>0.325077</td>\n",
       "      <td>Original</td>\n",
       "    </tr>\n",
       "  </tbody>\n",
       "</table>\n",
       "</div>"
      ],
      "text/plain": [
       "                                        Score      Kind\n",
       "CT_original_glcm_DifferenceEntropy   0.789770  Original\n",
       "CT_original_glcm_JointEntropy        0.754210  Original\n",
       "CT_original_glcm_SumEntropy          0.755770  Original\n",
       "CT_original_glcm_Contrast            0.318157  Original\n",
       "CT_original_glcm_DifferenceVariance  0.325077  Original"
      ]
     },
     "execution_count": 19,
     "metadata": {},
     "output_type": "execute_result"
    }
   ],
   "source": [
    "df_icc_orig_feat = pd.DataFrame(icc_orig_feat, index=hassan_transforms.keys(), columns=['Score'])\n",
    "df_icc_orig_feat['Kind'] = ['Original'] * len(hassan_transforms.keys())\n",
    "\n",
    "df_icc_norm_feat = pd.DataFrame(icc_norm_feat, index=hassan_transforms.keys(), columns=['Score'])\n",
    "df_icc_norm_feat['Kind'] = ['Transformed'] * len(hassan_transforms.keys())\n",
    "\n",
    "df_icc = pd.concat((df_icc_orig_feat, df_icc_norm_feat), axis=0)\n",
    "df_icc.head()"
   ]
  },
  {
   "cell_type": "code",
   "execution_count": 20,
   "metadata": {},
   "outputs": [
    {
     "data": {
      "text/plain": [
       "\"plt.savefig(\\n    './hassan_icc_original_images.png'\\n    #'./hassan_icc_removed_broken_images.png'\\n)\""
      ]
     },
     "execution_count": 20,
     "metadata": {},
     "output_type": "execute_result"
    },
    {
     "data": {
      "image/png": "[encoded data removed]",
      "text/plain": [
       "<Figure size 1152x576 with 1 Axes>"
      ]
     },
     "metadata": {
      "needs_background": "light"
     },
     "output_type": "display_data"
    }
   ],
   "source": [
    "# Plotting original and transformed CT texture features.\n",
    "plt.figure(figsize=(16, 8))\n",
    "sns.barplot(\n",
    "    x=df_icc.index, \n",
    "    y='Score', \n",
    "    hue='Kind', \n",
    "    data=df_icc, \n",
    "    palette='muted',\n",
    ")\n",
    "plt.ylabel('Interclass Correlation Coefficient', fontsize='16')\n",
    "plt.xticks(rotation=45, ha='right')\n",
    "plt.axhline(y=ICC_THRESH, linestyle='--', alpha=0.5, color='darkblue')\n",
    "plt.legend(\n",
    "    fontsize=16,\n",
    "    title='Feature Definition:', title_fontsize=16,\n",
    "    loc='upper center', \n",
    "    bbox_to_anchor=(0.5, 1.25),\n",
    "    ncol=2, \n",
    "    fancybox=True, \n",
    "    shadow=True\n",
    ")\n",
    "plt.tight_layout()\n",
    "\"\"\"plt.savefig(\n",
    "    './hassan_icc_original_images.png'\n",
    "    #'./hassan_icc_removed_broken_images.png'\n",
    ")\"\"\""
   ]
  },
  {
   "cell_type": "markdown",
   "metadata": {},
   "source": [
    "# Remove GL Discr. Duplicates from Dataset"
   ]
  },
  {
   "cell_type": "code",
   "execution_count": 21,
   "metadata": {},
   "outputs": [
    {
     "data": {
      "text/plain": [
       "(26, 13)"
      ]
     },
     "execution_count": 21,
     "metadata": {},
     "output_type": "execute_result"
    }
   ],
   "source": [
    "df_icc.index.size, np.unique(df_icc.index).size"
   ]
  },
  {
   "cell_type": "code",
   "execution_count": 22,
   "metadata": {},
   "outputs": [
    {
     "data": {
      "text/plain": [
       "37"
      ]
     },
     "execution_count": 22,
     "metadata": {},
     "output_type": "execute_result"
    }
   ],
   "source": [
    "stable_features = np.unique(\n",
    "    np.concatenate((df_icc_all_feats.index, df_icc.index))\n",
    ")\n",
    "len(stable_features)"
   ]
  },
  {
   "cell_type": "code",
   "execution_count": 23,
   "metadata": {},
   "outputs": [
    {
     "data": {
      "text/plain": [
       "['CT_original_firstorder_Entropy',\n",
       " 'CT_original_glcm_Contrast',\n",
       " 'CT_original_glcm_Correlation',\n",
       " 'CT_original_glcm_DifferenceAverage',\n",
       " 'CT_original_glcm_DifferenceEntropy',\n",
       " 'CT_original_glcm_DifferenceVariance',\n",
       " 'CT_original_glcm_Imc1',\n",
       " 'CT_original_glcm_JointEntropy',\n",
       " 'CT_original_glcm_MCC',\n",
       " 'CT_original_glcm_SumAverage',\n",
       " 'CT_original_glcm_SumEntropy',\n",
       " 'CT_original_gldm_GrayLevelNonUniformity',\n",
       " 'CT_original_gldm_SmallDependenceLowGrayLevelEmphasis',\n",
       " 'CT_original_glrlm_GrayLevelNonUniformity',\n",
       " 'CT_original_glrlm_GrayLevelNonUniformityNormalized',\n",
       " 'CT_original_glrlm_HighGrayLevelRunEmphasis',\n",
       " 'CT_original_glrlm_RunLengthNonUniformityNormalized',\n",
       " 'CT_original_glrlm_RunPercentage',\n",
       " 'CT_original_glrlm_ShortRunEmphasis',\n",
       " 'CT_original_glrlm_ShortRunHighGrayLevelEmphasis',\n",
       " 'CT_original_glszm_LargeAreaHighGrayLevelEmphasis',\n",
       " 'CT_original_glszm_ZoneEntropy',\n",
       " 'CT_original_ngtdm_Complexity',\n",
       " 'CT_original_ngtdm_Contrast',\n",
       " 'CT_original_ngtdm_Strength',\n",
       " 'PET_original_firstorder_Entropy',\n",
       " 'PET_original_glcm_Correlation',\n",
       " 'PET_original_glcm_Imc1',\n",
       " 'PET_original_glcm_MCC',\n",
       " 'PET_original_gldm_GrayLevelNonUniformity',\n",
       " 'PET_original_gldm_SmallDependenceLowGrayLevelEmphasis',\n",
       " 'PET_original_glrlm_GrayLevelNonUniformityNormalized',\n",
       " 'PET_original_glrlm_RunLengthNonUniformityNormalized',\n",
       " 'PET_original_glrlm_RunPercentage',\n",
       " 'PET_original_glrlm_ShortRunEmphasis',\n",
       " 'PET_original_glszm_LargeAreaHighGrayLevelEmphasis',\n",
       " 'PET_original_glszm_ZoneEntropy']"
      ]
     },
     "execution_count": 23,
     "metadata": {},
     "output_type": "execute_result"
    }
   ],
   "source": [
    "list(stable_features)"
   ]
  },
  {
   "cell_type": "code",
   "execution_count": 24,
   "metadata": {},
   "outputs": [],
   "source": [
    "# ERROR:\n",
    "\n",
    "# Remove duplicates of stable features.\n",
    "for col in stable_features:\n",
    "    try:\n",
    "        feat_dupls = features.filter(regex=col)\n",
    "        col_values = np.copy(feat_dupls.values[:, 0])\n",
    "        features.drop(feat_dupls.columns, inplace=True, axis=1)\n",
    "        features[col] = col_values\n",
    "    except:\n",
    "        pass"
   ]
  },
  {
   "cell_type": "code",
   "execution_count": 25,
   "metadata": {},
   "outputs": [
    {
     "data": {
      "text/plain": [
       "(196, 464)"
      ]
     },
     "execution_count": 25,
     "metadata": {},
     "output_type": "execute_result"
    }
   ],
   "source": [
    "# Have first order and texture features. Must combine with PET parameters, clinical variables and shape features.\n",
    "X = pd.concat((clinical_features, features, pet_params), axis=1)\n",
    "np.shape(X)"
   ]
  },
  {
   "cell_type": "code",
   "execution_count": 28,
   "metadata": {},
   "outputs": [],
   "source": [
    "X.to_csv(path_transf_features)"
   ]
  },
  {
   "cell_type": "code",
   "execution_count": null,
   "metadata": {},
   "outputs": [],
   "source": []
  }
 ],
 "metadata": {
  "kernelspec": {
   "display_name": "Python 3",
   "language": "python",
   "name": "python3"
  },
  "language_info": {
   "codemirror_mode": {
    "name": "ipython",
    "version": 3
   },
   "file_extension": ".py",
   "mimetype": "text/x-python",
   "name": "python",
   "nbconvert_exporter": "python",
   "pygments_lexer": "ipython3",
   "version": "3.6.2"
  }
 },
 "nbformat": 4,
 "nbformat_minor": 2
}
