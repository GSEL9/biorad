{
 "cells": [
  {
   "cell_type": "markdown",
   "metadata": {},
   "source": [
    "**Objective:** \n",
    "\n",
    "Compare dependence of first order and texture features on image artifact hadling method:\n",
    "* Calculate features from original images.\n",
    "* Remove slices before calculating first order and texture features."
   ]
  },
  {
   "cell_type": "code",
   "execution_count": 2,
   "metadata": {},
   "outputs": [],
   "source": [
    "import os\n",
    "import nrrd\n",
    "\n",
    "import numpy as np\n",
    "import pandas as pd\n",
    "\n",
    "import seaborn as sns\n",
    "import matplotlib.pyplot as plt\n",
    "\n",
    "from ioutil import sample_paths\n",
    "\n",
    "%matplotlib inline"
   ]
  },
  {
   "cell_type": "markdown",
   "metadata": {},
   "source": [
    "# T-test\n",
    "\n",
    "https://pythonfordatascience.org/paired-samples-t-test-python/\n",
    "https://towardsdatascience.com/inferential-statistics-series-t-test-using-numpy-2718f8f9bf2f\n",
    "\n",
    "**FYI**:\n",
    "* The t test (also called Student’s T Test) compares two averages (means) and tells you if they are different from each other.\n",
    "* The t test also tells you how significant the differences are.\n",
    "* In other words it lets you know if those differences could have happened by chance.\n",
    "\n",
    "**t-score**:\n",
    "* The t score is a ratio between the difference between two groups and the difference within the groups.\n",
    "* The larger the t score, the more difference there is between groups. The smaller the t score, the more similarity there is between groups.\n",
    "* A t score of 3 means that the groups are three times as different from each other as they are within each other. * When you run a t test, the bigger the t-value, the more likely it is that the results are repeatable.\n",
    "\n",
    "**In conclusion**:\n",
    "* A large t-score tells you that the groups are different.\n",
    "* A small t-score tells you that the groups are similar.\n",
    "\n",
    "**Rationale**\n",
    "* The point is that "
   ]
  },
  {
   "cell_type": "code",
   "execution_count": 6,
   "metadata": {},
   "outputs": [],
   "source": [
    "first_order = {\n",
    "    'all_slices': pd.read_csv(\n",
    "        './../../data_source/to_analysis/original_images/firstorder_original_images.csv',\n",
    "        index_col=0\n",
    "    ),\n",
    "    'slice_drop_1200': pd.read_csv(\n",
    "        './../../data_source/to_analysis/slice_drop_ct1200/firstorder_slice_drop_ct1200.csv',\n",
    "        index_col=0\n",
    "    ),\n",
    "    'slice_drop_1300': pd.read_csv(\n",
    "        './../../data_source/to_analysis/slice_drop_ct1300/firstorder_slice_drop_ct1300.csv',\n",
    "        index_col=0\n",
    "    ),\n",
    "    'slice_drop_1400': pd.read_csv(\n",
    "        './../../data_source/to_analysis/slice_drop_ct1400/firstorder_slice_drop_ct1400.csv',\n",
    "        index_col=0\n",
    "    ),\n",
    "    'slice_drop_1500': pd.read_csv(\n",
    "        './../../data_source/to_analysis/slice_drop_ct1500/firstorder_slice_drop_ct1500.csv',\n",
    "        index_col=0\n",
    "    )\n",
    "}\n",
    "texture = {\n",
    "        pd.read_csv(\n",
    "        './../../data_source/to_analysis/original_images/firstorder_original_images.csv', \n",
    "        index_col=0\n",
    "    ),\n",
    "    'slice_drop_1200': pd.read_csv(\n",
    "        './../../data_source/to_analysis/slice_drop_ct1200/texture_slice_drop_ct1200.csv', \n",
    "        index_col=0\n",
    "    ),\n",
    "    'slice_drop_1300': pd.read_csv(\n",
    "        './../../data_source/to_analysis/slice_drop_ct1300/texture_slice_drop_ct1300.csv', \n",
    "        index_col=0\n",
    "    ),\n",
    "    'slice_drop_1400': pd.read_csv(\n",
    "        './../../data_source/to_analysis/slice_drop_ct1400/texture_slice_drop_ct1400.csv', \n",
    "        index_col=0\n",
    "    ),\n",
    "    'slice_drop_1500': pd.read_csv(\n",
    "        './../../data_source/to_analysis/slice_drop_ct1500/texture_slice_drop_ct1500.csv', \n",
    "        index_col=0\n",
    "    ),\n",
    "}"
   ]
  },
  {
   "cell_type": "code",
   "execution_count": null,
   "metadata": {},
   "outputs": [],
   "source": []
  },
  {
   "cell_type": "code",
   "execution_count": null,
   "metadata": {},
   "outputs": [],
   "source": []
  },
  {
   "cell_type": "markdown",
   "metadata": {},
   "source": [
    "# Fractional reduction in tumor volume"
   ]
  },
  {
   "cell_type": "code",
   "execution_count": null,
   "metadata": {},
   "outputs": [],
   "source": [
    "# NOTE: \n",
    "# * Use this as metric in determining if thredhold value is OK. From article, features with\n",
    "#   rv > 0.5 was deemed not robust.\n",
    "def range_variation_metric(x_red_i, x_full_i, x_full):\n",
    "    \"\"\"\n",
    "    Args:\n",
    "        x_red (): Feature value for patient i at reduced tumor volume.\n",
    "        x_full_i (): Feature value for patient i at full tumor volume.\n",
    "        x_full (): Feature values for all patients at full tumor volume.\n",
    "    \n",
    "    \"\"\"\n",
    "    \n",
    "    # NOTE: Use range in article of feature values calculated from \n",
    "    # multiple tumor volume reductions.\n",
    "    sr_i = x_red_i / x_full_i\n",
    "    rv = sr_i / (np.std(x_full) / np.mean(x_full))"
   ]
  },
  {
   "cell_type": "code",
   "execution_count": 6,
   "metadata": {},
   "outputs": [],
   "source": [
    "# TODO: Read masks from either dir and sum together voxels. Since each voxel is of size 1mm3, the volume = sum of \n",
    "# voxels mm^3. The fraction is unitless!\n",
    "\n",
    "# NOTE: \n",
    "# * From article: On average, 3.0cm^3 of GTV had to be removed to eliminate streak artifacts \n",
    "#   (standard deviation: 4.0cm3, range: 0.11–28cm3)).\n",
    "# * feature values were generally robust when up to 50% of the GTV was removed, but having only a \n",
    "#   small fraction (less than 50%) of the GTV remaining in the ROI caused very large differences in feature values. \n",
    "\n",
    "\n",
    "path_to_masks = sample_paths(\n",
    "    './../../data_source/images/masks_slice_drop_ct1300_nrrd',\n",
    "    './../../data_source/images/masks_nrrd',\n",
    "    target_format='nrrd'\n",
    ")\n",
    "volume_fracs = []\n",
    "for paths in path_to_masks:\n",
    "    \n",
    "    red_mask, _ = nrrd.read(paths['Image'])\n",
    "    orig_mask, _ = nrrd.read(paths['Mask'])\n",
    "    \n",
    "    volume_fracs.append(float(np.sum(red_mask) / np.sum(orig_mask)))"
   ]
  },
  {
   "cell_type": "code",
   "execution_count": 7,
   "metadata": {},
   "outputs": [
    {
     "data": {
      "text/plain": [
       "<matplotlib.axes._subplots.AxesSubplot at 0x10b3d6c18>"
      ]
     },
     "execution_count": 7,
     "metadata": {},
     "output_type": "execute_result"
    },
    {
     "data": {
      "image/png": "[encoded data removed]",
      "text/plain": [
       "<Figure size 720x576 with 1 Axes>"
      ]
     },
     "metadata": {
      "needs_background": "light"
     },
     "output_type": "display_data"
    }
   ],
   "source": [
    "plt.figure(figsize=(10, 8))\n",
    "sns.scatterplot(\n",
    "    range(np.size(volume_fracs)), volume_fracs\n",
    ")"
   ]
  },
  {
   "cell_type": "markdown",
   "metadata": {},
   "source": [
    "# Comparing First Order Features"
   ]
  },
  {
   "cell_type": "code",
   "execution_count": null,
   "metadata": {},
   "outputs": [],
   "source": [
    "firstorder_no_prep = pd.read_csv(\n",
    "    './../../data_source/to_analysis/original_images/firstorder_original_images.csv',\n",
    "    index_col=0\n",
    ")\n",
    "firstorder_no_prep.head()"
   ]
  },
  {
   "cell_type": "code",
   "execution_count": null,
   "metadata": {},
   "outputs": [],
   "source": [
    "firstorder_1300ct = pd.read_csv(\n",
    "    './../../data_source/to_analysis/slice_drop_ct1300/firstorder_slice_drop_ct1300.csv',\n",
    "    index_col=0\n",
    ")\n",
    "firstorder_1300ct.head()"
   ]
  },
  {
   "cell_type": "code",
   "execution_count": null,
   "metadata": {},
   "outputs": [],
   "source": []
  },
  {
   "cell_type": "code",
   "execution_count": null,
   "metadata": {},
   "outputs": [],
   "source": []
  },
  {
   "cell_type": "code",
   "execution_count": null,
   "metadata": {},
   "outputs": [],
   "source": []
  },
  {
   "cell_type": "code",
   "execution_count": null,
   "metadata": {},
   "outputs": [],
   "source": []
  },
  {
   "cell_type": "code",
   "execution_count": null,
   "metadata": {},
   "outputs": [],
   "source": [
    "# TODO: \n",
    "# Plot variance between first order feature sets calculated after different image processing techniques."
   ]
  },
  {
   "cell_type": "markdown",
   "metadata": {},
   "source": [
    "# Comparing Texture Features"
   ]
  },
  {
   "cell_type": "code",
   "execution_count": null,
   "metadata": {},
   "outputs": [],
   "source": [
    "texture_original_images = pd.read_csv(\n",
    "    './../../data_source/to_analysis/original_images/texture_original_images.csv',\n",
    "    index_col=0\n",
    ")"
   ]
  },
  {
   "cell_type": "code",
   "execution_count": null,
   "metadata": {},
   "outputs": [],
   "source": [
    "# TODO: \n",
    "# Plot variance between texture feature sets calculated after different image processing techniques."
   ]
  }
 ],
 "metadata": {
  "kernelspec": {
   "display_name": "Python 3",
   "language": "python",
   "name": "python3"
  },
  "language_info": {
   "codemirror_mode": {
    "name": "ipython",
    "version": 3
   },
   "file_extension": ".py",
   "mimetype": "text/x-python",
   "name": "python",
   "nbconvert_exporter": "python",
   "pygments_lexer": "ipython3",
   "version": "3.6.2"
  }
 },
 "nbformat": 4,
 "nbformat_minor": 2
}
