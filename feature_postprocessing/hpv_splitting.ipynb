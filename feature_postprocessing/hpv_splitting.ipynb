{
 "cells": [
  {
   "cell_type": "markdown",
   "metadata": {},
   "source": [
    "**GROUP 1:** \n",
    "* OPC = 1 + HPV = 1\n",
    "\n",
    "**GROUP 2:** \n",
    "* OPC = 1 + HPV = 0\n",
    "* OPC = 0"
   ]
  },
  {
   "cell_type": "code",
   "execution_count": 1,
   "metadata": {},
   "outputs": [],
   "source": [
    "import numpy as np\n",
    "import pandas as pd"
   ]
  },
  {
   "cell_type": "code",
   "execution_count": 6,
   "metadata": {},
   "outputs": [],
   "source": [
    "path_to_targets = './../../data_source/to_analysis/original_images/dfs_original_images.csv'\n",
    "path_to_features = './../../data_source/to_analysis/original_images/all_features_original_images.csv'\n",
    "path_to_results_a = './../../data_source/to_analysis/hpv_splitting/all_features_original_images_hpv_group_a.csv'\n",
    "path_to_results_b = './../../data_source/to_analysis/hpv_splitting/all_features_original_images_hpv_group_b.csv'\n",
    "path_to_targets_a = './../../data_source/to_analysis/hpv_splitting/dfs_original_images_hpv_group_a.csv'\n",
    "path_to_targets_b = './../../data_source/to_analysis/hpv_splitting/dfs_original_images_hpv_group_b.csv'\n",
    "\n",
    "#path_to_targets = './../../data_source/to_analysis/removed_broken_slices/dfs_removed_broken_slices.csv'\n",
    "#path_to_features = './../../data_source/to_analysis/removed_broken_slices/all_features_removed_broken_slices.csv'\n",
    "#path_to_results_a = './../../data_source/to_analysis/hpv_splitting/all_features_removed_broken_slices_hpv_group_a.csv'\n",
    "#path_to_results_b = './../../data_source/to_analysis/hpv_splitting/all_features_removed_broken_slices_hpv_group_b.csv'\n",
    "#path_to_targets_a = './../../data_source/to_analysis/hpv_splitting/dfs_removed_broken_slices_hpv_group_a.csv'\n",
    "#path_to_targets_b = './../../data_source/to_analysis/hpv_splitting/dfs_removed_broken_slices_hpv_group_b.csv'\n",
    "\n",
    "#path_to_targets = './../../data_source/to_analysis/original_images/dfs_original_images.csv'\n",
    "#path_to_features = './../../data_source/to_analysis/compressed_features/all_features_orig_images_icc.csv'\n",
    "#path_to_results_a = './../../data_source/to_analysis/hpv_splitting/all_features_orig_images_icc_hpv_group_a.csv'\n",
    "#path_to_results_b = './../../data_source/to_analysis/hpv_splitting/all_features_orig_images_icc_hpv_group_b.csv'\n",
    "#path_to_targets_a = './../../data_source/to_analysis/hpv_splitting/dfs_original_images_hpv_group_a.csv'\n",
    "#path_to_targets_b = './../../data_source/to_analysis/hpv_splitting/dfs_original_images_hpv_group_b.csv'\n",
    "\n",
    "#path_to_targets = './../../data_source/to_analysis/original_images/dfs_original_images.csv'\n",
    "#path_to_features = './../../data_source/to_analysis/compressed_features/all_features_orig_images_icc_dropped.csv'\n",
    "#path_to_results_a = './../../data_source/to_analysis/hpv_splitting/all_features_orig_images_icc_dropped_hpv_group_a.csv'\n",
    "#path_to_results_b = './../../data_source/to_analysis/hpv_splitting/all_features_orig_images_icc_dropped_hpv_group_b.csv'\n",
    "#path_to_targets_a = './../../data_source/to_analysis/hpv_splitting/dfs_orig_images_hpv_group_a.csv'\n",
    "#path_to_targets_b = './../../data_source/to_analysis/hpv_splitting/dfs_orig_images_hpv_group_b.csv'"
   ]
  },
  {
   "cell_type": "code",
   "execution_count": 7,
   "metadata": {},
   "outputs": [],
   "source": [
    "y = pd.read_csv(path_to_targets, index_col=0)"
   ]
  },
  {
   "cell_type": "code",
   "execution_count": 8,
   "metadata": {},
   "outputs": [
    {
     "data": {
      "text/plain": [
       "(198, 513)"
      ]
     },
     "execution_count": 8,
     "metadata": {},
     "output_type": "execute_result"
    }
   ],
   "source": [
    "X = pd.read_csv(path_to_features, index_col=0)\n",
    "patient_id = X.index\n",
    "\n",
    "X.shape"
   ]
  },
  {
   "cell_type": "code",
   "execution_count": 9,
   "metadata": {},
   "outputs": [
    {
     "data": {
      "text/plain": [
       "(198,)"
      ]
     },
     "execution_count": 9,
     "metadata": {},
     "output_type": "execute_result"
    }
   ],
   "source": [
    "opc = pd.read_excel('./../../data_source/clinical/ops.xlsx', index_col=0)\n",
    "opc = opc.loc[patient_id, :]\n",
    "opc = np.squeeze(opc.values)\n",
    "opc.shape"
   ]
  },
  {
   "cell_type": "code",
   "execution_count": 10,
   "metadata": {},
   "outputs": [
    {
     "data": {
      "text/plain": [
       "(198,)"
      ]
     },
     "execution_count": 10,
     "metadata": {},
     "output_type": "execute_result"
    }
   ],
   "source": [
    "clinical = pd.read_excel('../../data_source/clinical/clinical_params.xlsx', index_col=0)\n",
    "clinical = clinical.loc[patient_id, :]\n",
    "hpv = np.squeeze(clinical.loc[:, 'HPV-status'].values)\n",
    "hpv.shape"
   ]
  },
  {
   "cell_type": "code",
   "execution_count": 11,
   "metadata": {},
   "outputs": [
    {
     "data": {
      "text/plain": [
       "(82, 67, 149)"
      ]
     },
     "execution_count": 11,
     "metadata": {},
     "output_type": "execute_result"
    }
   ],
   "source": [
    "# * HPV realted: HPV+ and OPC (Einar: n=93).\n",
    "# * HPV unrelated: HPV- and OPC, or non-OPC regardless of HPV status (Einar: n=73).\n",
    "group_a_idx = []\n",
    "group_b_idx = []\n",
    "for num, (_opc, _hpv) in enumerate(zip(opc, hpv)):\n",
    "    if _opc == 1 and _hpv == 1:\n",
    "        group_a_idx.append(patient_id[num])\n",
    "    elif (_opc == 1 and _hpv == 0) or (_opc == 0):\n",
    "        group_b_idx.append(patient_id[num])\n",
    "        \n",
    "len(group_a_idx), len(group_b_idx), len(group_a_idx) + len(group_b_idx)"
   ]
  },
  {
   "cell_type": "code",
   "execution_count": 23,
   "metadata": {},
   "outputs": [
    {
     "data": {
      "text/plain": [
       "(array([], dtype=int64),)"
      ]
     },
     "execution_count": 23,
     "metadata": {},
     "output_type": "execute_result"
    }
   ],
   "source": [
    "np.where(np.isin(group_a_idx, group_b_idx))"
   ]
  },
  {
   "cell_type": "code",
   "execution_count": 24,
   "metadata": {},
   "outputs": [],
   "source": [
    "X_grp_a = X.loc[group_a_idx, :]\n",
    "X_grp_b = X.loc[group_b_idx, :]"
   ]
  },
  {
   "cell_type": "code",
   "execution_count": 25,
   "metadata": {},
   "outputs": [],
   "source": [
    "X_grp_a.to_csv(path_to_results_a)\n",
    "X_grp_b.to_csv(path_to_results_b)"
   ]
  },
  {
   "cell_type": "code",
   "execution_count": 26,
   "metadata": {},
   "outputs": [],
   "source": [
    "y.loc[group_a_idx, :].to_csv(path_to_targets_a)\n",
    "y.loc[group_b_idx, :].to_csv(path_to_targets_b)"
   ]
  },
  {
   "cell_type": "code",
   "execution_count": 27,
   "metadata": {},
   "outputs": [],
   "source": [
    "y_grp_a = np.squeeze(y.loc[group_a_idx, :].values)\n",
    "y_grp_b = np.squeeze(y.loc[group_b_idx, :].values)"
   ]
  },
  {
   "cell_type": "code",
   "execution_count": 28,
   "metadata": {},
   "outputs": [
    {
     "name": "stdout",
     "output_type": "stream",
     "text": [
      "No info rate group a:  0.7317073170731707\n",
      "No info rate group b:  0.5373134328358209\n"
     ]
    }
   ],
   "source": [
    "print('No info rate group a: ', max(sum(y_grp_a == 0), sum(y_grp_a == 1)) / np.size(y_grp_a))\n",
    "print('No info rate group b: ', max(sum(y_grp_b == 0), sum(y_grp_b == 1)) / np.size(y_grp_b))"
   ]
  },
  {
   "cell_type": "code",
   "execution_count": 29,
   "metadata": {},
   "outputs": [
    {
     "data": {
      "text/plain": [
       "((82, 513), (82,), (67, 513), (67,))"
      ]
     },
     "execution_count": 29,
     "metadata": {},
     "output_type": "execute_result"
    }
   ],
   "source": [
    "X_grp_a.shape, y_grp_a.shape, X_grp_b.shape, y_grp_b.shape"
   ]
  },
  {
   "cell_type": "code",
   "execution_count": 30,
   "metadata": {},
   "outputs": [
    {
     "data": {
      "text/plain": [
       "(0.5394736842105263, 0.4407894736842105, 0.5641025641025641)"
      ]
     },
     "execution_count": 30,
     "metadata": {},
     "output_type": "execute_result"
    }
   ],
   "source": [
    "82 / 152, 67 / 152, 198 / 351"
   ]
  },
  {
   "cell_type": "code",
   "execution_count": null,
   "metadata": {},
   "outputs": [],
   "source": []
  }
 ],
 "metadata": {
  "kernelspec": {
   "display_name": "Python 3",
   "language": "python",
   "name": "python3"
  },
  "language_info": {
   "codemirror_mode": {
    "name": "ipython",
    "version": 3
   },
   "file_extension": ".py",
   "mimetype": "text/x-python",
   "name": "python",
   "nbconvert_exporter": "python",
   "pygments_lexer": "ipython3",
   "version": "3.6.2"
  }
 },
 "nbformat": 4,
 "nbformat_minor": 2
}
