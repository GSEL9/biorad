{
 "cells": [
  {
   "cell_type": "markdown",
   "metadata": {},
   "source": [
    "**GROUP 1:** \n",
    "* OPC = 1 + HPV = 1\n",
    "\n",
    "**GROUP 2:** \n",
    "* OPC = 1 + HPV = 0\n",
    "* OPC = 0"
   ]
  },
  {
   "cell_type": "code",
   "execution_count": 1,
   "metadata": {},
   "outputs": [],
   "source": [
    "import numpy as np\n",
    "import pandas as pd"
   ]
  },
  {
   "cell_type": "code",
   "execution_count": 2,
   "metadata": {},
   "outputs": [],
   "source": [
    "#path_to_features = './../../data_source/to_analysis/original_images/all_features_original_images.csv'\n",
    "#path_to_results_a = './../../data_source/to_analysis/original_images/all_features_original_images_hpv_group_a.csv'\n",
    "#path_to_results_b = './../../data_source/to_analysis/original_images/all_features_original_images_hpv_group_b.csv'\n",
    "\n",
    "path_to_features = './../../data_source/to_analysis/removed_broken_slices/all_features_removed_broken_slices.csv'\n",
    "path_to_results_a = './../../data_source/to_analysis/removed_broken_slices/all_features_removed_broken_slices_hpv_group_a.csv'\n",
    "path_to_results_b = './../../data_source/to_analysis/removed_broken_slices/all_features_removed_broken_slices_hpv_group_b.csv'"
   ]
  },
  {
   "cell_type": "code",
   "execution_count": 3,
   "metadata": {},
   "outputs": [],
   "source": [
    "X = pd.read_csv(path_to_features, index_col=0)\n",
    "patient_id = X.index"
   ]
  },
  {
   "cell_type": "code",
   "execution_count": 4,
   "metadata": {},
   "outputs": [
    {
     "data": {
      "text/plain": [
       "(187,)"
      ]
     },
     "execution_count": 4,
     "metadata": {},
     "output_type": "execute_result"
    }
   ],
   "source": [
    "opc = pd.read_excel('./../../data_source/clinical/ops.xlsx', index_col=0)\n",
    "opc = opc.loc[patient_id, :]\n",
    "opc = np.squeeze(opc.values)\n",
    "opc.shape"
   ]
  },
  {
   "cell_type": "code",
   "execution_count": 5,
   "metadata": {},
   "outputs": [
    {
     "data": {
      "text/plain": [
       "(187,)"
      ]
     },
     "execution_count": 5,
     "metadata": {},
     "output_type": "execute_result"
    }
   ],
   "source": [
    "clinical = pd.read_excel('../../data_source/clinical/clinical_params.xlsx', index_col=0)\n",
    "clinical = clinical.loc[patient_id, :]\n",
    "hpv = np.squeeze(clinical.loc[:, 'HPV-status'].values)\n",
    "hpv.shape"
   ]
  },
  {
   "cell_type": "code",
   "execution_count": 11,
   "metadata": {},
   "outputs": [
    {
     "data": {
      "text/plain": [
       "(80, 63, 143)"
      ]
     },
     "execution_count": 11,
     "metadata": {},
     "output_type": "execute_result"
    }
   ],
   "source": [
    "group_a_idx = []\n",
    "group_b_idx = []\n",
    "for num, (_opc, _hpv) in enumerate(zip(opc, hpv)):\n",
    "    if _opc == 1 and _hpv == 1:\n",
    "        group_a_idx.append(patient_id[num])\n",
    "    elif (_opc == 1 and _hpv == 0) or (_opc == 0):\n",
    "        group_b_idx.append(patient_id[num])\n",
    "        \n",
    "len(group_a_idx), len(group_b_idx), len(group_a_idx) + len(group_b_idx)"
   ]
  },
  {
   "cell_type": "code",
   "execution_count": 8,
   "metadata": {},
   "outputs": [
    {
     "data": {
      "text/plain": [
       "(array([], dtype=int64),)"
      ]
     },
     "execution_count": 8,
     "metadata": {},
     "output_type": "execute_result"
    }
   ],
   "source": [
    "np.where(np.isin(group_a_idx, group_b_idx))"
   ]
  },
  {
   "cell_type": "code",
   "execution_count": 9,
   "metadata": {},
   "outputs": [],
   "source": [
    "X.loc[group_a_idx, :].to_csv(path_to_results_a)\n",
    "X.loc[group_b_idx, :].to_csv(path_to_results_b)"
   ]
  },
  {
   "cell_type": "code",
   "execution_count": null,
   "metadata": {},
   "outputs": [],
   "source": []
  }
 ],
 "metadata": {
  "kernelspec": {
   "display_name": "Python 3",
   "language": "python",
   "name": "python3"
  },
  "language_info": {
   "codemirror_mode": {
    "name": "ipython",
    "version": 3
   },
   "file_extension": ".py",
   "mimetype": "text/x-python",
   "name": "python",
   "nbconvert_exporter": "python",
   "pygments_lexer": "ipython3",
   "version": "3.6.2"
  }
 },
 "nbformat": 4,
 "nbformat_minor": 2
}
