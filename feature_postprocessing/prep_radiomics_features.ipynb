{
 "cells": [
  {
   "cell_type": "markdown",
   "metadata": {},
   "source": [
    "# Post processing of Extracted Radiomic Features "
   ]
  },
  {
   "cell_type": "markdown",
   "metadata": {},
   "source": [
    "* Uniquely label features.\n",
    "* Remove features constant across gray level discretizations."
   ]
  },
  {
   "cell_type": "code",
   "execution_count": 1,
   "metadata": {},
   "outputs": [],
   "source": [
    "import sys\n",
    "sys.path.append('./../utils/')\n",
    "\n",
    "import os\n",
    "import re\n",
    "import glob\n",
    "\n",
    "from scipy.stats import friedmanchisquare\n",
    "\n",
    "import numpy as np\n",
    "import pandas as pd"
   ]
  },
  {
   "cell_type": "code",
   "execution_count": 2,
   "metadata": {},
   "outputs": [],
   "source": [
    "def check_gl_redudancy(df, thresh, gl_bins):\n",
    "    \n",
    "    output = {}\n",
    "    to_check = []\n",
    "    for col in df.columns:\n",
    "        if 'bins' in col:\n",
    "            to_check.append(('_').join(col.split('_')[:-1]))\n",
    "        else:\n",
    "            output[col] = df.loc[:, col]\n",
    "\n",
    "    reduced = []\n",
    "    for col in np.unique(to_check):\n",
    "        f = df.filter(regex=col)\n",
    "        f = f / np.max(f, axis=0)\n",
    "    \n",
    "        if len(f.columns) == len(gl_bins):\n",
    "            if sum(f.var(axis=1)) <= thresh:\n",
    "                output[col] = f.iloc[:, 0]\n",
    "                reduced.append(col)\n",
    "            else:\n",
    "                for num, num_bins in enumerate(gl_bins):\n",
    "                    label = f'{col}_{num_bins}bins'\n",
    "                    output[label] = f.iloc[:, num]\n",
    "                    \n",
    "    return pd.DataFrame(output), reduced"
   ]
  },
  {
   "cell_type": "code",
   "execution_count": 3,
   "metadata": {},
   "outputs": [
    {
     "data": {
      "text/plain": [
       "187"
      ]
     },
     "execution_count": 3,
     "metadata": {},
     "output_type": "execute_result"
    }
   ],
   "source": [
    "#path_to_dir = './../../data_source/images/ct_nrrd/'\n",
    "path_to_dir = './../../data_source/images/ct_removed_broken_slices/'\n",
    "\n",
    "#path_to_lrr = './../../data_source/to_analysis/original_images/lrr_original_images.csv'\n",
    "path_to_lrr = './../../data_source/to_analysis/removed_broken_slices/lrr_removed_broken_slices.csv'\n",
    "\n",
    "#path_to_dfs = './../../data_source/to_analysis/original_images/dfs_original_images.csv'\n",
    "path_to_dfs = './../../data_source/to_analysis/removed_broken_slices/dfs_removed_broken_slices.csv'\n",
    "\n",
    "#path_no_ct = './../../data_source/to_analysis/original_images/no_ct_original_images.csv'\n",
    "path_no_ct = './../../data_source/to_analysis/removed_broken_slices/no_ct_removed_broken_slices.csv'\n",
    "\n",
    "#path_pet_only = './../../data_source/to_analysis/original_images/pet_only_original_images.csv'\n",
    "path_pet_only = './../../data_source/to_analysis/removed_broken_slices/pet_only_removed_broken_slices.csv'\n",
    "\n",
    "#path_ct_only = './../../data_source/to_analysis/original_images/ct_only_original_images.csv'\n",
    "path_ct_only = './../../data_source/to_analysis/removed_broken_slices/ct_only_removed_broken_slices.csv'\n",
    "\n",
    "#path_to_feature_matrix = './../../data_source/to_analysis/original_images/all_features_original_images.csv'\n",
    "path_to_feature_matrix = './../../data_source/to_analysis/removed_broken_slices/all_features_removed_broken_slices.csv'\n",
    "\n",
    "#path_to_texture_features = './../../data_source/to_analysis/original_images/texture_original_images.csv'\n",
    "path_to_texture_features = './../../data_source/to_analysis/removed_broken_slices/texture_removed_broken_slices.csv'\n",
    "\n",
    "#path_to_firstorder_features = './../../data_source/to_analysis/original_images/firstorder_original_images.csv'\n",
    "path_to_firstorder_features = './../../data_source/to_analysis/removed_broken_slices/firstorder_removed_broken_slices.csv'\n",
    "\n",
    "#path_to_shape_features = './../../data_source/radiomic_features/shape/shape_original_masks.csv'\n",
    "path_to_shape_features = './../../data_source/radiomic_features/shape/shape_removed_broken_slices.csv'\n",
    "\n",
    "#path_category_idx = './../../data_source/original_images_feature_group_idx.npy'\n",
    "path_category_idx = './../../data_source/removed_broken_slices_feature_group_idx.npy'\n",
    "\n",
    "#path_ct_firstorder_32 = './../../data_source/radiomic_features/firstorder_original_images/ct32_firstorder_original_images.csv'\n",
    "#path_ct_firstorder_64 = './../../data_source/radiomic_features/firstorder_original_images/ct64_firstorder_original_images.csv'\n",
    "#path_ct_firstorder_128 = './../../data_source/radiomic_features/firstorder_original_images/ct128_firstorder_original_images.csv'\n",
    "path_ct_firstorder_32 = './../../data_source/radiomic_features/firstorder_removed_broken_slices/ct32_firstorder_removed_broken_slices.csv'\n",
    "path_ct_firstorder_64 = './../../data_source/radiomic_features/firstorder_removed_broken_slices/ct64_firstorder_removed_broken_slices.csv'\n",
    "path_ct_firstorder_128 = './../../data_source/radiomic_features/firstorder_removed_broken_slices/ct128_firstorder_removed_broken_slices.csv'\n",
    "\n",
    "#path_pet_firstorder_32 = './../../data_source/radiomic_features/firstorder_original_images/pet32_firstorder_original_images.csv'\n",
    "#path_pet_firstorder_64 = './../../data_source/radiomic_features/firstorder_original_images/pet64_firstorder_original_images.csv'\n",
    "#path_pet_firstorder_128 = './../../data_source/radiomic_features/firstorder_original_images/pet128_firstorder_original_images.csv'\n",
    "path_pet_firstorder_32 = './../../data_source/radiomic_features/firstorder_removed_broken_slices/pet32_firstorder_removed_broken_slices.csv'\n",
    "path_pet_firstorder_64 = './../../data_source/radiomic_features/firstorder_removed_broken_slices/pet64_firstorder_removed_broken_slices.csv'\n",
    "path_pet_firstorder_128 = './../../data_source/radiomic_features/firstorder_removed_broken_slices/pet128_firstorder_removed_broken_slices.csv'\n",
    "\n",
    "#path_ct_texture_32 = './../../data_source/radiomic_features/texture_original_images/ct32_texture_original_images.csv'\n",
    "#path_ct_texture_64 = './../../data_source/radiomic_features/texture_original_images/ct64_texture_original_images.csv'\n",
    "#path_ct_texture_128 = './../../data_source/radiomic_features/texture_original_images/ct128_texture_original_images.csv'\n",
    "path_ct_texture_32 = './../../data_source/radiomic_features/texture_removed_broken_slices/ct32_texture_removed_broken_slices.csv'\n",
    "path_ct_texture_64 = './../../data_source/radiomic_features/texture_removed_broken_slices/ct64_texture_removed_broken_slices.csv'\n",
    "path_ct_texture_128 = './../../data_source/radiomic_features/texture_removed_broken_slices/ct128_texture_removed_broken_slices.csv'\n",
    "\n",
    "#path_pet_texture_32 = './../../data_source/radiomic_features/texture_original_images/pet32_texture_original_images.csv'\n",
    "#path_pet_texture_64 = './../../data_source/radiomic_features/texture_original_images/pet64_texture_original_images.csv'\n",
    "#path_pet_texture_128 = './../../data_source/radiomic_features/texture_original_images/pet128_texture_original_images.csv'\n",
    "path_pet_texture_32 = './../../data_source/radiomic_features/texture_removed_broken_slices/ct32_texture_removed_broken_slices.csv'\n",
    "path_pet_texture_64 = './../../data_source/radiomic_features/texture_removed_broken_slices/ct64_texture_removed_broken_slices.csv'\n",
    "path_pet_texture_128 = './../../data_source/radiomic_features/texture_removed_broken_slices/ct128_texture_removed_broken_slices.csv'\n",
    "  \n",
    "patient_id = []\n",
    "for fname in sorted(os.listdir(path_to_dir)):\n",
    "    try:\n",
    "        patient_id.append(int(re.findall(r'\\d+', fname)[0]))\n",
    "    except:\n",
    "        pass     \n",
    "len(patient_id)"
   ]
  },
  {
   "cell_type": "markdown",
   "metadata": {},
   "source": [
    "# Shape Features"
   ]
  },
  {
   "cell_type": "code",
   "execution_count": 4,
   "metadata": {},
   "outputs": [
    {
     "data": {
      "text/html": [
       "<div>\n",
       "<style scoped>\n",
       "    .dataframe tbody tr th:only-of-type {\n",
       "        vertical-align: middle;\n",
       "    }\n",
       "\n",
       "    .dataframe tbody tr th {\n",
       "        vertical-align: top;\n",
       "    }\n",
       "\n",
       "    .dataframe thead th {\n",
       "        text-align: right;\n",
       "    }\n",
       "</style>\n",
       "<table border=\"1\" class=\"dataframe\">\n",
       "  <thead>\n",
       "    <tr style=\"text-align: right;\">\n",
       "      <th></th>\n",
       "      <th>original_shape_Elongation</th>\n",
       "      <th>original_shape_Flatness</th>\n",
       "      <th>original_shape_LeastAxisLength</th>\n",
       "      <th>original_shape_MajorAxisLength</th>\n",
       "      <th>original_shape_Maximum2DDiameterColumn</th>\n",
       "      <th>original_shape_Maximum2DDiameterRow</th>\n",
       "      <th>original_shape_Maximum2DDiameterSlice</th>\n",
       "      <th>original_shape_Maximum3DDiameter</th>\n",
       "      <th>original_shape_MeshVolume</th>\n",
       "      <th>original_shape_MinorAxisLength</th>\n",
       "      <th>original_shape_Sphericity</th>\n",
       "      <th>original_shape_SurfaceArea</th>\n",
       "      <th>original_shape_SurfaceVolumeRatio</th>\n",
       "      <th>original_shape_VoxelVolume</th>\n",
       "    </tr>\n",
       "  </thead>\n",
       "  <tbody>\n",
       "    <tr>\n",
       "      <th>2</th>\n",
       "      <td>0.738882</td>\n",
       "      <td>0.723925</td>\n",
       "      <td>27.060529</td>\n",
       "      <td>37.380273</td>\n",
       "      <td>42.953463</td>\n",
       "      <td>45.541190</td>\n",
       "      <td>43.657760</td>\n",
       "      <td>46.411206</td>\n",
       "      <td>17098.541667</td>\n",
       "      <td>27.619612</td>\n",
       "      <td>0.660413</td>\n",
       "      <td>4860.055715</td>\n",
       "      <td>0.284238</td>\n",
       "      <td>17142.0</td>\n",
       "    </tr>\n",
       "    <tr>\n",
       "      <th>4</th>\n",
       "      <td>0.796900</td>\n",
       "      <td>0.629917</td>\n",
       "      <td>19.845151</td>\n",
       "      <td>31.504408</td>\n",
       "      <td>39.446166</td>\n",
       "      <td>36.400549</td>\n",
       "      <td>30.364453</td>\n",
       "      <td>39.560081</td>\n",
       "      <td>9626.916667</td>\n",
       "      <td>25.105855</td>\n",
       "      <td>0.700069</td>\n",
       "      <td>3126.087371</td>\n",
       "      <td>0.324724</td>\n",
       "      <td>9661.0</td>\n",
       "    </tr>\n",
       "    <tr>\n",
       "      <th>5</th>\n",
       "      <td>0.600926</td>\n",
       "      <td>0.535140</td>\n",
       "      <td>22.515072</td>\n",
       "      <td>42.073251</td>\n",
       "      <td>46.957428</td>\n",
       "      <td>43.965896</td>\n",
       "      <td>32.802439</td>\n",
       "      <td>47.339202</td>\n",
       "      <td>16175.708333</td>\n",
       "      <td>25.282894</td>\n",
       "      <td>0.761164</td>\n",
       "      <td>4063.633046</td>\n",
       "      <td>0.251218</td>\n",
       "      <td>16214.0</td>\n",
       "    </tr>\n",
       "    <tr>\n",
       "      <th>8</th>\n",
       "      <td>0.784571</td>\n",
       "      <td>0.414247</td>\n",
       "      <td>30.263897</td>\n",
       "      <td>73.057649</td>\n",
       "      <td>75.133215</td>\n",
       "      <td>81.859636</td>\n",
       "      <td>66.753277</td>\n",
       "      <td>84.291162</td>\n",
       "      <td>69280.083333</td>\n",
       "      <td>57.318945</td>\n",
       "      <td>0.519631</td>\n",
       "      <td>15698.615155</td>\n",
       "      <td>0.226596</td>\n",
       "      <td>69354.0</td>\n",
       "    </tr>\n",
       "    <tr>\n",
       "      <th>10</th>\n",
       "      <td>0.690320</td>\n",
       "      <td>0.539743</td>\n",
       "      <td>19.449801</td>\n",
       "      <td>36.035312</td>\n",
       "      <td>34.176015</td>\n",
       "      <td>38.832976</td>\n",
       "      <td>33.837849</td>\n",
       "      <td>43.874822</td>\n",
       "      <td>10705.375000</td>\n",
       "      <td>24.875896</td>\n",
       "      <td>0.642079</td>\n",
       "      <td>3658.448414</td>\n",
       "      <td>0.341739</td>\n",
       "      <td>10749.0</td>\n",
       "    </tr>\n",
       "  </tbody>\n",
       "</table>\n",
       "</div>"
      ],
      "text/plain": [
       "    original_shape_Elongation  original_shape_Flatness  \\\n",
       "2                    0.738882                 0.723925   \n",
       "4                    0.796900                 0.629917   \n",
       "5                    0.600926                 0.535140   \n",
       "8                    0.784571                 0.414247   \n",
       "10                   0.690320                 0.539743   \n",
       "\n",
       "    original_shape_LeastAxisLength  original_shape_MajorAxisLength  \\\n",
       "2                        27.060529                       37.380273   \n",
       "4                        19.845151                       31.504408   \n",
       "5                        22.515072                       42.073251   \n",
       "8                        30.263897                       73.057649   \n",
       "10                       19.449801                       36.035312   \n",
       "\n",
       "    original_shape_Maximum2DDiameterColumn  \\\n",
       "2                                42.953463   \n",
       "4                                39.446166   \n",
       "5                                46.957428   \n",
       "8                                75.133215   \n",
       "10                               34.176015   \n",
       "\n",
       "    original_shape_Maximum2DDiameterRow  \\\n",
       "2                             45.541190   \n",
       "4                             36.400549   \n",
       "5                             43.965896   \n",
       "8                             81.859636   \n",
       "10                            38.832976   \n",
       "\n",
       "    original_shape_Maximum2DDiameterSlice  original_shape_Maximum3DDiameter  \\\n",
       "2                               43.657760                         46.411206   \n",
       "4                               30.364453                         39.560081   \n",
       "5                               32.802439                         47.339202   \n",
       "8                               66.753277                         84.291162   \n",
       "10                              33.837849                         43.874822   \n",
       "\n",
       "    original_shape_MeshVolume  original_shape_MinorAxisLength  \\\n",
       "2                17098.541667                       27.619612   \n",
       "4                 9626.916667                       25.105855   \n",
       "5                16175.708333                       25.282894   \n",
       "8                69280.083333                       57.318945   \n",
       "10               10705.375000                       24.875896   \n",
       "\n",
       "    original_shape_Sphericity  original_shape_SurfaceArea  \\\n",
       "2                    0.660413                 4860.055715   \n",
       "4                    0.700069                 3126.087371   \n",
       "5                    0.761164                 4063.633046   \n",
       "8                    0.519631                15698.615155   \n",
       "10                   0.642079                 3658.448414   \n",
       "\n",
       "    original_shape_SurfaceVolumeRatio  original_shape_VoxelVolume  \n",
       "2                            0.284238                     17142.0  \n",
       "4                            0.324724                      9661.0  \n",
       "5                            0.251218                     16214.0  \n",
       "8                            0.226596                     69354.0  \n",
       "10                           0.341739                     10749.0  "
      ]
     },
     "execution_count": 4,
     "metadata": {},
     "output_type": "execute_result"
    }
   ],
   "source": [
    "# NOTE: Using original tumor volume despite removing slices.\n",
    "shape = pd.read_csv(path_to_shape_features, index_col=0)\n",
    "shape.index = patient_id\n",
    "\n",
    "shape.head()"
   ]
  },
  {
   "cell_type": "code",
   "execution_count": 5,
   "metadata": {},
   "outputs": [
    {
     "data": {
      "text/plain": [
       "(187, 14)"
      ]
     },
     "execution_count": 5,
     "metadata": {},
     "output_type": "execute_result"
    }
   ],
   "source": [
    "shape.shape"
   ]
  },
  {
   "cell_type": "markdown",
   "metadata": {},
   "source": [
    "# CT First Order"
   ]
  },
  {
   "cell_type": "code",
   "execution_count": 6,
   "metadata": {},
   "outputs": [],
   "source": [
    "ct_firstorder_32 = pd.read_csv(path_ct_firstorder_32, index_col=0)\n",
    "ct_firstorder_64 = pd.read_csv(path_ct_firstorder_64, index_col=0)\n",
    "ct_firstorder_128 = pd.read_csv(path_ct_firstorder_128, index_col=0)\n",
    "\n",
    "ct_firstorder_32.columns = ['CT_{}_32bins'.format(col) for col in ct_firstorder_32.columns]\n",
    "ct_firstorder_64.columns = ['CT_{}_64bins'.format(col) for col in ct_firstorder_64.columns]\n",
    "ct_firstorder_128.columns = ['CT_{}_128bins'.format(col) for col in ct_firstorder_128.columns]\n",
    "\n",
    "raw_ct_firstorder = pd.concat(\n",
    "    (\n",
    "        ct_firstorder_32,\n",
    "        ct_firstorder_64,\n",
    "        ct_firstorder_128\n",
    "    ),\n",
    "    axis=1\n",
    ")\n",
    "raw_ct_firstorder.index = patient_id"
   ]
  },
  {
   "cell_type": "code",
   "execution_count": 7,
   "metadata": {},
   "outputs": [
    {
     "data": {
      "text/plain": [
       "((187, 18), (187, 18), (187, 18))"
      ]
     },
     "execution_count": 7,
     "metadata": {},
     "output_type": "execute_result"
    }
   ],
   "source": [
    "ct_firstorder_32.shape, ct_firstorder_64.shape, ct_firstorder_128.shape"
   ]
  },
  {
   "cell_type": "code",
   "execution_count": 8,
   "metadata": {},
   "outputs": [
    {
     "data": {
      "text/plain": [
       "((187, 21),\n",
       " ['CT_original_firstorder_10Percentile',\n",
       "  'CT_original_firstorder_90Percentile',\n",
       "  'CT_original_firstorder_Energy',\n",
       "  'CT_original_firstorder_InterquartileRange',\n",
       "  'CT_original_firstorder_Kurtosis',\n",
       "  'CT_original_firstorder_Maximum',\n",
       "  'CT_original_firstorder_MeanAbsoluteDeviation',\n",
       "  'CT_original_firstorder_Median',\n",
       "  'CT_original_firstorder_Minimum',\n",
       "  'CT_original_firstorder_Range',\n",
       "  'CT_original_firstorder_RobustMeanAbsoluteDeviation',\n",
       "  'CT_original_firstorder_RootMeanSquared',\n",
       "  'CT_original_firstorder_Skewness',\n",
       "  'CT_original_firstorder_TotalEnergy',\n",
       "  'CT_original_firstorder_Variance'])"
      ]
     },
     "execution_count": 8,
     "metadata": {},
     "output_type": "execute_result"
    }
   ],
   "source": [
    "ct_firstorder, ct_fs_reduced = check_gl_redudancy(raw_ct_firstorder, thresh=1e-15, gl_bins=[32, 64, 128])\n",
    "ct_firstorder.shape, ct_fs_reduced"
   ]
  },
  {
   "cell_type": "code",
   "execution_count": 9,
   "metadata": {
    "scrolled": true
   },
   "outputs": [
    {
     "name": "stdout",
     "output_type": "stream",
     "text": [
      "    CT_original_firstorder_10Percentile_32bins  \\\n",
      "2                                  1064.381323   \n",
      "4                                   972.027466   \n",
      "5                                  1020.141451   \n",
      "8                                  1028.577020   \n",
      "10                                 1054.821012   \n",
      "\n",
      "    CT_original_firstorder_10Percentile_64bins  \\\n",
      "2                                  1064.381323   \n",
      "4                                   972.027466   \n",
      "5                                  1020.141451   \n",
      "8                                  1028.577020   \n",
      "10                                 1054.821012   \n",
      "\n",
      "    CT_original_firstorder_10Percentile_128bins  \n",
      "2                                   1064.381323  \n",
      "4                                    972.027466  \n",
      "5                                   1020.141451  \n",
      "8                                   1028.577020  \n",
      "10                                  1054.821012  \n",
      "    CT_original_firstorder_90Percentile_32bins  \\\n",
      "2                                  1115.994507   \n",
      "4                                  1183.041657   \n",
      "5                                  1184.041428   \n",
      "8                                  1085.938888   \n",
      "10                                 1099.248341   \n",
      "\n",
      "    CT_original_firstorder_90Percentile_64bins  \\\n",
      "2                                  1115.994507   \n",
      "4                                  1183.041657   \n",
      "5                                  1184.041428   \n",
      "8                                  1085.938888   \n",
      "10                                 1099.248341   \n",
      "\n",
      "    CT_original_firstorder_90Percentile_128bins  \n",
      "2                                   1115.994507  \n",
      "4                                   1183.041657  \n",
      "5                                   1184.041428  \n",
      "8                                   1085.938888  \n",
      "10                                  1099.248341  \n",
      "    CT_original_firstorder_Energy_32bins  \\\n",
      "2                           2.027206e+10   \n",
      "4                           1.149213e+10   \n",
      "5                           1.751336e+10   \n",
      "8                           7.735412e+10   \n",
      "10                          1.240511e+10   \n",
      "\n",
      "    CT_original_firstorder_Energy_64bins  \\\n",
      "2                           2.027206e+10   \n",
      "4                           1.149213e+10   \n",
      "5                           1.751336e+10   \n",
      "8                           7.735412e+10   \n",
      "10                          1.240511e+10   \n",
      "\n",
      "    CT_original_firstorder_Energy_128bins  \n",
      "2                            2.027206e+10  \n",
      "4                            1.149213e+10  \n",
      "5                            1.751336e+10  \n",
      "8                            7.735412e+10  \n",
      "10                           1.240511e+10  \n",
      "    CT_original_firstorder_InterquartileRange_32bins  \\\n",
      "2                                          23.619593   \n",
      "4                                          79.044404   \n",
      "5                                          49.801099   \n",
      "8                                          22.494850   \n",
      "10                                         17.745937   \n",
      "\n",
      "    CT_original_firstorder_InterquartileRange_64bins  \\\n",
      "2                                          23.619593   \n",
      "4                                          79.044404   \n",
      "5                                          49.801099   \n",
      "8                                          22.494850   \n",
      "10                                         17.745937   \n",
      "\n",
      "    CT_original_firstorder_InterquartileRange_128bins  \n",
      "2                                           23.619593  \n",
      "4                                           79.044404  \n",
      "5                                           49.801099  \n",
      "8                                           22.494850  \n",
      "10                                          17.745937  \n",
      "    CT_original_firstorder_Kurtosis_32bins  \\\n",
      "2                                59.779383   \n",
      "4                                 8.933352   \n",
      "5                                13.442441   \n",
      "8                                55.850257   \n",
      "10                               46.402736   \n",
      "\n",
      "    CT_original_firstorder_Kurtosis_64bins  \\\n",
      "2                                59.779383   \n",
      "4                                 8.933352   \n",
      "5                                13.442441   \n",
      "8                                55.850257   \n",
      "10                               46.402736   \n",
      "\n",
      "    CT_original_firstorder_Kurtosis_128bins  \n",
      "2                                 59.779383  \n",
      "4                                  8.933352  \n",
      "5                                 13.442441  \n",
      "8                                 55.850257  \n",
      "10                                46.402736  \n",
      "    CT_original_firstorder_Maximum_32bins  \\\n",
      "2                             1450.980316   \n",
      "4                             1414.363699   \n",
      "5                             1577.951247   \n",
      "8                             1534.148775   \n",
      "10                            1364.937514   \n",
      "\n",
      "    CT_original_firstorder_Maximum_64bins  \\\n",
      "2                             1450.980316   \n",
      "4                             1414.363699   \n",
      "5                             1577.951247   \n",
      "8                             1534.148775   \n",
      "10                            1364.937514   \n",
      "\n",
      "    CT_original_firstorder_Maximum_128bins  \n",
      "2                              1450.980316  \n",
      "4                              1414.363699  \n",
      "5                              1577.951247  \n",
      "8                              1534.148775  \n",
      "10                             1364.937514  \n",
      "    CT_original_firstorder_MeanAbsoluteDeviation_32bins  \\\n",
      "2                                           20.703868     \n",
      "4                                           66.236304     \n",
      "5                                           51.338452     \n",
      "8                                           31.870611     \n",
      "10                                          25.113347     \n",
      "\n",
      "    CT_original_firstorder_MeanAbsoluteDeviation_64bins  \\\n",
      "2                                           20.703868     \n",
      "4                                           66.236304     \n",
      "5                                           51.338452     \n",
      "8                                           31.870611     \n",
      "10                                          25.113347     \n",
      "\n",
      "    CT_original_firstorder_MeanAbsoluteDeviation_128bins  \n",
      "2                                           20.703868     \n",
      "4                                           66.236304     \n",
      "5                                           51.338452     \n",
      "8                                           31.870611     \n",
      "10                                          25.113347     \n",
      "    CT_original_firstorder_Median_32bins  \\\n",
      "2                            1089.688029   \n",
      "4                            1102.497597   \n",
      "5                            1106.184253   \n",
      "8                            1069.005264   \n",
      "10                           1083.751888   \n",
      "\n",
      "    CT_original_firstorder_Median_64bins  \\\n",
      "2                            1089.688029   \n",
      "4                            1102.497597   \n",
      "5                            1106.184253   \n",
      "8                            1069.005264   \n",
      "10                           1083.751888   \n",
      "\n",
      "    CT_original_firstorder_Median_128bins  \n",
      "2                             1089.688029  \n",
      "4                             1102.497597  \n",
      "5                             1106.184253  \n",
      "8                             1069.005264  \n",
      "10                            1083.751888  \n",
      "    CT_original_firstorder_Minimum_32bins  \\\n",
      "2                              395.596933   \n",
      "4                              348.170291   \n",
      "5                              238.257954   \n",
      "8                               41.303044   \n",
      "10                             383.037308   \n",
      "\n",
      "    CT_original_firstorder_Minimum_64bins  \\\n",
      "2                              395.596933   \n",
      "4                              348.170291   \n",
      "5                              238.257954   \n",
      "8                               41.303044   \n",
      "10                             383.037308   \n",
      "\n",
      "    CT_original_firstorder_Minimum_128bins  \n",
      "2                               395.596933  \n",
      "4                               348.170291  \n",
      "5                               238.257954  \n",
      "8                                41.303044  \n",
      "10                              383.037308  \n",
      "    CT_original_firstorder_Range_32bins  CT_original_firstorder_Range_64bins  \\\n",
      "2                           1055.383383                          1055.383383   \n",
      "4                           1066.193408                          1066.193408   \n",
      "5                           1339.693294                          1339.693294   \n",
      "8                           1492.845731                          1492.845731   \n",
      "10                           981.900206                           981.900206   \n",
      "\n",
      "    CT_original_firstorder_Range_128bins  \n",
      "2                            1055.383383  \n",
      "4                            1066.193408  \n",
      "5                            1339.693294  \n",
      "8                            1492.845731  \n",
      "10                            981.900206  \n",
      "    CT_original_firstorder_RobustMeanAbsoluteDeviation_32bins  \\\n",
      "2                                           10.146366           \n",
      "4                                           35.567018           \n",
      "5                                           24.149708           \n",
      "8                                           10.195309           \n",
      "10                                           7.829789           \n",
      "\n",
      "    CT_original_firstorder_RobustMeanAbsoluteDeviation_64bins  \\\n",
      "2                                           10.146366           \n",
      "4                                           35.567018           \n",
      "5                                           24.149708           \n",
      "8                                           10.195309           \n",
      "10                                           7.829789           \n",
      "\n",
      "    CT_original_firstorder_RobustMeanAbsoluteDeviation_128bins  \n",
      "2                                           10.146366           \n",
      "4                                           35.567018           \n",
      "5                                           24.149708           \n",
      "8                                           10.195309           \n",
      "10                                           7.829789           \n",
      "    CT_original_firstorder_RootMeanSquared_32bins  \\\n",
      "2                                     1087.472187   \n",
      "4                                     1090.659746   \n",
      "5                                     1106.047933   \n",
      "8                                     1056.102253   \n",
      "10                                    1074.276985   \n",
      "\n",
      "    CT_original_firstorder_RootMeanSquared_64bins  \\\n",
      "2                                     1087.472187   \n",
      "4                                     1090.659746   \n",
      "5                                     1106.047933   \n",
      "8                                     1056.102253   \n",
      "10                                    1074.276985   \n",
      "\n",
      "    CT_original_firstorder_RootMeanSquared_128bins  \n",
      "2                                      1087.472187  \n",
      "4                                      1090.659746  \n",
      "5                                      1106.047933  \n",
      "8                                      1056.102253  \n",
      "10                                     1074.276985  \n",
      "    CT_original_firstorder_Skewness_32bins  \\\n",
      "2                                -5.516967   \n",
      "4                                -1.626177   \n",
      "5                                -1.346597   \n",
      "8                                -6.427764   \n",
      "10                               -5.728072   \n",
      "\n",
      "    CT_original_firstorder_Skewness_64bins  \\\n",
      "2                                -5.516967   \n",
      "4                                -1.626177   \n",
      "5                                -1.346597   \n",
      "8                                -6.427764   \n",
      "10                               -5.728072   \n",
      "\n",
      "    CT_original_firstorder_Skewness_128bins  \n",
      "2                                 -5.516967  \n",
      "4                                 -1.626177  \n",
      "5                                 -1.346597  \n",
      "8                                 -6.427764  \n",
      "10                                -5.728072  \n",
      "    CT_original_firstorder_TotalEnergy_32bins  \\\n",
      "2                                2.027206e+10   \n",
      "4                                1.149213e+10   \n",
      "5                                1.751336e+10   \n",
      "8                                7.735412e+10   \n",
      "10                               1.240511e+10   \n",
      "\n",
      "    CT_original_firstorder_TotalEnergy_64bins  \\\n",
      "2                                2.027206e+10   \n",
      "4                                1.149213e+10   \n",
      "5                                1.751336e+10   \n",
      "8                                7.735412e+10   \n",
      "10                               1.240511e+10   \n",
      "\n",
      "    CT_original_firstorder_TotalEnergy_128bins  \n",
      "2                                 2.027206e+10  \n",
      "4                                 1.149213e+10  \n",
      "5                                 1.751336e+10  \n",
      "8                                 7.735412e+10  \n",
      "10                                1.240511e+10  \n",
      "    CT_original_firstorder_Variance_32bins  \\\n",
      "2                              1799.575765   \n",
      "4                              9738.013189   \n",
      "5                              7255.873519   \n",
      "8                              5641.863881   \n",
      "10                             3393.119546   \n",
      "\n",
      "    CT_original_firstorder_Variance_64bins  \\\n",
      "2                              1799.575765   \n",
      "4                              9738.013189   \n",
      "5                              7255.873519   \n",
      "8                              5641.863881   \n",
      "10                             3393.119546   \n",
      "\n",
      "    CT_original_firstorder_Variance_128bins  \n",
      "2                               1799.575765  \n",
      "4                               9738.013189  \n",
      "5                               7255.873519  \n",
      "8                               5641.863881  \n",
      "10                              3393.119546  \n"
     ]
    }
   ],
   "source": [
    "for r in ct_fs_reduced:\n",
    "    f = raw_ct_firstorder.filter(regex=r)\n",
    "    print(f.iloc[:5, :])"
   ]
  },
  {
   "cell_type": "markdown",
   "metadata": {},
   "source": [
    "# PET First Order"
   ]
  },
  {
   "cell_type": "code",
   "execution_count": 10,
   "metadata": {},
   "outputs": [],
   "source": [
    "pet_firstorder_32 = pd.read_csv(path_pet_firstorder_32, index_col=0)\n",
    "pet_firstorder_64 = pd.read_csv(path_pet_firstorder_64, index_col=0)\n",
    "pet_firstorder_128 = pd.read_csv(path_pet_firstorder_128, index_col=0)\n",
    "\n",
    "pet_firstorder_32.columns = ['PET_{}_32bins'.format(col) for col in pet_firstorder_32.columns]\n",
    "pet_firstorder_64.columns = ['PET_{}_64bins'.format(col) for col in pet_firstorder_64.columns]\n",
    "pet_firstorder_128.columns = ['PET_{}_128bins'.format(col) for col in pet_firstorder_128.columns]\n",
    "\n",
    "raw_pet_firstorder = pd.concat(\n",
    "    (\n",
    "        pet_firstorder_32,\n",
    "        pet_firstorder_64,\n",
    "        pet_firstorder_128\n",
    "    ),\n",
    "    axis=1\n",
    ")\n",
    "raw_pet_firstorder.index = patient_id"
   ]
  },
  {
   "cell_type": "code",
   "execution_count": 11,
   "metadata": {},
   "outputs": [
    {
     "data": {
      "text/plain": [
       "((187, 18), (187, 18), (187, 18))"
      ]
     },
     "execution_count": 11,
     "metadata": {},
     "output_type": "execute_result"
    }
   ],
   "source": [
    "pet_firstorder_32.shape, pet_firstorder_64.shape, pet_firstorder_128.shape"
   ]
  },
  {
   "cell_type": "code",
   "execution_count": 12,
   "metadata": {},
   "outputs": [
    {
     "data": {
      "text/plain": [
       "((187, 21),\n",
       " ['PET_original_firstorder_10Percentile',\n",
       "  'PET_original_firstorder_90Percentile',\n",
       "  'PET_original_firstorder_Energy',\n",
       "  'PET_original_firstorder_InterquartileRange',\n",
       "  'PET_original_firstorder_Kurtosis',\n",
       "  'PET_original_firstorder_Maximum',\n",
       "  'PET_original_firstorder_MeanAbsoluteDeviation',\n",
       "  'PET_original_firstorder_Median',\n",
       "  'PET_original_firstorder_Minimum',\n",
       "  'PET_original_firstorder_Range',\n",
       "  'PET_original_firstorder_RobustMeanAbsoluteDeviation',\n",
       "  'PET_original_firstorder_RootMeanSquared',\n",
       "  'PET_original_firstorder_Skewness',\n",
       "  'PET_original_firstorder_TotalEnergy',\n",
       "  'PET_original_firstorder_Variance'])"
      ]
     },
     "execution_count": 12,
     "metadata": {},
     "output_type": "execute_result"
    }
   ],
   "source": [
    "pet_firstorder, pet_fs_reduced = check_gl_redudancy(raw_pet_firstorder, thresh=1e-15, gl_bins=[32, 64, 128])\n",
    "pet_firstorder.shape, pet_fs_reduced"
   ]
  },
  {
   "cell_type": "code",
   "execution_count": 13,
   "metadata": {},
   "outputs": [
    {
     "name": "stdout",
     "output_type": "stream",
     "text": [
      "    PET_original_firstorder_10Percentile_32bins  \\\n",
      "2                                      3.077370   \n",
      "4                                      2.359130   \n",
      "5                                      2.561257   \n",
      "8                                      1.759327   \n",
      "10                                     2.186233   \n",
      "\n",
      "    PET_original_firstorder_10Percentile_64bins  \\\n",
      "2                                      3.077370   \n",
      "4                                      2.359130   \n",
      "5                                      2.561257   \n",
      "8                                      1.759327   \n",
      "10                                     2.186233   \n",
      "\n",
      "    PET_original_firstorder_10Percentile_128bins  \n",
      "2                                       3.077370  \n",
      "4                                       2.359130  \n",
      "5                                       2.561257  \n",
      "8                                       1.759327  \n",
      "10                                      2.186233  \n",
      "    PET_original_firstorder_90Percentile_32bins  \\\n",
      "2                                     20.253882   \n",
      "4                                     14.203353   \n",
      "5                                     12.976912   \n",
      "8                                      8.697388   \n",
      "10                                     6.536912   \n",
      "\n",
      "    PET_original_firstorder_90Percentile_64bins  \\\n",
      "2                                     20.253882   \n",
      "4                                     14.203353   \n",
      "5                                     12.976912   \n",
      "8                                      8.697388   \n",
      "10                                     6.536912   \n",
      "\n",
      "    PET_original_firstorder_90Percentile_128bins  \n",
      "2                                      20.253882  \n",
      "4                                      14.203353  \n",
      "5                                      12.976912  \n",
      "8                                       8.697388  \n",
      "10                                      6.536912  \n",
      "    PET_original_firstorder_Energy_32bins  \\\n",
      "2                            2.561311e+06   \n",
      "4                            6.414469e+05   \n",
      "5                            1.150483e+06   \n",
      "8                            2.087304e+06   \n",
      "10                           2.144240e+05   \n",
      "\n",
      "    PET_original_firstorder_Energy_64bins  \\\n",
      "2                            2.561311e+06   \n",
      "4                            6.414469e+05   \n",
      "5                            1.150483e+06   \n",
      "8                            2.087304e+06   \n",
      "10                           2.144240e+05   \n",
      "\n",
      "    PET_original_firstorder_Energy_128bins  \n",
      "2                             2.561311e+06  \n",
      "4                             6.414469e+05  \n",
      "5                             1.150483e+06  \n",
      "8                             2.087304e+06  \n",
      "10                            2.144240e+05  \n",
      "    PET_original_firstorder_InterquartileRange_32bins  \\\n",
      "2                                           11.377517   \n",
      "4                                            7.077391   \n",
      "5                                            6.511572   \n",
      "8                                            4.139275   \n",
      "10                                           2.451754   \n",
      "\n",
      "    PET_original_firstorder_InterquartileRange_64bins  \\\n",
      "2                                           11.377517   \n",
      "4                                            7.077391   \n",
      "5                                            6.511572   \n",
      "8                                            4.139275   \n",
      "10                                           2.451754   \n",
      "\n",
      "    PET_original_firstorder_InterquartileRange_128bins  \n",
      "2                                           11.377517   \n",
      "4                                            7.077391   \n",
      "5                                            6.511572   \n",
      "8                                            4.139275   \n",
      "10                                           2.451754   \n",
      "    PET_original_firstorder_Kurtosis_32bins  \\\n",
      "2                                  1.840003   \n",
      "4                                  2.492294   \n",
      "5                                  1.974056   \n",
      "8                                  2.486921   \n",
      "10                                 2.499014   \n",
      "\n",
      "    PET_original_firstorder_Kurtosis_64bins  \\\n",
      "2                                  1.840003   \n",
      "4                                  2.492294   \n",
      "5                                  1.974056   \n",
      "8                                  2.486921   \n",
      "10                                 2.499014   \n",
      "\n",
      "    PET_original_firstorder_Kurtosis_128bins  \n",
      "2                                   1.840003  \n",
      "4                                   2.492294  \n",
      "5                                   1.974056  \n",
      "8                                   2.486921  \n",
      "10                                  2.499014  \n",
      "    PET_original_firstorder_Maximum_32bins  \\\n",
      "2                                24.741200   \n",
      "4                                18.655424   \n",
      "5                                16.739500   \n",
      "8                                14.210913   \n",
      "10                                8.792835   \n",
      "\n",
      "    PET_original_firstorder_Maximum_64bins  \\\n",
      "2                                24.741200   \n",
      "4                                18.655424   \n",
      "5                                16.739500   \n",
      "8                                14.210913   \n",
      "10                                8.792835   \n",
      "\n",
      "    PET_original_firstorder_Maximum_128bins  \n",
      "2                                 24.741200  \n",
      "4                                 18.655424  \n",
      "5                                 16.739500  \n",
      "8                                 14.210913  \n",
      "10                                 8.792835  \n",
      "    PET_original_firstorder_MeanAbsoluteDeviation_32bins  \\\n",
      "2                                            5.599564      \n",
      "4                                            3.869878      \n",
      "5                                            3.311875      \n",
      "8                                            2.204753      \n",
      "10                                           1.369596      \n",
      "\n",
      "    PET_original_firstorder_MeanAbsoluteDeviation_64bins  \\\n",
      "2                                            5.599564      \n",
      "4                                            3.869878      \n",
      "5                                            3.311875      \n",
      "8                                            2.204753      \n",
      "10                                           1.369596      \n",
      "\n",
      "    PET_original_firstorder_MeanAbsoluteDeviation_128bins  \n",
      "2                                            5.599564      \n",
      "4                                            3.869878      \n",
      "5                                            3.311875      \n",
      "8                                            2.204753      \n",
      "10                                           1.369596      \n",
      "    PET_original_firstorder_Median_32bins  \\\n",
      "2                                9.054407   \n",
      "4                                5.000221   \n",
      "5                                7.104485   \n",
      "8                                4.299219   \n",
      "10                               3.903234   \n",
      "\n",
      "    PET_original_firstorder_Median_64bins  \\\n",
      "2                                9.054407   \n",
      "4                                5.000221   \n",
      "5                                7.104485   \n",
      "8                                4.299219   \n",
      "10                               3.903234   \n",
      "\n",
      "    PET_original_firstorder_Median_128bins  \n",
      "2                                 9.054407  \n",
      "4                                 5.000221  \n",
      "5                                 7.104485  \n",
      "8                                 4.299219  \n",
      "10                                3.903234  \n",
      "    PET_original_firstorder_Minimum_32bins  \\\n",
      "2                                 1.204310   \n",
      "4                                 1.433140   \n",
      "5                                 1.163221   \n",
      "8                                 0.743620   \n",
      "10                                0.982504   \n",
      "\n",
      "    PET_original_firstorder_Minimum_64bins  \\\n",
      "2                                 1.204310   \n",
      "4                                 1.433140   \n",
      "5                                 1.163221   \n",
      "8                                 0.743620   \n",
      "10                                0.982504   \n",
      "\n",
      "    PET_original_firstorder_Minimum_128bins  \n",
      "2                                  1.204310  \n",
      "4                                  1.433140  \n",
      "5                                  1.163221  \n",
      "8                                  0.743620  \n",
      "10                                 0.982504  \n",
      "    PET_original_firstorder_Range_32bins  \\\n",
      "2                              23.536890   \n",
      "4                              17.222283   \n",
      "5                              15.576279   \n",
      "8                              13.467292   \n",
      "10                              7.810330   \n",
      "\n",
      "    PET_original_firstorder_Range_64bins  \\\n",
      "2                              23.536890   \n",
      "4                              17.222283   \n",
      "5                              15.576279   \n",
      "8                              13.467292   \n",
      "10                              7.810330   \n",
      "\n",
      "    PET_original_firstorder_Range_128bins  \n",
      "2                               23.536890  \n",
      "4                               17.222283  \n",
      "5                               15.576279  \n",
      "8                               13.467292  \n",
      "10                               7.810330  \n",
      "    PET_original_firstorder_RobustMeanAbsoluteDeviation_32bins  \\\n",
      "2                                            4.557986            \n",
      "4                                            2.971142            \n",
      "5                                            2.608982            \n",
      "8                                            1.678665            \n",
      "10                                           1.009663            \n",
      "\n",
      "    PET_original_firstorder_RobustMeanAbsoluteDeviation_64bins  \\\n",
      "2                                            4.557986            \n",
      "4                                            2.971142            \n",
      "5                                            2.608982            \n",
      "8                                            1.678665            \n",
      "10                                           1.009663            \n",
      "\n",
      "    PET_original_firstorder_RobustMeanAbsoluteDeviation_128bins  \n",
      "2                                            4.557986            \n",
      "4                                            2.971142            \n",
      "5                                            2.608982            \n",
      "8                                            1.678665            \n",
      "10                                           1.009663            \n",
      "    PET_original_firstorder_RootMeanSquared_32bins  \\\n",
      "2                                        12.223637   \n",
      "4                                         8.148343   \n",
      "5                                         8.423547   \n",
      "8                                         5.486017   \n",
      "10                                        4.466349   \n",
      "\n",
      "    PET_original_firstorder_RootMeanSquared_64bins  \\\n",
      "2                                        12.223637   \n",
      "4                                         8.148343   \n",
      "5                                         8.423547   \n",
      "8                                         5.486017   \n",
      "10                                        4.466349   \n",
      "\n",
      "    PET_original_firstorder_RootMeanSquared_128bins  \n",
      "2                                         12.223637  \n",
      "4                                          8.148343  \n",
      "5                                          8.423547  \n",
      "8                                          5.486017  \n",
      "10                                         4.466349  \n",
      "    PET_original_firstorder_Skewness_32bins  \\\n",
      "2                                  0.417061   \n",
      "4                                  0.854620   \n",
      "5                                  0.269824   \n",
      "8                                  0.616056   \n",
      "10                                 0.484758   \n",
      "\n",
      "    PET_original_firstorder_Skewness_64bins  \\\n",
      "2                                  0.417061   \n",
      "4                                  0.854620   \n",
      "5                                  0.269824   \n",
      "8                                  0.616056   \n",
      "10                                 0.484758   \n",
      "\n",
      "    PET_original_firstorder_Skewness_128bins  \n",
      "2                                   0.417061  \n",
      "4                                   0.854620  \n",
      "5                                   0.269824  \n",
      "8                                   0.616056  \n",
      "10                                  0.484758  \n",
      "    PET_original_firstorder_TotalEnergy_32bins  \\\n",
      "2                                 2.561311e+06   \n",
      "4                                 6.414469e+05   \n",
      "5                                 1.150483e+06   \n",
      "8                                 2.087304e+06   \n",
      "10                                2.144240e+05   \n",
      "\n",
      "    PET_original_firstorder_TotalEnergy_64bins  \\\n",
      "2                                 2.561311e+06   \n",
      "4                                 6.414469e+05   \n",
      "5                                 1.150483e+06   \n",
      "8                                 2.087304e+06   \n",
      "10                                2.144240e+05   \n",
      "\n",
      "    PET_original_firstorder_TotalEnergy_128bins  \n",
      "2                                  2.561311e+06  \n",
      "4                                  6.414469e+05  \n",
      "5                                  1.150483e+06  \n",
      "8                                  2.087304e+06  \n",
      "10                                 2.144240e+05  \n",
      "    PET_original_firstorder_Variance_32bins  \\\n",
      "2                                 40.888750   \n",
      "4                                 20.679742   \n",
      "5                                 14.867608   \n",
      "8                                  6.898970   \n",
      "10                                 2.722132   \n",
      "\n",
      "    PET_original_firstorder_Variance_64bins  \\\n",
      "2                                 40.888750   \n",
      "4                                 20.679742   \n",
      "5                                 14.867608   \n",
      "8                                  6.898970   \n",
      "10                                 2.722132   \n",
      "\n",
      "    PET_original_firstorder_Variance_128bins  \n",
      "2                                  40.888750  \n",
      "4                                  20.679742  \n",
      "5                                  14.867608  \n",
      "8                                   6.898970  \n",
      "10                                  2.722132  \n"
     ]
    }
   ],
   "source": [
    "for r in pet_fs_reduced:\n",
    "    f = raw_pet_firstorder.filter(regex=r)\n",
    "    print(f.iloc[:5, :])"
   ]
  },
  {
   "cell_type": "markdown",
   "metadata": {},
   "source": [
    "# CT  Texture"
   ]
  },
  {
   "cell_type": "code",
   "execution_count": 14,
   "metadata": {},
   "outputs": [],
   "source": [
    "ct_texture_32 = pd.read_csv(path_ct_texture_32, index_col=0)\n",
    "ct_texture_64 = pd.read_csv(path_ct_texture_64, index_col=0)\n",
    "ct_texture_128 = pd.read_csv(path_ct_texture_128, index_col=0)\n",
    "\n",
    "ct_texture_32.columns = ['CT_{}_32bins'.format(col) for col in ct_texture_32.columns]\n",
    "ct_texture_64.columns = ['CT_{}_64bins'.format(col) for col in ct_texture_64.columns]\n",
    "ct_texture_128.columns = ['CT_{}_128bins'.format(col) for col in ct_texture_128.columns]\n",
    "\n",
    "raw_ct_texture = pd.concat(\n",
    "    (\n",
    "        ct_texture_32,\n",
    "        ct_texture_64,\n",
    "        ct_texture_128\n",
    "    ),\n",
    "    axis=1\n",
    ")\n",
    "raw_ct_texture.index = patient_id"
   ]
  },
  {
   "cell_type": "code",
   "execution_count": 15,
   "metadata": {},
   "outputs": [
    {
     "data": {
      "text/plain": [
       "((187, 75), (187, 75), (187, 75))"
      ]
     },
     "execution_count": 15,
     "metadata": {},
     "output_type": "execute_result"
    }
   ],
   "source": [
    "ct_texture_32.shape, ct_texture_64.shape, ct_texture_128.shape"
   ]
  },
  {
   "cell_type": "code",
   "execution_count": 16,
   "metadata": {},
   "outputs": [
    {
     "data": {
      "text/plain": [
       "((187, 204), [])"
      ]
     },
     "execution_count": 16,
     "metadata": {},
     "output_type": "execute_result"
    }
   ],
   "source": [
    "ct_texture, ct_text_reduced = check_gl_redudancy(raw_ct_texture, thresh=1e-15, gl_bins=[32, 64, 128])\n",
    "ct_texture.shape, ct_text_reduced"
   ]
  },
  {
   "cell_type": "markdown",
   "metadata": {},
   "source": [
    "# PET Texture"
   ]
  },
  {
   "cell_type": "code",
   "execution_count": 17,
   "metadata": {},
   "outputs": [],
   "source": [
    "pet_texture_32 = pd.read_csv(path_pet_texture_32, index_col=0)\n",
    "pet_texture_64 = pd.read_csv(path_pet_texture_64, index_col=0)\n",
    "pet_texture_128 = pd.read_csv(path_pet_texture_128, index_col=0)\n",
    "\n",
    "pet_texture_32.columns = ['PET_{}_32bins'.format(col) for col in pet_texture_32.columns]\n",
    "pet_texture_64.columns = ['PET_{}_64bins'.format(col) for col in pet_texture_64.columns]\n",
    "pet_texture_128.columns = ['PET_{}_128bins'.format(col) for col in pet_texture_128.columns]\n",
    "\n",
    "raw_pet_texture = pd.concat(\n",
    "    (\n",
    "        pet_texture_32,\n",
    "        pet_texture_64,\n",
    "        pet_texture_128\n",
    "    ),\n",
    "    axis=1\n",
    ")\n",
    "raw_pet_texture.index = patient_id"
   ]
  },
  {
   "cell_type": "code",
   "execution_count": 18,
   "metadata": {},
   "outputs": [
    {
     "data": {
      "text/plain": [
       "((187, 75), (187, 75), (187, 75))"
      ]
     },
     "execution_count": 18,
     "metadata": {},
     "output_type": "execute_result"
    }
   ],
   "source": [
    "pet_texture_32.shape, pet_texture_64.shape, pet_texture_128.shape"
   ]
  },
  {
   "cell_type": "code",
   "execution_count": 19,
   "metadata": {},
   "outputs": [
    {
     "data": {
      "text/plain": [
       "((187, 204), [])"
      ]
     },
     "execution_count": 19,
     "metadata": {},
     "output_type": "execute_result"
    }
   ],
   "source": [
    "pet_texture, pet_text_reduced = check_gl_redudancy(raw_pet_texture, thresh=1e-15, gl_bins=[32, 64, 128])\n",
    "pet_texture.shape, pet_text_reduced"
   ]
  },
  {
   "cell_type": "markdown",
   "metadata": {},
   "source": [
    "# Concatenate Features"
   ]
  },
  {
   "cell_type": "code",
   "execution_count": 20,
   "metadata": {},
   "outputs": [
    {
     "data": {
      "text/plain": [
       "(187, 464)"
      ]
     },
     "execution_count": 20,
     "metadata": {},
     "output_type": "execute_result"
    }
   ],
   "source": [
    "ct_features = pd.concat((ct_firstorder, ct_texture), axis=1)\n",
    "pet_features = pd.concat((pet_firstorder, pet_texture), axis=1)\n",
    "\n",
    "# Add modality labels to GL bin labels.\n",
    "radiomics_features = pd.concat((shape, ct_features, pet_features), axis=1)\n",
    "radiomics_features.index = patient_id\n",
    "\n",
    "radiomics_features.shape"
   ]
  },
  {
   "cell_type": "code",
   "execution_count": 21,
   "metadata": {},
   "outputs": [
    {
     "data": {
      "text/plain": [
       "((187, 1), (187, 1))"
      ]
     },
     "execution_count": 21,
     "metadata": {},
     "output_type": "execute_result"
    }
   ],
   "source": [
    "# Concat with clinical variables and PET params.\n",
    "clinical_features = pd.read_csv('./../../data_source/to_analysis/clinical_params.csv', index_col=0)\n",
    "pet_params = pd.read_csv('./../../data_source/to_analysis/pet_params.csv', index_col=0)\n",
    "lrr = pd.read_csv('./../../data_source/to_analysis/target_lrr.csv', index_col=0)\n",
    "dfs = pd.read_csv('./../../data_source/to_analysis/target_dfs.csv', index_col=0)\n",
    "\n",
    "# HACK:\n",
    "tmp_patient_id = np.load('./../../data_source/patient_id.npy')\n",
    "clinical_features.index = tmp_patient_id\n",
    "pet_params.index = tmp_patient_id\n",
    "lrr.index = tmp_patient_id\n",
    "dfs.index = tmp_patient_id\n",
    "\n",
    "clinical_features = clinical_features.loc[patient_id, :]\n",
    "pet_params = pet_params.loc[patient_id, :]\n",
    "lrr = lrr.loc[patient_id, :]\n",
    "dfs = dfs.loc[patient_id]\n",
    "\n",
    "lrr.to_csv(path_to_lrr)\n",
    "dfs.to_csv(path_to_dfs)\n",
    "\n",
    "lrr.shape, dfs.shape"
   ]
  },
  {
   "cell_type": "code",
   "execution_count": 22,
   "metadata": {},
   "outputs": [
    {
     "data": {
      "text/plain": [
       "(187, 509)"
      ]
     },
     "execution_count": 22,
     "metadata": {},
     "output_type": "execute_result"
    }
   ],
   "source": [
    "X = pd.concat((clinical_features, radiomics_features, pet_params), axis=1)\n",
    "np.shape(X)"
   ]
  },
  {
   "cell_type": "code",
   "execution_count": 23,
   "metadata": {},
   "outputs": [],
   "source": [
    "X.to_csv(path_to_feature_matrix)"
   ]
  },
  {
   "cell_type": "code",
   "execution_count": 24,
   "metadata": {},
   "outputs": [
    {
     "data": {
      "text/plain": [
       "(187, 408)"
      ]
     },
     "execution_count": 24,
     "metadata": {},
     "output_type": "execute_result"
    }
   ],
   "source": [
    "# Create texture features dataset for comparison of artifact handling method.\n",
    "texture_features = pd.concat((ct_texture, pet_texture), axis=1)\n",
    "texture_features.to_csv(path_to_texture_features)\n",
    "\n",
    "texture_features.shape"
   ]
  },
  {
   "cell_type": "code",
   "execution_count": 25,
   "metadata": {
    "scrolled": true
   },
   "outputs": [
    {
     "data": {
      "text/plain": [
       "(187, 42)"
      ]
     },
     "execution_count": 25,
     "metadata": {},
     "output_type": "execute_result"
    }
   ],
   "source": [
    "# Create firstorder features dataset for comparison of artifact handling method.\n",
    "firstorder_features = pd.concat((ct_firstorder, pet_firstorder), axis=1)\n",
    "firstorder_features.to_csv(path_to_firstorder_features)\n",
    "\n",
    "firstorder_features.shape"
   ]
  },
  {
   "cell_type": "code",
   "execution_count": 26,
   "metadata": {},
   "outputs": [
    {
     "data": {
      "text/plain": [
       "(187, 225)"
      ]
     },
     "execution_count": 26,
     "metadata": {},
     "output_type": "execute_result"
    }
   ],
   "source": [
    "# PET only dataset.\n",
    "PET_only = pd.concat((pet_firstorder, pet_texture), axis=1)\n",
    "PET_only.to_csv(path_pet_only)\n",
    "\n",
    "PET_only.shape"
   ]
  },
  {
   "cell_type": "code",
   "execution_count": 27,
   "metadata": {},
   "outputs": [
    {
     "data": {
      "text/plain": [
       "(187, 225)"
      ]
     },
     "execution_count": 27,
     "metadata": {},
     "output_type": "execute_result"
    }
   ],
   "source": [
    "# CT only dataset.\n",
    "CT_only = pd.concat((ct_firstorder, ct_texture), axis=1)\n",
    "CT_only.to_csv(path_ct_only)\n",
    "\n",
    "CT_only.shape"
   ]
  },
  {
   "cell_type": "code",
   "execution_count": 28,
   "metadata": {},
   "outputs": [
    {
     "data": {
      "text/plain": [
       "(187, 225)"
      ]
     },
     "execution_count": 28,
     "metadata": {},
     "output_type": "execute_result"
    }
   ],
   "source": [
    "# No CT features.\n",
    "X_CT = X.filter(regex='CT')\n",
    "X_not_CT = X.drop(X_CT, axis=1)\n",
    "X_not_CT.to_csv(path_no_ct)\n",
    "\n",
    "X_CT.shape"
   ]
  },
  {
   "cell_type": "markdown",
   "metadata": {},
   "source": [
    "# Produce Feature Category Indices"
   ]
  },
  {
   "cell_type": "code",
   "execution_count": 29,
   "metadata": {},
   "outputs": [],
   "source": [
    "col_idx = {\n",
    "    'shape': 2, \n",
    "    'CT_original_firstorder': 3,\n",
    "    'CT_original_glcm': 4,\n",
    "    'CT_original_gldm': 5,\n",
    "    'CT_original_glrlm': 6,\n",
    "    'CT_original_glszm': 7,\n",
    "    'CT_original_ngtdm': 8,\n",
    "    'PET_original_firstorder': 9,\n",
    "    'PET_original_glcm': 10,\n",
    "    'PET_original_gldm': 11,\n",
    "    'PET_original_glrlm': 12,\n",
    "    'PET_original_glszm': 13,\n",
    "    'PET_original_ngtdm': 14,\n",
    "    'PETparam': 15\n",
    "}\n",
    "feature_idx = np.zeros(X.shape[1], dtype=np.int32)\n",
    "for label in col_idx.keys():\n",
    "    target_cols = list(X.filter(regex=label).columns)\n",
    "    i = np.squeeze(np.where(np.isin(X.columns, target_cols)))\n",
    "    feature_idx[i] = np.tile(col_idx[label], np.size(i))\n",
    "    \n",
    "feature_idx[feature_idx == 0] = 1"
   ]
  },
  {
   "cell_type": "code",
   "execution_count": 30,
   "metadata": {},
   "outputs": [],
   "source": [
    "# Sanity checks.\n",
    "assert len(feature_idx) == X.shape[1]\n",
    "assert np.min(feature_idx) == 1\n",
    "np.save(path_category_idx, feature_idx)"
   ]
  },
  {
   "cell_type": "code",
   "execution_count": 31,
   "metadata": {},
   "outputs": [
    {
     "name": "stdout",
     "output_type": "stream",
     "text": [
      "Number of shape features: (187, 14)\n"
     ]
    }
   ],
   "source": [
    "shape = pd.read_csv(path_to_shape_features, index_col=0)\n",
    "print('Number of shape features:', shape.shape)"
   ]
  },
  {
   "cell_type": "code",
   "execution_count": 32,
   "metadata": {},
   "outputs": [
    {
     "name": "stdout",
     "output_type": "stream",
     "text": [
      "Number of 32 bins CT firstorder features: 18\n",
      "Number of 64 bins CT firstorder features: 18\n",
      "Number of 128 bins CT firstorder features: 18\n"
     ]
    }
   ],
   "source": [
    "ct_firstorder_32 = pd.read_csv(path_ct_firstorder_32, index_col=0)\n",
    "ct_firstorder_64 = pd.read_csv(path_ct_firstorder_64, index_col=0)\n",
    "ct_firstorder_128 = pd.read_csv(path_ct_firstorder_128, index_col=0)\n",
    "\n",
    "print('Number of 32 bins CT firstorder features:', ct_firstorder_32.shape[1])\n",
    "print('Number of 64 bins CT firstorder features:', ct_firstorder_64.shape[1])\n",
    "print('Number of 128 bins CT firstorder features:', ct_firstorder_128.shape[1])"
   ]
  },
  {
   "cell_type": "code",
   "execution_count": 33,
   "metadata": {},
   "outputs": [
    {
     "name": "stdout",
     "output_type": "stream",
     "text": [
      "Number of 32 bins PET firstorder features: 18\n",
      "Number of 64 bins PET firstorder features: 18\n",
      "Number of 128 bins PET firstorder features: 18\n"
     ]
    }
   ],
   "source": [
    "pet_firstorder_32 = pd.read_csv(path_pet_firstorder_32, index_col=0)\n",
    "pet_firstorder_64 = pd.read_csv(path_pet_firstorder_64, index_col=0)\n",
    "pet_firstorder_128 = pd.read_csv(path_pet_firstorder_128, index_col=0)\n",
    "\n",
    "print('Number of 32 bins PET firstorder features:', pet_firstorder_32.shape[1])\n",
    "print('Number of 64 bins PET firstorder features:', pet_firstorder_64.shape[1])\n",
    "print('Number of 128 bins PET firstorder features:', pet_firstorder_128.shape[1])"
   ]
  },
  {
   "cell_type": "code",
   "execution_count": 34,
   "metadata": {},
   "outputs": [
    {
     "name": "stdout",
     "output_type": "stream",
     "text": [
      "Number of 32 bins CT texture features: 75\n",
      "Number of 64 bins CT texture features: 75\n",
      "Number of 128 bins CT texture features: 75\n"
     ]
    }
   ],
   "source": [
    "ct_texture_32 = pd.read_csv(path_ct_texture_32, index_col=0)\n",
    "ct_texture_64 = pd.read_csv(path_ct_texture_64, index_col=0)\n",
    "ct_texture_128 = pd.read_csv(path_ct_texture_128, index_col=0)\n",
    "\n",
    "print('Number of 32 bins CT texture features:', ct_texture_32.shape[1])\n",
    "print('Number of 64 bins CT texture features:', ct_texture_64.shape[1])\n",
    "print('Number of 128 bins CT texture features:', ct_texture_128.shape[1])"
   ]
  },
  {
   "cell_type": "code",
   "execution_count": 35,
   "metadata": {},
   "outputs": [
    {
     "name": "stdout",
     "output_type": "stream",
     "text": [
      "Number of 32 bins PET texture features: 75\n",
      "Number of 64 bins PET texture features: 75\n",
      "Number of 128 bins PET texture features: 75\n"
     ]
    }
   ],
   "source": [
    "pet_texture_32 = pd.read_csv(path_pet_texture_32, index_col=0)\n",
    "pet_texture_64 = pd.read_csv(path_pet_texture_64, index_col=0)\n",
    "pet_texture_128 = pd.read_csv(path_pet_texture_128, index_col=0)\n",
    "\n",
    "print('Number of 32 bins PET texture features:', pet_texture_32.shape[1])\n",
    "print('Number of 64 bins PET texture features:', pet_texture_64.shape[1])\n",
    "print('Number of 128 bins PET texture features:', pet_texture_128.shape[1])"
   ]
  }
 ],
 "metadata": {
  "anaconda-cloud": {},
  "kernelspec": {
   "display_name": "Python 3",
   "language": "python",
   "name": "python3"
  },
  "language_info": {
   "codemirror_mode": {
    "name": "ipython",
    "version": 3
   },
   "file_extension": ".py",
   "mimetype": "text/x-python",
   "name": "python",
   "nbconvert_exporter": "python",
   "pygments_lexer": "ipython3",
   "version": "3.6.2"
  }
 },
 "nbformat": 4,
 "nbformat_minor": 2
}
