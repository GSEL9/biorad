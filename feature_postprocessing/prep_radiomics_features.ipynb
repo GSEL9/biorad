{
 "cells": [
  {
   "cell_type": "markdown",
   "metadata": {},
   "source": [
    "# Post processing of Extracted Radiomic Features "
   ]
  },
  {
   "cell_type": "markdown",
   "metadata": {},
   "source": [
    "* Uniquely label features.\n",
    "* Remove features constant across gray level discretizations."
   ]
  },
  {
   "cell_type": "code",
   "execution_count": 132,
   "metadata": {},
   "outputs": [],
   "source": [
    "import sys\n",
    "sys.path.append('./../utils/')\n",
    "\n",
    "import os\n",
    "import re\n",
    "import glob\n",
    "\n",
    "import numpy as np\n",
    "import pandas as pd"
   ]
  },
  {
   "cell_type": "code",
   "execution_count": 133,
   "metadata": {},
   "outputs": [],
   "source": [
    "def features_independent_of_gl(df, gl_bins=[32, 64, 128], thresh=1e-7):\n",
    "    \"\"\"Identify features constant across gray level quantifications.\n",
    "    \"\"\"\n",
    "    to_drop = []\n",
    "    output = {}\n",
    "    for label in np.unique(df.columns):\n",
    "        # Select all columns with same label.\n",
    "        features = df.loc[:, label]\n",
    "        # Remove if variance constant across GL quantification.\n",
    "        if sum(features.var(axis=1)) < thresh:\n",
    "            output[str(label)] = features.iloc[:, 0]\n",
    "            to_drop.append(label)\n",
    "        else:\n",
    "            for num, gl_bin in enumerate(gl_bins):\n",
    "                output[f'{label}_{gl_bin}bins'] = features.iloc[:, num]\n",
    "\n",
    "    return pd.DataFrame(output), to_drop"
   ]
  },
  {
   "cell_type": "code",
   "execution_count": 134,
   "metadata": {},
   "outputs": [
    {
     "data": {
      "text/plain": [
       "195"
      ]
     },
     "execution_count": 134,
     "metadata": {},
     "output_type": "execute_result"
    }
   ],
   "source": [
    "#patient_id = np.load('./../../data_source/patient_id.npy')\n",
    "\n",
    "# HACK:\n",
    "import os \n",
    "import re\n",
    "\n",
    "path_to_dir = './../../data_source/images/ct_removed_broken_images/'\n",
    "patient_id = []\n",
    "for fname in sorted(os.listdir(path_to_dir)):\n",
    "    try:\n",
    "        patient_id.append(int(re.findall(r'\\d+', fname)[0]))\n",
    "    except:\n",
    "        pass     \n",
    "len(patient_id)"
   ]
  },
  {
   "cell_type": "markdown",
   "metadata": {},
   "source": [
    "# Shape Features"
   ]
  },
  {
   "cell_type": "code",
   "execution_count": 135,
   "metadata": {},
   "outputs": [],
   "source": [
    "# NOTE: Using original tumor volume despite removing slices.\n",
    "shape = pd.read_csv(\n",
    "    #'./../../data_source/radiomic_features/shape/shape_original_masks.csv',\n",
    "    './../../data_source/radiomic_features/shape/shape_removed_broken_images.csv',\n",
    "    index_col=0\n",
    ")\n",
    "shape.index = patient_id"
   ]
  },
  {
   "cell_type": "code",
   "execution_count": 136,
   "metadata": {},
   "outputs": [
    {
     "data": {
      "text/plain": [
       "(195, 14)"
      ]
     },
     "execution_count": 136,
     "metadata": {},
     "output_type": "execute_result"
    }
   ],
   "source": [
    "shape.shape"
   ]
  },
  {
   "cell_type": "markdown",
   "metadata": {},
   "source": [
    "# CT First Order"
   ]
  },
  {
   "cell_type": "code",
   "execution_count": 138,
   "metadata": {},
   "outputs": [],
   "source": [
    "ct_firstorder_32 = pd.read_csv(\n",
    "    #'./../../data_source/radiomic_features/firstorder_original_images/ct32_firstorder_original_images.csv',\n",
    "    './../../data_source/radiomic_features/firstorder_removed_broken_images/ct32_firstorder_removed_broken_images_config.csv',\n",
    "    index_col=0\n",
    ")\n",
    "ct_firstorder_64 = pd.read_csv(\n",
    "    #'./../../data_source/radiomic_features/firstorder_original_images/ct64_firstorder_original_images.csv',\n",
    "    './../../data_source/radiomic_features/firstorder_removed_broken_images/ct64_firstorder_removed_broken_images_config.csv',\n",
    "    index_col=0\n",
    ")\n",
    "ct_firstorder_128 = pd.read_csv(\n",
    "    #'./../../data_source/radiomic_features/firstorder_original_images/ct128_firstorder_original_images.csv',\n",
    "    './../../data_source/radiomic_features/firstorder_removed_broken_images/ct128_firstorder_removed_broken_images_config.csv',\n",
    "    index_col=0\n",
    ")\n",
    "raw_ct_firstorder = pd.concat(\n",
    "    (\n",
    "        ct_firstorder_32,\n",
    "        ct_firstorder_64,\n",
    "        ct_firstorder_128\n",
    "    ),\n",
    "    axis=1\n",
    ")\n",
    "raw_ct_firstorder.index = patient_id"
   ]
  },
  {
   "cell_type": "code",
   "execution_count": 139,
   "metadata": {},
   "outputs": [
    {
     "data": {
      "text/plain": [
       "((195, 18), (195, 18), (195, 18))"
      ]
     },
     "execution_count": 139,
     "metadata": {},
     "output_type": "execute_result"
    }
   ],
   "source": [
    "ct_firstorder_32.shape, ct_firstorder_64.shape, ct_firstorder_128.shape"
   ]
  },
  {
   "cell_type": "code",
   "execution_count": 140,
   "metadata": {},
   "outputs": [],
   "source": [
    "ct_firstorder, ct_firstorder_dropped = features_independent_of_gl(raw_ct_firstorder)"
   ]
  },
  {
   "cell_type": "markdown",
   "metadata": {},
   "source": [
    "# PET First Order"
   ]
  },
  {
   "cell_type": "code",
   "execution_count": 141,
   "metadata": {},
   "outputs": [],
   "source": [
    "pet_firstorder_32 = pd.read_csv(\n",
    "    #'./../../data_source/radiomic_features/firstorder_original_images/pet32_firstorder_original_images.csv',\n",
    "    './../../data_source/radiomic_features/firstorder_removed_broken_images/pet32_firstorder_removed_broken_images_config.csv',\n",
    "    \n",
    "    index_col=0\n",
    ")\n",
    "pet_firstorder_64 = pd.read_csv(\n",
    "    #'./../../data_source/radiomic_features/firstorder_original_images/pet64_firstorder_original_images.csv',\n",
    "    './../../data_source/radiomic_features/firstorder_removed_broken_images/pet64_firstorder_removed_broken_images_config.csv',\n",
    "    index_col=0\n",
    ")\n",
    "pet_firstorder_128 = pd.read_csv(\n",
    "    #'./../../data_source/radiomic_features/firstorder_original_images/pet128_firstorder_original_images.csv',\n",
    "    './../../data_source/radiomic_features/firstorder_removed_broken_images/pet128_firstorder_removed_broken_images_config.csv',\n",
    "    index_col=0\n",
    ")\n",
    "raw_pet_firstorder = pd.concat(\n",
    "    (\n",
    "        pet_firstorder_32,\n",
    "        pet_firstorder_64,\n",
    "        pet_firstorder_128\n",
    "    ),\n",
    "    axis=1\n",
    ")\n",
    "raw_pet_firstorder.index = patient_id"
   ]
  },
  {
   "cell_type": "code",
   "execution_count": 142,
   "metadata": {},
   "outputs": [
    {
     "data": {
      "text/plain": [
       "((195, 18), (195, 18), (195, 18))"
      ]
     },
     "execution_count": 142,
     "metadata": {},
     "output_type": "execute_result"
    }
   ],
   "source": [
    "pet_firstorder_32.shape, pet_firstorder_64.shape, pet_firstorder_128.shape"
   ]
  },
  {
   "cell_type": "code",
   "execution_count": 143,
   "metadata": {},
   "outputs": [],
   "source": [
    "pet_firstorder, pet_firstorder_dropped = features_independent_of_gl(raw_pet_firstorder)"
   ]
  },
  {
   "cell_type": "markdown",
   "metadata": {},
   "source": [
    "# CT  Texture"
   ]
  },
  {
   "cell_type": "code",
   "execution_count": 144,
   "metadata": {},
   "outputs": [],
   "source": [
    "ct_texture_32 = pd.read_csv(\n",
    "    #'./../../data_source/radiomic_features/texture_original_images/ct32_texture_original_images.csv',\n",
    "    './../../data_source/radiomic_features/texture_removed_broken_images/ct32_texture_removed_broken_images_config.csv',\n",
    "    index_col=0\n",
    ")\n",
    "ct_texture_64 = pd.read_csv(\n",
    "    #'./../../data_source/radiomic_features/texture_original_images/ct64_texture_original_images.csv',\n",
    "    './../../data_source/radiomic_features/texture_removed_broken_images/ct64_texture_removed_broken_images_config.csv',\n",
    "    index_col=0\n",
    ")\n",
    "ct_texture_128 = pd.read_csv(\n",
    "    #'./../../data_source/radiomic_features/texture_original_images/ct128_texture_original_images.csv',\n",
    "    './../../data_source/radiomic_features/texture_removed_broken_images/ct128_texture_removed_broken_images_config.csv',\n",
    "    index_col=0\n",
    ")\n",
    "raw_ct_texture = pd.concat(\n",
    "    (\n",
    "        ct_texture_32,\n",
    "        ct_texture_64,\n",
    "        ct_texture_128\n",
    "    ),\n",
    "    axis=1\n",
    ")\n",
    "raw_ct_texture.index = patient_id"
   ]
  },
  {
   "cell_type": "code",
   "execution_count": 145,
   "metadata": {},
   "outputs": [
    {
     "data": {
      "text/plain": [
       "((195, 18), (195, 18), (195, 18))"
      ]
     },
     "execution_count": 145,
     "metadata": {},
     "output_type": "execute_result"
    }
   ],
   "source": [
    "ct_texture_32.shape, ct_texture_64.shape, ct_texture_128.shape"
   ]
  },
  {
   "cell_type": "code",
   "execution_count": 146,
   "metadata": {},
   "outputs": [
    {
     "data": {
      "text/plain": [
       "['original_firstorder_10Percentile',\n",
       " 'original_firstorder_90Percentile',\n",
       " 'original_firstorder_Energy',\n",
       " 'original_firstorder_InterquartileRange',\n",
       " 'original_firstorder_Kurtosis',\n",
       " 'original_firstorder_Maximum',\n",
       " 'original_firstorder_Mean',\n",
       " 'original_firstorder_MeanAbsoluteDeviation',\n",
       " 'original_firstorder_Median',\n",
       " 'original_firstorder_Minimum',\n",
       " 'original_firstorder_Range',\n",
       " 'original_firstorder_RobustMeanAbsoluteDeviation',\n",
       " 'original_firstorder_RootMeanSquared',\n",
       " 'original_firstorder_Skewness',\n",
       " 'original_firstorder_TotalEnergy',\n",
       " 'original_firstorder_Variance']"
      ]
     },
     "execution_count": 146,
     "metadata": {},
     "output_type": "execute_result"
    }
   ],
   "source": [
    "ct_texture, ct_texture_dropped = features_independent_of_gl(raw_ct_texture)\n",
    "ct_texture_dropped"
   ]
  },
  {
   "cell_type": "markdown",
   "metadata": {},
   "source": [
    "# PET Texture"
   ]
  },
  {
   "cell_type": "code",
   "execution_count": 147,
   "metadata": {},
   "outputs": [],
   "source": [
    "pet_texture_32 = pd.read_csv(\n",
    "    #'./../../data_source/radiomic_features/texture_original_images/pet32_texture_original_images.csv',\n",
    "    './../../data_source/radiomic_features/texture_removed_broken_images/ct32_texture_removed_broken_images_config.csv',\n",
    "    index_col=0\n",
    ")\n",
    "pet_texture_64 = pd.read_csv(\n",
    "    #'./../../data_source/radiomic_features/texture_original_images/pet64_texture_original_images.csv',\n",
    "    './../../data_source/radiomic_features/texture_removed_broken_images/ct64_texture_removed_broken_images_config.csv',\n",
    "    index_col=0\n",
    ")\n",
    "pet_texture_128 = pd.read_csv(\n",
    "    #'./../../data_source/radiomic_features/texture_original_images/pet128_texture_original_images.csv',\n",
    "    './../../data_source/radiomic_features/texture_removed_broken_images/ct128_texture_removed_broken_images_config.csv',\n",
    "    index_col=0\n",
    ")\n",
    "raw_pet_texture = pd.concat(\n",
    "    (\n",
    "        pet_texture_32,\n",
    "        pet_texture_64,\n",
    "        pet_texture_128\n",
    "    ),\n",
    "    axis=1\n",
    ")\n",
    "raw_pet_texture.index = patient_id"
   ]
  },
  {
   "cell_type": "code",
   "execution_count": 148,
   "metadata": {},
   "outputs": [
    {
     "data": {
      "text/plain": [
       "((195, 18), (195, 18), (195, 18))"
      ]
     },
     "execution_count": 148,
     "metadata": {},
     "output_type": "execute_result"
    }
   ],
   "source": [
    "pet_texture_32.shape, pet_texture_64.shape, pet_texture_128.shape"
   ]
  },
  {
   "cell_type": "code",
   "execution_count": 149,
   "metadata": {},
   "outputs": [],
   "source": [
    "pet_texture, pet_texture_dropped = features_independent_of_gl(raw_pet_texture)"
   ]
  },
  {
   "cell_type": "markdown",
   "metadata": {},
   "source": [
    "# Concatenate Features"
   ]
  },
  {
   "cell_type": "code",
   "execution_count": 150,
   "metadata": {},
   "outputs": [
    {
     "data": {
      "text/plain": [
       "(195, 102)"
      ]
     },
     "execution_count": 150,
     "metadata": {},
     "output_type": "execute_result"
    }
   ],
   "source": [
    "ct_features = pd.concat((ct_firstorder, ct_texture), axis=1)\n",
    "pet_features = pd.concat((pet_firstorder, pet_texture), axis=1)\n",
    "\n",
    "# Add modality labels to GL bin labels.\n",
    "ct_features.columns = ['CT_{}'.format(col) for col in ct_features.columns]\n",
    "pet_features.columns = ['PET_{}'.format(col) for col in pet_features.columns]\n",
    "\n",
    "radiomics_features = pd.concat((shape, ct_features, pet_features), axis=1)\n",
    "radiomics_features.index = patient_id\n",
    "\n",
    "radiomics_features.shape"
   ]
  },
  {
   "cell_type": "code",
   "execution_count": 151,
   "metadata": {},
   "outputs": [],
   "source": [
    "# Concat with clinical variables and PET params.\n",
    "clinical_features = pd.read_csv('./../../data_source/to_analysis/clinical_params.csv', index_col=0)\n",
    "pet_params = pd.read_csv('./../../data_source/to_analysis/pet_params.csv', index_col=0)\n",
    "lrr = pd.read_csv('./../../data_source/to_analysis/target_lrr.csv', index_col=0)\n",
    "dfs = pd.read_csv('./../../data_source/to_analysis/target_lrr.csv', index_col=0)\n",
    "\n",
    "\n",
    "# HACK:\n",
    "_patient_id = np.load('./../../data_source/patient_id.npy')\n",
    "\n",
    "clinical_features.index = _patient_id\n",
    "pet_params.index = _patient_id\n",
    "\n",
    "clinical_features = clinical_features.loc[patient_id, :]\n",
    "pet_params = pet_params.loc[patient_id, :]\n",
    "\n",
    "lrr.index = _patient_id\n",
    "lrr = lrr.loc[patient_id, :]\n",
    "\n",
    "dfs.index = _patient_id\n",
    "dfs = dfs.loc[patient_id]\n",
    "\n",
    "lrr.to_csv('./../../data_source/to_analysis/removed_broken_images/lrr_removed_broken_images.csv')\n",
    "dfs.to_csv('./../../data_source/to_analysis/removed_broken_images/dfs_removed_broken_images.csv')\n",
    "\n",
    "#clinical_features.index = patient_id\n",
    "#pet_params.index = patient_id"
   ]
  },
  {
   "cell_type": "code",
   "execution_count": 152,
   "metadata": {},
   "outputs": [
    {
     "data": {
      "text/plain": [
       "(195, 147)"
      ]
     },
     "execution_count": 152,
     "metadata": {},
     "output_type": "execute_result"
    }
   ],
   "source": [
    "X = pd.concat((clinical_features, radiomics_features, pet_params), axis=1)\n",
    "np.shape(X)"
   ]
  },
  {
   "cell_type": "code",
   "execution_count": 153,
   "metadata": {},
   "outputs": [],
   "source": [
    "#X.to_csv('./../../data_source/to_analysis/original_images/all_features_original_images.csv')\n",
    "X.to_csv('./../../data_source/to_analysis/removed_broken_images/all_features_removed_broken_images.csv')"
   ]
  },
  {
   "cell_type": "code",
   "execution_count": 154,
   "metadata": {},
   "outputs": [],
   "source": [
    "# Create texture features dataset for comparison of artifact handling method.\n",
    "ct_texture.columns = ['CT_{}'.format(col) for col in ct_texture.columns]\n",
    "pet_texture.columns = ['PET_{}'.format(col) for col in pet_texture.columns]\n",
    "\n",
    "texture_features = pd.concat((ct_texture, pet_texture), axis=1)\n",
    "#texture_features.to_csv('./../../data_source/to_analysis/original_images/texture_original_images.csv')\n",
    "texture_features.to_csv('./../../data_source/to_analysis/removed_broken_images/texture_removed_broken_images.csv')"
   ]
  },
  {
   "cell_type": "code",
   "execution_count": 155,
   "metadata": {},
   "outputs": [],
   "source": [
    "# Create firstorder features dataset for comparison of artifact handling method.\n",
    "ct_firstorder.columns = ['CT_{}'.format(col) for col in ct_firstorder.columns]\n",
    "pet_firstorder.columns = ['PET_{}'.format(col) for col in pet_firstorder.columns]\n",
    "\n",
    "firstorder_features = pd.concat((ct_firstorder, pet_firstorder), axis=1)\n",
    "#firstorder_features.to_csv('./../../data_source/to_analysis/original_images/firstorder_original_images.csv')\n",
    "firstorder_features.to_csv('./../../data_source/to_analysis/removed_broken_images/firstorder_removed_broken_images.csv')"
   ]
  },
  {
   "cell_type": "code",
   "execution_count": null,
   "metadata": {},
   "outputs": [],
   "source": []
  }
 ],
 "metadata": {
  "anaconda-cloud": {},
  "kernelspec": {
   "display_name": "Python 3",
   "language": "python",
   "name": "python3"
  },
  "language_info": {
   "codemirror_mode": {
    "name": "ipython",
    "version": 3
   },
   "file_extension": ".py",
   "mimetype": "text/x-python",
   "name": "python",
   "nbconvert_exporter": "python",
   "pygments_lexer": "ipython3",
   "version": "3.6.2"
  }
 },
 "nbformat": 4,
 "nbformat_minor": 2
}
