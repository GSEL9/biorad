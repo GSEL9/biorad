{
 "cells": [
  {
   "cell_type": "markdown",
   "metadata": {},
   "source": [
    "# Post processing of Extracted Radiomic Features "
   ]
  },
  {
   "cell_type": "markdown",
   "metadata": {},
   "source": [
    "* Uniquely label features.\n",
    "* Remove features constant across gray level discretizations."
   ]
  },
  {
   "cell_type": "code",
   "execution_count": 1,
   "metadata": {},
   "outputs": [],
   "source": [
    "import sys\n",
    "sys.path.append('./../utils/')\n",
    "\n",
    "import os\n",
    "import re\n",
    "import glob\n",
    "\n",
    "import numpy as np\n",
    "import pandas as pd"
   ]
  },
  {
   "cell_type": "code",
   "execution_count": 2,
   "metadata": {},
   "outputs": [],
   "source": [
    "def features_independent_of_gl(df, gl_bins=[32, 64, 128], thresh=1e-7):\n",
    "    \"\"\"Identify features constant across gray level quantifications.\n",
    "    \"\"\"\n",
    "    to_drop = []\n",
    "    output = {}\n",
    "    for label in np.unique(df.columns):\n",
    "        # Select all columns with same label.\n",
    "        features = df.loc[:, label]\n",
    "        # Remove if variance constant across GL quantification.\n",
    "        if sum(features.var(axis=1)) < thresh:\n",
    "            output[str(label)] = features.iloc[:, 0]\n",
    "            to_drop.append(label)\n",
    "        else:\n",
    "            for num, gl_bin in enumerate(gl_bins):\n",
    "                output[f'{label}_{gl_bin}bins'] = features.iloc[:, num]\n",
    "\n",
    "    return pd.DataFrame(output), to_drop"
   ]
  },
  {
   "cell_type": "code",
   "execution_count": 3,
   "metadata": {},
   "outputs": [],
   "source": [
    "patient_id = np.load('./../../data_source/patient_id.npy')"
   ]
  },
  {
   "cell_type": "markdown",
   "metadata": {},
   "source": [
    "# Shape Features"
   ]
  },
  {
   "cell_type": "code",
   "execution_count": 4,
   "metadata": {},
   "outputs": [],
   "source": [
    "shape = pd.read_csv(\n",
    "    './../../data_source/radiomic_features/shape_original_images/shape_original_masks.csv',\n",
    "    index_col=0\n",
    ")\n",
    "shape.index = patient_id"
   ]
  },
  {
   "cell_type": "code",
   "execution_count": 5,
   "metadata": {},
   "outputs": [
    {
     "data": {
      "text/plain": [
       "(198, 14)"
      ]
     },
     "execution_count": 5,
     "metadata": {},
     "output_type": "execute_result"
    }
   ],
   "source": [
    "shape.shape"
   ]
  },
  {
   "cell_type": "markdown",
   "metadata": {},
   "source": [
    "# CT First Order"
   ]
  },
  {
   "cell_type": "code",
   "execution_count": 6,
   "metadata": {},
   "outputs": [],
   "source": [
    "ct_firstorder_32 = pd.read_csv(\n",
    "    './../../data_source/radiomic_features/firstorder_original_images/ct32_firstorder_original_images.csv',\n",
    "    index_col=0\n",
    ")\n",
    "ct_firstorder_64 = pd.read_csv(\n",
    "    './../../data_source/radiomic_features/firstorder_original_images/ct64_firstorder_original_images.csv',\n",
    "    index_col=0\n",
    ")\n",
    "ct_firstorder_128 = pd.read_csv(\n",
    "    './../../data_source/radiomic_features/firstorder_original_images/ct128_firstorder_original_images.csv',\n",
    "    index_col=0\n",
    ")\n",
    "raw_ct_firstorder = pd.concat(\n",
    "    (\n",
    "        ct_firstorder_32,\n",
    "        ct_firstorder_64,\n",
    "        ct_firstorder_128\n",
    "    ),\n",
    "    axis=1\n",
    ")\n",
    "raw_ct_firstorder.index = patient_id"
   ]
  },
  {
   "cell_type": "code",
   "execution_count": 7,
   "metadata": {},
   "outputs": [
    {
     "data": {
      "text/plain": [
       "((198, 18), (198, 18), (198, 18))"
      ]
     },
     "execution_count": 7,
     "metadata": {},
     "output_type": "execute_result"
    }
   ],
   "source": [
    "ct_firstorder_32.shape, ct_firstorder_64.shape, ct_firstorder_128.shape"
   ]
  },
  {
   "cell_type": "code",
   "execution_count": 8,
   "metadata": {},
   "outputs": [],
   "source": [
    "ct_firstorder, ct_firstorder_dropped = features_independent_of_gl(raw_ct_firstorder)"
   ]
  },
  {
   "cell_type": "markdown",
   "metadata": {},
   "source": [
    "# PET First Order"
   ]
  },
  {
   "cell_type": "code",
   "execution_count": 9,
   "metadata": {},
   "outputs": [],
   "source": [
    "pet_firstorder_32 = pd.read_csv(\n",
    "    './../../data_source/radiomic_features/firstorder_original_images/pet32_firstorder_original_images.csv',\n",
    "    index_col=0\n",
    ")\n",
    "pet_firstorder_64 = pd.read_csv(\n",
    "    './../../data_source/radiomic_features/firstorder_original_images/pet64_firstorder_original_images.csv',\n",
    "    index_col=0\n",
    ")\n",
    "pet_firstorder_128 = pd.read_csv(\n",
    "    './../../data_source/radiomic_features/firstorder_original_images/pet128_firstorder_original_images.csv',\n",
    "    index_col=0\n",
    ")\n",
    "raw_pet_firstorder = pd.concat(\n",
    "    (\n",
    "        pet_firstorder_32,\n",
    "        pet_firstorder_64,\n",
    "        pet_firstorder_128\n",
    "    ),\n",
    "    axis=1\n",
    ")\n",
    "raw_pet_firstorder.index = patient_id"
   ]
  },
  {
   "cell_type": "code",
   "execution_count": 10,
   "metadata": {},
   "outputs": [
    {
     "data": {
      "text/plain": [
       "((198, 18), (198, 18), (198, 18))"
      ]
     },
     "execution_count": 10,
     "metadata": {},
     "output_type": "execute_result"
    }
   ],
   "source": [
    "pet_firstorder_32.shape, pet_firstorder_64.shape, pet_firstorder_128.shape"
   ]
  },
  {
   "cell_type": "code",
   "execution_count": 11,
   "metadata": {},
   "outputs": [],
   "source": [
    "pet_firstorder, pet_firstorder_dropped = features_independent_of_gl(raw_pet_firstorder)"
   ]
  },
  {
   "cell_type": "markdown",
   "metadata": {},
   "source": [
    "# CT  Texture"
   ]
  },
  {
   "cell_type": "code",
   "execution_count": 12,
   "metadata": {},
   "outputs": [],
   "source": [
    "ct_texture_32 = pd.read_csv(\n",
    "    './../../data_source/radiomic_features/texture_original_images/ct32_texture_original_images.csv',\n",
    "    index_col=0\n",
    ")\n",
    "ct_texture_64 = pd.read_csv(\n",
    "    './../../data_source/radiomic_features/texture_original_images/ct64_texture_original_images.csv',\n",
    "    index_col=0\n",
    ")\n",
    "ct_texture_128 = pd.read_csv(\n",
    "    './../../data_source/radiomic_features/texture_original_images/ct128_texture_original_images.csv',\n",
    "    index_col=0\n",
    ")\n",
    "raw_ct_texture = pd.concat(\n",
    "    (\n",
    "        ct_texture_32,\n",
    "        ct_texture_64,\n",
    "        ct_texture_128\n",
    "    ),\n",
    "    axis=1\n",
    ")\n",
    "\n",
    "raw_ct_texture.index = patient_id"
   ]
  },
  {
   "cell_type": "code",
   "execution_count": 13,
   "metadata": {},
   "outputs": [
    {
     "data": {
      "text/plain": [
       "((198, 75), (198, 75), (198, 75))"
      ]
     },
     "execution_count": 13,
     "metadata": {},
     "output_type": "execute_result"
    }
   ],
   "source": [
    "ct_texture_32.shape, ct_texture_64.shape, ct_texture_128.shape"
   ]
  },
  {
   "cell_type": "code",
   "execution_count": 14,
   "metadata": {},
   "outputs": [
    {
     "data": {
      "text/plain": [
       "[]"
      ]
     },
     "execution_count": 14,
     "metadata": {},
     "output_type": "execute_result"
    }
   ],
   "source": [
    "ct_texture, ct_texture_dropped = features_independent_of_gl(raw_ct_texture)\n",
    "ct_texture_dropped"
   ]
  },
  {
   "cell_type": "markdown",
   "metadata": {},
   "source": [
    "# PET Texture"
   ]
  },
  {
   "cell_type": "code",
   "execution_count": 15,
   "metadata": {},
   "outputs": [],
   "source": [
    "pet_texture_32 = pd.read_csv(\n",
    "    './../../data_source/radiomic_features/texture_original_images/pet32_texture_original_images.csv',\n",
    "    index_col=0\n",
    ")\n",
    "pet_texture_64 = pd.read_csv(\n",
    "    './../../data_source/radiomic_features/texture_original_images/pet64_texture_original_images.csv',\n",
    "    index_col=0\n",
    ")\n",
    "pet_texture_128 = pd.read_csv(\n",
    "    './../../data_source/radiomic_features/texture_original_images/pet128_texture_original_images.csv',\n",
    "    index_col=0\n",
    ")\n",
    "raw_pet_texture = pd.concat(\n",
    "    (\n",
    "        pet_texture_32,\n",
    "        pet_texture_64,\n",
    "        pet_texture_128\n",
    "    ),\n",
    "    axis=1\n",
    ")\n",
    "raw_pet_texture.index = patient_id"
   ]
  },
  {
   "cell_type": "code",
   "execution_count": 16,
   "metadata": {},
   "outputs": [
    {
     "data": {
      "text/plain": [
       "((198, 75), (198, 75), (198, 75))"
      ]
     },
     "execution_count": 16,
     "metadata": {},
     "output_type": "execute_result"
    }
   ],
   "source": [
    "pet_texture_32.shape, pet_texture_64.shape, pet_texture_128.shape"
   ]
  },
  {
   "cell_type": "code",
   "execution_count": 17,
   "metadata": {},
   "outputs": [
    {
     "data": {
      "text/plain": [
       "[]"
      ]
     },
     "execution_count": 17,
     "metadata": {},
     "output_type": "execute_result"
    }
   ],
   "source": [
    "pet_texture, pet_texture_dropped = features_independent_of_gl(raw_pet_texture)\n",
    "pet_texture_dropped"
   ]
  },
  {
   "cell_type": "markdown",
   "metadata": {},
   "source": [
    "# Concatenate Features"
   ]
  },
  {
   "cell_type": "code",
   "execution_count": 18,
   "metadata": {},
   "outputs": [
    {
     "data": {
      "text/plain": [
       "(198, 508)"
      ]
     },
     "execution_count": 18,
     "metadata": {},
     "output_type": "execute_result"
    }
   ],
   "source": [
    "ct_features = pd.concat((ct_firstorder, ct_texture), axis=1)\n",
    "pet_features = pd.concat((pet_firstorder, pet_texture), axis=1)\n",
    "\n",
    "# Add modality labels to GL bin labels.\n",
    "ct_features.columns = ['CT_{}'.format(col) for col in ct_features.columns]\n",
    "pet_features.columns = ['PET_{}'.format(col) for col in pet_features.columns]\n",
    "\n",
    "radiomics_features = pd.concat((shape, ct_features, pet_features), axis=1)\n",
    "radiomics_features.index = patient_id\n",
    "\n",
    "radiomics_features.shape"
   ]
  },
  {
   "cell_type": "code",
   "execution_count": 19,
   "metadata": {},
   "outputs": [],
   "source": [
    "# Concat with clinical variables and PET params.\n",
    "clinical_features = pd.read_csv('./../../data_source/to_analysis/clinical_params.csv', index_col=0)\n",
    "pet_params = pd.read_csv('./../../data_source/to_analysis/pet_params.csv', index_col=0)\n",
    "\n",
    "clinical_features.index = patient_id\n",
    "pet_params.index = patient_id"
   ]
  },
  {
   "cell_type": "code",
   "execution_count": 20,
   "metadata": {},
   "outputs": [
    {
     "data": {
      "text/plain": [
       "(198, 553)"
      ]
     },
     "execution_count": 20,
     "metadata": {},
     "output_type": "execute_result"
    }
   ],
   "source": [
    "X = pd.concat((clinical_features, radiomics_features, pet_params), axis=1)\n",
    "np.shape(X)"
   ]
  },
  {
   "cell_type": "code",
   "execution_count": 21,
   "metadata": {},
   "outputs": [],
   "source": [
    "X.to_csv('./../../data_source/to_analysis/all_features_original_images.csv')"
   ]
  },
  {
   "cell_type": "code",
   "execution_count": 22,
   "metadata": {},
   "outputs": [],
   "source": [
    "# Create texture features dataset for comparison of artifact handling method.\n",
    "ct_texture.columns = ['CT_{}'.format(col) for col in ct_texture.columns]\n",
    "pet_texture.columns = ['PET_{}'.format(col) for col in pet_texture.columns]\n",
    "\n",
    "texture_features = pd.concat((ct_texture, pet_texture), axis=1)\n",
    "texture_features.to_csv('./../../data_source/to_analysis/original_images/texture_original_images.csv')"
   ]
  },
  {
   "cell_type": "code",
   "execution_count": 23,
   "metadata": {},
   "outputs": [],
   "source": [
    "# Create firstorder features dataset for comparison of artifact handling method.\n",
    "ct_firstorder.columns = ['CT_{}'.format(col) for col in ct_firstorder.columns]\n",
    "pet_firstorder.columns = ['PET_{}'.format(col) for col in pet_firstorder.columns]\n",
    "\n",
    "firstorder_features = pd.concat((ct_firstorder, pet_firstorder), axis=1)\n",
    "firstorder_features.to_csv('./../../data_source/to_analysis/original_images/firstorder_original_images.csv')"
   ]
  },
  {
   "cell_type": "code",
   "execution_count": null,
   "metadata": {},
   "outputs": [],
   "source": []
  }
 ],
 "metadata": {
  "anaconda-cloud": {},
  "kernelspec": {
   "display_name": "Python 3",
   "language": "python",
   "name": "python3"
  },
  "language_info": {
   "codemirror_mode": {
    "name": "ipython",
    "version": 3
   },
   "file_extension": ".py",
   "mimetype": "text/x-python",
   "name": "python",
   "nbconvert_exporter": "python",
   "pygments_lexer": "ipython3",
   "version": "3.6.2"
  }
 },
 "nbformat": 4,
 "nbformat_minor": 2
}
