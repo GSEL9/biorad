{
 "cells": [
  {
   "cell_type": "markdown",
   "metadata": {},
   "source": [
    "# Post processing of Extracted Radiomic Features "
   ]
  },
  {
   "cell_type": "markdown",
   "metadata": {},
   "source": [
    "* Uniquely label features.\n",
    "* Remove features constant across gray level discretizations."
   ]
  },
  {
   "cell_type": "code",
   "execution_count": 1,
   "metadata": {},
   "outputs": [],
   "source": [
    "import sys\n",
    "sys.path.append('./../utils/')\n",
    "\n",
    "import os\n",
    "import re\n",
    "import glob\n",
    "\n",
    "import numpy as np\n",
    "import pandas as pd"
   ]
  },
  {
   "cell_type": "code",
   "execution_count": 2,
   "metadata": {},
   "outputs": [],
   "source": [
    "def features_independent_of_gl(df, gl_bins=[32, 64, 128], thresh=1e-7):\n",
    "    \"\"\"Identify features constant across gray level quantifications.\n",
    "    \"\"\"\n",
    "    to_drop = []\n",
    "    output = {}\n",
    "    for label in np.unique(df.columns):\n",
    "        # Select all columns with same label.\n",
    "        features = df.loc[:, label]\n",
    "        # Remove if variance constant across GL quantification.\n",
    "        if sum(features.var(axis=1)) < thresh:\n",
    "            output[str(label)] = features.iloc[:, 0]\n",
    "            to_drop.append(label)\n",
    "        else:\n",
    "            for num, gl_bin in enumerate(gl_bins):\n",
    "                output[f'{label}_{gl_bin}bins'] = features.iloc[:, num]\n",
    "\n",
    "    return pd.DataFrame(output), to_drop"
   ]
  },
  {
   "cell_type": "code",
   "execution_count": 3,
   "metadata": {},
   "outputs": [
    {
     "data": {
      "text/plain": [
       "196"
      ]
     },
     "execution_count": 3,
     "metadata": {},
     "output_type": "execute_result"
    }
   ],
   "source": [
    "#path_to_dir = './../../data_source/images/ct_nrrd/'\n",
    "#path_to_dir = './../../data_source/images/ct_removed_broken_images/'\n",
    "path_to_dir = './../../data_source/images/ct_removed_broken_slices/'\n",
    "\n",
    "\n",
    "#path_to_lrr = './../../data_source/to_analysis/original_images/lrr_original_images.csv'\n",
    "#path_to_lrr = './../../data_source/to_analysis/removed_broken_images/lrr_removed_broken_images.csv'\n",
    "path_to_lrr = './../../data_source/to_analysis/removed_broken_slices/lrr_removed_broken_slices.csv'\n",
    "\n",
    "#path_to_dfs = './../../data_source/to_analysis/original_images/dfs_original_images.csv'\n",
    "#path_to_dfs = './../../data_source/to_analysis/removed_broken_images/dfs_removed_broken_images.csv'\n",
    "path_to_dfs = './../../data_source/to_analysis/removed_broken_slices/dfs_removed_broken_slices.csv'\n",
    "\n",
    "\n",
    "#path_no_ct = './../../data_source/to_analysis/original_images/no_ct_original_images.csv'\n",
    "#path_no_ct = './../../data_source/to_analysis/removed_broken_images/no_ct_removed_broken_images.csv'\n",
    "path_no_ct = './../../data_source/to_analysis/removed_broken_slices/no_ct_removed_broken_slices.csv'\n",
    "\n",
    "\n",
    "#path_to_feature_matrix = './../../data_source/to_analysis/original_images/all_features_original_images.csv'\n",
    "#path_to_feature_matrix = './../../data_source/to_analysis/removed_broken_images/all_features_removed_broken_images.csv'\n",
    "path_to_feature_matrix = './../../data_source/to_analysis/removed_broken_slices/all_features_removed_broken_slices.csv'\n",
    "\n",
    "\n",
    "#path_to_texture_features = './../../data_source/to_analysis/original_images/texture_original_images.csv'\n",
    "#path_to_texture_features = './../../data_source/to_analysis/removed_broken_images/texture_removed_broken_images.csv'\n",
    "path_to_texture_features = './../../data_source/to_analysis/removed_broken_slices/texture_removed_broken_slices.csv'\n",
    "\n",
    "\n",
    "#path_to_firstorder_features = './../../data_source/to_analysis/original_images/firstorder_original_images.csv'\n",
    "#path_to_firstorder_features = './../../data_source/to_analysis/removed_broken_images/firstorder_removed_broken_images.csv'\n",
    "path_to_firstorder_features = './../../data_source/to_analysis/removed_broken_slices/firstorder_removed_broken_slices.csv'\n",
    "\n",
    "\n",
    "#path_to_shape_features = './../../data_source/radiomic_features/shape/shape_original_masks.csv'\n",
    "#path_to_shape_features = './../../data_source/radiomic_features/shape/shape_removed_broken_images.csv'\n",
    "path_to_shape_features = './../../data_source/radiomic_features/shape/shape_removed_broken_slices.csv'\n",
    "\n",
    "\n",
    "#path_ct_firstorder_32 = './../../data_source/radiomic_features/firstorder_original_images/ct32_firstorder_original_images.csv'\n",
    "#path_ct_firstorder_64 = './../../data_source/radiomic_features/firstorder_original_images/ct64_firstorder_original_images.csv'\n",
    "#path_ct_firstorder_128 = './../../data_source/radiomic_features/firstorder_original_images/ct128_firstorder_original_images.csv'\n",
    "#path_ct_firstorder_32 = './../../data_source/radiomic_features/firstorder_removed_broken_images/ct32_firstorder_removed_broken_images.csv'\n",
    "#path_ct_firstorder_64 = './../../data_source/radiomic_features/firstorder_removed_broken_images/ct64_firstorder_removed_broken_images.csv'\n",
    "#path_ct_firstorder_128 = './../../data_source/radiomic_features/firstorder_removed_broken_images/ct128_firstorder_removed_broken_images.csv'\n",
    "path_ct_firstorder_32 = './../../data_source/radiomic_features/firstorder_removed_broken_slices/ct32_firstorder_removed_broken_slices.csv'\n",
    "path_ct_firstorder_64 = './../../data_source/radiomic_features/firstorder_removed_broken_slices/ct64_firstorder_removed_broken_slices.csv'\n",
    "path_ct_firstorder_128 = './../../data_source/radiomic_features/firstorder_removed_broken_slices/ct128_firstorder_removed_broken_slices.csv'\n",
    "\n",
    "\n",
    "#path_pet_firstorder_32 = './../../data_source/radiomic_features/firstorder_original_images/pet32_firstorder_original_images.csv'\n",
    "#path_pet_firstorder_64 = './../../data_source/radiomic_features/firstorder_original_images/pet64_firstorder_original_images.csv'\n",
    "#path_pet_firstorder_128 = './../../data_source/radiomic_features/firstorder_original_images/pet128_firstorder_original_images.csv'\n",
    "#path_pet_firstorder_32 = './../../data_source/radiomic_features/firstorder_removed_broken_images/pet32_firstorder_removed_broken_images.csv'\n",
    "#path_pet_firstorder_64 = './../../data_source/radiomic_features/firstorder_removed_broken_images/pet64_firstorder_removed_broken_images.csv'\n",
    "#path_pet_firstorder_128 = './../../data_source/radiomic_features/firstorder_removed_broken_images/pet128_firstorder_removed_broken_images.csv'\n",
    "path_pet_firstorder_32 = './../../data_source/radiomic_features/firstorder_removed_broken_slices/pet32_firstorder_removed_broken_slices.csv'\n",
    "path_pet_firstorder_64 = './../../data_source/radiomic_features/firstorder_removed_broken_slices/pet64_firstorder_removed_broken_slices.csv'\n",
    "path_pet_firstorder_128 = './../../data_source/radiomic_features/firstorder_removed_broken_slices/pet128_firstorder_removed_broken_slices.csv'\n",
    "\n",
    "\n",
    "#path_ct_texture_32 = './../../data_source/radiomic_features/texture_original_images/ct32_texture_original_images.csv'\n",
    "#path_ct_texture_64 = './../../data_source/radiomic_features/texture_original_images/ct64_texture_original_images.csv'\n",
    "#path_ct_texture_128 = './../../data_source/radiomic_features/texture_original_images/ct128_texture_original_images.csv'\n",
    "#path_ct_texture_32 = './../../data_source/radiomic_features/texture_removed_broken_images/ct32_texture_removed_broken_images.csv'\n",
    "#path_ct_texture_64 = './../../data_source/radiomic_features/texture_removed_broken_images/ct64_texture_removed_broken_images.csv'\n",
    "#path_ct_texture_128 = './../../data_source/radiomic_features/texture_removed_broken_images/ct128_texture_removed_broken_images.csv'\n",
    "path_ct_texture_32 = './../../data_source/radiomic_features/texture_removed_broken_slices/ct32_texture_removed_broken_slices.csv'\n",
    "path_ct_texture_64 = './../../data_source/radiomic_features/texture_removed_broken_slices/ct64_texture_removed_broken_slices.csv'\n",
    "path_ct_texture_128 = './../../data_source/radiomic_features/texture_removed_broken_slices/ct128_texture_removed_broken_slices.csv'\n",
    "\n",
    "\n",
    "#path_pet_texture_32 = './../../data_source/radiomic_features/texture_original_images/pet32_texture_original_images.csv'\n",
    "#path_pet_texture_64 = './../../data_source/radiomic_features/texture_original_images/pet64_texture_original_images.csv'\n",
    "#path_pet_texture_128 = './../../data_source/radiomic_features/texture_original_images/pet128_texture_original_images.csv'\n",
    "#path_pet_texture_32 = './../../data_source/radiomic_features/texture_removed_broken_images/pet32_texture_removed_broken_images.csv'\n",
    "#path_pet_texture_64 = './../../data_source/radiomic_features/texture_removed_broken_images/pet64_texture_removed_broken_images.csv'\n",
    "#path_pet_texture_128 = './../../data_source/radiomic_features/texture_removed_broken_images/pet128_texture_removed_broken_images.csv'\n",
    "path_pet_texture_32 = './../../data_source/radiomic_features/texture_removed_broken_slices/ct32_texture_removed_broken_slices.csv'\n",
    "path_pet_texture_64 = './../../data_source/radiomic_features/texture_removed_broken_slices/ct64_texture_removed_broken_slices.csv'\n",
    "path_pet_texture_128 = './../../data_source/radiomic_features/texture_removed_broken_slices/ct128_texture_removed_broken_slices.csv'\n",
    "\n",
    "    \n",
    "patient_id = []\n",
    "for fname in sorted(os.listdir(path_to_dir)):\n",
    "    try:\n",
    "        patient_id.append(int(re.findall(r'\\d+', fname)[0]))\n",
    "    except:\n",
    "        pass     \n",
    "len(patient_id)"
   ]
  },
  {
   "cell_type": "markdown",
   "metadata": {},
   "source": [
    "# Shape Features"
   ]
  },
  {
   "cell_type": "code",
   "execution_count": 4,
   "metadata": {},
   "outputs": [
    {
     "data": {
      "text/html": [
       "<div>\n",
       "<style scoped>\n",
       "    .dataframe tbody tr th:only-of-type {\n",
       "        vertical-align: middle;\n",
       "    }\n",
       "\n",
       "    .dataframe tbody tr th {\n",
       "        vertical-align: top;\n",
       "    }\n",
       "\n",
       "    .dataframe thead th {\n",
       "        text-align: right;\n",
       "    }\n",
       "</style>\n",
       "<table border=\"1\" class=\"dataframe\">\n",
       "  <thead>\n",
       "    <tr style=\"text-align: right;\">\n",
       "      <th></th>\n",
       "      <th>original_shape_Elongation</th>\n",
       "      <th>original_shape_Flatness</th>\n",
       "      <th>original_shape_LeastAxisLength</th>\n",
       "      <th>original_shape_MajorAxisLength</th>\n",
       "      <th>original_shape_Maximum2DDiameterColumn</th>\n",
       "      <th>original_shape_Maximum2DDiameterRow</th>\n",
       "      <th>original_shape_Maximum2DDiameterSlice</th>\n",
       "      <th>original_shape_Maximum3DDiameter</th>\n",
       "      <th>original_shape_MeshVolume</th>\n",
       "      <th>original_shape_MinorAxisLength</th>\n",
       "      <th>original_shape_Sphericity</th>\n",
       "      <th>original_shape_SurfaceArea</th>\n",
       "      <th>original_shape_SurfaceVolumeRatio</th>\n",
       "      <th>original_shape_VoxelVolume</th>\n",
       "    </tr>\n",
       "  </thead>\n",
       "  <tbody>\n",
       "    <tr>\n",
       "      <th>2</th>\n",
       "      <td>0.738882</td>\n",
       "      <td>0.723925</td>\n",
       "      <td>27.060529</td>\n",
       "      <td>37.380273</td>\n",
       "      <td>42.953463</td>\n",
       "      <td>45.541190</td>\n",
       "      <td>43.657760</td>\n",
       "      <td>46.411206</td>\n",
       "      <td>17098.541667</td>\n",
       "      <td>27.619612</td>\n",
       "      <td>0.660413</td>\n",
       "      <td>4860.055715</td>\n",
       "      <td>0.284238</td>\n",
       "      <td>17142.0</td>\n",
       "    </tr>\n",
       "    <tr>\n",
       "      <th>4</th>\n",
       "      <td>0.796900</td>\n",
       "      <td>0.629917</td>\n",
       "      <td>19.845151</td>\n",
       "      <td>31.504408</td>\n",
       "      <td>39.446166</td>\n",
       "      <td>36.400549</td>\n",
       "      <td>30.364453</td>\n",
       "      <td>39.560081</td>\n",
       "      <td>9626.916667</td>\n",
       "      <td>25.105855</td>\n",
       "      <td>0.700069</td>\n",
       "      <td>3126.087371</td>\n",
       "      <td>0.324724</td>\n",
       "      <td>9661.0</td>\n",
       "    </tr>\n",
       "    <tr>\n",
       "      <th>5</th>\n",
       "      <td>0.600926</td>\n",
       "      <td>0.535140</td>\n",
       "      <td>22.515072</td>\n",
       "      <td>42.073251</td>\n",
       "      <td>46.957428</td>\n",
       "      <td>43.965896</td>\n",
       "      <td>32.802439</td>\n",
       "      <td>47.339202</td>\n",
       "      <td>16175.708333</td>\n",
       "      <td>25.282894</td>\n",
       "      <td>0.761164</td>\n",
       "      <td>4063.633046</td>\n",
       "      <td>0.251218</td>\n",
       "      <td>16214.0</td>\n",
       "    </tr>\n",
       "    <tr>\n",
       "      <th>8</th>\n",
       "      <td>0.784571</td>\n",
       "      <td>0.414247</td>\n",
       "      <td>30.263897</td>\n",
       "      <td>73.057649</td>\n",
       "      <td>75.133215</td>\n",
       "      <td>81.859636</td>\n",
       "      <td>66.753277</td>\n",
       "      <td>84.291162</td>\n",
       "      <td>69280.083333</td>\n",
       "      <td>57.318945</td>\n",
       "      <td>0.519631</td>\n",
       "      <td>15698.615155</td>\n",
       "      <td>0.226596</td>\n",
       "      <td>69354.0</td>\n",
       "    </tr>\n",
       "    <tr>\n",
       "      <th>10</th>\n",
       "      <td>0.690320</td>\n",
       "      <td>0.539743</td>\n",
       "      <td>19.449801</td>\n",
       "      <td>36.035312</td>\n",
       "      <td>34.176015</td>\n",
       "      <td>38.832976</td>\n",
       "      <td>33.837849</td>\n",
       "      <td>43.874822</td>\n",
       "      <td>10705.375000</td>\n",
       "      <td>24.875896</td>\n",
       "      <td>0.642079</td>\n",
       "      <td>3658.448414</td>\n",
       "      <td>0.341739</td>\n",
       "      <td>10749.0</td>\n",
       "    </tr>\n",
       "  </tbody>\n",
       "</table>\n",
       "</div>"
      ],
      "text/plain": [
       "    original_shape_Elongation  original_shape_Flatness  \\\n",
       "2                    0.738882                 0.723925   \n",
       "4                    0.796900                 0.629917   \n",
       "5                    0.600926                 0.535140   \n",
       "8                    0.784571                 0.414247   \n",
       "10                   0.690320                 0.539743   \n",
       "\n",
       "    original_shape_LeastAxisLength  original_shape_MajorAxisLength  \\\n",
       "2                        27.060529                       37.380273   \n",
       "4                        19.845151                       31.504408   \n",
       "5                        22.515072                       42.073251   \n",
       "8                        30.263897                       73.057649   \n",
       "10                       19.449801                       36.035312   \n",
       "\n",
       "    original_shape_Maximum2DDiameterColumn  \\\n",
       "2                                42.953463   \n",
       "4                                39.446166   \n",
       "5                                46.957428   \n",
       "8                                75.133215   \n",
       "10                               34.176015   \n",
       "\n",
       "    original_shape_Maximum2DDiameterRow  \\\n",
       "2                             45.541190   \n",
       "4                             36.400549   \n",
       "5                             43.965896   \n",
       "8                             81.859636   \n",
       "10                            38.832976   \n",
       "\n",
       "    original_shape_Maximum2DDiameterSlice  original_shape_Maximum3DDiameter  \\\n",
       "2                               43.657760                         46.411206   \n",
       "4                               30.364453                         39.560081   \n",
       "5                               32.802439                         47.339202   \n",
       "8                               66.753277                         84.291162   \n",
       "10                              33.837849                         43.874822   \n",
       "\n",
       "    original_shape_MeshVolume  original_shape_MinorAxisLength  \\\n",
       "2                17098.541667                       27.619612   \n",
       "4                 9626.916667                       25.105855   \n",
       "5                16175.708333                       25.282894   \n",
       "8                69280.083333                       57.318945   \n",
       "10               10705.375000                       24.875896   \n",
       "\n",
       "    original_shape_Sphericity  original_shape_SurfaceArea  \\\n",
       "2                    0.660413                 4860.055715   \n",
       "4                    0.700069                 3126.087371   \n",
       "5                    0.761164                 4063.633046   \n",
       "8                    0.519631                15698.615155   \n",
       "10                   0.642079                 3658.448414   \n",
       "\n",
       "    original_shape_SurfaceVolumeRatio  original_shape_VoxelVolume  \n",
       "2                            0.284238                     17142.0  \n",
       "4                            0.324724                      9661.0  \n",
       "5                            0.251218                     16214.0  \n",
       "8                            0.226596                     69354.0  \n",
       "10                           0.341739                     10749.0  "
      ]
     },
     "execution_count": 4,
     "metadata": {},
     "output_type": "execute_result"
    }
   ],
   "source": [
    "# NOTE: Using original tumor volume despite removing slices.\n",
    "shape = pd.read_csv(path_to_shape_features, index_col=0)\n",
    "shape.index = patient_id\n",
    "\n",
    "shape.head()"
   ]
  },
  {
   "cell_type": "code",
   "execution_count": 5,
   "metadata": {},
   "outputs": [
    {
     "data": {
      "text/plain": [
       "(196, 14)"
      ]
     },
     "execution_count": 5,
     "metadata": {},
     "output_type": "execute_result"
    }
   ],
   "source": [
    "shape.shape"
   ]
  },
  {
   "cell_type": "markdown",
   "metadata": {},
   "source": [
    "# CT First Order"
   ]
  },
  {
   "cell_type": "code",
   "execution_count": 6,
   "metadata": {},
   "outputs": [],
   "source": [
    "ct_firstorder_32 = pd.read_csv(path_ct_firstorder_32, index_col=0)\n",
    "ct_firstorder_64 = pd.read_csv(path_ct_firstorder_64, index_col=0)\n",
    "ct_firstorder_128 = pd.read_csv(path_ct_firstorder_128, index_col=0)\n",
    "\n",
    "raw_ct_firstorder = pd.concat(\n",
    "    (\n",
    "        ct_firstorder_32,\n",
    "        ct_firstorder_64,\n",
    "        ct_firstorder_128\n",
    "    ),\n",
    "    axis=1\n",
    ")\n",
    "raw_ct_firstorder.index = patient_id"
   ]
  },
  {
   "cell_type": "code",
   "execution_count": 7,
   "metadata": {},
   "outputs": [
    {
     "data": {
      "text/plain": [
       "((196, 18), (196, 18), (196, 18))"
      ]
     },
     "execution_count": 7,
     "metadata": {},
     "output_type": "execute_result"
    }
   ],
   "source": [
    "ct_firstorder_32.shape, ct_firstorder_64.shape, ct_firstorder_128.shape"
   ]
  },
  {
   "cell_type": "code",
   "execution_count": 8,
   "metadata": {},
   "outputs": [],
   "source": [
    "ct_firstorder, ct_firstorder_dropped = features_independent_of_gl(raw_ct_firstorder)"
   ]
  },
  {
   "cell_type": "markdown",
   "metadata": {},
   "source": [
    "# PET First Order"
   ]
  },
  {
   "cell_type": "code",
   "execution_count": 9,
   "metadata": {},
   "outputs": [],
   "source": [
    "pet_firstorder_32 = pd.read_csv(path_pet_firstorder_32, index_col=0)\n",
    "pet_firstorder_64 = pd.read_csv(path_pet_firstorder_64, index_col=0)\n",
    "pet_firstorder_128 = pd.read_csv(path_pet_firstorder_128, index_col=0)\n",
    "\n",
    "raw_pet_firstorder = pd.concat(\n",
    "    (\n",
    "        pet_firstorder_32,\n",
    "        pet_firstorder_64,\n",
    "        pet_firstorder_128\n",
    "    ),\n",
    "    axis=1\n",
    ")\n",
    "raw_pet_firstorder.index = patient_id"
   ]
  },
  {
   "cell_type": "code",
   "execution_count": 10,
   "metadata": {},
   "outputs": [
    {
     "data": {
      "text/plain": [
       "((196, 18), (196, 18), (196, 18))"
      ]
     },
     "execution_count": 10,
     "metadata": {},
     "output_type": "execute_result"
    }
   ],
   "source": [
    "pet_firstorder_32.shape, pet_firstorder_64.shape, pet_firstorder_128.shape"
   ]
  },
  {
   "cell_type": "code",
   "execution_count": 11,
   "metadata": {},
   "outputs": [],
   "source": [
    "pet_firstorder, pet_firstorder_dropped = features_independent_of_gl(raw_pet_firstorder)"
   ]
  },
  {
   "cell_type": "markdown",
   "metadata": {},
   "source": [
    "# CT  Texture"
   ]
  },
  {
   "cell_type": "code",
   "execution_count": 12,
   "metadata": {},
   "outputs": [],
   "source": [
    "ct_texture_32 = pd.read_csv(path_ct_texture_32, index_col=0)\n",
    "ct_texture_64 = pd.read_csv(path_ct_texture_64, index_col=0)\n",
    "ct_texture_128 = pd.read_csv(path_ct_texture_128, index_col=0)\n",
    "\n",
    "raw_ct_texture = pd.concat(\n",
    "    (\n",
    "        ct_texture_32,\n",
    "        ct_texture_64,\n",
    "        ct_texture_128\n",
    "    ),\n",
    "    axis=1\n",
    ")\n",
    "raw_ct_texture.index = patient_id"
   ]
  },
  {
   "cell_type": "code",
   "execution_count": 13,
   "metadata": {},
   "outputs": [
    {
     "data": {
      "text/plain": [
       "((196, 75), (196, 75), (196, 75))"
      ]
     },
     "execution_count": 13,
     "metadata": {},
     "output_type": "execute_result"
    }
   ],
   "source": [
    "ct_texture_32.shape, ct_texture_64.shape, ct_texture_128.shape"
   ]
  },
  {
   "cell_type": "code",
   "execution_count": 14,
   "metadata": {},
   "outputs": [
    {
     "data": {
      "text/plain": [
       "[]"
      ]
     },
     "execution_count": 14,
     "metadata": {},
     "output_type": "execute_result"
    }
   ],
   "source": [
    "ct_texture, ct_texture_dropped = features_independent_of_gl(raw_ct_texture)\n",
    "ct_texture_dropped"
   ]
  },
  {
   "cell_type": "markdown",
   "metadata": {},
   "source": [
    "# PET Texture"
   ]
  },
  {
   "cell_type": "code",
   "execution_count": 15,
   "metadata": {},
   "outputs": [],
   "source": [
    "pet_texture_32 = pd.read_csv(path_pet_texture_32, index_col=0)\n",
    "pet_texture_64 = pd.read_csv(path_pet_texture_64, index_col=0)\n",
    "pet_texture_128 = pd.read_csv(path_pet_texture_128, index_col=0)\n",
    "\n",
    "raw_pet_texture = pd.concat(\n",
    "    (\n",
    "        pet_texture_32,\n",
    "        pet_texture_64,\n",
    "        pet_texture_128\n",
    "    ),\n",
    "    axis=1\n",
    ")\n",
    "raw_pet_texture.index = patient_id"
   ]
  },
  {
   "cell_type": "code",
   "execution_count": 16,
   "metadata": {},
   "outputs": [
    {
     "data": {
      "text/plain": [
       "((196, 75), (196, 75), (196, 75))"
      ]
     },
     "execution_count": 16,
     "metadata": {},
     "output_type": "execute_result"
    }
   ],
   "source": [
    "pet_texture_32.shape, pet_texture_64.shape, pet_texture_128.shape"
   ]
  },
  {
   "cell_type": "code",
   "execution_count": 17,
   "metadata": {},
   "outputs": [],
   "source": [
    "pet_texture, pet_texture_dropped = features_independent_of_gl(raw_pet_texture)"
   ]
  },
  {
   "cell_type": "markdown",
   "metadata": {},
   "source": [
    "# Concatenate Features"
   ]
  },
  {
   "cell_type": "code",
   "execution_count": 18,
   "metadata": {},
   "outputs": [
    {
     "data": {
      "text/plain": [
       "(196, 508)"
      ]
     },
     "execution_count": 18,
     "metadata": {},
     "output_type": "execute_result"
    }
   ],
   "source": [
    "ct_features = pd.concat((ct_firstorder, ct_texture), axis=1)\n",
    "pet_features = pd.concat((pet_firstorder, pet_texture), axis=1)\n",
    "\n",
    "# Add modality labels to GL bin labels.\n",
    "ct_features.columns = ['CT_{}'.format(col) for col in ct_features.columns]\n",
    "pet_features.columns = ['PET_{}'.format(col) for col in pet_features.columns]\n",
    "\n",
    "radiomics_features = pd.concat((shape, ct_features, pet_features), axis=1)\n",
    "radiomics_features.index = patient_id\n",
    "\n",
    "radiomics_features.shape"
   ]
  },
  {
   "cell_type": "code",
   "execution_count": 19,
   "metadata": {},
   "outputs": [
    {
     "data": {
      "text/plain": [
       "((196, 1), (196, 1))"
      ]
     },
     "execution_count": 19,
     "metadata": {},
     "output_type": "execute_result"
    }
   ],
   "source": [
    "# Concat with clinical variables and PET params.\n",
    "clinical_features = pd.read_csv('./../../data_source/to_analysis/clinical_params.csv', index_col=0)\n",
    "pet_params = pd.read_csv('./../../data_source/to_analysis/pet_params.csv', index_col=0)\n",
    "lrr = pd.read_csv('./../../data_source/to_analysis/target_lrr.csv', index_col=0)\n",
    "dfs = pd.read_csv('./../../data_source/to_analysis/target_dfs.csv', index_col=0)\n",
    "\n",
    "# HACK:\n",
    "tmp_patient_id = np.load('./../../data_source/patient_id.npy')\n",
    "clinical_features.index = tmp_patient_id\n",
    "pet_params.index = tmp_patient_id\n",
    "lrr.index = tmp_patient_id\n",
    "dfs.index = tmp_patient_id\n",
    "\n",
    "clinical_features = clinical_features.loc[patient_id, :]\n",
    "pet_params = pet_params.loc[patient_id, :]\n",
    "lrr = lrr.loc[patient_id, :]\n",
    "dfs = dfs.loc[patient_id]\n",
    "\n",
    "lrr.to_csv(path_to_lrr)\n",
    "dfs.to_csv(path_to_dfs)\n",
    "\n",
    "lrr.shape, dfs.shape"
   ]
  },
  {
   "cell_type": "code",
   "execution_count": 20,
   "metadata": {},
   "outputs": [
    {
     "data": {
      "text/plain": [
       "(196, 553)"
      ]
     },
     "execution_count": 20,
     "metadata": {},
     "output_type": "execute_result"
    }
   ],
   "source": [
    "X = pd.concat((clinical_features, radiomics_features, pet_params), axis=1)\n",
    "np.shape(X)"
   ]
  },
  {
   "cell_type": "code",
   "execution_count": 21,
   "metadata": {},
   "outputs": [],
   "source": [
    "X.to_csv(path_to_feature_matrix)"
   ]
  },
  {
   "cell_type": "code",
   "execution_count": 22,
   "metadata": {},
   "outputs": [
    {
     "data": {
      "text/plain": [
       "(196, 450)"
      ]
     },
     "execution_count": 22,
     "metadata": {},
     "output_type": "execute_result"
    }
   ],
   "source": [
    "# Create texture features dataset for comparison of artifact handling method.\n",
    "ct_texture.columns = ['CT_{}'.format(col) for col in ct_texture.columns]\n",
    "pet_texture.columns = ['PET_{}'.format(col) for col in pet_texture.columns]\n",
    "\n",
    "texture_features = pd.concat((ct_texture, pet_texture), axis=1)\n",
    "texture_features.to_csv(path_to_texture_features)\n",
    "\n",
    "texture_features.shape"
   ]
  },
  {
   "cell_type": "code",
   "execution_count": 23,
   "metadata": {
    "scrolled": true
   },
   "outputs": [
    {
     "data": {
      "text/plain": [
       "(196, 44)"
      ]
     },
     "execution_count": 23,
     "metadata": {},
     "output_type": "execute_result"
    }
   ],
   "source": [
    "# Create firstorder features dataset for comparison of artifact handling method.\n",
    "ct_firstorder.columns = ['CT_{}'.format(col) for col in ct_firstorder.columns]\n",
    "pet_firstorder.columns = ['PET_{}'.format(col) for col in pet_firstorder.columns]\n",
    "\n",
    "firstorder_features = pd.concat((ct_firstorder, pet_firstorder), axis=1)\n",
    "firstorder_features.to_csv(path_to_firstorder_features)\n",
    "\n",
    "firstorder_features.shape"
   ]
  },
  {
   "cell_type": "code",
   "execution_count": 24,
   "metadata": {},
   "outputs": [
    {
     "data": {
      "text/plain": [
       "(196, 247)"
      ]
     },
     "execution_count": 24,
     "metadata": {},
     "output_type": "execute_result"
    }
   ],
   "source": [
    "# No CT features.\n",
    "X_CT = X.filter(regex='CT')\n",
    "X_not_CT = X.drop(X_CT, axis=1)\n",
    "X_not_CT.to_csv(path_no_ct)\n",
    "\n",
    "X_CT.shape"
   ]
  },
  {
   "cell_type": "code",
   "execution_count": null,
   "metadata": {},
   "outputs": [],
   "source": []
  }
 ],
 "metadata": {
  "anaconda-cloud": {},
  "kernelspec": {
   "display_name": "Python 3",
   "language": "python",
   "name": "python3"
  },
  "language_info": {
   "codemirror_mode": {
    "name": "ipython",
    "version": 3
   },
   "file_extension": ".py",
   "mimetype": "text/x-python",
   "name": "python",
   "nbconvert_exporter": "python",
   "pygments_lexer": "ipython3",
   "version": "3.6.2"
  }
 },
 "nbformat": 4,
 "nbformat_minor": 2
}
