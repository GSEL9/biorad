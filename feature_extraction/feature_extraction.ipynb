{
 "cells": [
  {
   "cell_type": "markdown",
   "metadata": {},
   "source": [
    "# Radiomics Feature Extraction\n",
    "\n",
    "Extracting features from PET and CT images."
   ]
  },
  {
   "cell_type": "code",
   "execution_count": 1,
   "metadata": {},
   "outputs": [],
   "source": [
    "import os\n",
    "import nrrd\n",
    "import utils \n",
    "import radiomics\n",
    "\n",
    "import numpy as np\n",
    "import pandas as pd\n",
    "import matplotlib.pyplot as plt\n",
    "\n",
    "from feature_extraction import feature_extractor\n",
    "\n",
    "%matplotlib inline"
   ]
  },
  {
   "cell_type": "code",
   "execution_count": 2,
   "metadata": {},
   "outputs": [],
   "source": [
    "#path_ct_imagedir = './../../data_source/images/ct_nrrd/'\n",
    "#path_ct_masksdir = './../../data_source/images/masks_nrrd/'\n",
    "#path_pet_imagedir = './../../data_source/images/pet_nrrd/'\n",
    "#path_pet_masksdir = './../../data_source/images/masks_nrrd/'\n",
    "\n",
    "#path_ct_imagedir = './../../data_source/images/ct_removed_broken_images/'\n",
    "#path_ct_masksdir = './../../data_source/images/masks_removed_broken_images/'\n",
    "#path_pet_imagedir = './../../data_source/images/pet_removed_broken_images/'\n",
    "#path_pet_masksdir = './../../data_source/images/masks_removed_broken_images/'\n",
    "\n",
    "path_ct_imagedir = './../../data_source/images/ct_removed_broken_slices/'\n",
    "path_ct_masksdir = './../../data_source/images/masks_removed_broken_slices_ct_size/'\n",
    "path_pet_imagedir = './../../data_source/images/pet_removed_broken_slices/'\n",
    "path_pet_masksdir = './../../data_source/images/masks_removed_broken_slices_pet_size/'"
   ]
  },
  {
   "cell_type": "code",
   "execution_count": 3,
   "metadata": {},
   "outputs": [],
   "source": [
    "# NB: Load correct image data set before calc features.\n",
    "ct_param_files = [\n",
    "    #'./parameter_files/firstorder_original_images/ct32_firstorder_original_images_config.yaml',\n",
    "    #'./parameter_files/firstorder_original_images/ct64_firstorder_original_images_config.yaml',\n",
    "    #'./parameter_files/firstorder_original_images/ct128_firstorder_original_images_config.yaml',\n",
    "    #'./parameter_files/texture_original_images/ct32_texture_original_images_config.yaml',\n",
    "    #'./parameter_files/texture_original_images/ct64_texture_original_images_config.yaml',\n",
    "    #'./parameter_files/texture_original_images/ct128_texture_original_images_config.yaml'\n",
    "    \n",
    "    #'./parameter_files/firstorder_removed_broken_images/ct32_firstorder_removed_broken_images_config.yaml',\n",
    "    #'./parameter_files/firstorder_removed_broken_images/ct64_firstorder_removed_broken_images_config.yaml',\n",
    "    #'./parameter_files/firstorder_removed_broken_images/ct128_firstorder_removed_broken_images_config.yaml',\n",
    "    #'./parameter_files/texture_removed_broken_images/ct32_texture_removed_broken_images_config.yaml',\n",
    "    #'./parameter_files/texture_removed_broken_images/ct64_texture_removed_broken_images_config.yaml',\n",
    "    #'./parameter_files/texture_removed_broken_images/ct128_texture_removed_broken_images_config.yaml',\n",
    "    \n",
    "    './parameter_files/firstorder_removed_broken_slices/ct32_firstorder_removed_broken_slices_config.yaml',\n",
    "    './parameter_files/firstorder_removed_broken_slices/ct64_firstorder_removed_broken_slices_config.yaml',\n",
    "    './parameter_files/firstorder_removed_broken_slices/ct128_firstorder_removed_broken_slices_config.yaml',\n",
    "    './parameter_files/texture_removed_broken_slices/ct32_texture_removed_broken_slices_config.yaml',\n",
    "    './parameter_files/texture_removed_broken_slices/ct64_texture_removed_broken_slices_config.yaml',\n",
    "    './parameter_files/texture_removed_broken_slices/ct128_texture_removed_broken_slices_config.yaml',\n",
    "]\n",
    "ct_feature_files = [\n",
    "    #'./../../data_source/radiomic_features/firstorder_original_images/ct32_firstorder_original_images.csv',\n",
    "    #'./../../data_source/radiomic_features/firstorder_original_images/ct64_firstorder_original_images.csv',\n",
    "    #'./../../data_source/radiomic_features/firstorder_original_images/ct128_firstorder_original_images.csv',\n",
    "    #'./../../data_source/radiomic_features/texture_original_images/ct32_texture_original_images.csv',\n",
    "    #'./../../data_source/radiomic_features/texture_original_images/ct64_texture_original_images.csv',\n",
    "    #'./../../data_source/radiomic_features/texture_original_images/ct128_texture_original_images.csv'\n",
    "    \n",
    "    #'./../../data_source/radiomic_features/firstorder_removed_broken_images/ct32_firstorder_removed_broken_images.csv',\n",
    "    #'./../../data_source/radiomic_features/firstorder_removed_broken_images/ct64_firstorder_removed_broken_images.csv',\n",
    "    #'./../../data_source/radiomic_features/firstorder_removed_broken_images/ct128_firstorder_removed_broken_images.csv',\n",
    "    #'./../../data_source/radiomic_features/texture_removed_broken_images/ct32_texture_removed_broken_images.csv',\n",
    "    #'./../../data_source/radiomic_features/texture_removed_broken_images/ct64_texture_removed_broken_images.csv',\n",
    "    #'./../../data_source/radiomic_features/texture_removed_broken_images/ct128_texture_removed_broken_images.csv',\n",
    "    \n",
    "    './../../data_source/radiomic_features/firstorder_removed_broken_slices/ct32_firstorder_removed_broken_slices.csv',\n",
    "    './../../data_source/radiomic_features/firstorder_removed_broken_slices/ct64_firstorder_removed_broken_slices.csv',\n",
    "    './../../data_source/radiomic_features/firstorder_removed_broken_slices/ct128_firstorder_removed_broken_slices.csv',\n",
    "    './../../data_source/radiomic_features/texture_removed_broken_slices/ct32_texture_removed_broken_slices.csv',\n",
    "    './../../data_source/radiomic_features/texture_removed_broken_slices/ct64_texture_removed_broken_slices.csv',\n",
    "    './../../data_source/radiomic_features/texture_removed_broken_slices/ct128_texture_removed_broken_slices.csv',\n",
    "]"
   ]
  },
  {
   "cell_type": "code",
   "execution_count": 4,
   "metadata": {},
   "outputs": [],
   "source": [
    "# NB: Load correct image data set before calc features.\n",
    "pet_param_files = [\n",
    "    #'./parameter_files/shape/shape_config.yaml',\n",
    "    #'./parameter_files/shape/shape_config.yaml',\n",
    "    #'./parameter_files/shape/shape_config.yaml',\n",
    "    \n",
    "    #'./parameter_files/firstorder_original_images/pet32_firstorder_original_images_config.yaml',\n",
    "    #'./parameter_files/firstorder_original_images/pet64_firstorder_original_images_config.yaml',\n",
    "    #'./parameter_files/firstorder_original_images/pet128_firstorder_original_images_config.yaml',\n",
    "    #'./parameter_files/texture_original_images/pet32_texture_original_images_config.yaml',\n",
    "    #'./parameter_files/texture_original_images/pet64_texture_original_images_config.yaml',\n",
    "    #'./parameter_files/texture_original_images/pet128_texture_original_images_config.yaml'\n",
    "    \n",
    "    #'./parameter_files/firstorder_removed_broken_images/pet32_firstorder_removed_broken_images_config.yaml',\n",
    "    #'./parameter_files/firstorder_removed_broken_images/pet64_firstorder_removed_broken_images_config.yaml',\n",
    "    #'./parameter_files/firstorder_removed_broken_images/pet128_firstorder_removed_broken_images_config.yaml',\n",
    "    #'./parameter_files/texture_removed_broken_images/pet32_texture_removed_broken_images_config.yaml',\n",
    "    #'./parameter_files/texture_removed_broken_images/pet64_texture_removed_broken_images_config.yaml',\n",
    "    #'./parameter_files/texture_removed_broken_images/pet128_texture_removed_broken_images_config.yaml',\n",
    "    \n",
    "    './parameter_files/firstorder_removed_broken_slices/pet32_firstorder_removed_broken_slices_config.yaml',\n",
    "    './parameter_files/firstorder_removed_broken_slices/pet64_firstorder_removed_broken_slices_config.yaml',\n",
    "    './parameter_files/firstorder_removed_broken_slices/pet128_firstorder_removed_broken_slices_config.yaml',\n",
    "    './parameter_files/texture_removed_broken_slices/pet32_texture_removed_broken_slices_config.yaml',\n",
    "    './parameter_files/texture_removed_broken_slices/pet64_texture_removed_broken_slices_config.yaml',\n",
    "    './parameter_files/texture_removed_broken_slices/pet128_texture_removed_broken_slices_config.yaml',\n",
    "]\n",
    "pet_feature_files = [\n",
    "    #'./../../data_source/radiomic_features/shape/shape_original_masks.csv',\n",
    "    #'./../../data_source/radiomic_features/shape/shape_removed_broken_images.csv',\n",
    "    #'./../../data_source/radiomic_features/shape/shape_removed_broken_slices.csv',\n",
    "    \n",
    "    #'./../../data_source/radiomic_features/firstorder_original_images/pet32_firstorder_original_images.csv',\n",
    "    #'./../../data_source/radiomic_features/firstorder_original_images/pet64_firstorder_original_images.csv',\n",
    "    #'./../../data_source/radiomic_features/firstorder_original_images/pet128_firstorder_original_images.csv',\n",
    "    #'./../../data_source/radiomic_features/texture_original_images/pet32_texture_original_images.csv',\n",
    "    #'./../../data_source/radiomic_features/texture_original_images/pet64_texture_original_images.csv',\n",
    "    #'./../../data_source/radiomic_features/texture_original_images/pet128_texture_original_images.csv'\n",
    "    \n",
    "    #'./../../data_source/radiomic_features/firstorder_removed_broken_images/pet32_firstorder_removed_broken_images.csv',\n",
    "    #'./../../data_source/radiomic_features/firstorder_removed_broken_images/pet64_firstorder_removed_broken_images.csv',\n",
    "    #'./../../data_source/radiomic_features/firstorder_removed_broken_images/pet128_firstorder_removed_broken_images.csv',\n",
    "    #'./../../data_source/radiomic_features/texture_removed_broken_images/pet32_texture_removed_broken_images.csv',\n",
    "    #'./../../data_source/radiomic_features/texture_removed_broken_images/pet64_texture_removed_broken_images.csv',\n",
    "    #'./../../data_source/radiomic_features/texture_removed_broken_images/pet128_texture_removed_broken_images.csv',\n",
    "    \n",
    "    './../../data_source/radiomic_features/firstorder_removed_broken_slices/pet32_firstorder_removed_broken_slices.csv',\n",
    "    './../../data_source/radiomic_features/firstorder_removed_broken_slices/pet64_firstorder_removed_broken_slices.csv',\n",
    "    './../../data_source/radiomic_features/firstorder_removed_broken_slices/pet128_firstorder_removed_broken_slices.csv',\n",
    "    './../../data_source/radiomic_features/texture_removed_broken_slices/pet32_texture_removed_broken_slices.csv',\n",
    "    './../../data_source/radiomic_features/texture_removed_broken_slices/pet64_texture_removed_broken_slices.csv',\n",
    "    './../../data_source/radiomic_features/texture_removed_broken_slices/pet128_texture_removed_broken_slices.csv',\n",
    "]"
   ]
  },
  {
   "cell_type": "code",
   "execution_count": 5,
   "metadata": {},
   "outputs": [],
   "source": [
    "paths_ct_images = utils.sample_paths(\n",
    "    path_ct_imagedir, path_ct_masksdir, target_format='nrrd'\n",
    ")\n",
    "paths_pet_images = utils.sample_paths(\n",
    "    path_pet_imagedir, path_pet_masksdir, target_format='nrrd'\n",
    ")"
   ]
  },
  {
   "cell_type": "code",
   "execution_count": 6,
   "metadata": {},
   "outputs": [
    {
     "data": {
      "text/plain": [
       "(196, 196)"
      ]
     },
     "execution_count": 6,
     "metadata": {},
     "output_type": "execute_result"
    }
   ],
   "source": [
    "# Sanity check.\n",
    "len(paths_ct_images), len(paths_pet_images)"
   ]
  },
  {
   "cell_type": "markdown",
   "metadata": {},
   "source": [
    "## Setup"
   ]
  },
  {
   "cell_type": "code",
   "execution_count": 7,
   "metadata": {},
   "outputs": [],
   "source": [
    "# Texture features are shown to be more stable after GL normalizations.\n",
    "# Ref: Voxel size and gray level normalization of CT radiomic features in lung cancer.\n",
    "def z_score_transform(image):\n",
    "    \n",
    "    _image = np.copy(image)\n",
    "    image_z_scored = (_image - np.nanmean(_image)) / (np.nanstd(_image) + 1e-10)\n",
    "\n",
    "    return image_z_scored\n",
    "\n",
    "\n",
    "def bin_widths(path_images, nbins, n=3, z_scoring=False):\n",
    "    \"\"\"Average min and max to compare histogram across stacks.\n",
    "    Fixed bin iwdth (and not fixed bin size) to compare texture\n",
    "    features across stacks.\n",
    "    \n",
    "    \"\"\"\n",
    "    img_max, img_min = [], []\n",
    "    for image_path in path_images:\n",
    "        \n",
    "        image, _ = nrrd.read(image_path['Image'])\n",
    "        mask, _ = nrrd.read(image_path['Mask'])\n",
    "        # Calc GL discr. from tumor region only.\n",
    "        _cropped_image = image * mask\n",
    "        # NOTE: Want min that is not background. Returned \n",
    "        # cropped image changes shape.\n",
    "        cropped_image = np.copy(_cropped_image)\n",
    "        cropped_image[_cropped_image == 0] = np.nan\n",
    "        \n",
    "        if z_scoring:\n",
    "            cropped_image = z_score_transform(cropped_image)\n",
    "        \n",
    "        img_max.append(np.ceil(np.nanmax(cropped_image)))\n",
    "        img_min.append(np.floor(np.nanmin(cropped_image)))\n",
    "  \n",
    "    return (np.mean(img_max) - np.mean(img_min)) / nbins"
   ]
  },
  {
   "cell_type": "code",
   "execution_count": 8,
   "metadata": {},
   "outputs": [],
   "source": [
    "# NOTE: \n",
    "# * Calc GL discr from tumor region only to best preserve tumor texture.\n",
    "# * Slice removal requires different GL bins widths.\n",
    "\n",
    "#print(bin_widths(paths_pet_images, 32))\n",
    "#print(bin_widths(paths_pet_images, 64)) \n",
    "#print(bin_widths(paths_pet_images, 128))"
   ]
  },
  {
   "cell_type": "code",
   "execution_count": 9,
   "metadata": {},
   "outputs": [],
   "source": [
    "# TODO:\n",
    "# * Calc GL discr from tumor region only to best preserve tumor texture.\n",
    "# * Slice removal requires different GL bins widths.\n",
    "\n",
    "#print(bin_widths(paths_ct_images, 32))\n",
    "#print(bin_widths(paths_ct_images, 64)) \n",
    "#print(bin_widths(paths_ct_images, 128))"
   ]
  },
  {
   "cell_type": "code",
   "execution_count": 10,
   "metadata": {},
   "outputs": [],
   "source": [
    "# TODO: \n",
    "# * Calc GL discr from tumor region only to best preserve tumor texture.\n",
    "# * Slice removal requires different GL bins widths.\n",
    "\n",
    "#print(bin_widths(paths_ct_images, 32, z_scoring=True))\n",
    "#print(bin_widths(paths_ct_images, 64, z_scoring=True))\n",
    "#print(bin_widths(paths_ct_images, 128, z_scoring=True))"
   ]
  },
  {
   "cell_type": "markdown",
   "metadata": {},
   "source": [
    "## Calculate features"
   ]
  },
  {
   "cell_type": "code",
   "execution_count": 11,
   "metadata": {
    "scrolled": false
   },
   "outputs": [
    {
     "name": "stdout",
     "output_type": "stream",
     "text": [
      "Initiated feature extraction.\n"
     ]
    },
    {
     "name": "stderr",
     "output_type": "stream",
     "text": [
      "[Parallel(n_jobs=3)]: Using backend LokyBackend with 3 concurrent workers.\n",
      "[Parallel(n_jobs=3)]: Done  44 tasks      | elapsed:    6.4s\n",
      "[Parallel(n_jobs=3)]: Done 196 out of 196 | elapsed:   21.7s finished\n",
      "[Parallel(n_jobs=3)]: Using backend LokyBackend with 3 concurrent workers.\n"
     ]
    },
    {
     "name": "stdout",
     "output_type": "stream",
     "text": [
      "Initiated feature extraction.\n"
     ]
    },
    {
     "name": "stderr",
     "output_type": "stream",
     "text": [
      "[Parallel(n_jobs=3)]: Done  44 tasks      | elapsed:    3.8s\n",
      "[Parallel(n_jobs=3)]: Done 196 out of 196 | elapsed:   14.5s finished\n",
      "[Parallel(n_jobs=3)]: Using backend LokyBackend with 3 concurrent workers.\n"
     ]
    },
    {
     "name": "stdout",
     "output_type": "stream",
     "text": [
      "Initiated feature extraction.\n"
     ]
    },
    {
     "name": "stderr",
     "output_type": "stream",
     "text": [
      "[Parallel(n_jobs=3)]: Done  82 tasks      | elapsed:    6.4s\n",
      "[Parallel(n_jobs=3)]: Done 196 out of 196 | elapsed:   15.3s finished\n",
      "[Parallel(n_jobs=3)]: Using backend LokyBackend with 3 concurrent workers.\n"
     ]
    },
    {
     "name": "stdout",
     "output_type": "stream",
     "text": [
      "Initiated feature extraction.\n"
     ]
    },
    {
     "name": "stderr",
     "output_type": "stream",
     "text": [
      "[Parallel(n_jobs=3)]: Done  44 tasks      | elapsed:    7.2s\n",
      "[Parallel(n_jobs=3)]: Done 196 out of 196 | elapsed:   25.8s finished\n",
      "[Parallel(n_jobs=3)]: Using backend LokyBackend with 3 concurrent workers.\n"
     ]
    },
    {
     "name": "stdout",
     "output_type": "stream",
     "text": [
      "Initiated feature extraction.\n"
     ]
    },
    {
     "name": "stderr",
     "output_type": "stream",
     "text": [
      "[Parallel(n_jobs=3)]: Done  44 tasks      | elapsed:    6.2s\n",
      "[Parallel(n_jobs=3)]: Done 196 out of 196 | elapsed:   24.7s finished\n",
      "[Parallel(n_jobs=3)]: Using backend LokyBackend with 3 concurrent workers.\n"
     ]
    },
    {
     "name": "stdout",
     "output_type": "stream",
     "text": [
      "Initiated feature extraction.\n"
     ]
    },
    {
     "name": "stderr",
     "output_type": "stream",
     "text": [
      "[Parallel(n_jobs=3)]: Done  44 tasks      | elapsed:    8.6s\n",
      "[Parallel(n_jobs=3)]: Done 196 out of 196 | elapsed:   27.9s finished\n"
     ]
    }
   ],
   "source": [
    "for ct_param_file, ct_feature_file in zip(ct_param_files, ct_feature_files):\n",
    "    \n",
    "    # Sanity check (shape features only): Corresponding names on parameter and feature file.\n",
    "    _param_file_ref = ('_').join(os.path.basename(ct_param_file).split('_')[:3])\n",
    "    _feature_file_ref = ('_').join(os.path.basename(ct_feature_file).split('_')[:3])\n",
    "    assert _param_file_ref == _feature_file_ref\n",
    "    \n",
    "    feature_extractor(\n",
    "        param_file=ct_param_file, \n",
    "        paths_to_images_and_masks=paths_ct_images, \n",
    "        verbose=1, \n",
    "        path_to_results=ct_feature_file,\n",
    "        n_jobs=None, \n",
    "        drop_missing=True, \n",
    "        variance_thresh=0.0\n",
    "    )"
   ]
  },
  {
   "cell_type": "code",
   "execution_count": 12,
   "metadata": {},
   "outputs": [
    {
     "name": "stderr",
     "output_type": "stream",
     "text": [
      "[Parallel(n_jobs=3)]: Using backend LokyBackend with 3 concurrent workers.\n"
     ]
    },
    {
     "name": "stdout",
     "output_type": "stream",
     "text": [
      "Initiated feature extraction.\n"
     ]
    },
    {
     "name": "stderr",
     "output_type": "stream",
     "text": [
      "[Parallel(n_jobs=3)]: Done  82 tasks      | elapsed:    6.7s\n",
      "[Parallel(n_jobs=3)]: Done 196 out of 196 | elapsed:   15.7s finished\n",
      "[Parallel(n_jobs=3)]: Using backend LokyBackend with 3 concurrent workers.\n"
     ]
    },
    {
     "name": "stdout",
     "output_type": "stream",
     "text": [
      "Initiated feature extraction.\n"
     ]
    },
    {
     "name": "stderr",
     "output_type": "stream",
     "text": [
      "[Parallel(n_jobs=3)]: Done  82 tasks      | elapsed:    6.3s\n",
      "[Parallel(n_jobs=3)]: Done 196 out of 196 | elapsed:   14.9s finished\n",
      "[Parallel(n_jobs=3)]: Using backend LokyBackend with 3 concurrent workers.\n"
     ]
    },
    {
     "name": "stdout",
     "output_type": "stream",
     "text": [
      "Initiated feature extraction.\n"
     ]
    },
    {
     "name": "stderr",
     "output_type": "stream",
     "text": [
      "[Parallel(n_jobs=3)]: Done  82 tasks      | elapsed:    6.1s\n",
      "[Parallel(n_jobs=3)]: Done 196 out of 196 | elapsed:   14.5s finished\n",
      "[Parallel(n_jobs=3)]: Using backend LokyBackend with 3 concurrent workers.\n"
     ]
    },
    {
     "name": "stdout",
     "output_type": "stream",
     "text": [
      "Initiated feature extraction.\n"
     ]
    },
    {
     "name": "stderr",
     "output_type": "stream",
     "text": [
      "[Parallel(n_jobs=3)]: Done  44 tasks      | elapsed:    5.8s\n",
      "[Parallel(n_jobs=3)]: Done 196 out of 196 | elapsed:   25.9s finished\n",
      "[Parallel(n_jobs=3)]: Using backend LokyBackend with 3 concurrent workers.\n"
     ]
    },
    {
     "name": "stdout",
     "output_type": "stream",
     "text": [
      "Initiated feature extraction.\n"
     ]
    },
    {
     "name": "stderr",
     "output_type": "stream",
     "text": [
      "[Parallel(n_jobs=3)]: Done  44 tasks      | elapsed:    7.4s\n",
      "[Parallel(n_jobs=3)]: Done 196 out of 196 | elapsed:   42.5s finished\n",
      "[Parallel(n_jobs=3)]: Using backend LokyBackend with 3 concurrent workers.\n"
     ]
    },
    {
     "name": "stdout",
     "output_type": "stream",
     "text": [
      "Initiated feature extraction.\n"
     ]
    },
    {
     "name": "stderr",
     "output_type": "stream",
     "text": [
      "[Parallel(n_jobs=3)]: Done  44 tasks      | elapsed:   26.1s\n",
      "[Parallel(n_jobs=3)]: Done 196 out of 196 | elapsed:  1.6min finished\n"
     ]
    }
   ],
   "source": [
    "for pet_param_file, pet_feature_file in zip(pet_param_files, pet_feature_files):\n",
    "    \n",
    "    param_file_ref = ('_').join(os.path.basename(pet_param_file).split('_')[:3])\n",
    "    feature_file_ref = ('_').join(os.path.basename(pet_feature_file).split('_')[:3])\n",
    "    # Sanity check: Corresponding names on parameter and feature file.\n",
    "    assert param_file_ref == feature_file_ref\n",
    "    \n",
    "    feature_extractor(\n",
    "        param_file=pet_param_file, \n",
    "        paths_to_images_and_masks=paths_pet_images, \n",
    "        verbose=1, \n",
    "        path_to_results=pet_feature_file,\n",
    "        n_jobs=None, \n",
    "        drop_missing=True, \n",
    "        variance_thresh=0.0\n",
    "    )"
   ]
  },
  {
   "cell_type": "code",
   "execution_count": null,
   "metadata": {},
   "outputs": [],
   "source": []
  }
 ],
 "metadata": {
  "anaconda-cloud": {},
  "kernelspec": {
   "display_name": "Python 3",
   "language": "python",
   "name": "python3"
  },
  "language_info": {
   "codemirror_mode": {
    "name": "ipython",
    "version": 3
   },
   "file_extension": ".py",
   "mimetype": "text/x-python",
   "name": "python",
   "nbconvert_exporter": "python",
   "pygments_lexer": "ipython3",
   "version": "3.6.2"
  }
 },
 "nbformat": 4,
 "nbformat_minor": 2
}
