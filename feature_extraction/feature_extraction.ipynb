{
 "cells": [
  {
   "cell_type": "markdown",
   "metadata": {},
   "source": [
    "# Radiomics Feature Extraction\n",
    "\n",
    "Extracting features from PET and CT images."
   ]
  },
  {
   "cell_type": "code",
   "execution_count": 1,
   "metadata": {},
   "outputs": [],
   "source": [
    "import os\n",
    "import nrrd\n",
    "import utils \n",
    "import radiomics\n",
    "\n",
    "import numpy as np\n",
    "import pandas as pd\n",
    "import matplotlib.pyplot as plt\n",
    "\n",
    "from feature_extraction import feature_extractor\n",
    "\n",
    "%matplotlib inline"
   ]
  },
  {
   "cell_type": "code",
   "execution_count": 2,
   "metadata": {},
   "outputs": [],
   "source": [
    "#path_ct_imagedir = './../../data_source/images/ct_nrrd/'\n",
    "#path_ct_masksdir = './../../data_source/images/masks_nrrd/'\n",
    "#path_pet_imagedir = './../../data_source/images/pet_nrrd/'\n",
    "#path_pet_masksdir = './../../data_source/images/masks_nrrd/'\n",
    "\n",
    "path_ct_imagedir = './../../data_source/images/ct_removed_broken_slices/'\n",
    "path_ct_masksdir = './../../data_source/images/masks_removed_broken_slices_ct_size/'\n",
    "path_pet_imagedir = './../../data_source/images/pet_removed_broken_slices/'\n",
    "path_pet_masksdir = './../../data_source/images/masks_removed_broken_slices_pet_size/'"
   ]
  },
  {
   "cell_type": "code",
   "execution_count": 3,
   "metadata": {},
   "outputs": [],
   "source": [
    "# NB: Load correct image data set before calc features.\n",
    "ct_param_files = [\n",
    "    #'./parameter_files/firstorder_original_images/ct32_firstorder_original_images_config.yaml',\n",
    "    #'./parameter_files/firstorder_original_images/ct64_firstorder_original_images_config.yaml',\n",
    "    #'./parameter_files/firstorder_original_images/ct128_firstorder_original_images_config.yaml',\n",
    "    #'./parameter_files/texture_original_images/ct32_texture_original_images_config.yaml',\n",
    "    #'./parameter_files/texture_original_images/ct64_texture_original_images_config.yaml',\n",
    "    #'./parameter_files/texture_original_images/ct128_texture_original_images_config.yaml'\n",
    "    \n",
    "    './parameter_files/firstorder_removed_broken_slices/ct32_firstorder_removed_broken_slices_config.yaml',\n",
    "    './parameter_files/firstorder_removed_broken_slices/ct64_firstorder_removed_broken_slices_config.yaml',\n",
    "    './parameter_files/firstorder_removed_broken_slices/ct128_firstorder_removed_broken_slices_config.yaml',\n",
    "    './parameter_files/texture_removed_broken_slices/ct32_texture_removed_broken_slices_config.yaml',\n",
    "    './parameter_files/texture_removed_broken_slices/ct64_texture_removed_broken_slices_config.yaml',\n",
    "    './parameter_files/texture_removed_broken_slices/ct128_texture_removed_broken_slices_config.yaml',\n",
    "]\n",
    "\n",
    "path_to_results = [\n",
    "    './../../resultsAss/shape_features.csv'\n",
    "]\n",
    "\n",
    "\n",
    "ct_feature_files = [\n",
    "    #'./../../data_source/radiomic_features/firstorder_original_images/ct32_firstorder_original_images.csv',\n",
    "    #'./../../data_source/radiomic_features/firstorder_original_images/ct64_firstorder_original_images.csv',\n",
    "    #'./../../data_source/radiomic_features/firstorder_original_images/ct128_firstorder_original_images.csv',\n",
    "    #'./../../data_source/radiomic_features/texture_original_images/ct32_texture_original_images.csv',\n",
    "    #'./../../data_source/radiomic_features/texture_original_images/ct64_texture_original_images.csv',\n",
    "    #'./../../data_source/radiomic_features/texture_original_images/ct128_texture_original_images.csv'\n",
    "    \n",
    "    './../../data_source/radiomic_features/firstorder_removed_broken_slices/ct32_firstorder_removed_broken_slices.csv',\n",
    "    './../../data_source/radiomic_features/firstorder_removed_broken_slices/ct64_firstorder_removed_broken_slices.csv',\n",
    "    './../../data_source/radiomic_features/firstorder_removed_broken_slices/ct128_firstorder_removed_broken_slices.csv',\n",
    "    './../../data_source/radiomic_features/texture_removed_broken_slices/ct32_texture_removed_broken_slices.csv',\n",
    "    './../../data_source/radiomic_features/texture_removed_broken_slices/ct64_texture_removed_broken_slices.csv',\n",
    "    './../../data_source/radiomic_features/texture_removed_broken_slices/ct128_texture_removed_broken_slices.csv',\n",
    "]"
   ]
  },
  {
   "cell_type": "code",
   "execution_count": 15,
   "metadata": {},
   "outputs": [],
   "source": [
    "# NB: Load correct image data set before calc features.\n",
    "pet_param_files = [\n",
    "    #'./parameter_files/shape/shape_config.yaml',\n",
    "    './parameter_files/shape/shape_config.yaml',\n",
    "    \n",
    "    #'./parameter_files/firstorder_original_images/pet32_firstorder_original_images_config.yaml',\n",
    "    #'./parameter_files/firstorder_original_images/pet64_firstorder_original_images_config.yaml',\n",
    "    #'./parameter_files/firstorder_original_images/pet128_firstorder_original_images_config.yaml',\n",
    "    #'./parameter_files/texture_original_images/pet32_texture_original_images_config.yaml',\n",
    "    #'./parameter_files/texture_original_images/pet64_texture_original_images_config.yaml',\n",
    "    #'./parameter_files/texture_original_images/pet128_texture_original_images_config.yaml'\n",
    "    \n",
    "    #'./parameter_files/firstorder_removed_broken_slices/pet32_firstorder_removed_broken_slices_config.yaml',\n",
    "    #'./parameter_files/firstorder_removed_broken_slices/pet64_firstorder_removed_broken_slices_config.yaml',\n",
    "    #'./parameter_files/firstorder_removed_broken_slices/pet128_firstorder_removed_broken_slices_config.yaml',\n",
    "    #'./parameter_files/texture_removed_broken_slices/pet32_texture_removed_broken_slices_config.yaml',\n",
    "    #'./parameter_files/texture_removed_broken_slices/pet64_texture_removed_broken_slices_config.yaml',\n",
    "    #'./parameter_files/texture_removed_broken_slices/pet128_texture_removed_broken_slices_config.yaml',\n",
    "]\n",
    "pet_feature_files = [\n",
    "    #'./../../data_source/radiomic_features/shape/shape_original_masks.csv',\n",
    "    './../../data_source/radiomic_features/shape/shape_removed_broken_slices.csv',\n",
    "    \n",
    "    #'./../../data_source/radiomic_features/firstorder_original_images/pet32_firstorder_original_images.csv',\n",
    "    #'./../../data_source/radiomic_features/firstorder_original_images/pet64_firstorder_original_images.csv',\n",
    "    #'./../../data_source/radiomic_features/firstorder_original_images/pet128_firstorder_original_images.csv',\n",
    "    #'./../../data_source/radiomic_features/texture_original_images/pet32_texture_original_images.csv',\n",
    "    #'./../../data_source/radiomic_features/texture_original_images/pet64_texture_original_images.csv',\n",
    "    #'./../../data_source/radiomic_features/texture_original_images/pet128_texture_original_images.csv'\n",
    "        \n",
    "    #'./../../data_source/radiomic_features/firstorder_removed_broken_slices/pet32_firstorder_removed_broken_slices.csv',\n",
    "    #'./../../data_source/radiomic_features/firstorder_removed_broken_slices/pet64_firstorder_removed_broken_slices.csv',\n",
    "    #'./../../data_source/radiomic_features/firstorder_removed_broken_slices/pet128_firstorder_removed_broken_slices.csv',\n",
    "    #'./../../data_source/radiomic_features/texture_removed_broken_slices/pet32_texture_removed_broken_slices.csv',\n",
    "    #'./../../data_source/radiomic_features/texture_removed_broken_slices/pet64_texture_removed_broken_slices.csv',\n",
    "    #'./../../data_source/radiomic_features/texture_removed_broken_slices/pet128_texture_removed_broken_slices.csv',\n",
    "]"
   ]
  },
  {
   "cell_type": "code",
   "execution_count": 3,
   "metadata": {},
   "outputs": [],
   "source": [
    "paths_ct_images = utils.sample_paths(\n",
    "    path_ct_imagedir, path_ct_masksdir, target_format='nrrd'\n",
    ")\n",
    "paths_pet_images = utils.sample_paths(\n",
    "    path_pet_imagedir, path_pet_masksdir, target_format='nrrd'\n",
    ")"
   ]
  },
  {
   "cell_type": "code",
   "execution_count": 5,
   "metadata": {},
   "outputs": [
    {
     "data": {
      "text/plain": [
       "('./../../data_source/images/ct_removed_broken_slices/P002CT.nrrd',\n",
       " './../../data_source/images/masks_removed_broken_slices_ct_size/P002mask.nrrd')"
      ]
     },
     "execution_count": 5,
     "metadata": {},
     "output_type": "execute_result"
    }
   ],
   "source": [
    "paths_ct_images[0]['Image'], paths_ct_images[0]['Mask']"
   ]
  },
  {
   "cell_type": "code",
   "execution_count": 6,
   "metadata": {},
   "outputs": [
    {
     "data": {
      "text/plain": [
       "(187, 187)"
      ]
     },
     "execution_count": 6,
     "metadata": {},
     "output_type": "execute_result"
    }
   ],
   "source": [
    "# Sanity check.\n",
    "len(paths_ct_images), len(paths_pet_images)"
   ]
  },
  {
   "cell_type": "markdown",
   "metadata": {},
   "source": [
    "## Setup"
   ]
  },
  {
   "cell_type": "code",
   "execution_count": 5,
   "metadata": {},
   "outputs": [],
   "source": [
    "def z_score_image(image):\n",
    "    \n",
    "    output = (image - np.mean(image)) / (np.std(image) + 1e-12)\n",
    "    return output\n",
    "\n",
    "\n",
    "def bin_widths(path_images, nbins, n=3, z_scoring=False):\n",
    "    img_max, img_min = [], []\n",
    "    for image_path in path_images:\n",
    "        \n",
    "        image, _ = nrrd.read(image_path['Image'])\n",
    "        mask, _ = nrrd.read(image_path['Mask'])\n",
    "        \n",
    "        if z_scoring:\n",
    "            image = z_score_image(image)\n",
    "        \n",
    "        _cropped_image = image * mask\n",
    "\n",
    "        cropped_image = np.copy(_cropped_image)\n",
    "        cropped_image[_cropped_image == 0] = np.nan\n",
    "        \n",
    "        img_max.append(np.ceil(np.nanmax(cropped_image)))\n",
    "        img_min.append(np.floor(np.nanmin(cropped_image)))\n",
    "  \n",
    "    return (np.mean(img_max) - np.mean(img_min)) / nbins"
   ]
  },
  {
   "cell_type": "code",
   "execution_count": 6,
   "metadata": {},
   "outputs": [
    {
     "name": "stdout",
     "output_type": "stream",
     "text": [
      "PET 32: 0.40240641711229946\n",
      "PET 64: 0.20120320855614973\n",
      "PET 128: 0.10060160427807487\n"
     ]
    }
   ],
   "source": [
    "print(f'PET 32: {bin_widths(paths_pet_images, 32)}')\n",
    "print(f'PET 64: {bin_widths(paths_pet_images, 64)}')\n",
    "print(f'PET 128: {bin_widths(paths_pet_images, 128)}')"
   ]
  },
  {
   "cell_type": "code",
   "execution_count": 7,
   "metadata": {},
   "outputs": [
    {
     "name": "stdout",
     "output_type": "stream",
     "text": [
      "CT 32: 39.07286096256684\n",
      "CT 64: 19.53643048128342\n",
      "CT 128: 9.76821524064171\n"
     ]
    }
   ],
   "source": [
    "print(f'CT 32: {bin_widths(paths_ct_images, 32)}')\n",
    "print(f'CT 64: {bin_widths(paths_ct_images, 64)}')\n",
    "print(f'CT 128: {bin_widths(paths_ct_images, 128)}')"
   ]
  },
  {
   "cell_type": "code",
   "execution_count": null,
   "metadata": {},
   "outputs": [
    {
     "name": "stdout",
     "output_type": "stream",
     "text": [
      "CT texture 32: 0.1303475935828877\n",
      "CT  texture 64: 0.06517379679144385\n"
     ]
    }
   ],
   "source": [
    "print(f'CT texture 32: {bin_widths(paths_ct_images, 32, z_scoring=True)}')\n",
    "print(f'CT  texture 64: {bin_widths(paths_ct_images, 64, z_scoring=True)}')\n",
    "print(f'CT texture 128: {bin_widths(paths_ct_images, 128, z_scoring=True)}')"
   ]
  },
  {
   "cell_type": "markdown",
   "metadata": {},
   "source": [
    "## Calculate features"
   ]
  },
  {
   "cell_type": "code",
   "execution_count": 11,
   "metadata": {
    "scrolled": false
   },
   "outputs": [
    {
     "name": "stdout",
     "output_type": "stream",
     "text": [
      "Initiated feature extraction.\n"
     ]
    },
    {
     "name": "stderr",
     "output_type": "stream",
     "text": [
      "[Parallel(n_jobs=3)]: Using backend LokyBackend with 3 concurrent workers.\n",
      "[Parallel(n_jobs=3)]: Done  44 tasks      | elapsed:    5.5s\n",
      "[Parallel(n_jobs=3)]: Done 187 out of 187 | elapsed:   14.2s finished\n",
      "[Parallel(n_jobs=3)]: Using backend LokyBackend with 3 concurrent workers.\n"
     ]
    },
    {
     "name": "stdout",
     "output_type": "stream",
     "text": [
      "Initiated feature extraction.\n"
     ]
    },
    {
     "name": "stderr",
     "output_type": "stream",
     "text": [
      "[Parallel(n_jobs=3)]: Done  82 tasks      | elapsed:    5.2s\n",
      "[Parallel(n_jobs=3)]: Done 182 out of 187 | elapsed:   11.5s remaining:    0.3s\n",
      "[Parallel(n_jobs=3)]: Done 187 out of 187 | elapsed:   11.6s finished\n",
      "[Parallel(n_jobs=3)]: Using backend LokyBackend with 3 concurrent workers.\n"
     ]
    },
    {
     "name": "stdout",
     "output_type": "stream",
     "text": [
      "Initiated feature extraction.\n"
     ]
    },
    {
     "name": "stderr",
     "output_type": "stream",
     "text": [
      "[Parallel(n_jobs=3)]: Done  82 tasks      | elapsed:    5.1s\n",
      "[Parallel(n_jobs=3)]: Done 182 out of 187 | elapsed:   11.4s remaining:    0.3s\n",
      "[Parallel(n_jobs=3)]: Done 187 out of 187 | elapsed:   11.5s finished\n",
      "[Parallel(n_jobs=3)]: Using backend LokyBackend with 3 concurrent workers.\n"
     ]
    },
    {
     "name": "stdout",
     "output_type": "stream",
     "text": [
      "Initiated feature extraction.\n"
     ]
    },
    {
     "name": "stderr",
     "output_type": "stream",
     "text": [
      "[Parallel(n_jobs=3)]: Done  44 tasks      | elapsed:    4.6s\n",
      "[Parallel(n_jobs=3)]: Done 187 out of 187 | elapsed:   20.2s finished\n",
      "[Parallel(n_jobs=3)]: Using backend LokyBackend with 3 concurrent workers.\n"
     ]
    },
    {
     "name": "stdout",
     "output_type": "stream",
     "text": [
      "Initiated feature extraction.\n"
     ]
    },
    {
     "name": "stderr",
     "output_type": "stream",
     "text": [
      "[Parallel(n_jobs=3)]: Done  44 tasks      | elapsed:    5.4s\n",
      "[Parallel(n_jobs=3)]: Done 187 out of 187 | elapsed:   22.8s finished\n",
      "[Parallel(n_jobs=3)]: Using backend LokyBackend with 3 concurrent workers.\n"
     ]
    },
    {
     "name": "stdout",
     "output_type": "stream",
     "text": [
      "Initiated feature extraction.\n"
     ]
    },
    {
     "name": "stderr",
     "output_type": "stream",
     "text": [
      "[Parallel(n_jobs=3)]: Done  44 tasks      | elapsed:    9.0s\n",
      "[Parallel(n_jobs=3)]: Done 187 out of 187 | elapsed:   35.2s finished\n"
     ]
    }
   ],
   "source": [
    "for ct_param_file, ct_feature_file in zip(ct_param_files, ct_feature_files):\n",
    "    \n",
    "    # Sanity check (shape features only): Corresponding names on parameter and feature file.\n",
    "    _param_file_ref = ('_').join(os.path.basename(ct_param_file).split('_')[:3])\n",
    "    _feature_file_ref = ('_').join(os.path.basename(ct_feature_file).split('_')[:3])\n",
    "    assert _param_file_ref == _feature_file_ref\n",
    "    \n",
    "    feature_extractor(\n",
    "        param_file=ct_param_file, \n",
    "        paths_to_images_and_masks=paths_ct_images, \n",
    "        verbose=1, \n",
    "        path_to_results=ct_feature_file,\n",
    "        n_jobs=None, \n",
    "        drop_missing=True, \n",
    "        variance_thresh=0.0\n",
    "    )"
   ]
  },
  {
   "cell_type": "code",
   "execution_count": 16,
   "metadata": {},
   "outputs": [
    {
     "name": "stdout",
     "output_type": "stream",
     "text": [
      "Initiated feature extraction.\n"
     ]
    },
    {
     "name": "stderr",
     "output_type": "stream",
     "text": [
      "[Parallel(n_jobs=3)]: Using backend LokyBackend with 3 concurrent workers.\n",
      "[Parallel(n_jobs=3)]: Done  44 tasks      | elapsed:   12.5s\n",
      "[Parallel(n_jobs=3)]: Done 187 out of 187 | elapsed:   34.9s finished\n"
     ]
    }
   ],
   "source": [
    "for pet_param_file, pet_feature_file in zip(pet_param_files, pet_feature_files):\n",
    "    \n",
    "    param_file_ref = ('_').join(os.path.basename(pet_param_file).split('_')[:3])\n",
    "    feature_file_ref = ('_').join(os.path.basename(pet_feature_file).split('_')[:3])\n",
    "    # Sanity check: Corresponding names on parameter and feature file.\n",
    "    #assert param_file_ref == feature_file_ref\n",
    "    \n",
    "    feature_extractor(\n",
    "        param_file=pet_param_file, \n",
    "        paths_to_images_and_masks=paths_pet_images, \n",
    "        verbose=1, \n",
    "        path_to_results=pet_feature_file,\n",
    "        n_jobs=None, \n",
    "        drop_missing=True, \n",
    "        variance_thresh=0.0\n",
    "    )"
   ]
  }
 ],
 "metadata": {
  "anaconda-cloud": {},
  "kernelspec": {
   "display_name": "Python 3",
   "language": "python",
   "name": "python3"
  },
  "language_info": {
   "codemirror_mode": {
    "name": "ipython",
    "version": 3
   },
   "file_extension": ".py",
   "mimetype": "text/x-python",
   "name": "python",
   "nbconvert_exporter": "python",
   "pygments_lexer": "ipython3",
   "version": "3.6.2"
  }
 },
 "nbformat": 4,
 "nbformat_minor": 2
}
