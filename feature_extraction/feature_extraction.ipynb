{
 "cells": [
  {
   "cell_type": "markdown",
   "metadata": {},
   "source": [
    "# Radiomics Feature Extraction\n",
    "\n",
    "Extracting features from PET and CT images."
   ]
  },
  {
   "cell_type": "code",
   "execution_count": 1,
   "metadata": {},
   "outputs": [],
   "source": [
    "import os\n",
    "import nrrd\n",
    "import utils \n",
    "import radiomics\n",
    "\n",
    "import numpy as np\n",
    "import pandas as pd\n",
    "import matplotlib.pyplot as plt\n",
    "\n",
    "from feature_extraction import feature_extractor\n",
    "\n",
    "%matplotlib inline"
   ]
  },
  {
   "cell_type": "code",
   "execution_count": 128,
   "metadata": {},
   "outputs": [],
   "source": [
    "path_masksdir = './../../data_source/images/masks_removed_broken_images/'\n",
    "path_ct_imagedir = './../../data_source/images/ct_removed_broken_images/'\n",
    "path_pet_imagedir = './../../data_source/images/pet_removed_broken_images//'\n",
    "#path_masksdir = './../../data_source/images/masks_nrrd/'\n",
    "#path_ct_imagedir = './../../data_source/images/ct_nrrd/'\n",
    "#path_pet_imagedir = './../../data_source/images/pet_nrrd/'"
   ]
  },
  {
   "cell_type": "code",
   "execution_count": 129,
   "metadata": {},
   "outputs": [],
   "source": [
    "paths_ct_images = utils.sample_paths(\n",
    "    path_ct_imagedir, path_masksdir, target_format='nrrd'\n",
    ")\n",
    "paths_pet_images = utils.sample_paths(\n",
    "    path_pet_imagedir, path_masksdir, target_format='nrrd'\n",
    ")"
   ]
  },
  {
   "cell_type": "code",
   "execution_count": 130,
   "metadata": {},
   "outputs": [
    {
     "data": {
      "text/plain": [
       "(195, 195)"
      ]
     },
     "execution_count": 130,
     "metadata": {},
     "output_type": "execute_result"
    }
   ],
   "source": [
    "# Sanity check.\n",
    "len(paths_ct_images), len(paths_pet_images)"
   ]
  },
  {
   "cell_type": "markdown",
   "metadata": {},
   "source": [
    "## Setup"
   ]
  },
  {
   "cell_type": "code",
   "execution_count": 131,
   "metadata": {},
   "outputs": [],
   "source": [
    "# Texture features are shown to be more stable after GL normalizations.\n",
    "# Ref: Voxel size and gray level normalization of CT radiomic features in lung cancer.\n",
    "def z_scoring(image):\n",
    "    \n",
    "    _image = np.copy(image)\n",
    "    image_z_scored = (_image - np.mean(_image)) / (np.std(_image) + 1e-10)\n",
    "\n",
    "    return image_z_scored\n",
    "\n",
    "\n",
    "def bin_widths(path_images, nbins, n=3, z_scoring=False):\n",
    "    \"\"\"Average min and max to compare histogram across stacks.\n",
    "    Fixed bin iwdth (and not fixed bin size) to compare texture\n",
    "    features across stacks.\n",
    "    \n",
    "    \"\"\"\n",
    "    img_max, img_min = [], []\n",
    "    for image_path in path_images:\n",
    "        \n",
    "        image, _ = nrrd.read(image_path['Image'])\n",
    "        mask, _ = nrrd.read(image_path['Mask'])\n",
    "        \n",
    "        _cropped_image = image * mask\n",
    "        # NOTE: Want min that is not background. Returned \n",
    "        # cropped image changes shape.\n",
    "        cropped_image = _cropped_image[_cropped_image != 0]\n",
    "        \n",
    "        if z_scoring:\n",
    "            cropped_image = z_score_transform(cropped_image)\n",
    "        \n",
    "        img_max.append(np.ceil(np.max(cropped_image)))\n",
    "        img_min.append(np.floor(np.min(cropped_image)))\n",
    "  \n",
    "    return (np.mean(img_max) - np.mean(img_min)) / nbins"
   ]
  },
  {
   "cell_type": "code",
   "execution_count": 132,
   "metadata": {},
   "outputs": [
    {
     "name": "stdout",
     "output_type": "stream",
     "text": [
      "0.4043269230769231\n",
      "0.20216346153846154\n",
      "0.10108173076923077\n"
     ]
    }
   ],
   "source": [
    "# NOTE: \n",
    "# * Calc GL discr from tumor region only to best preserve tumor texture.\n",
    "# * Slice removal requires different GL bins widths.\n",
    "\n",
    "print(bin_widths(paths_pet_images, 32))\n",
    "print(bin_widths(paths_pet_images, 64)) \n",
    "print(bin_widths(paths_pet_images, 128))"
   ]
  },
  {
   "cell_type": "code",
   "execution_count": 133,
   "metadata": {},
   "outputs": [
    {
     "name": "stdout",
     "output_type": "stream",
     "text": [
      "40.611378205128204\n",
      "20.305689102564102\n",
      "10.152844551282051\n"
     ]
    }
   ],
   "source": [
    "# TODO:\n",
    "# * Calc GL discr from tumor region only to best preserve tumor texture.\n",
    "# * Slice removal requires different GL bins widths.\n",
    "\n",
    "print(bin_widths(paths_ct_images, 32))\n",
    "print(bin_widths(paths_ct_images, 64)) \n",
    "print(bin_widths(paths_ct_images, 128))"
   ]
  },
  {
   "cell_type": "code",
   "execution_count": 135,
   "metadata": {},
   "outputs": [
    {
     "name": "stdout",
     "output_type": "stream",
     "text": [
      "0.589102564102564\n",
      "0.294551282051282\n",
      "0.147275641025641\n"
     ]
    }
   ],
   "source": [
    "# TODO: \n",
    "# * Calc GL discr from tumor region only to best preserve tumor texture.\n",
    "# * Slice removal requires different GL bins widths.\n",
    "\n",
    "print(bin_widths(paths_ct_images, 32, z_scoring=True))\n",
    "print(bin_widths(paths_ct_images, 64, z_scoring=True))\n",
    "print(bin_widths(paths_ct_images, 128, z_scoring=True))"
   ]
  },
  {
   "cell_type": "markdown",
   "metadata": {},
   "source": [
    "## Calculate features"
   ]
  },
  {
   "cell_type": "code",
   "execution_count": 143,
   "metadata": {},
   "outputs": [
    {
     "name": "stdout",
     "output_type": "stream",
     "text": [
      "Initiated feature extraction.\n"
     ]
    },
    {
     "name": "stderr",
     "output_type": "stream",
     "text": [
      "[Parallel(n_jobs=3)]: Using backend LokyBackend with 3 concurrent workers.\n",
      "[Parallel(n_jobs=3)]: Done  82 tasks      | elapsed:    5.9s\n",
      "[Parallel(n_jobs=3)]: Done 190 out of 195 | elapsed:   14.4s remaining:    0.4s\n",
      "[Parallel(n_jobs=3)]: Done 195 out of 195 | elapsed:   14.6s finished\n",
      "[Parallel(n_jobs=3)]: Using backend LokyBackend with 3 concurrent workers.\n"
     ]
    },
    {
     "name": "stdout",
     "output_type": "stream",
     "text": [
      "Initiated feature extraction.\n"
     ]
    },
    {
     "name": "stderr",
     "output_type": "stream",
     "text": [
      "[Parallel(n_jobs=3)]: Done  82 tasks      | elapsed:    5.7s\n",
      "[Parallel(n_jobs=3)]: Done 190 out of 195 | elapsed:   13.7s remaining:    0.4s\n",
      "[Parallel(n_jobs=3)]: Done 195 out of 195 | elapsed:   13.8s finished\n",
      "[Parallel(n_jobs=3)]: Using backend LokyBackend with 3 concurrent workers.\n"
     ]
    },
    {
     "name": "stdout",
     "output_type": "stream",
     "text": [
      "Initiated feature extraction.\n"
     ]
    },
    {
     "name": "stderr",
     "output_type": "stream",
     "text": [
      "[Parallel(n_jobs=3)]: Done  44 tasks      | elapsed:    3.7s\n",
      "[Parallel(n_jobs=3)]: Done 195 out of 195 | elapsed:   13.8s finished\n"
     ]
    }
   ],
   "source": [
    "ct_param_files = [\n",
    "    #'./parameter_files/shape/shape_config.yaml',\n",
    "    \n",
    "    #'./parameter_files/firstorder_original_images/ct32_firstorder_original_images_config.yaml',\n",
    "    #'./parameter_files/firstorder_original_images/ct64_firstorder_original_images_config.yaml',\n",
    "    #'./parameter_files/firstorder_original_images/ct128_firstorder_original_images_config.yaml'\n",
    "    #'./parameter_files/texture_original_images/ct32_texture_original_images_config.yaml',\n",
    "    #'./parameter_files/texture_original_images/ct64_texture_original_images_config.yaml',\n",
    "    #'./parameter_files/texture_original_images/ct128_texture_original_images_config.yaml',\n",
    "    \n",
    "    './parameter_files/firstorder_removed_broken_images/ct32_firstorder_removed_broken_images_config.yaml',\n",
    "    './parameter_files/firstorder_removed_broken_images/ct64_firstorder_removed_broken_images_config.yaml',\n",
    "    './parameter_files/firstorder_removed_broken_images/ct128_firstorder_removed_broken_images_config.yaml',\n",
    "    #'./parameter_files/texture_removed_broken_images/ct32_texture_removed_broken_images_config.yaml',\n",
    "    #'./parameter_files/texture_removed_broken_images/ct64_texture_removed_broken_images_config.yaml',\n",
    "    #'./parameter_files/texture_removed_broken_images/ct128_texture_removed_broken_images_config.yaml',\n",
    "]\n",
    "ct_feature_files = [\n",
    "    #'./../../data_source/radiomic_features/shape/shape_original_masks.csv',\n",
    "    #'./../../data_source/radiomic_features/shape/shape_removed_broken_images.csv',\n",
    "\n",
    "    #'./../../data_source/radiomic_features/firstorder_original_images/ct32_firstorder_original_images.csv',\n",
    "    #'./../../data_source/radiomic_features/firstorder_original_images/ct64_firstorder_original_images.csv',\n",
    "    #'./../../data_source/radiomic_features/firstorder_original_images/ct128_firstorder_original_images.csv'\n",
    "    #'./../../data_source/radiomic_features/texture_original_images/ct32_texture_original_images.csv',\n",
    "    #'./../../data_source/radiomic_features/texture_original_images/ct64_texture_original_images.csv',\n",
    "    #'./../../data_source/radiomic_features/texture_original_images/ct128_texture_original_images.csv',\n",
    "    \n",
    "    './../../data_source/radiomic_features/firstorder_removed_broken_images/ct32_firstorder_removed_broken_images_config.csv',\n",
    "    './../../data_source/radiomic_features/firstorder_removed_broken_images/ct64_firstorder_removed_broken_images_config.csv',\n",
    "    './../../data_source/radiomic_features/firstorder_removed_broken_images/ct128_firstorder_removed_broken_images_config.csv',\n",
    "    #'./../../data_source/radiomic_features/texture_removed_broken_images/ct32_texture_removed_broken_images_config.csv',\n",
    "    #'./../../data_source/radiomic_features/texture_removed_broken_images/ct64_texture_removed_broken_images_config.csv',\n",
    "    #'./../../data_source/radiomic_features/texture_removed_broken_images/ct128_texture_removed_broken_images_config.csv',\n",
    "]\n",
    "for ct_param_file, ct_feature_file in zip(ct_param_files, ct_feature_files):\n",
    "    feature_extractor(\n",
    "        param_file=ct_param_file, \n",
    "        paths_to_images_and_masks=paths_ct_images, \n",
    "        verbose=1, \n",
    "        path_to_results=ct_feature_file,\n",
    "        n_jobs=None, \n",
    "        drop_missing=True, \n",
    "        variance_thresh=0.0\n",
    "    )"
   ]
  },
  {
   "cell_type": "code",
   "execution_count": 142,
   "metadata": {},
   "outputs": [
    {
     "name": "stdout",
     "output_type": "stream",
     "text": [
      "Initiated feature extraction.\n"
     ]
    },
    {
     "name": "stderr",
     "output_type": "stream",
     "text": [
      "[Parallel(n_jobs=3)]: Using backend LokyBackend with 3 concurrent workers.\n",
      "[Parallel(n_jobs=3)]: Done  82 tasks      | elapsed:    5.6s\n",
      "[Parallel(n_jobs=3)]: Done 190 out of 195 | elapsed:   13.0s remaining:    0.3s\n",
      "[Parallel(n_jobs=3)]: Done 195 out of 195 | elapsed:   13.2s finished\n",
      "[Parallel(n_jobs=3)]: Using backend LokyBackend with 3 concurrent workers.\n"
     ]
    },
    {
     "name": "stdout",
     "output_type": "stream",
     "text": [
      "Initiated feature extraction.\n"
     ]
    },
    {
     "name": "stderr",
     "output_type": "stream",
     "text": [
      "[Parallel(n_jobs=3)]: Done  82 tasks      | elapsed:    4.9s\n",
      "[Parallel(n_jobs=3)]: Done 190 out of 195 | elapsed:   12.8s remaining:    0.3s\n",
      "[Parallel(n_jobs=3)]: Done 195 out of 195 | elapsed:   13.0s finished\n",
      "[Parallel(n_jobs=3)]: Using backend LokyBackend with 3 concurrent workers.\n"
     ]
    },
    {
     "name": "stdout",
     "output_type": "stream",
     "text": [
      "Initiated feature extraction.\n"
     ]
    },
    {
     "name": "stderr",
     "output_type": "stream",
     "text": [
      "[Parallel(n_jobs=3)]: Done  82 tasks      | elapsed:    6.0s\n",
      "[Parallel(n_jobs=3)]: Done 190 out of 195 | elapsed:   13.1s remaining:    0.3s\n",
      "[Parallel(n_jobs=3)]: Done 195 out of 195 | elapsed:   13.3s finished\n"
     ]
    }
   ],
   "source": [
    "pet_param_files = [\n",
    "    #'./parameter_files/firstorder_original_images/pet32_firstorder_original_images_config.yaml',\n",
    "    #'./parameter_files/firstorder_original_images/pet64_firstorder_original_images_config.yaml',\n",
    "    #'./parameter_files/firstorder_original_images/pet128_firstorder_original_images_config.yaml'\n",
    "    #'./parameter_files/texture_original_images/pet32_texture_original_images_config.yaml',\n",
    "    #'./parameter_files/texture_original_images/pet64_texture_original_images_config.yaml',\n",
    "    #'./parameter_files/texture_original_images/pet128_texture_original_images_config.yaml',\n",
    "    \n",
    "    #'./parameter_files/firstorder_removed_broken_images/pet32_firstorder_removed_broken_images_config.yaml',\n",
    "    #'./parameter_files/firstorder_removed_broken_images/pet64_firstorder_removed_broken_images_config.yaml',\n",
    "    #'./parameter_files/firstorder_removed_broken_images/pet128_firstorder_removed_broken_images_config.yaml',\n",
    "    './parameter_files/texture_removed_broken_images/pet32_texture_removed_broken_images_config.yaml',\n",
    "    './parameter_files/texture_removed_broken_images/pet64_texture_removed_broken_images_config.yaml',\n",
    "    './parameter_files/texture_removed_broken_images/pet128_texture_removed_broken_images_config.yaml',\n",
    "]\n",
    "pet_feature_files = [\n",
    "    #'./../../data_source/radiomic_features/firstorder_original_images/pet32_firstorder_original_images.csv',\n",
    "    #'./../../data_source/radiomic_features/firstorder_original_images/pet64_firstorder_original_images.csv',\n",
    "    #'./../../data_source/radiomic_features/firstorder_original_images/pet128_firstorder_original_images.csv'\n",
    "    #'./../../data_source/radiomic_features/texture_original_images/pet32_texture_original_images.csv',\n",
    "    #'./../../data_source/radiomic_features/texture_original_images/pet64_texture_original_images.csv',\n",
    "    #'./../../data_source/radiomic_features/texture_original_images/pet128_texture_original_images.csv',\n",
    "    \n",
    "    #'./../../data_source/radiomic_features/firstorder_removed_broken_images/pet32_firstorder_removed_broken_images_config.csv',\n",
    "    #'./../../data_source/radiomic_features/firstorder_removed_broken_images/pet64_firstorder_removed_broken_images_config.csv',\n",
    "    #'./../../data_source/radiomic_features/firstorder_removed_broken_images/pet128_firstorder_removed_broken_images_config.csv',\n",
    "    './../../data_source/radiomic_features/texture_removed_broken_images/pet32_texture_removed_broken_images_config.csv',\n",
    "    './../../data_source/radiomic_features/texture_removed_broken_images/pet64_texture_removed_broken_images_config.csv',\n",
    "    './../../data_source/radiomic_features/texture_removed_broken_images/pet128_texture_removed_broken_images_config.csv',\n",
    "]\n",
    "for pet_param_file, pet_feature_file in zip(pet_param_files, pet_feature_files):\n",
    "    feature_extractor(\n",
    "        param_file=pet_param_file, \n",
    "        paths_to_images_and_masks=paths_pet_images, \n",
    "        verbose=1, \n",
    "        path_to_results=pet_feature_file,\n",
    "        n_jobs=None, \n",
    "        drop_missing=True, \n",
    "        variance_thresh=0.0\n",
    "    )"
   ]
  },
  {
   "cell_type": "code",
   "execution_count": null,
   "metadata": {},
   "outputs": [],
   "source": []
  }
 ],
 "metadata": {
  "anaconda-cloud": {},
  "kernelspec": {
   "display_name": "Python 3",
   "language": "python",
   "name": "python3"
  },
  "language_info": {
   "codemirror_mode": {
    "name": "ipython",
    "version": 3
   },
   "file_extension": ".py",
   "mimetype": "text/x-python",
   "name": "python",
   "nbconvert_exporter": "python",
   "pygments_lexer": "ipython3",
   "version": "3.6.2"
  }
 },
 "nbformat": 4,
 "nbformat_minor": 2
}
