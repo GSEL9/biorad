{
 "cells": [
  {
   "cell_type": "code",
   "execution_count": 2,
   "metadata": {},
   "outputs": [],
   "source": [
    "import numpy as np\n",
    "import pandas as pd\n",
    "\n",
    "import seaborn as sns\n",
    "import matplotlib.pyplot as plt\n",
    "\n",
    "%matplotlib inline"
   ]
  },
  {
   "cell_type": "code",
   "execution_count": 11,
   "metadata": {},
   "outputs": [
    {
     "data": {
      "text/html": [
       "<div>\n",
       "<style scoped>\n",
       "    .dataframe tbody tr th:only-of-type {\n",
       "        vertical-align: middle;\n",
       "    }\n",
       "\n",
       "    .dataframe tbody tr th {\n",
       "        vertical-align: top;\n",
       "    }\n",
       "\n",
       "    .dataframe thead th {\n",
       "        text-align: right;\n",
       "    }\n",
       "</style>\n",
       "<table border=\"1\" class=\"dataframe\">\n",
       "  <thead>\n",
       "    <tr style=\"text-align: right;\">\n",
       "      <th></th>\n",
       "      <th>exp_id</th>\n",
       "      <th>experiment_id</th>\n",
       "      <th>test_score</th>\n",
       "      <th>train_score</th>\n",
       "      <th>test_score_variance</th>\n",
       "      <th>train_score_variance</th>\n",
       "      <th>feature_votes</th>\n",
       "      <th>exp_duration</th>\n",
       "    </tr>\n",
       "  </thead>\n",
       "  <tbody>\n",
       "    <tr>\n",
       "      <th>0</th>\n",
       "      <td>684</td>\n",
       "      <td>StudentTTestSelection_DTreeEstimator</td>\n",
       "      <td>0.629304</td>\n",
       "      <td>0.657456</td>\n",
       "      <td>0.022481</td>\n",
       "      <td>0.000472</td>\n",
       "      <td>[10 10 10 10 10 10 10 10 10 10 10 10 10 10 10 ...</td>\n",
       "      <td>0 days 00:10:12.873585000</td>\n",
       "    </tr>\n",
       "    <tr>\n",
       "      <th>1</th>\n",
       "      <td>559</td>\n",
       "      <td>StudentTTestSelection_DTreeEstimator</td>\n",
       "      <td>0.528846</td>\n",
       "      <td>0.590600</td>\n",
       "      <td>0.010256</td>\n",
       "      <td>0.000747</td>\n",
       "      <td>[10 10 10 10 10 10 10  7  8 10  7  9  8  3  3 ...</td>\n",
       "      <td>0 days 00:09:16.610746000</td>\n",
       "    </tr>\n",
       "    <tr>\n",
       "      <th>2</th>\n",
       "      <td>629</td>\n",
       "      <td>StudentTTestSelection_DTreeEstimator</td>\n",
       "      <td>0.512637</td>\n",
       "      <td>0.651458</td>\n",
       "      <td>0.006317</td>\n",
       "      <td>0.000645</td>\n",
       "      <td>[9 5 5 8 7 4 8 7 6 5 4 8 7 7 6 6 3 6 4 4 7 4 4...</td>\n",
       "      <td>0 days 00:11:01.242483000</td>\n",
       "    </tr>\n",
       "    <tr>\n",
       "      <th>3</th>\n",
       "      <td>192</td>\n",
       "      <td>StudentTTestSelection_DTreeEstimator</td>\n",
       "      <td>0.562912</td>\n",
       "      <td>0.696808</td>\n",
       "      <td>0.012518</td>\n",
       "      <td>0.000340</td>\n",
       "      <td>[ 6  8  6  4  5  8  7  6  7  6  5  5  8  7  7 ...</td>\n",
       "      <td>0 days 00:10:16.402706000</td>\n",
       "    </tr>\n",
       "    <tr>\n",
       "      <th>4</th>\n",
       "      <td>835</td>\n",
       "      <td>StudentTTestSelection_DTreeEstimator</td>\n",
       "      <td>0.594963</td>\n",
       "      <td>0.662974</td>\n",
       "      <td>0.018951</td>\n",
       "      <td>0.000213</td>\n",
       "      <td>[10 10 10 10  9 10 10 10 10 10 10  9 10 10 10 ...</td>\n",
       "      <td>0 days 00:11:40.178124000</td>\n",
       "    </tr>\n",
       "  </tbody>\n",
       "</table>\n",
       "</div>"
      ],
      "text/plain": [
       "   exp_id                         experiment_id  test_score  train_score  \\\n",
       "0     684  StudentTTestSelection_DTreeEstimator    0.629304     0.657456   \n",
       "1     559  StudentTTestSelection_DTreeEstimator    0.528846     0.590600   \n",
       "2     629  StudentTTestSelection_DTreeEstimator    0.512637     0.651458   \n",
       "3     192  StudentTTestSelection_DTreeEstimator    0.562912     0.696808   \n",
       "4     835  StudentTTestSelection_DTreeEstimator    0.594963     0.662974   \n",
       "\n",
       "   test_score_variance  train_score_variance  \\\n",
       "0             0.022481              0.000472   \n",
       "1             0.010256              0.000747   \n",
       "2             0.006317              0.000645   \n",
       "3             0.012518              0.000340   \n",
       "4             0.018951              0.000213   \n",
       "\n",
       "                                       feature_votes  \\\n",
       "0  [10 10 10 10 10 10 10 10 10 10 10 10 10 10 10 ...   \n",
       "1  [10 10 10 10 10 10 10  7  8 10  7  9  8  3  3 ...   \n",
       "2  [9 5 5 8 7 4 8 7 6 5 4 8 7 7 6 6 3 6 4 4 7 4 4...   \n",
       "3  [ 6  8  6  4  5  8  7  6  7  6  5  5  8  7  7 ...   \n",
       "4  [10 10 10 10  9 10 10 10 10 10 10  9 10 10 10 ...   \n",
       "\n",
       "                exp_duration  \n",
       "0  0 days 00:10:12.873585000  \n",
       "1  0 days 00:09:16.610746000  \n",
       "2  0 days 00:11:01.242483000  \n",
       "3  0 days 00:10:16.402706000  \n",
       "4  0 days 00:11:40.178124000  "
      ]
     },
     "execution_count": 11,
     "metadata": {},
     "output_type": "execute_result"
    }
   ],
   "source": [
    "#results = pd.read_csv('./../../../data_source/results/baseline_nofilter_sffs_40vals_10reps_dfs.csv', index_col=0)\n",
    "results = pd.read_csv('./../../../data_source/results/with_pet_outliers_univariate_sffs_nofilter_dfs.csv', index_col=0)\n",
    "results.head()"
   ]
  },
  {
   "cell_type": "code",
   "execution_count": 12,
   "metadata": {},
   "outputs": [
    {
     "data": {
      "text/plain": [
       "(320, 8)"
      ]
     },
     "execution_count": 12,
     "metadata": {},
     "output_type": "execute_result"
    }
   ],
   "source": [
    "results.shape"
   ]
  },
  {
   "cell_type": "code",
   "execution_count": 13,
   "metadata": {},
   "outputs": [
    {
     "data": {
      "image/png": "[encoded data removed]",
      "text/plain": [
       "<Figure size 576x576 with 2 Axes>"
      ]
     },
     "metadata": {},
     "output_type": "display_data"
    }
   ],
   "source": [
    "model_grps = results.groupby('experiment_id')\n",
    "_avg_scores = model_grps['test_score'].mean()\n",
    "_rows, _cols = zip(*list(map(lambda label: label.split('_'), _avg_scores.index)))\n",
    "rows, cols = np.unique(_rows), np.unique(_cols)\n",
    "avg_scores = model_grps['test_score'].mean().values.reshape(np.size(cols), np.size(rows))\n",
    "std_scores = model_grps['test_score'].std().values.reshape(np.size(cols), np.size(rows))\n",
    "\n",
    "model_name = 'Decision Tree\\nwith\\nSequential Forward Floating Selection\\nand'\n",
    "selector_names = [\n",
    "    'ANOVA F-value', r'$\\chi^2$-test', 'Fisher Score',\n",
    "    'Minimum Redundancy \\nMaximum Relevancy', \n",
    "    'Mutual Information', 'ReliefF', \n",
    "    'Student t-test',\n",
    "    'Wilcoxon rank-sum'\n",
    "]\n",
    "fig, (axis, cbar_axis) = plt.subplots(\n",
    "    nrows=2, \n",
    "    gridspec_kw={'height_ratios': (1.5, 0.05), 'hspace': -0.5}, \n",
    "    figsize=(8, 8)\n",
    ")\n",
    "fig.subplots_adjust(wspace=0.0001)\n",
    "sns.heatmap(\n",
    "    avg_scores,\n",
    "    #xticklabels=selector_names,  \n",
    "    yticklabels='',\n",
    "    vmin=np.nanmin(avg_scores) - 1e-4, \n",
    "    vmax=np.nanmax(avg_scores) + 1e-4,\n",
    "    cmap=plt.cm.viridis, \n",
    "    robust=True,\n",
    "    annot=True, \n",
    "    fmt='.3f', \n",
    "    square=1, \n",
    "    linewidth=.2, \n",
    "    ax=axis,\n",
    "    cbar=True,\n",
    "    cbar_ax=cbar_axis,\n",
    "    cbar_kws={'shrink': 0.2, 'orientation': 'horizontal'},  \n",
    "    \n",
    ")\n",
    "axis.set_xticklabels(selector_names, ha='center')\n",
    "# Position the text.\n",
    "axis.text(\n",
    "    0.5, 1.7, \n",
    "    model_name, \n",
    "    transform=axis.transAxes, \n",
    "    fontsize=14,    \n",
    "    va='center',\n",
    "    ha='center'\n",
    ")\n",
    "axis.tick_params(rotation=45)\n",
    "plt.savefig(\n",
    "    #'./../../../figures/univariate_sffs_nofilter_dfs.png',\n",
    "    './../../../figures/univariate_200vals_40reps_sffs_nofilter_dfs.png',\n",
    "    bbox_inches='tight',\n",
    "    transparent=True,\n",
    "    dpi=600, \n",
    ")"
   ]
  },
  {
   "cell_type": "code",
   "execution_count": 14,
   "metadata": {},
   "outputs": [
    {
     "data": {
      "text/plain": [
       "array([[0.02156846, 0.02672442, 0.03302588, 0.02925383, 0.03707134,\n",
       "        0.0432411 , 0.04369135, 0.03924521]])"
      ]
     },
     "execution_count": 14,
     "metadata": {},
     "output_type": "execute_result"
    }
   ],
   "source": [
    "std_scores"
   ]
  },
  {
   "cell_type": "code",
   "execution_count": null,
   "metadata": {},
   "outputs": [],
   "source": [
    "# TODO:\n",
    "# * Create a graph with the number of features selected at univariate level and SFFS level in each outer CV loop."
   ]
  }
 ],
 "metadata": {
  "anaconda-cloud": {},
  "kernelspec": {
   "display_name": "Python [default]",
   "language": "python",
   "name": "python3"
  },
  "language_info": {
   "codemirror_mode": {
    "name": "ipython",
    "version": 3
   },
   "file_extension": ".py",
   "mimetype": "text/x-python",
   "name": "python",
   "nbconvert_exporter": "python",
   "pygments_lexer": "ipython3",
   "version": "3.6.6"
  }
 },
 "nbformat": 4,
 "nbformat_minor": 2
}
