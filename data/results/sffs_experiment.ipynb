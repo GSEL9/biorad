{
 "cells": [
  {
   "cell_type": "code",
   "execution_count": 1,
   "metadata": {},
   "outputs": [],
   "source": [
    "import numpy as np\n",
    "import pandas as pd\n",
    "\n",
    "import seaborn as sns\n",
    "import matplotlib.pyplot as plt\n",
    "\n",
    "%matplotlib inline"
   ]
  },
  {
   "cell_type": "code",
   "execution_count": 2,
   "metadata": {},
   "outputs": [
    {
     "data": {
      "text/html": [
       "<div>\n",
       "<style scoped>\n",
       "    .dataframe tbody tr th:only-of-type {\n",
       "        vertical-align: middle;\n",
       "    }\n",
       "\n",
       "    .dataframe tbody tr th {\n",
       "        vertical-align: top;\n",
       "    }\n",
       "\n",
       "    .dataframe thead th {\n",
       "        text-align: right;\n",
       "    }\n",
       "</style>\n",
       "<table border=\"1\" class=\"dataframe\">\n",
       "  <thead>\n",
       "    <tr style=\"text-align: right;\">\n",
       "      <th></th>\n",
       "      <th>exp_duration</th>\n",
       "      <th>exp_id</th>\n",
       "      <th>experiment_id</th>\n",
       "      <th>feature_votes</th>\n",
       "      <th>test_score</th>\n",
       "      <th>test_score_variance</th>\n",
       "      <th>train_score</th>\n",
       "      <th>train_score_variance</th>\n",
       "    </tr>\n",
       "  </thead>\n",
       "  <tbody>\n",
       "    <tr>\n",
       "      <th>0</th>\n",
       "      <td>0 days 00:08:17.164633000</td>\n",
       "      <td>72</td>\n",
       "      <td>StudentTTestSelection_DTreeEstimator</td>\n",
       "      <td>[5 5 5 5 5 5 5 5 5 5 5 5 5 5 5 5 5 5 5 5 0 0 0...</td>\n",
       "      <td>0.563604</td>\n",
       "      <td>0.003285</td>\n",
       "      <td>0.617035</td>\n",
       "      <td>0.000150</td>\n",
       "    </tr>\n",
       "    <tr>\n",
       "      <th>1</th>\n",
       "      <td>0 days 00:10:34.961865000</td>\n",
       "      <td>370</td>\n",
       "      <td>StudentTTestSelection_DTreeEstimator</td>\n",
       "      <td>[5 5 5 5 5 5 5 5 5 5 5 5 5 5 5 4 5 5 5 5 3 4 2...</td>\n",
       "      <td>0.484544</td>\n",
       "      <td>0.012276</td>\n",
       "      <td>0.593987</td>\n",
       "      <td>0.000461</td>\n",
       "    </tr>\n",
       "    <tr>\n",
       "      <th>2</th>\n",
       "      <td>0 days 00:12:01.024077000</td>\n",
       "      <td>159</td>\n",
       "      <td>StudentTTestSelection_DTreeEstimator</td>\n",
       "      <td>[4 3 5 5 5 5 3 4 5 5 5 5 4 5 5 4 4 5 2 5 4 4 5...</td>\n",
       "      <td>0.608974</td>\n",
       "      <td>0.002561</td>\n",
       "      <td>0.764614</td>\n",
       "      <td>0.000233</td>\n",
       "    </tr>\n",
       "    <tr>\n",
       "      <th>3</th>\n",
       "      <td>0 days 00:09:19.561337000</td>\n",
       "      <td>805</td>\n",
       "      <td>StudentTTestSelection_DTreeEstimator</td>\n",
       "      <td>[4 4 5 3 4 5 4 4 2 4 4 4 4 5 2 4 4 4 5 4 2 2 3...</td>\n",
       "      <td>0.532407</td>\n",
       "      <td>0.010907</td>\n",
       "      <td>0.639681</td>\n",
       "      <td>0.000385</td>\n",
       "    </tr>\n",
       "    <tr>\n",
       "      <th>4</th>\n",
       "      <td>0 days 00:11:44.868641000</td>\n",
       "      <td>728</td>\n",
       "      <td>StudentTTestSelection_DTreeEstimator</td>\n",
       "      <td>[4 1 2 3 5 3 3 5 3 4 4 4 3 4 0 5 3 2 3 2 4 4 3...</td>\n",
       "      <td>0.495584</td>\n",
       "      <td>0.001928</td>\n",
       "      <td>0.836357</td>\n",
       "      <td>0.000210</td>\n",
       "    </tr>\n",
       "  </tbody>\n",
       "</table>\n",
       "</div>"
      ],
      "text/plain": [
       "                exp_duration  exp_id                         experiment_id  \\\n",
       "0  0 days 00:08:17.164633000      72  StudentTTestSelection_DTreeEstimator   \n",
       "1  0 days 00:10:34.961865000     370  StudentTTestSelection_DTreeEstimator   \n",
       "2  0 days 00:12:01.024077000     159  StudentTTestSelection_DTreeEstimator   \n",
       "3  0 days 00:09:19.561337000     805  StudentTTestSelection_DTreeEstimator   \n",
       "4  0 days 00:11:44.868641000     728  StudentTTestSelection_DTreeEstimator   \n",
       "\n",
       "                                       feature_votes  test_score  \\\n",
       "0  [5 5 5 5 5 5 5 5 5 5 5 5 5 5 5 5 5 5 5 5 0 0 0...    0.563604   \n",
       "1  [5 5 5 5 5 5 5 5 5 5 5 5 5 5 5 4 5 5 5 5 3 4 2...    0.484544   \n",
       "2  [4 3 5 5 5 5 3 4 5 5 5 5 4 5 5 4 4 5 2 5 4 4 5...    0.608974   \n",
       "3  [4 4 5 3 4 5 4 4 2 4 4 4 4 5 2 4 4 4 5 4 2 2 3...    0.532407   \n",
       "4  [4 1 2 3 5 3 3 5 3 4 4 4 3 4 0 5 3 2 3 2 4 4 3...    0.495584   \n",
       "\n",
       "   test_score_variance  train_score  train_score_variance  \n",
       "0             0.003285     0.617035              0.000150  \n",
       "1             0.012276     0.593987              0.000461  \n",
       "2             0.002561     0.764614              0.000233  \n",
       "3             0.010907     0.639681              0.000385  \n",
       "4             0.001928     0.836357              0.000210  "
      ]
     },
     "execution_count": 2,
     "metadata": {},
     "output_type": "execute_result"
    }
   ],
   "source": [
    "results = pd.read_csv('./../../../data_source/results/baseline_nofilter_sffs_40vals_10reps_dfs.csv', index_col=0)\n",
    "results.head()"
   ]
  },
  {
   "cell_type": "code",
   "execution_count": 3,
   "metadata": {},
   "outputs": [
    {
     "data": {
      "text/plain": [
       "(80, 8)"
      ]
     },
     "execution_count": 3,
     "metadata": {},
     "output_type": "execute_result"
    }
   ],
   "source": [
    "results.shape"
   ]
  },
  {
   "cell_type": "code",
   "execution_count": 4,
   "metadata": {},
   "outputs": [
    {
     "data": {
      "image/png": "[encoded data removed]",
      "text/plain": [
       "<Figure size 576x576 with 2 Axes>"
      ]
     },
     "metadata": {},
     "output_type": "display_data"
    }
   ],
   "source": [
    "model_grps = results.groupby('experiment_id')\n",
    "_avg_scores = model_grps['test_score'].mean()\n",
    "_rows, _cols = zip(*list(map(lambda label: label.split('_'), _avg_scores.index)))\n",
    "rows, cols = np.unique(_rows), np.unique(_cols)\n",
    "avg_scores = model_grps['test_score'].mean().values.reshape(np.size(cols), np.size(rows))\n",
    "std_scores = model_grps['test_score'].std().values.reshape(np.size(cols), np.size(rows))\n",
    "\n",
    "model_name = 'Decision Tree \\n& \\nSequential Forward Floating Selection\\n&'\n",
    "selector_names = [\n",
    "    'ANOVA F-value', r'$\\chi^2$-test', 'Fisher Score',\n",
    "    'Minimum Redundancy \\nMaximum Relevancy', \n",
    "    'Mutual Information', 'ReliefF', \n",
    "    'Student t-test',\n",
    "    'Wilcoxon rank-sum'\n",
    "]\n",
    "fig, (axis, cbar_axis) = plt.subplots(\n",
    "    nrows=2, \n",
    "    gridspec_kw={'height_ratios': (1.5, 0.05), 'hspace': -0.5}, \n",
    "    figsize=(8, 8)\n",
    ")\n",
    "fig.subplots_adjust(wspace=0.0001)\n",
    "sns.heatmap(\n",
    "    avg_scores,\n",
    "    #xticklabels=selector_names,  \n",
    "    yticklabels='',\n",
    "    vmin=np.nanmin(avg_scores) - 1e-4, \n",
    "    vmax=np.nanmax(avg_scores) + 1e-4,\n",
    "    cmap=plt.cm.viridis, \n",
    "    robust=True,\n",
    "    annot=True, \n",
    "    fmt='.3f', \n",
    "    square=1, \n",
    "    linewidth=.2, \n",
    "    ax=axis,\n",
    "    cbar=True,\n",
    "    cbar_ax=cbar_axis,\n",
    "    cbar_kws={'shrink': 0.2, 'orientation': 'horizontal'},  \n",
    "    \n",
    ")\n",
    "axis.set_xticklabels(selector_names, ha='center')\n",
    "# Position the text.\n",
    "axis.text(\n",
    "    0.5, 1.7, \n",
    "    model_name, \n",
    "    transform=axis.transAxes, \n",
    "    fontsize=14,    \n",
    "    va='center',\n",
    "    ha='center'\n",
    ")\n",
    "axis.tick_params(rotation=45)\n",
    "plt.savefig(\n",
    "    './../../../figures/univariate_sffs_nofilter_dfs.png',\n",
    "    bbox_inches='tight',\n",
    "    transparent=True,\n",
    "    dpi=600, \n",
    ")"
   ]
  },
  {
   "cell_type": "code",
   "execution_count": 5,
   "metadata": {},
   "outputs": [
    {
     "data": {
      "text/plain": [
       "array([[0.04398334, 0.03640509, 0.0075932 , 0.0502699 , 0.03173189,\n",
       "        0.02947428, 0.04764544, 0.03104509]])"
      ]
     },
     "execution_count": 5,
     "metadata": {},
     "output_type": "execute_result"
    }
   ],
   "source": [
    "std_scores"
   ]
  },
  {
   "cell_type": "code",
   "execution_count": null,
   "metadata": {},
   "outputs": [],
   "source": [
    "# TODO:\n",
    "# * Create a graph with the number of features selected at univariate level and SFFS level in each outer CV loop."
   ]
  }
 ],
 "metadata": {
  "anaconda-cloud": {},
  "kernelspec": {
   "display_name": "Python [default]",
   "language": "python",
   "name": "python3"
  },
  "language_info": {
   "codemirror_mode": {
    "name": "ipython",
    "version": 3
   },
   "file_extension": ".py",
   "mimetype": "text/x-python",
   "name": "python",
   "nbconvert_exporter": "python",
   "pygments_lexer": "ipython3",
   "version": "3.6.6"
  }
 },
 "nbformat": 4,
 "nbformat_minor": 2
}
