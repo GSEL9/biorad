{
 "cells": [
  {
   "cell_type": "code",
   "execution_count": null,
   "metadata": {},
   "outputs": [],
   "source": [
    "import numpy as np\n",
    "import pandas as pd\n",
    "\n",
    "import seaborn as sns\n",
    "import matplotlib.pyplot as plt\n",
    "\n",
    "%matplotlib inline"
   ]
  },
  {
   "cell_type": "code",
   "execution_count": null,
   "metadata": {},
   "outputs": [],
   "source": [
    "results = pd.read_csv('./../../../data_source/results/baseline_nofilter_sffs_40vals_10reps_dfs.csv', index_col=0)\n",
    "results.head()"
   ]
  },
  {
   "cell_type": "code",
   "execution_count": null,
   "metadata": {},
   "outputs": [],
   "source": [
    "results.shape"
   ]
  },
  {
   "cell_type": "code",
   "execution_count": null,
   "metadata": {},
   "outputs": [],
   "source": [
    "model_grps = results.groupby('experiment_id')\n",
    "_avg_scores = model_grps['test_score'].mean()\n",
    "_rows, _cols = zip(*list(map(lambda label: label.split('_'), _avg_scores.index)))\n",
    "rows, cols = np.unique(_rows), np.unique(_cols)\n",
    "avg_scores = model_grps['test_score'].mean().values.reshape(np.size(cols), np.size(rows))\n",
    "std_scores = model_grps['test_score'].std().values.reshape(np.size(cols), np.size(rows))\n",
    "\n",
    "model_name = 'Decision Tree \\n& \\nSequential Forward Floating Selection\\n&'\n",
    "selector_names = [\n",
    "    'ANOVA F-value', r'$\\chi^2$-test', 'Fisher Score',\n",
    "    'Minimum Redundancy \\nMaximum Relevancy', \n",
    "    'Mutual Information', 'ReliefF', \n",
    "    'Student t-test',\n",
    "    'Wilcoxon rank-sum'\n",
    "]\n",
    "fig, (axis, cbar_axis) = plt.subplots(\n",
    "    nrows=2, \n",
    "    gridspec_kw={'height_ratios': (1.5, 0.05), 'hspace': -0.5}, \n",
    "    figsize=(8, 8)\n",
    ")\n",
    "fig.subplots_adjust(wspace=0.0001)\n",
    "sns.heatmap(\n",
    "    avg_scores,\n",
    "    #xticklabels=selector_names,  \n",
    "    yticklabels='',\n",
    "    vmin=np.nanmin(avg_scores) - 1e-4, \n",
    "    vmax=np.nanmax(avg_scores) + 1e-4,\n",
    "    cmap=plt.cm.viridis, \n",
    "    robust=True,\n",
    "    annot=True, \n",
    "    fmt='.3f', \n",
    "    square=1, \n",
    "    linewidth=.2, \n",
    "    ax=axis,\n",
    "    cbar=True,\n",
    "    cbar_ax=cbar_axis,\n",
    "    cbar_kws={'shrink': 0.2, 'orientation': 'horizontal'},  \n",
    "    \n",
    ")\n",
    "axis.set_xticklabels(selector_names, ha='center')\n",
    "# Position the text.\n",
    "axis.text(\n",
    "    0.5, 1.7, \n",
    "    model_name, \n",
    "    transform=axis.transAxes, \n",
    "    fontsize=14,    \n",
    "    va='center',\n",
    "    ha='center'\n",
    ")\n",
    "axis.tick_params(rotation=45)\n",
    "plt.savefig(\n",
    "    './../../../figures/univariate_sffs_nofilter_dfs.png',\n",
    "    bbox_inches='tight',\n",
    "    transparent=True,\n",
    "    dpi=600, \n",
    ")"
   ]
  },
  {
   "cell_type": "code",
   "execution_count": null,
   "metadata": {},
   "outputs": [],
   "source": [
    "std_scores"
   ]
  },
  {
   "cell_type": "code",
   "execution_count": null,
   "metadata": {},
   "outputs": [],
   "source": []
  }
 ],
 "metadata": {
  "anaconda-cloud": {},
  "kernelspec": {
   "display_name": "Python [default]",
   "language": "python",
   "name": "python3"
  },
  "language_info": {
   "codemirror_mode": {
    "name": "ipython",
    "version": 3
   },
   "file_extension": ".py",
   "mimetype": "text/x-python",
   "name": "python",
   "nbconvert_exporter": "python",
   "pygments_lexer": "ipython3",
   "version": "3.6.6"
  }
 },
 "nbformat": 4,
 "nbformat_minor": 2
}
