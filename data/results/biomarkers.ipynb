{
 "cells": [
  {
   "cell_type": "code",
   "execution_count": 1,
   "metadata": {},
   "outputs": [],
   "source": [
    "# ERROR:\n",
    "\n",
    "\n",
    "import re\n",
    "\n",
    "import numpy as np\n",
    "import pandas as pd\n",
    "\n",
    "import seaborn as sns\n",
    "import matplotlib.pyplot as plt\n",
    "import matplotlib.patches as mpatches\n",
    "\n",
    "from ast import literal_eval\n",
    "from collections import OrderedDict\n",
    "\n",
    "%matplotlib inline"
   ]
  },
  {
   "cell_type": "code",
   "execution_count": 2,
   "metadata": {},
   "outputs": [],
   "source": [
    "prep_labels = [\n",
    "    'Shape', \n",
    "    'First Order', \n",
    "    'GLCM', \n",
    "    'GLRLM', \n",
    "    'GLSZM', \n",
    "    'GLDM', \n",
    "    'NGTDM', \n",
    "    'PET parameter',\n",
    "    'Clinical'\n",
    "]\n",
    "colours = OrderedDict(\n",
    "    [\n",
    "        ('Shape', sns.color_palette()[0]),\n",
    "        ('Clinical', sns.color_palette()[1]),\n",
    "        ('First Order', sns.color_palette()[2]),\n",
    "        ('GLCM', sns.color_palette()[3]),\n",
    "        ('GLRLM', sns.color_palette()[8]),\n",
    "        ('GLSZM', sns.color_palette()[5]),\n",
    "        ('GLDM', sns.color_palette()[6]),\n",
    "        ('NGTDM', sns.color_palette()[7]),\n",
    "        ('PET parameter', sns.color_palette()[4])\n",
    "    ]\n",
    ")"
   ]
  },
  {
   "cell_type": "code",
   "execution_count": 7,
   "metadata": {},
   "outputs": [
    {
     "data": {
      "text/plain": [
       "(['original_shape_Elongation',\n",
       "  'original_shape_Flatness',\n",
       "  'original_shape_LeastAxis',\n",
       "  'original_shape_MajorAxis',\n",
       "  'original_shape_Maximum2DDiameterColumn',\n",
       "  'original_shape_Maximum2DDiameterRow'],\n",
       " 610)"
      ]
     },
     "execution_count": 7,
     "metadata": {},
     "output_type": "execute_result"
    }
   ],
   "source": [
    "X = pd.read_csv('./../../../data_source/to_analysis/no_filter_concat.csv', index_col=0)\n",
    "features = list(X.columns)\n",
    "features[:6], len(features)"
   ]
  },
  {
   "cell_type": "code",
   "execution_count": 4,
   "metadata": {},
   "outputs": [
    {
     "data": {
      "text/html": [
       "<div>\n",
       "<style scoped>\n",
       "    .dataframe tbody tr th:only-of-type {\n",
       "        vertical-align: middle;\n",
       "    }\n",
       "\n",
       "    .dataframe tbody tr th {\n",
       "        vertical-align: top;\n",
       "    }\n",
       "\n",
       "    .dataframe thead th {\n",
       "        text-align: right;\n",
       "    }\n",
       "</style>\n",
       "<table border=\"1\" class=\"dataframe\">\n",
       "  <thead>\n",
       "    <tr style=\"text-align: right;\">\n",
       "      <th></th>\n",
       "      <th>exp_id</th>\n",
       "      <th>experiment_id</th>\n",
       "      <th>test_score</th>\n",
       "      <th>train_score</th>\n",
       "      <th>test_score_variance</th>\n",
       "      <th>train_score_variance</th>\n",
       "      <th>feature_votes</th>\n",
       "      <th>exp_duration</th>\n",
       "    </tr>\n",
       "  </thead>\n",
       "  <tbody>\n",
       "    <tr>\n",
       "      <th>0</th>\n",
       "      <td>684</td>\n",
       "      <td>StudentTTestSelection_DTreeEstimator</td>\n",
       "      <td>0.629304</td>\n",
       "      <td>0.657456</td>\n",
       "      <td>0.022481</td>\n",
       "      <td>0.000472</td>\n",
       "      <td>[10 10 10 10 10 10 10 10 10 10 10 10 10 10 10 ...</td>\n",
       "      <td>0 days 00:10:12.873585000</td>\n",
       "    </tr>\n",
       "    <tr>\n",
       "      <th>1</th>\n",
       "      <td>559</td>\n",
       "      <td>StudentTTestSelection_DTreeEstimator</td>\n",
       "      <td>0.528846</td>\n",
       "      <td>0.590600</td>\n",
       "      <td>0.010256</td>\n",
       "      <td>0.000747</td>\n",
       "      <td>[10 10 10 10 10 10 10  7  8 10  7  9  8  3  3 ...</td>\n",
       "      <td>0 days 00:09:16.610746000</td>\n",
       "    </tr>\n",
       "    <tr>\n",
       "      <th>2</th>\n",
       "      <td>629</td>\n",
       "      <td>StudentTTestSelection_DTreeEstimator</td>\n",
       "      <td>0.512637</td>\n",
       "      <td>0.651458</td>\n",
       "      <td>0.006317</td>\n",
       "      <td>0.000645</td>\n",
       "      <td>[9 5 5 8 7 4 8 7 6 5 4 8 7 7 6 6 3 6 4 4 7 4 4...</td>\n",
       "      <td>0 days 00:11:01.242483000</td>\n",
       "    </tr>\n",
       "    <tr>\n",
       "      <th>3</th>\n",
       "      <td>192</td>\n",
       "      <td>StudentTTestSelection_DTreeEstimator</td>\n",
       "      <td>0.562912</td>\n",
       "      <td>0.696808</td>\n",
       "      <td>0.012518</td>\n",
       "      <td>0.000340</td>\n",
       "      <td>[ 6  8  6  4  5  8  7  6  7  6  5  5  8  7  7 ...</td>\n",
       "      <td>0 days 00:10:16.402706000</td>\n",
       "    </tr>\n",
       "    <tr>\n",
       "      <th>4</th>\n",
       "      <td>835</td>\n",
       "      <td>StudentTTestSelection_DTreeEstimator</td>\n",
       "      <td>0.594963</td>\n",
       "      <td>0.662974</td>\n",
       "      <td>0.018951</td>\n",
       "      <td>0.000213</td>\n",
       "      <td>[10 10 10 10  9 10 10 10 10 10 10  9 10 10 10 ...</td>\n",
       "      <td>0 days 00:11:40.178124000</td>\n",
       "    </tr>\n",
       "  </tbody>\n",
       "</table>\n",
       "</div>"
      ],
      "text/plain": [
       "   exp_id                         experiment_id  test_score  train_score  \\\n",
       "0     684  StudentTTestSelection_DTreeEstimator    0.629304     0.657456   \n",
       "1     559  StudentTTestSelection_DTreeEstimator    0.528846     0.590600   \n",
       "2     629  StudentTTestSelection_DTreeEstimator    0.512637     0.651458   \n",
       "3     192  StudentTTestSelection_DTreeEstimator    0.562912     0.696808   \n",
       "4     835  StudentTTestSelection_DTreeEstimator    0.594963     0.662974   \n",
       "\n",
       "   test_score_variance  train_score_variance  \\\n",
       "0             0.022481              0.000472   \n",
       "1             0.010256              0.000747   \n",
       "2             0.006317              0.000645   \n",
       "3             0.012518              0.000340   \n",
       "4             0.018951              0.000213   \n",
       "\n",
       "                                       feature_votes  \\\n",
       "0  [10 10 10 10 10 10 10 10 10 10 10 10 10 10 10 ...   \n",
       "1  [10 10 10 10 10 10 10  7  8 10  7  9  8  3  3 ...   \n",
       "2  [9 5 5 8 7 4 8 7 6 5 4 8 7 7 6 6 3 6 4 4 7 4 4...   \n",
       "3  [ 6  8  6  4  5  8  7  6  7  6  5  5  8  7  7 ...   \n",
       "4  [10 10 10 10  9 10 10 10 10 10 10  9 10 10 10 ...   \n",
       "\n",
       "                exp_duration  \n",
       "0  0 days 00:10:12.873585000  \n",
       "1  0 days 00:09:16.610746000  \n",
       "2  0 days 00:11:01.242483000  \n",
       "3  0 days 00:10:16.402706000  \n",
       "4  0 days 00:11:40.178124000  "
      ]
     },
     "execution_count": 4,
     "metadata": {},
     "output_type": "execute_result"
    }
   ],
   "source": [
    "#results = pd.read_csv('./../../../data_source/results/baseline_nofilter_sffs_40vals_10reps_dfs.csv', index_col=0)\n",
    "results = pd.read_csv('./../../../data_source/results/with_pet_outliers_univariate_sffs_nofilter_dfs.csv', index_col=0)\n",
    "results.head()"
   ]
  },
  {
   "cell_type": "code",
   "execution_count": 5,
   "metadata": {},
   "outputs": [
    {
     "data": {
      "text/plain": [
       "0    [10 10 10 10 10 10 10 10 10 10 10 10 10 10 10 ...\n",
       "1    [10 10 10 10 10 10 10  7  8 10  7  9  8  3  3 ...\n",
       "2    [9 5 5 8 7 4 8 7 6 5 4 8 7 7 6 6 3 6 4 4 7 4 4...\n",
       "3    [ 6  8  6  4  5  8  7  6  7  6  5  5  8  7  7 ...\n",
       "4    [10 10 10 10  9 10 10 10 10 10 10  9 10 10 10 ...\n",
       "Name: feature_votes, dtype: object"
      ]
     },
     "execution_count": 5,
     "metadata": {},
     "output_type": "execute_result"
    }
   ],
   "source": [
    "votes = results['feature_votes']\n",
    "votes.head()"
   ]
  },
  {
   "cell_type": "code",
   "execution_count": 29,
   "metadata": {},
   "outputs": [
    {
     "data": {
      "text/plain": [
       "627"
      ]
     },
     "execution_count": 29,
     "metadata": {},
     "output_type": "execute_result"
    }
   ],
   "source": [
    "len(list(votes.values[0].replace('\\n', '').replace('[', '').replace(']', '').replace(' ', '')))"
   ]
  },
  {
   "cell_type": "code",
   "execution_count": 11,
   "metadata": {},
   "outputs": [
    {
     "data": {
      "text/plain": [
       "627"
      ]
     },
     "execution_count": 11,
     "metadata": {},
     "output_type": "execute_result"
    }
   ],
   "source": [
    "len(list(votes[0].replace(' ', '').replace('\\n', ''))[1:-1])"
   ]
  },
  {
   "cell_type": "code",
   "execution_count": 6,
   "metadata": {},
   "outputs": [
    {
     "ename": "ValueError",
     "evalue": "operands could not be broadcast together with shapes (610,) (627,) (610,) ",
     "output_type": "error",
     "traceback": [
      "\u001b[0;31m-----------------------------------------------------------------\u001b[0m",
      "\u001b[0;31mValueError\u001b[0m                      Traceback (most recent call last)",
      "\u001b[0;32m<ipython-input-6-4cfa17aec1a4>\u001b[0m in \u001b[0;36m<module>\u001b[0;34m()\u001b[0m\n\u001b[1;32m      6\u001b[0m     \u001b[0m_votes\u001b[0m \u001b[0;34m=\u001b[0m \u001b[0mlist\u001b[0m\u001b[0;34m(\u001b[0m\u001b[0mstr_array\u001b[0m\u001b[0;34m.\u001b[0m\u001b[0mreplace\u001b[0m\u001b[0;34m(\u001b[0m\u001b[0;34m' '\u001b[0m\u001b[0;34m,\u001b[0m \u001b[0;34m''\u001b[0m\u001b[0;34m)\u001b[0m\u001b[0;34m.\u001b[0m\u001b[0mreplace\u001b[0m\u001b[0;34m(\u001b[0m\u001b[0;34m'\\n'\u001b[0m\u001b[0;34m,\u001b[0m \u001b[0;34m''\u001b[0m\u001b[0;34m)\u001b[0m\u001b[0;34m)\u001b[0m\u001b[0;34m\u001b[0m\u001b[0m\n\u001b[1;32m      7\u001b[0m     \u001b[0mvotes_arr\u001b[0m \u001b[0;34m=\u001b[0m \u001b[0mnp\u001b[0m\u001b[0;34m.\u001b[0m\u001b[0marray\u001b[0m\u001b[0;34m(\u001b[0m\u001b[0mlist\u001b[0m\u001b[0;34m(\u001b[0m\u001b[0mmap\u001b[0m\u001b[0;34m(\u001b[0m\u001b[0mint\u001b[0m\u001b[0;34m,\u001b[0m \u001b[0mlist\u001b[0m\u001b[0;34m(\u001b[0m\u001b[0m_votes\u001b[0m\u001b[0;34m[\u001b[0m\u001b[0;36m1\u001b[0m\u001b[0;34m:\u001b[0m\u001b[0;34m-\u001b[0m\u001b[0;36m1\u001b[0m\u001b[0;34m]\u001b[0m\u001b[0;34m)\u001b[0m\u001b[0;34m)\u001b[0m\u001b[0;34m)\u001b[0m\u001b[0;34m,\u001b[0m \u001b[0mdtype\u001b[0m\u001b[0;34m=\u001b[0m\u001b[0mint\u001b[0m\u001b[0;34m)\u001b[0m\u001b[0;34m\u001b[0m\u001b[0m\n\u001b[0;32m----> 8\u001b[0;31m     \u001b[0mglobal_votes\u001b[0m \u001b[0;34m+=\u001b[0m \u001b[0mvotes_arr\u001b[0m\u001b[0;34m\u001b[0m\u001b[0m\n\u001b[0m\u001b[1;32m      9\u001b[0m \u001b[0;34m\u001b[0m\u001b[0m\n\u001b[1;32m     10\u001b[0m \u001b[0midx\u001b[0m \u001b[0;34m=\u001b[0m \u001b[0mnp\u001b[0m\u001b[0;34m.\u001b[0m\u001b[0margsort\u001b[0m\u001b[0;34m(\u001b[0m\u001b[0mglobal_votes\u001b[0m\u001b[0;34m)\u001b[0m\u001b[0;34m[\u001b[0m\u001b[0;34m:\u001b[0m\u001b[0;34m:\u001b[0m\u001b[0;34m-\u001b[0m\u001b[0;36m1\u001b[0m\u001b[0;34m]\u001b[0m\u001b[0;34m\u001b[0m\u001b[0m\n",
      "\u001b[0;31mValueError\u001b[0m: operands could not be broadcast together with shapes (610,) (627,) (610,) "
     ]
    }
   ],
   "source": [
    "# Goal:\n",
    "# * Sort votes and collect corresponding labels.\n",
    "\n",
    "global_votes = np.zeros(X.shape[1], dtype=int)\n",
    "for str_array in votes:\n",
    "    _votes = list(str_array.replace(' ', '').replace('\\n', ''))\n",
    "    votes_arr = np.array(list(map(int, list(_votes[1:-1]))), dtype=int)\n",
    "    global_votes += votes_arr\n",
    "\n",
    "idx = np.argsort(global_votes)[::-1]\n",
    "labels = np.array(features)[idx]\n",
    "sorted_votes = np.trim_zeros(global_votes[idx], trim='b')\n",
    "labels = labels[:len(sorted_votes)]\n",
    "\n",
    "\n",
    "data = pd.DataFrame(\n",
    "    {\n",
    "        'votes': sorted_votes,\n",
    "        'labels': labels,\n",
    "        \n",
    "    }\n",
    ")\n",
    "data.head()"
   ]
  },
  {
   "cell_type": "code",
   "execution_count": null,
   "metadata": {},
   "outputs": [],
   "source": [
    "# Sanity check.\n",
    "max(global_votes), sorted_votes[0]"
   ]
  },
  {
   "cell_type": "code",
   "execution_count": null,
   "metadata": {},
   "outputs": [],
   "source": [
    "len(global_votes), len(sorted_votes)"
   ]
  },
  {
   "cell_type": "code",
   "execution_count": null,
   "metadata": {},
   "outputs": [],
   "source": [
    "def prep_feature_labels(labels):\n",
    "    prep_labels = []\n",
    "    for label in labels:\n",
    "        comps = label.split('_')\n",
    "\n",
    "        if len(comps) == 1:\n",
    "            prep_labels.append(label.title())\n",
    "        elif len(comps) == 2:\n",
    "            new_label = '{}: {}'.format(comps[0], comps[1])\n",
    "            prep_labels.append(new_label)\n",
    "        elif len(comps) == 3:\n",
    "            filter_type, feature_type, name = comps\n",
    "            if len(name) > 15:\n",
    "                #name_comps = re.findall('[A-Z][^A-Z]*', name)\n",
    "                #name = ('-\\n').join((('').join(name_comps[:2]), ('').join(name_comps[2:])))\n",
    "                new_label = '{}'.format(name)\n",
    "            else:\n",
    "                new_label = '{}'.format(name)\n",
    "            prep_labels.append(new_label)\n",
    "        elif len(comps) == 4:\n",
    "            image_type, filter_type, feature_type, name = comps\n",
    "            if len(name) > 15:\n",
    "                #name_comps = re.findall('[A-Z][^A-Z]*', name)\n",
    "                #name = ('-\\n').join((('').join(name_comps[:2]), ('').join(name_comps[2:])))\n",
    "                new_label = '\\n{}'.format(name)\n",
    "            else:\n",
    "                new_label = '{}'.format(name)\n",
    "            prep_labels.append(new_label)\n",
    "            \n",
    "    return prep_labels"
   ]
  },
  {
   "cell_type": "code",
   "execution_count": null,
   "metadata": {},
   "outputs": [],
   "source": [
    "def feature_labels(labels):    \n",
    "    \n",
    "    keys = []\n",
    "    for label in labels:\n",
    "        if 'shape' in label:\n",
    "            keys.append('Shape')\n",
    "        elif 'firstorder' in label:\n",
    "            keys.append('First Order')\n",
    "        elif 'glcm' in label:\n",
    "            keys.append('GLCM')\n",
    "        elif 'glrlm' in label:\n",
    "            keys.append('GLRLM')\n",
    "        elif 'glszm' in label:\n",
    "            keys.append('GLSZM')\n",
    "        elif 'gldm' in label:\n",
    "            keys.append('GLDM')\n",
    "        elif 'ngtdm' in label:\n",
    "            keys.append('NGTDM')\n",
    "        elif 'PETparam' in label:\n",
    "            keys.append('PET parameter')\n",
    "        else:\n",
    "            keys.append('Clinical')\n",
    "\n",
    "    return keys"
   ]
  },
  {
   "cell_type": "code",
   "execution_count": null,
   "metadata": {},
   "outputs": [],
   "source": [
    "keys = feature_labels(labels)\n",
    "handles = [\n",
    "    mpatches.Patch(color=colours[key], label=key) for key in prep_labels\n",
    "]\n",
    "len(keys), len(handles), len(colours)"
   ]
  },
  {
   "cell_type": "code",
   "execution_count": null,
   "metadata": {},
   "outputs": [],
   "source": [
    "# TODO: Include 15 least interesting features.\n",
    "\n",
    "fig, axes = plt.subplots(nrows=2, figsize=(15, 9))\n",
    "plt.tick_params(axis='both', labelsize=12)\n",
    "\n",
    "sns.barplot(\n",
    "    x=np.arange(np.size(sorted_votes)), \n",
    "    y=sorted_votes, \n",
    "    ax=axes[0], \n",
    "    hue=keys,\n",
    "    palette=colours,\n",
    ")\n",
    "feature_id = range(1, sorted_votes.size, 5)\n",
    "axes[0].set_title('Frequency of selected features', fontsize=15)\n",
    "axes[0].set_xticks(feature_id)\n",
    "axes[0].set_ylabel('Counts', fontsize=16)\n",
    "axes[0].set_xlabel('Feature Number Indicator', fontsize=16)\n",
    "axes[0].legend(\n",
    "    handles=handles,\n",
    "    title='Feature Categories:', \n",
    "    title_fontsize=15,\n",
    "    loc='upper center', \n",
    "    bbox_to_anchor=(0.5, -0.25), \n",
    "    fancybox=True, \n",
    "    shadow=True, \n",
    "    fontsize=14,\n",
    "    ncol=4,\n",
    "    labelspacing=0.25\n",
    ")\n",
    "\n",
    "n = 15\n",
    "keys = feature_labels(labels[:n])\n",
    "sns.barplot(\n",
    "    x=np.arange(np.size(sorted_votes[:n])), \n",
    "    y=sorted_votes[:n], \n",
    "    ax=axes[1], \n",
    "    hue=keys,\n",
    "    palette=colours,\n",
    ")\n",
    "fnames = prep_feature_labels(labels[:n])\n",
    "#axes[1].legend().set_visible(False)\n",
    "axes[1].set_title('The {} most frequently selected features'.format(n), fontsize=15)\n",
    "axes[1].set_xticklabels(fnames, rotation=45, ha='right', va='center_baseline')\n",
    "axes[1].set_ylabel('Counts', fontsize=14)\n",
    "\n",
    "plt.subplots_adjust(hspace=1)\n",
    "\n",
    "plt.savefig(\n",
    "    './../../../figures/biomarkers_200evals_40reps.png',\n",
    "    bbox_inches='tight',\n",
    "    transparent=True,\n",
    "    dpi=600, \n",
    ")"
   ]
  },
  {
   "cell_type": "code",
   "execution_count": null,
   "metadata": {},
   "outputs": [],
   "source": [
    "cats = ['shape',\n",
    "        'firstorder',\n",
    "        'glcm',\n",
    "        'glrlm',\n",
    "        'glszm',\n",
    "        'gldm',\n",
    "        'ngtdm']\n",
    "res = {}\n",
    "for cat in cats:\n",
    "    p = 0\n",
    "    c = 0\n",
    "    for label in labels:\n",
    "        if cat in label:\n",
    "            c = c + 1\n",
    "    res[cat] = c\n",
    "            \n",
    "res"
   ]
  },
  {
   "cell_type": "code",
   "execution_count": null,
   "metadata": {},
   "outputs": [],
   "source": [
    "sorted_votes"
   ]
  },
  {
   "cell_type": "code",
   "execution_count": null,
   "metadata": {},
   "outputs": [],
   "source": [
    "# NOTE: Num clinical features.\n",
    "len(labels) - sum(res.values())"
   ]
  },
  {
   "cell_type": "code",
   "execution_count": null,
   "metadata": {},
   "outputs": [],
   "source": [
    "len(list(X.filter(regex='shape').columns))"
   ]
  },
  {
   "cell_type": "code",
   "execution_count": null,
   "metadata": {},
   "outputs": [],
   "source": [
    "len(list(X.filter(regex='CT').columns))"
   ]
  },
  {
   "cell_type": "code",
   "execution_count": null,
   "metadata": {},
   "outputs": [],
   "source": [
    "len(list(X.filter(regex='PET').columns))"
   ]
  },
  {
   "cell_type": "code",
   "execution_count": null,
   "metadata": {},
   "outputs": [],
   "source": [
    "nogos = list(X.filter(regex='shape').columns) \n",
    "nogos = nogos + list(X.filter(regex='CT').columns) \n",
    "nogos = nogos + list(X.filter(regex='PET').columns)\n",
    "\n",
    "cols = {}\n",
    "for num, col in enumerate(X.columns):\n",
    "    if col not in nogos:\n",
    "        cols[col] = sorted_votes[num]\n",
    "        print(col, ':', sorted_votes[num])\n",
    "        \n",
    "# Pasienten er mann/kvinne er relativt viktig. Det er flere menn enn kvinner\n",
    "# i datasettet. Kan være knyttet til HPV variabel fordi ikke utypisk at menn får HPV?.\n",
    "\n",
    "# "
   ]
  },
  {
   "cell_type": "code",
   "execution_count": null,
   "metadata": {},
   "outputs": [],
   "source": [
    "x_coords = np.arange(len(cols.values()))\n",
    "clinical_labels = prep_feature_labels(cols.keys())\n",
    "\n",
    "plt.figure(figsize=(16, 7))\n",
    "plt.title('Selected Clinical Features', fontsize=16)\n",
    "sns.barplot(x=x_coords, y=list(cols.values()))\n",
    "plt.xticks(x_coords, clinical_labels, rotation=45, ha='right', fontsize=14)\n",
    "plt.ylabel('Number of Votes', fontsize=16)\n",
    "plt.ylim([0, 250])\n",
    "plt.tight_layout()\n",
    "plt.savefig(\n",
    "    './../../../figures/clinical_feature_biomarker.png',\n",
    "    bbox_inches='tight',\n",
    "    transparent=True,\n",
    "    dpi=600, \n",
    ")"
   ]
  },
  {
   "cell_type": "code",
   "execution_count": null,
   "metadata": {},
   "outputs": [],
   "source": [
    "# Group by encoded features.\n",
    "df_clinical = pd.DataFrame.from_dict(cols, orient='index', columns=['Votes'])\n",
    "df_clinical.head()"
   ]
  },
  {
   "cell_type": "code",
   "execution_count": null,
   "metadata": {
    "scrolled": true
   },
   "outputs": [],
   "source": [
    "grouper = []\n",
    "for num, label in enumerate(df_clinical.index):\n",
    "    if 'ICD-10' in label:\n",
    "        grouper.append('IDC-10')\n",
    "    elif 'Stage' in label:\n",
    "        grouper.append('Stage')\n",
    "    elif 'Histology' in label:\n",
    "        grouper.append('Histology')\n",
    "    elif 'HPV' in label:\n",
    "        grouper.append('HPV')\n",
    "    elif 'ECOG' in label:\n",
    "        grouper.append('ECOG')\n",
    "    elif 'Charlson' in label:\n",
    "        grouper.append('Charlson')\n",
    "    elif 'Cisplatin' in label:\n",
    "        grouper.append('Cisplatin')\n",
    "    else:\n",
    "        grouper.append(label)\n",
    "\n",
    "df_clinical['groups'] = grouper\n",
    "\n",
    "df_clinical.head()"
   ]
  },
  {
   "cell_type": "code",
   "execution_count": null,
   "metadata": {},
   "outputs": [],
   "source": [
    "# Missing: \n",
    "df_clinical_grps = df_clinical.groupby('groups').sum()\n",
    "\n",
    "plt.figure(figsize=(15, 8))\n",
    "sns.set(font_scale=1.5)\n",
    "sns.barplot(y='Votes', x=df_clinical_grps.index, data=df_clinical_grps)\n",
    "plt.xlabel('')\n",
    "plt.xticks(rotation=45)\n",
    "plt.tight_layout()\n",
    "plt.savefig(\n",
    "    './../../../figures/grouped_clinical_feature_biomarker.png',\n",
    "    bbox_inches='tight',\n",
    "    transparent=True,\n",
    "    dpi=600, \n",
    ")"
   ]
  },
  {
   "cell_type": "code",
   "execution_count": null,
   "metadata": {},
   "outputs": [],
   "source": [
    "idx = int(np.squeeze(np.where(results['test_score'] == results['test_score'].max())))\n",
    "best_run = results.iloc[idx, :]\n",
    "best_run_votes = best_run['feature_votes']\n",
    "_votes = list(best_run_votes.replace(' ', '').replace('\\n', ''))\n",
    "votes_arr = np.array(list(map(int, list(_votes[1:-1]))), dtype=int)\n",
    "\n",
    "idx = np.argsort(votes_arr)[::-1]\n",
    "labels = np.array(features)[idx]\n",
    "sorted_votes = np.trim_zeros(votes_arr[idx], trim='b')\n",
    "labels = prep_feature_labels(labels[:len(sorted_votes)])\n",
    "\n",
    "y_coords = np.arange(np.size(labels))\n",
    "\n",
    "plt.figure(figsize=(8, 15))\n",
    "sns.set(font_scale=1.5)\n",
    "sns.barplot(y=labels, x=sorted_votes, )\n",
    "plt.xlabel('Votes')\n",
    "plt.yticks(y_coords, labels, va='bottom', fontsize=14)\n",
    "plt.tight_layout()\n",
    "\n",
    "plt.savefig(\n",
    "    './../../../figures/best_run_features.png',\n",
    "    bbox_inches='tight',\n",
    "    transparent=True,\n",
    "    dpi=600, \n",
    ")"
   ]
  },
  {
   "cell_type": "code",
   "execution_count": null,
   "metadata": {},
   "outputs": [],
   "source": [
    "# Group by encoded features.\n",
    "df_clinical = pd.DataFrame(sorted_votes, columns=['Votes'])\n",
    "df_clinical.index = labels\n",
    "df_clinical.head()"
   ]
  },
  {
   "cell_type": "code",
   "execution_count": null,
   "metadata": {},
   "outputs": [],
   "source": [
    "grouper = []\n",
    "for num, label in enumerate(df_clinical.index):\n",
    "    if 'ICD-10' in label:\n",
    "        grouper.append('IDC-10')\n",
    "    elif 'Stage' in label:\n",
    "        grouper.append('Stage')\n",
    "    elif 'Histology' in label:\n",
    "        grouper.append('Histology')\n",
    "    elif 'HPV' in label:\n",
    "        grouper.append('HPV')\n",
    "    elif 'ECOG' in label:\n",
    "        grouper.append('ECOG')\n",
    "    elif 'Charlson' in label:\n",
    "        grouper.append('Charlson')\n",
    "    elif 'Cisplatin' in label:\n",
    "        grouper.append('Cisplatin')\n",
    "    else:\n",
    "        grouper.append(label)\n",
    "\n",
    "df_clinical['groups'] = grouper\n",
    "\n",
    "df_clinical.head()"
   ]
  },
  {
   "cell_type": "code",
   "execution_count": null,
   "metadata": {
    "scrolled": false
   },
   "outputs": [],
   "source": [
    "# Missing: \n",
    "df_clinical_grps = df_clinical.groupby('groups').sum()\n",
    "\n",
    "plt.figure(figsize=(10, 15))\n",
    "sns.set(font_scale=1.5)\n",
    "sns.barplot(x='Votes', y=df_clinical_grps.index, data=df_clinical_grps)\n",
    "plt.xlabel('Votes')\n",
    "plt.ylabel('')\n",
    "plt.xticks(rotation=45)\n",
    "plt.tight_layout()\n",
    "plt.savefig(\n",
    "    './../../../figures/grouped_best_run_features.png',\n",
    "    bbox_inches='tight',\n",
    "    transparent=True,\n",
    "    dpi=600, \n",
    ")"
   ]
  },
  {
   "cell_type": "code",
   "execution_count": null,
   "metadata": {},
   "outputs": [],
   "source": []
  }
 ],
 "metadata": {
  "anaconda-cloud": {},
  "kernelspec": {
   "display_name": "Python [conda env:anaconda]",
   "language": "python",
   "name": "conda-env-anaconda-py"
  },
  "language_info": {
   "codemirror_mode": {
    "name": "ipython",
    "version": 3
   },
   "file_extension": ".py",
   "mimetype": "text/x-python",
   "name": "python",
   "nbconvert_exporter": "python",
   "pygments_lexer": "ipython3",
   "version": "3.6.6"
  }
 },
 "nbformat": 4,
 "nbformat_minor": 2
}
