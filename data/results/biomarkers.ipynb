{
 "cells": [
  {
   "cell_type": "code",
   "execution_count": 1,
   "metadata": {},
   "outputs": [],
   "source": [
    "# ERROR:\n",
    "\n",
    "\n",
    "import re\n",
    "\n",
    "import numpy as np\n",
    "import pandas as pd\n",
    "\n",
    "import seaborn as sns\n",
    "import matplotlib.pyplot as plt\n",
    "import matplotlib.patches as mpatches\n",
    "\n",
    "from ast import literal_eval\n",
    "from collections import OrderedDict\n",
    "\n",
    "%matplotlib inline"
   ]
  },
  {
   "cell_type": "code",
   "execution_count": 2,
   "metadata": {},
   "outputs": [],
   "source": [
    "prep_labels = [\n",
    "    'Shape', \n",
    "    'First Order', \n",
    "    'GLCM', \n",
    "    'GLRLM', \n",
    "    'GLSZM', \n",
    "    'GLDM', \n",
    "    'NGTDM', \n",
    "    'PET parameter',\n",
    "    'Clinical'\n",
    "]\n",
    "colours = OrderedDict(\n",
    "    [\n",
    "        ('Shape', sns.color_palette()[0]),\n",
    "        ('Clinical', sns.color_palette()[1]),\n",
    "        ('First Order', sns.color_palette()[2]),\n",
    "        ('GLCM', sns.color_palette()[3]),\n",
    "        ('GLRLM', sns.color_palette()[8]),\n",
    "        ('GLSZM', sns.color_palette()[5]),\n",
    "        ('GLDM', sns.color_palette()[6]),\n",
    "        ('NGTDM', sns.color_palette()[7]),\n",
    "        ('PET parameter', sns.color_palette()[4])\n",
    "    ]\n",
    ")"
   ]
  },
  {
   "cell_type": "code",
   "execution_count": 3,
   "metadata": {},
   "outputs": [
    {
     "data": {
      "text/plain": [
       "(['original_shape_Elongation',\n",
       "  'original_shape_Flatness',\n",
       "  'original_shape_LeastAxis',\n",
       "  'original_shape_MajorAxis',\n",
       "  'original_shape_Maximum2DDiameterColumn',\n",
       "  'original_shape_Maximum2DDiameterRow'],\n",
       " 550)"
      ]
     },
     "execution_count": 3,
     "metadata": {},
     "output_type": "execute_result"
    }
   ],
   "source": [
    "X = pd.read_csv('./../../../data_source/to_analysis/anomaly_filtered_concat.csv', index_col=0)\n",
    "features = list(X.columns)\n",
    "features[:6], len(features)"
   ]
  },
  {
   "cell_type": "code",
   "execution_count": 4,
   "metadata": {},
   "outputs": [
    {
     "data": {
      "text/plain": [
       "13"
      ]
     },
     "execution_count": 4,
     "metadata": {},
     "output_type": "execute_result"
    }
   ],
   "source": [
    "X.filter(regex='shape').shape[1]"
   ]
  },
  {
   "cell_type": "code",
   "execution_count": 5,
   "metadata": {},
   "outputs": [
    {
     "data": {
      "text/plain": [
       "8.666666666666666"
      ]
     },
     "execution_count": 5,
     "metadata": {},
     "output_type": "execute_result"
    }
   ],
   "source": [
    "X.filter(regex='CT_original_firstorder').shape[1] / 3"
   ]
  },
  {
   "cell_type": "code",
   "execution_count": 6,
   "metadata": {},
   "outputs": [
    {
     "data": {
      "text/plain": [
       "82.66666666666667"
      ]
     },
     "execution_count": 6,
     "metadata": {},
     "output_type": "execute_result"
    }
   ],
   "source": [
    "X.filter(regex='CT_original').shape[1] / 3"
   ]
  },
  {
   "cell_type": "code",
   "execution_count": 7,
   "metadata": {},
   "outputs": [
    {
     "data": {
      "text/html": [
       "<div>\n",
       "<style scoped>\n",
       "    .dataframe tbody tr th:only-of-type {\n",
       "        vertical-align: middle;\n",
       "    }\n",
       "\n",
       "    .dataframe tbody tr th {\n",
       "        vertical-align: top;\n",
       "    }\n",
       "\n",
       "    .dataframe thead th {\n",
       "        text-align: right;\n",
       "    }\n",
       "</style>\n",
       "<table border=\"1\" class=\"dataframe\">\n",
       "  <thead>\n",
       "    <tr style=\"text-align: right;\">\n",
       "      <th></th>\n",
       "      <th>exp_id</th>\n",
       "      <th>experiment_id</th>\n",
       "      <th>memory</th>\n",
       "      <th>steps</th>\n",
       "      <th>VarianceThreshold</th>\n",
       "      <th>StandardScaler</th>\n",
       "      <th>StudentTTestSelection</th>\n",
       "      <th>DTreeEstimator</th>\n",
       "      <th>VarianceThreshold__threshold</th>\n",
       "      <th>StandardScaler__copy</th>\n",
       "      <th>...</th>\n",
       "      <th>Chi2Selection__error_handling</th>\n",
       "      <th>Chi2Selection__num_features</th>\n",
       "      <th>MRMRSelection</th>\n",
       "      <th>MRMRSelection__error_handling</th>\n",
       "      <th>MRMRSelection__num_features</th>\n",
       "      <th>MRMRSelection__num_neighbors</th>\n",
       "      <th>ReliefFSelection</th>\n",
       "      <th>ReliefFSelection__error_handling</th>\n",
       "      <th>ReliefFSelection__num_features</th>\n",
       "      <th>ReliefFSelection__num_neighbors</th>\n",
       "    </tr>\n",
       "  </thead>\n",
       "  <tbody>\n",
       "    <tr>\n",
       "      <th>0</th>\n",
       "      <td>44</td>\n",
       "      <td>StudentTTestSelection_DTreeEstimator</td>\n",
       "      <td>NaN</td>\n",
       "      <td>(('VarianceThreshold', VarianceThreshold(thres...</td>\n",
       "      <td>VarianceThreshold(threshold=0.0)</td>\n",
       "      <td>StandardScaler(copy=True, with_mean=True, with...</td>\n",
       "      <td>StudentTTestSelection(error_handling='all', me...</td>\n",
       "      <td>DTreeEstimator(class_weight='balanced', criter...</td>\n",
       "      <td>0.0</td>\n",
       "      <td>True</td>\n",
       "      <td>...</td>\n",
       "      <td>NaN</td>\n",
       "      <td>NaN</td>\n",
       "      <td>NaN</td>\n",
       "      <td>NaN</td>\n",
       "      <td>NaN</td>\n",
       "      <td>NaN</td>\n",
       "      <td>NaN</td>\n",
       "      <td>NaN</td>\n",
       "      <td>NaN</td>\n",
       "      <td>NaN</td>\n",
       "    </tr>\n",
       "    <tr>\n",
       "      <th>1</th>\n",
       "      <td>47</td>\n",
       "      <td>StudentTTestSelection_DTreeEstimator</td>\n",
       "      <td>NaN</td>\n",
       "      <td>(('VarianceThreshold', VarianceThreshold(thres...</td>\n",
       "      <td>VarianceThreshold(threshold=0.0)</td>\n",
       "      <td>StandardScaler(copy=True, with_mean=True, with...</td>\n",
       "      <td>StudentTTestSelection(error_handling='all', me...</td>\n",
       "      <td>DTreeEstimator(class_weight='balanced', criter...</td>\n",
       "      <td>0.0</td>\n",
       "      <td>True</td>\n",
       "      <td>...</td>\n",
       "      <td>NaN</td>\n",
       "      <td>NaN</td>\n",
       "      <td>NaN</td>\n",
       "      <td>NaN</td>\n",
       "      <td>NaN</td>\n",
       "      <td>NaN</td>\n",
       "      <td>NaN</td>\n",
       "      <td>NaN</td>\n",
       "      <td>NaN</td>\n",
       "      <td>NaN</td>\n",
       "    </tr>\n",
       "    <tr>\n",
       "      <th>2</th>\n",
       "      <td>0</td>\n",
       "      <td>StudentTTestSelection_DTreeEstimator</td>\n",
       "      <td>NaN</td>\n",
       "      <td>(('VarianceThreshold', VarianceThreshold(thres...</td>\n",
       "      <td>VarianceThreshold(threshold=0.0)</td>\n",
       "      <td>StandardScaler(copy=True, with_mean=True, with...</td>\n",
       "      <td>StudentTTestSelection(error_handling='all', me...</td>\n",
       "      <td>DTreeEstimator(class_weight='balanced', criter...</td>\n",
       "      <td>0.0</td>\n",
       "      <td>True</td>\n",
       "      <td>...</td>\n",
       "      <td>NaN</td>\n",
       "      <td>NaN</td>\n",
       "      <td>NaN</td>\n",
       "      <td>NaN</td>\n",
       "      <td>NaN</td>\n",
       "      <td>NaN</td>\n",
       "      <td>NaN</td>\n",
       "      <td>NaN</td>\n",
       "      <td>NaN</td>\n",
       "      <td>NaN</td>\n",
       "    </tr>\n",
       "    <tr>\n",
       "      <th>3</th>\n",
       "      <td>3</td>\n",
       "      <td>StudentTTestSelection_DTreeEstimator</td>\n",
       "      <td>NaN</td>\n",
       "      <td>(('VarianceThreshold', VarianceThreshold(thres...</td>\n",
       "      <td>VarianceThreshold(threshold=0.0)</td>\n",
       "      <td>StandardScaler(copy=True, with_mean=True, with...</td>\n",
       "      <td>StudentTTestSelection(error_handling='all', me...</td>\n",
       "      <td>DTreeEstimator(class_weight='balanced', criter...</td>\n",
       "      <td>0.0</td>\n",
       "      <td>True</td>\n",
       "      <td>...</td>\n",
       "      <td>NaN</td>\n",
       "      <td>NaN</td>\n",
       "      <td>NaN</td>\n",
       "      <td>NaN</td>\n",
       "      <td>NaN</td>\n",
       "      <td>NaN</td>\n",
       "      <td>NaN</td>\n",
       "      <td>NaN</td>\n",
       "      <td>NaN</td>\n",
       "      <td>NaN</td>\n",
       "    </tr>\n",
       "    <tr>\n",
       "      <th>4</th>\n",
       "      <td>3</td>\n",
       "      <td>StudentTTestSelection_DTreeEstimator</td>\n",
       "      <td>NaN</td>\n",
       "      <td>(('VarianceThreshold', VarianceThreshold(thres...</td>\n",
       "      <td>VarianceThreshold(threshold=0.0)</td>\n",
       "      <td>StandardScaler(copy=True, with_mean=True, with...</td>\n",
       "      <td>StudentTTestSelection(error_handling='all', me...</td>\n",
       "      <td>DTreeEstimator(class_weight='balanced', criter...</td>\n",
       "      <td>0.0</td>\n",
       "      <td>True</td>\n",
       "      <td>...</td>\n",
       "      <td>NaN</td>\n",
       "      <td>NaN</td>\n",
       "      <td>NaN</td>\n",
       "      <td>NaN</td>\n",
       "      <td>NaN</td>\n",
       "      <td>NaN</td>\n",
       "      <td>NaN</td>\n",
       "      <td>NaN</td>\n",
       "      <td>NaN</td>\n",
       "      <td>NaN</td>\n",
       "    </tr>\n",
       "  </tbody>\n",
       "</table>\n",
       "<p>5 rows × 59 columns</p>\n",
       "</div>"
      ],
      "text/plain": [
       "   exp_id                         experiment_id  memory  \\\n",
       "0      44  StudentTTestSelection_DTreeEstimator     NaN   \n",
       "1      47  StudentTTestSelection_DTreeEstimator     NaN   \n",
       "2       0  StudentTTestSelection_DTreeEstimator     NaN   \n",
       "3       3  StudentTTestSelection_DTreeEstimator     NaN   \n",
       "4       3  StudentTTestSelection_DTreeEstimator     NaN   \n",
       "\n",
       "                                               steps  \\\n",
       "0  (('VarianceThreshold', VarianceThreshold(thres...   \n",
       "1  (('VarianceThreshold', VarianceThreshold(thres...   \n",
       "2  (('VarianceThreshold', VarianceThreshold(thres...   \n",
       "3  (('VarianceThreshold', VarianceThreshold(thres...   \n",
       "4  (('VarianceThreshold', VarianceThreshold(thres...   \n",
       "\n",
       "                  VarianceThreshold  \\\n",
       "0  VarianceThreshold(threshold=0.0)   \n",
       "1  VarianceThreshold(threshold=0.0)   \n",
       "2  VarianceThreshold(threshold=0.0)   \n",
       "3  VarianceThreshold(threshold=0.0)   \n",
       "4  VarianceThreshold(threshold=0.0)   \n",
       "\n",
       "                                      StandardScaler  \\\n",
       "0  StandardScaler(copy=True, with_mean=True, with...   \n",
       "1  StandardScaler(copy=True, with_mean=True, with...   \n",
       "2  StandardScaler(copy=True, with_mean=True, with...   \n",
       "3  StandardScaler(copy=True, with_mean=True, with...   \n",
       "4  StandardScaler(copy=True, with_mean=True, with...   \n",
       "\n",
       "                               StudentTTestSelection  \\\n",
       "0  StudentTTestSelection(error_handling='all', me...   \n",
       "1  StudentTTestSelection(error_handling='all', me...   \n",
       "2  StudentTTestSelection(error_handling='all', me...   \n",
       "3  StudentTTestSelection(error_handling='all', me...   \n",
       "4  StudentTTestSelection(error_handling='all', me...   \n",
       "\n",
       "                                      DTreeEstimator  \\\n",
       "0  DTreeEstimator(class_weight='balanced', criter...   \n",
       "1  DTreeEstimator(class_weight='balanced', criter...   \n",
       "2  DTreeEstimator(class_weight='balanced', criter...   \n",
       "3  DTreeEstimator(class_weight='balanced', criter...   \n",
       "4  DTreeEstimator(class_weight='balanced', criter...   \n",
       "\n",
       "   VarianceThreshold__threshold  StandardScaler__copy  \\\n",
       "0                           0.0                  True   \n",
       "1                           0.0                  True   \n",
       "2                           0.0                  True   \n",
       "3                           0.0                  True   \n",
       "4                           0.0                  True   \n",
       "\n",
       "                ...                 Chi2Selection__error_handling  \\\n",
       "0               ...                                           NaN   \n",
       "1               ...                                           NaN   \n",
       "2               ...                                           NaN   \n",
       "3               ...                                           NaN   \n",
       "4               ...                                           NaN   \n",
       "\n",
       "   Chi2Selection__num_features MRMRSelection  MRMRSelection__error_handling  \\\n",
       "0                          NaN           NaN                            NaN   \n",
       "1                          NaN           NaN                            NaN   \n",
       "2                          NaN           NaN                            NaN   \n",
       "3                          NaN           NaN                            NaN   \n",
       "4                          NaN           NaN                            NaN   \n",
       "\n",
       "   MRMRSelection__num_features MRMRSelection__num_neighbors ReliefFSelection  \\\n",
       "0                          NaN                          NaN              NaN   \n",
       "1                          NaN                          NaN              NaN   \n",
       "2                          NaN                          NaN              NaN   \n",
       "3                          NaN                          NaN              NaN   \n",
       "4                          NaN                          NaN              NaN   \n",
       "\n",
       "   ReliefFSelection__error_handling ReliefFSelection__num_features  \\\n",
       "0                               NaN                            NaN   \n",
       "1                               NaN                            NaN   \n",
       "2                               NaN                            NaN   \n",
       "3                               NaN                            NaN   \n",
       "4                               NaN                            NaN   \n",
       "\n",
       "   ReliefFSelection__num_neighbors  \n",
       "0                              NaN  \n",
       "1                              NaN  \n",
       "2                              NaN  \n",
       "3                              NaN  \n",
       "4                              NaN  \n",
       "\n",
       "[5 rows x 59 columns]"
      ]
     },
     "execution_count": 7,
     "metadata": {},
     "output_type": "execute_result"
    }
   ],
   "source": [
    "results = pd.read_csv(\n",
    "    './../../../data_source/results/dtree_univariate_sfs/50evals_50reps_dtree_univariate_sfs_dfs.csv', \n",
    "    index_col=0\n",
    ")\n",
    "results.head()"
   ]
  },
  {
   "cell_type": "code",
   "execution_count": 8,
   "metadata": {},
   "outputs": [
    {
     "data": {
      "text/plain": [
       "(400, 59)"
      ]
     },
     "execution_count": 8,
     "metadata": {},
     "output_type": "execute_result"
    }
   ],
   "source": [
    "results.shape"
   ]
  },
  {
   "cell_type": "code",
   "execution_count": 9,
   "metadata": {},
   "outputs": [
    {
     "data": {
      "text/plain": [
       "0    [7 8 4 7 6 4 3 3 4 2 3 3 1 1 2 1 1 5 0 1 1 1 0...\n",
       "1    [10 10 10 10 10 10 10 10 10 10 10 10 10 10  9 ...\n",
       "2    [7 5 7 8 4 5 5 5 2 7 6 5 5 8 7 6 7 7 4 8 7 4 7...\n",
       "3    [ 2 10 10  8  0  0  0  0  0  0  0  0  0  0  0 ...\n",
       "4    [ 2 10 10  8  0  0  0  0  0  0  0  0  0  0  0 ...\n",
       "Name: feature_votes, dtype: object"
      ]
     },
     "execution_count": 9,
     "metadata": {},
     "output_type": "execute_result"
    }
   ],
   "source": [
    "votes = results['feature_votes']\n",
    "votes.head()"
   ]
  },
  {
   "cell_type": "code",
   "execution_count": 10,
   "metadata": {},
   "outputs": [
    {
     "data": {
      "text/plain": [
       "550"
      ]
     },
     "execution_count": 10,
     "metadata": {},
     "output_type": "execute_result"
    }
   ],
   "source": [
    "len(list(votes.values[0].replace('\\n', '').replace('[', '').replace(']', '').replace(' ', '')))"
   ]
  },
  {
   "cell_type": "code",
   "execution_count": 11,
   "metadata": {},
   "outputs": [
    {
     "data": {
      "text/plain": [
       "550"
      ]
     },
     "execution_count": 11,
     "metadata": {},
     "output_type": "execute_result"
    }
   ],
   "source": [
    "len(list(votes[0].replace(' ', '').replace('\\n', ''))[1:-1])"
   ]
  },
  {
   "cell_type": "code",
   "execution_count": 15,
   "metadata": {},
   "outputs": [
    {
     "data": {
      "text/html": [
       "<div>\n",
       "<style scoped>\n",
       "    .dataframe tbody tr th:only-of-type {\n",
       "        vertical-align: middle;\n",
       "    }\n",
       "\n",
       "    .dataframe tbody tr th {\n",
       "        vertical-align: top;\n",
       "    }\n",
       "\n",
       "    .dataframe thead th {\n",
       "        text-align: right;\n",
       "    }\n",
       "</style>\n",
       "<table border=\"1\" class=\"dataframe\">\n",
       "  <thead>\n",
       "    <tr style=\"text-align: right;\">\n",
       "      <th></th>\n",
       "      <th>votes</th>\n",
       "      <th>labels</th>\n",
       "    </tr>\n",
       "  </thead>\n",
       "  <tbody>\n",
       "    <tr>\n",
       "      <th>0</th>\n",
       "      <td>3200</td>\n",
       "      <td>original_shape_Flatness</td>\n",
       "    </tr>\n",
       "    <tr>\n",
       "      <th>1</th>\n",
       "      <td>2800</td>\n",
       "      <td>original_shape_Elongation</td>\n",
       "    </tr>\n",
       "    <tr>\n",
       "      <th>2</th>\n",
       "      <td>2800</td>\n",
       "      <td>original_shape_MajorAxis</td>\n",
       "    </tr>\n",
       "    <tr>\n",
       "      <th>3</th>\n",
       "      <td>2400</td>\n",
       "      <td>original_shape_Maximum2DDiameterColumn</td>\n",
       "    </tr>\n",
       "    <tr>\n",
       "      <th>4</th>\n",
       "      <td>2000</td>\n",
       "      <td>ICD-10_C02</td>\n",
       "    </tr>\n",
       "  </tbody>\n",
       "</table>\n",
       "</div>"
      ],
      "text/plain": [
       "   votes                                  labels\n",
       "0   3200                 original_shape_Flatness\n",
       "1   2800               original_shape_Elongation\n",
       "2   2800                original_shape_MajorAxis\n",
       "3   2400  original_shape_Maximum2DDiameterColumn\n",
       "4   2000                              ICD-10_C02"
      ]
     },
     "execution_count": 15,
     "metadata": {},
     "output_type": "execute_result"
    }
   ],
   "source": [
    "# Goal:\n",
    "# * Sort votes and collect corresponding labels.\n",
    "\n",
    "global_votes = np.zeros(X.shape[1], dtype=int)\n",
    "for str_array in votes:\n",
    "    _votes = list(votes[0].replace(' ', '').replace('\\n', ''))\n",
    "    votes_arr = np.array(list(map(int, list(_votes[1:-1]))), dtype=int)\n",
    "    global_votes += votes_arr\n",
    "\n",
    "idx = np.argsort(global_votes)[::-1]\n",
    "labels = np.array(features)[idx]\n",
    "sorted_votes = np.trim_zeros(global_votes[idx], trim='b')\n",
    "labels = labels[:len(sorted_votes)]\n",
    "\n",
    "\n",
    "data = pd.DataFrame(\n",
    "    {\n",
    "        'votes': sorted_votes,\n",
    "        'labels': labels,\n",
    "        \n",
    "    }\n",
    ")\n",
    "data.head()"
   ]
  },
  {
   "cell_type": "code",
   "execution_count": 16,
   "metadata": {},
   "outputs": [
    {
     "data": {
      "text/plain": [
       "(3200, 3200)"
      ]
     },
     "execution_count": 16,
     "metadata": {},
     "output_type": "execute_result"
    }
   ],
   "source": [
    "# Sanity check.\n",
    "max(global_votes), sorted_votes[0]"
   ]
  },
  {
   "cell_type": "code",
   "execution_count": 17,
   "metadata": {},
   "outputs": [
    {
     "data": {
      "text/plain": [
       "(550, 53)"
      ]
     },
     "execution_count": 17,
     "metadata": {},
     "output_type": "execute_result"
    }
   ],
   "source": [
    "len(global_votes), len(sorted_votes)"
   ]
  },
  {
   "cell_type": "code",
   "execution_count": 18,
   "metadata": {},
   "outputs": [],
   "source": [
    "def prep_feature_labels(labels):\n",
    "    prep_labels = []\n",
    "    for label in labels:\n",
    "        comps = label.split('_')\n",
    "\n",
    "        if len(comps) == 1:\n",
    "            prep_labels.append(label.title())\n",
    "        elif len(comps) == 2:\n",
    "            new_label = '{}: {}'.format(comps[0], comps[1])\n",
    "            prep_labels.append(new_label)\n",
    "        elif len(comps) == 3:\n",
    "            filter_type, feature_type, name = comps\n",
    "            if len(name) > 15:\n",
    "                #name_comps = re.findall('[A-Z][^A-Z]*', name)\n",
    "                #name = ('-\\n').join((('').join(name_comps[:2]), ('').join(name_comps[2:])))\n",
    "                new_label = '{}'.format(name)\n",
    "            else:\n",
    "                new_label = '{}'.format(name)\n",
    "            prep_labels.append(new_label)\n",
    "        elif len(comps) == 4:\n",
    "            image_type, filter_type, feature_type, name = comps\n",
    "            if len(name) > 15:\n",
    "                #name_comps = re.findall('[A-Z][^A-Z]*', name)\n",
    "                #name = ('-\\n').join((('').join(name_comps[:2]), ('').join(name_comps[2:])))\n",
    "                new_label = '\\n{}'.format(name)\n",
    "            else:\n",
    "                new_label = '{}'.format(name)\n",
    "            prep_labels.append(new_label)\n",
    "            \n",
    "    return prep_labels"
   ]
  },
  {
   "cell_type": "code",
   "execution_count": 19,
   "metadata": {},
   "outputs": [],
   "source": [
    "def feature_labels(labels):    \n",
    "    \n",
    "    keys = []\n",
    "    for label in labels:\n",
    "        if 'shape' in label:\n",
    "            keys.append('Shape')\n",
    "        elif 'firstorder' in label:\n",
    "            keys.append('First Order')\n",
    "        elif 'glcm' in label:\n",
    "            keys.append('GLCM')\n",
    "        elif 'glrlm' in label:\n",
    "            keys.append('GLRLM')\n",
    "        elif 'glszm' in label:\n",
    "            keys.append('GLSZM')\n",
    "        elif 'gldm' in label:\n",
    "            keys.append('GLDM')\n",
    "        elif 'ngtdm' in label:\n",
    "            keys.append('NGTDM')\n",
    "        elif 'PETparam' in label:\n",
    "            keys.append('PET parameter')\n",
    "        else:\n",
    "            keys.append('Clinical')\n",
    "\n",
    "    return keys"
   ]
  },
  {
   "cell_type": "code",
   "execution_count": 20,
   "metadata": {},
   "outputs": [
    {
     "data": {
      "image/png": "[encoded data removed]",
      "text/plain": [
       "<Figure size 1080x648 with 2 Axes>"
      ]
     },
     "metadata": {
      "needs_background": "light"
     },
     "output_type": "display_data"
    }
   ],
   "source": [
    "keys = feature_labels(labels)\n",
    "handles = [\n",
    "    mpatches.Patch(color=colours[key], label=key) for key in prep_labels\n",
    "]\n",
    "\n",
    "fig, axes = plt.subplots(nrows=2, figsize=(15, 9))\n",
    "plt.tick_params(axis='both', labelsize=12)\n",
    "\n",
    "sns.barplot(\n",
    "    x=np.arange(np.size(sorted_votes)), \n",
    "    y=sorted_votes, \n",
    "    ax=axes[0], \n",
    "    hue=keys,\n",
    "    palette=colours,\n",
    ")\n",
    "feature_id = np.arange(1, sorted_votes.size, 5)\n",
    "axes[0].set_title('Frequency of selected features', fontsize=15)\n",
    "axes[0].set_xticks(feature_id)\n",
    "axes[0].set_xticklabels(feature_id)\n",
    "axes[0].set_ylabel('Counts', fontsize=16)\n",
    "axes[0].set_xlabel('Feature Indicator', fontsize=16)\n",
    "axes[0].legend(\n",
    "    handles=handles,\n",
    "    title='Feature Categories:', \n",
    "    title_fontsize=15,\n",
    "    loc='upper center', \n",
    "    bbox_to_anchor=(0.5, -0.25), \n",
    "    fancybox=True, \n",
    "    shadow=True, \n",
    "    fontsize=14,\n",
    "    ncol=4,\n",
    "    labelspacing=0.25\n",
    ")\n",
    "\n",
    "n = 15\n",
    "keys = feature_labels(labels[:n])\n",
    "sns.barplot(\n",
    "    x=np.arange(np.size(sorted_votes[:n])), \n",
    "    y=sorted_votes[:n], \n",
    "    ax=axes[1], \n",
    "    hue=keys,\n",
    "    palette=colours,\n",
    ")\n",
    "fnames = prep_feature_labels(labels[:n])\n",
    "#axes[1].legend().set_visible(False)\n",
    "axes[1].set_title('The {} most frequently selected features'.format(n), fontsize=15)\n",
    "axes[1].set_xticklabels(fnames, rotation=45, ha='right', va='center_baseline')\n",
    "axes[1].set_ylabel('Counts', fontsize=14)\n",
    "\n",
    "plt.subplots_adjust(hspace=1)\n",
    "\n",
    "plt.savefig(\n",
    "    './../../../figures/feature_votes_50evals_50_dtree_univariate_sfs.png',\n",
    "    bbox_inches='tight',\n",
    "    transparent=True,\n",
    "    dpi=600, \n",
    ")"
   ]
  },
  {
   "cell_type": "code",
   "execution_count": 21,
   "metadata": {},
   "outputs": [
    {
     "data": {
      "text/plain": [
       "{'shape': 13,\n",
       " 'firstorder': 8,\n",
       " 'glcm': 4,\n",
       " 'glrlm': 0,\n",
       " 'glszm': 0,\n",
       " 'gldm': 0,\n",
       " 'ngtdm': 0}"
      ]
     },
     "execution_count": 21,
     "metadata": {},
     "output_type": "execute_result"
    }
   ],
   "source": [
    "cats = ['shape',\n",
    "        'firstorder',\n",
    "        'glcm',\n",
    "        'glrlm',\n",
    "        'glszm',\n",
    "        'gldm',\n",
    "        'ngtdm']\n",
    "res = {}\n",
    "for cat in cats:\n",
    "    p = 0\n",
    "    c = 0\n",
    "    for label in labels:\n",
    "        if cat in label:\n",
    "            c = c + 1\n",
    "    res[cat] = c\n",
    "            \n",
    "res"
   ]
  },
  {
   "cell_type": "code",
   "execution_count": 22,
   "metadata": {},
   "outputs": [
    {
     "data": {
      "text/plain": [
       "array([3200, 2800, 2800, 2400, 2000, 1600, 1600, 1600, 1600, 1200, 1200,\n",
       "       1200, 1200, 1200,  800,  800,  800,  800,  800,  800,  800,  400,\n",
       "        400,  400,  400,  400,  400,  400,  400,  400,  400,  400,  400,\n",
       "        400,  400,  400,  400,  400,  400,  400,  400,  400,  400,  400,\n",
       "        400,  400,  400,  400,  400,  400,  400,  400,  400])"
      ]
     },
     "execution_count": 22,
     "metadata": {},
     "output_type": "execute_result"
    }
   ],
   "source": [
    "sorted_votes"
   ]
  },
  {
   "cell_type": "code",
   "execution_count": 23,
   "metadata": {},
   "outputs": [
    {
     "data": {
      "text/plain": [
       "28"
      ]
     },
     "execution_count": 23,
     "metadata": {},
     "output_type": "execute_result"
    }
   ],
   "source": [
    "# NOTE: Num clinical features.\n",
    "len(labels) - sum(res.values())"
   ]
  },
  {
   "cell_type": "code",
   "execution_count": 24,
   "metadata": {},
   "outputs": [
    {
     "data": {
      "text/plain": [
       "13"
      ]
     },
     "execution_count": 24,
     "metadata": {},
     "output_type": "execute_result"
    }
   ],
   "source": [
    "len(list(X.filter(regex='shape').columns))"
   ]
  },
  {
   "cell_type": "code",
   "execution_count": 25,
   "metadata": {},
   "outputs": [
    {
     "data": {
      "text/plain": [
       "248"
      ]
     },
     "execution_count": 25,
     "metadata": {},
     "output_type": "execute_result"
    }
   ],
   "source": [
    "len(list(X.filter(regex='CT').columns))"
   ]
  },
  {
   "cell_type": "code",
   "execution_count": 26,
   "metadata": {},
   "outputs": [
    {
     "data": {
      "text/plain": [
       "247"
      ]
     },
     "execution_count": 26,
     "metadata": {},
     "output_type": "execute_result"
    }
   ],
   "source": [
    "len(list(X.filter(regex='PET').columns))"
   ]
  },
  {
   "cell_type": "code",
   "execution_count": 27,
   "metadata": {},
   "outputs": [
    {
     "name": "stdout",
     "output_type": "stream",
     "text": [
      "Age : 1200\n",
      "Years Smoking : 800\n",
      "Naxogin Days : 800\n",
      "Sex_M : 800\n",
      "ICD-10_C02 : 800\n",
      "ICD-10_C03 : 800\n",
      "ICD-10_C04 : 800\n",
      "ICD-10_C05 : 800\n",
      "ICD-10_C06 : 400\n",
      "ICD-10_C09 : 400\n",
      "ICD-10_C10 : 400\n",
      "ICD-10_C12 : 400\n",
      "ICD-10_C13 : 400\n",
      "ICD-10_C32 : 400\n",
      "T Stage_2 : 400\n",
      "T Stage_3 : 400\n",
      "T Stage_4 : 400\n",
      "N Stage_1 : 400\n",
      "N Stage_2 : 400\n",
      "N Stage_3 : 400\n",
      "Histology_1.0 : 400\n",
      "Histology_2.0 : 400\n",
      "Histology_3.0 : 400\n",
      "HPV_1 : 400\n",
      "HPV_2 : 400\n",
      "ECOG_1 : 400\n",
      "ECOG_2 : 400\n",
      "Charlson_1 : 400\n",
      "Charlson_2 : 400\n",
      "Charlson_3 : 400\n",
      "Charlson_4 : 400\n",
      "Charlson_5 : 400\n",
      "Cisplatin_1 : 400\n",
      "Cisplatin_2 : 400\n",
      "Cisplatin_3 : 400\n",
      "Cisplatin_4 : 400\n",
      "Cisplatin_5 : 400\n",
      "Cisplatin_6 : 400\n",
      "Stage 1 : 400\n",
      "Stage 2 : 400\n"
     ]
    },
    {
     "ename": "IndexError",
     "evalue": "index 53 is out of bounds for axis 0 with size 53",
     "output_type": "error",
     "traceback": [
      "\u001b[0;31m-----------------------------------------------------------------\u001b[0m",
      "\u001b[0;31mIndexError\u001b[0m                      Traceback (most recent call last)",
      "\u001b[0;32m<ipython-input-27-1ab80d0134e4>\u001b[0m in \u001b[0;36m<module>\u001b[0;34m\u001b[0m\n\u001b[1;32m      6\u001b[0m \u001b[0;32mfor\u001b[0m \u001b[0mnum\u001b[0m\u001b[0;34m,\u001b[0m \u001b[0mcol\u001b[0m \u001b[0;32min\u001b[0m \u001b[0menumerate\u001b[0m\u001b[0;34m(\u001b[0m\u001b[0mX\u001b[0m\u001b[0;34m.\u001b[0m\u001b[0mcolumns\u001b[0m\u001b[0;34m)\u001b[0m\u001b[0;34m:\u001b[0m\u001b[0;34m\u001b[0m\u001b[0;34m\u001b[0m\u001b[0m\n\u001b[1;32m      7\u001b[0m     \u001b[0;32mif\u001b[0m \u001b[0mcol\u001b[0m \u001b[0;32mnot\u001b[0m \u001b[0;32min\u001b[0m \u001b[0mnogos\u001b[0m\u001b[0;34m:\u001b[0m\u001b[0;34m\u001b[0m\u001b[0;34m\u001b[0m\u001b[0m\n\u001b[0;32m----> 8\u001b[0;31m         \u001b[0mcols\u001b[0m\u001b[0;34m[\u001b[0m\u001b[0mcol\u001b[0m\u001b[0;34m]\u001b[0m \u001b[0;34m=\u001b[0m \u001b[0msorted_votes\u001b[0m\u001b[0;34m[\u001b[0m\u001b[0mnum\u001b[0m\u001b[0;34m]\u001b[0m\u001b[0;34m\u001b[0m\u001b[0;34m\u001b[0m\u001b[0m\n\u001b[0m\u001b[1;32m      9\u001b[0m         \u001b[0mprint\u001b[0m\u001b[0;34m(\u001b[0m\u001b[0mcol\u001b[0m\u001b[0;34m,\u001b[0m \u001b[0;34m':'\u001b[0m\u001b[0;34m,\u001b[0m \u001b[0msorted_votes\u001b[0m\u001b[0;34m[\u001b[0m\u001b[0mnum\u001b[0m\u001b[0;34m]\u001b[0m\u001b[0;34m)\u001b[0m\u001b[0;34m\u001b[0m\u001b[0;34m\u001b[0m\u001b[0m\n\u001b[1;32m     10\u001b[0m \u001b[0;34m\u001b[0m\u001b[0m\n",
      "\u001b[0;31mIndexError\u001b[0m: index 53 is out of bounds for axis 0 with size 53"
     ]
    }
   ],
   "source": [
    "nogos = list(X.filter(regex='shape').columns) \n",
    "nogos = nogos + list(X.filter(regex='CT').columns) \n",
    "nogos = nogos + list(X.filter(regex='PET').columns)\n",
    "\n",
    "cols = {}\n",
    "for num, col in enumerate(X.columns):\n",
    "    if col not in nogos:\n",
    "        cols[col] = sorted_votes[num]\n",
    "        print(col, ':', sorted_votes[num])\n",
    "        \n",
    "# Pasienten er mann/kvinne er relativt viktig. Det er flere menn enn kvinner\n",
    "# i datasettet. Kan være knyttet til HPV variabel fordi ikke utypisk at menn får HPV?.\n",
    "\n",
    "# "
   ]
  },
  {
   "cell_type": "code",
   "execution_count": 31,
   "metadata": {},
   "outputs": [
    {
     "data": {
      "image/png": "[encoded data removed]",
      "text/plain": [
       "<Figure size 1152x504 with 1 Axes>"
      ]
     },
     "metadata": {
      "needs_background": "light"
     },
     "output_type": "display_data"
    }
   ],
   "source": [
    "x_coords = np.arange(len(cols.values()))\n",
    "clinical_labels = prep_feature_labels(cols.keys())\n",
    "\n",
    "plt.figure(figsize=(16, 7))\n",
    "plt.title('Selected Clinical Features', fontsize=16)\n",
    "sns.barplot(x=x_coords, y=list(cols.values()))\n",
    "plt.xticks(x_coords, clinical_labels, rotation=45, ha='right', fontsize=14)\n",
    "plt.ylabel('Number of Votes', fontsize=16)\n",
    "#plt.ylim([0, 250])\n",
    "plt.tight_layout()\n",
    "plt.savefig(\n",
    "    './../../../figures/clinical_feature_votes50evals_50reps_dtree_univariate_sfs.png',\n",
    "    bbox_inches='tight',\n",
    "    transparent=True,\n",
    "    dpi=600, \n",
    ")"
   ]
  },
  {
   "cell_type": "code",
   "execution_count": 29,
   "metadata": {},
   "outputs": [
    {
     "data": {
      "text/html": [
       "<div>\n",
       "<style scoped>\n",
       "    .dataframe tbody tr th:only-of-type {\n",
       "        vertical-align: middle;\n",
       "    }\n",
       "\n",
       "    .dataframe tbody tr th {\n",
       "        vertical-align: top;\n",
       "    }\n",
       "\n",
       "    .dataframe thead th {\n",
       "        text-align: right;\n",
       "    }\n",
       "</style>\n",
       "<table border=\"1\" class=\"dataframe\">\n",
       "  <thead>\n",
       "    <tr style=\"text-align: right;\">\n",
       "      <th></th>\n",
       "      <th>Votes</th>\n",
       "    </tr>\n",
       "  </thead>\n",
       "  <tbody>\n",
       "    <tr>\n",
       "      <th>Age</th>\n",
       "      <td>1200</td>\n",
       "    </tr>\n",
       "    <tr>\n",
       "      <th>Years Smoking</th>\n",
       "      <td>800</td>\n",
       "    </tr>\n",
       "    <tr>\n",
       "      <th>Naxogin Days</th>\n",
       "      <td>800</td>\n",
       "    </tr>\n",
       "    <tr>\n",
       "      <th>Sex_M</th>\n",
       "      <td>800</td>\n",
       "    </tr>\n",
       "    <tr>\n",
       "      <th>ICD-10_C02</th>\n",
       "      <td>800</td>\n",
       "    </tr>\n",
       "  </tbody>\n",
       "</table>\n",
       "</div>"
      ],
      "text/plain": [
       "               Votes\n",
       "Age             1200\n",
       "Years Smoking    800\n",
       "Naxogin Days     800\n",
       "Sex_M            800\n",
       "ICD-10_C02       800"
      ]
     },
     "execution_count": 29,
     "metadata": {},
     "output_type": "execute_result"
    }
   ],
   "source": [
    "# Group by encoded features.\n",
    "df_clinical = pd.DataFrame.from_dict(cols, orient='index', columns=['Votes'])\n",
    "df_clinical.head()"
   ]
  },
  {
   "cell_type": "code",
   "execution_count": 30,
   "metadata": {
    "scrolled": true
   },
   "outputs": [
    {
     "data": {
      "text/html": [
       "<div>\n",
       "<style scoped>\n",
       "    .dataframe tbody tr th:only-of-type {\n",
       "        vertical-align: middle;\n",
       "    }\n",
       "\n",
       "    .dataframe tbody tr th {\n",
       "        vertical-align: top;\n",
       "    }\n",
       "\n",
       "    .dataframe thead th {\n",
       "        text-align: right;\n",
       "    }\n",
       "</style>\n",
       "<table border=\"1\" class=\"dataframe\">\n",
       "  <thead>\n",
       "    <tr style=\"text-align: right;\">\n",
       "      <th></th>\n",
       "      <th>Votes</th>\n",
       "      <th>groups</th>\n",
       "    </tr>\n",
       "  </thead>\n",
       "  <tbody>\n",
       "    <tr>\n",
       "      <th>Age</th>\n",
       "      <td>1200</td>\n",
       "      <td>Age</td>\n",
       "    </tr>\n",
       "    <tr>\n",
       "      <th>Years Smoking</th>\n",
       "      <td>800</td>\n",
       "      <td>Years Smoking</td>\n",
       "    </tr>\n",
       "    <tr>\n",
       "      <th>Naxogin Days</th>\n",
       "      <td>800</td>\n",
       "      <td>Naxogin Days</td>\n",
       "    </tr>\n",
       "    <tr>\n",
       "      <th>Sex_M</th>\n",
       "      <td>800</td>\n",
       "      <td>Sex_M</td>\n",
       "    </tr>\n",
       "    <tr>\n",
       "      <th>ICD-10_C02</th>\n",
       "      <td>800</td>\n",
       "      <td>IDC-10</td>\n",
       "    </tr>\n",
       "  </tbody>\n",
       "</table>\n",
       "</div>"
      ],
      "text/plain": [
       "               Votes         groups\n",
       "Age             1200            Age\n",
       "Years Smoking    800  Years Smoking\n",
       "Naxogin Days     800   Naxogin Days\n",
       "Sex_M            800          Sex_M\n",
       "ICD-10_C02       800         IDC-10"
      ]
     },
     "execution_count": 30,
     "metadata": {},
     "output_type": "execute_result"
    }
   ],
   "source": [
    "grouper = []\n",
    "for num, label in enumerate(df_clinical.index):\n",
    "    if 'ICD-10' in label:\n",
    "        grouper.append('IDC-10')\n",
    "    elif 'Stage' in label:\n",
    "        grouper.append('Stage')\n",
    "    elif 'Histology' in label:\n",
    "        grouper.append('Histology')\n",
    "    elif 'HPV' in label:\n",
    "        grouper.append('HPV')\n",
    "    elif 'ECOG' in label:\n",
    "        grouper.append('ECOG')\n",
    "    elif 'Charlson' in label:\n",
    "        grouper.append('Charlson')\n",
    "    elif 'Cisplatin' in label:\n",
    "        grouper.append('Cisplatin')\n",
    "    else:\n",
    "        grouper.append(label)\n",
    "\n",
    "df_clinical['groups'] = grouper\n",
    "\n",
    "df_clinical.head()"
   ]
  },
  {
   "cell_type": "code",
   "execution_count": 107,
   "metadata": {},
   "outputs": [
    {
     "data": {
      "image/png": "[encoded data removed]",
      "text/plain": [
       "<Figure size 1080x576 with 1 Axes>"
      ]
     },
     "metadata": {},
     "output_type": "display_data"
    }
   ],
   "source": [
    "# Missing: \n",
    "df_clinical_grps = df_clinical.groupby('groups').sum()\n",
    "\n",
    "plt.figure(figsize=(15, 8))\n",
    "sns.set(font_scale=1.5)\n",
    "sns.barplot(y='Votes', x=df_clinical_grps.index, data=df_clinical_grps)\n",
    "plt.xlabel('')\n",
    "plt.xticks(rotation=45)\n",
    "plt.tight_layout()\n",
    "plt.savefig(\n",
    "    #'./../../../figures/grouped_clinical_feature_biomarker.png',\n",
    "    './../../../figures/grouped_100evals_100reps_clinical_feature_biomarker.png',\n",
    "    bbox_inches='tight',\n",
    "    transparent=True,\n",
    "    dpi=600, \n",
    ")"
   ]
  },
  {
   "cell_type": "code",
   "execution_count": 109,
   "metadata": {},
   "outputs": [
    {
     "data": {
      "text/plain": [
       "array([471, 571])"
      ]
     },
     "execution_count": 109,
     "metadata": {},
     "output_type": "execute_result"
    }
   ],
   "source": [
    "np.squeeze(np.where(results['test_score'] == results['test_score'].max()))"
   ]
  },
  {
   "cell_type": "code",
   "execution_count": 108,
   "metadata": {},
   "outputs": [
    {
     "ename": "TypeError",
     "evalue": "only size-1 arrays can be converted to Python scalars",
     "output_type": "error",
     "traceback": [
      "\u001b[0;31m-----------------------------------------------------------------\u001b[0m",
      "\u001b[0;31mTypeError\u001b[0m                       Traceback (most recent call last)",
      "\u001b[0;32m<ipython-input-108-f40084eb4746>\u001b[0m in \u001b[0;36m<module>\u001b[0;34m()\u001b[0m\n\u001b[0;32m----> 1\u001b[0;31m \u001b[0midx\u001b[0m \u001b[0;34m=\u001b[0m \u001b[0mint\u001b[0m\u001b[0;34m(\u001b[0m\u001b[0mnp\u001b[0m\u001b[0;34m.\u001b[0m\u001b[0msqueeze\u001b[0m\u001b[0;34m(\u001b[0m\u001b[0mnp\u001b[0m\u001b[0;34m.\u001b[0m\u001b[0mwhere\u001b[0m\u001b[0;34m(\u001b[0m\u001b[0mresults\u001b[0m\u001b[0;34m[\u001b[0m\u001b[0;34m'test_score'\u001b[0m\u001b[0;34m]\u001b[0m \u001b[0;34m==\u001b[0m \u001b[0mresults\u001b[0m\u001b[0;34m[\u001b[0m\u001b[0;34m'test_score'\u001b[0m\u001b[0;34m]\u001b[0m\u001b[0;34m.\u001b[0m\u001b[0mmax\u001b[0m\u001b[0;34m(\u001b[0m\u001b[0;34m)\u001b[0m\u001b[0;34m)\u001b[0m\u001b[0;34m)\u001b[0m\u001b[0;34m)\u001b[0m\u001b[0;34m\u001b[0m\u001b[0m\n\u001b[0m\u001b[1;32m      2\u001b[0m \u001b[0mbest_run\u001b[0m \u001b[0;34m=\u001b[0m \u001b[0mresults\u001b[0m\u001b[0;34m.\u001b[0m\u001b[0miloc\u001b[0m\u001b[0;34m[\u001b[0m\u001b[0midx\u001b[0m\u001b[0;34m,\u001b[0m \u001b[0;34m:\u001b[0m\u001b[0;34m]\u001b[0m\u001b[0;34m\u001b[0m\u001b[0m\n\u001b[1;32m      3\u001b[0m \u001b[0mbest_run_votes\u001b[0m \u001b[0;34m=\u001b[0m \u001b[0mbest_run\u001b[0m\u001b[0;34m[\u001b[0m\u001b[0;34m'feature_votes'\u001b[0m\u001b[0;34m]\u001b[0m\u001b[0;34m\u001b[0m\u001b[0m\n\u001b[1;32m      4\u001b[0m \u001b[0m_votes\u001b[0m \u001b[0;34m=\u001b[0m \u001b[0mlist\u001b[0m\u001b[0;34m(\u001b[0m\u001b[0mbest_run_votes\u001b[0m\u001b[0;34m.\u001b[0m\u001b[0mreplace\u001b[0m\u001b[0;34m(\u001b[0m\u001b[0;34m' '\u001b[0m\u001b[0;34m,\u001b[0m \u001b[0;34m''\u001b[0m\u001b[0;34m)\u001b[0m\u001b[0;34m.\u001b[0m\u001b[0mreplace\u001b[0m\u001b[0;34m(\u001b[0m\u001b[0;34m'\\n'\u001b[0m\u001b[0;34m,\u001b[0m \u001b[0;34m''\u001b[0m\u001b[0;34m)\u001b[0m\u001b[0;34m)\u001b[0m\u001b[0;34m\u001b[0m\u001b[0m\n\u001b[1;32m      5\u001b[0m \u001b[0mvotes_arr\u001b[0m \u001b[0;34m=\u001b[0m \u001b[0mnp\u001b[0m\u001b[0;34m.\u001b[0m\u001b[0marray\u001b[0m\u001b[0;34m(\u001b[0m\u001b[0mlist\u001b[0m\u001b[0;34m(\u001b[0m\u001b[0mmap\u001b[0m\u001b[0;34m(\u001b[0m\u001b[0mint\u001b[0m\u001b[0;34m,\u001b[0m \u001b[0mlist\u001b[0m\u001b[0;34m(\u001b[0m\u001b[0m_votes\u001b[0m\u001b[0;34m[\u001b[0m\u001b[0;36m1\u001b[0m\u001b[0;34m:\u001b[0m\u001b[0;34m-\u001b[0m\u001b[0;36m1\u001b[0m\u001b[0;34m]\u001b[0m\u001b[0;34m)\u001b[0m\u001b[0;34m)\u001b[0m\u001b[0;34m)\u001b[0m\u001b[0;34m,\u001b[0m \u001b[0mdtype\u001b[0m\u001b[0;34m=\u001b[0m\u001b[0mint\u001b[0m\u001b[0;34m)\u001b[0m\u001b[0;34m\u001b[0m\u001b[0m\n",
      "\u001b[0;31mTypeError\u001b[0m: only size-1 arrays can be converted to Python scalars"
     ]
    }
   ],
   "source": [
    "idx = int(np.squeeze(np.where(results['test_score'] == results['test_score'].max())))\n",
    "best_run = results.iloc[idx, :]\n",
    "best_run_votes = best_run['feature_votes']\n",
    "_votes = list(best_run_votes.replace(' ', '').replace('\\n', ''))\n",
    "votes_arr = np.array(list(map(int, list(_votes[1:-1]))), dtype=int)\n",
    "\n",
    "idx = np.argsort(votes_arr)[::-1]\n",
    "labels = np.array(features)[idx]\n",
    "sorted_votes = np.trim_zeros(votes_arr[idx], trim='b')\n",
    "labels = prep_feature_labels(labels[:len(sorted_votes)])\n",
    "\n",
    "y_coords = np.arange(np.size(labels))\n",
    "\n",
    "plt.figure(figsize=(8, 15))\n",
    "sns.set(font_scale=1.5)\n",
    "sns.barplot(y=labels, x=sorted_votes, )\n",
    "plt.xlabel('Votes')\n",
    "plt.yticks(y_coords, labels, va='bottom', fontsize=14)\n",
    "plt.tight_layout()\n",
    "\n",
    "plt.savefig(\n",
    "    './../../../figures/best_run_features.png',\n",
    "    bbox_inches='tight',\n",
    "    transparent=True,\n",
    "    dpi=600, \n",
    ")"
   ]
  },
  {
   "cell_type": "code",
   "execution_count": null,
   "metadata": {},
   "outputs": [],
   "source": [
    "# Group by encoded features.\n",
    "df_clinical = pd.DataFrame(sorted_votes, columns=['Votes'])\n",
    "df_clinical.index = labels\n",
    "df_clinical.head()"
   ]
  },
  {
   "cell_type": "code",
   "execution_count": null,
   "metadata": {},
   "outputs": [],
   "source": [
    "grouper = []\n",
    "for num, label in enumerate(df_clinical.index):\n",
    "    if 'ICD-10' in label:\n",
    "        grouper.append('IDC-10')\n",
    "    elif 'Stage' in label:\n",
    "        grouper.append('Stage')\n",
    "    elif 'Histology' in label:\n",
    "        grouper.append('Histology')\n",
    "    elif 'HPV' in label:\n",
    "        grouper.append('HPV')\n",
    "    elif 'ECOG' in label:\n",
    "        grouper.append('ECOG')\n",
    "    elif 'Charlson' in label:\n",
    "        grouper.append('Charlson')\n",
    "    elif 'Cisplatin' in label:\n",
    "        grouper.append('Cisplatin')\n",
    "    else:\n",
    "        grouper.append(label)\n",
    "\n",
    "df_clinical['groups'] = grouper\n",
    "\n",
    "df_clinical.head()"
   ]
  },
  {
   "cell_type": "code",
   "execution_count": null,
   "metadata": {
    "scrolled": false
   },
   "outputs": [],
   "source": [
    "# Missing: \n",
    "df_clinical_grps = df_clinical.groupby('groups').sum()\n",
    "\n",
    "plt.figure(figsize=(10, 15))\n",
    "sns.set(font_scale=1.5)\n",
    "sns.barplot(x='Votes', y=df_clinical_grps.index, data=df_clinical_grps)\n",
    "plt.xlabel('Votes')\n",
    "plt.ylabel('')\n",
    "plt.xticks(rotation=45)\n",
    "plt.tight_layout()\n",
    "plt.savefig(\n",
    "    './../../../figures/grouped_best_run_features.png',\n",
    "    bbox_inches='tight',\n",
    "    transparent=True,\n",
    "    dpi=600, \n",
    ")"
   ]
  },
  {
   "cell_type": "code",
   "execution_count": null,
   "metadata": {},
   "outputs": [],
   "source": []
  }
 ],
 "metadata": {
  "anaconda-cloud": {},
  "kernelspec": {
   "display_name": "Python 3",
   "language": "python",
   "name": "python3"
  },
  "language_info": {
   "codemirror_mode": {
    "name": "ipython",
    "version": 3
   },
   "file_extension": ".py",
   "mimetype": "text/x-python",
   "name": "python",
   "nbconvert_exporter": "python",
   "pygments_lexer": "ipython3",
   "version": "3.7.1"
  }
 },
 "nbformat": 4,
 "nbformat_minor": 2
}
