{
 "cells": [
  {
   "cell_type": "code",
   "execution_count": 70,
   "metadata": {},
   "outputs": [],
   "source": [
    "# ERROR:\n",
    "\n",
    "\n",
    "import re\n",
    "\n",
    "import numpy as np\n",
    "import pandas as pd\n",
    "\n",
    "import seaborn as sns\n",
    "import matplotlib.pyplot as plt\n",
    "import matplotlib.patches as mpatches\n",
    "\n",
    "from ast import literal_eval\n",
    "from collections import OrderedDict\n",
    "\n",
    "%matplotlib inline"
   ]
  },
  {
   "cell_type": "code",
   "execution_count": 71,
   "metadata": {},
   "outputs": [],
   "source": [
    "prep_labels = [\n",
    "    'Shape', \n",
    "    'First Order', \n",
    "    'GLCM', \n",
    "    'GLRLM', \n",
    "    'GLSZM', \n",
    "    'GLDM', \n",
    "    'NGTDM', \n",
    "    'PET parameter',\n",
    "    'Clinical'\n",
    "]\n",
    "colours = OrderedDict(\n",
    "    [\n",
    "        ('Shape', sns.color_palette()[0]),\n",
    "        ('Clinical', sns.color_palette()[1]),\n",
    "        ('First Order', sns.color_palette()[2]),\n",
    "        ('GLCM', sns.color_palette()[3]),\n",
    "        ('GLRLM', sns.color_palette()[8]),\n",
    "        ('GLSZM', sns.color_palette()[5]),\n",
    "        ('GLDM', sns.color_palette()[6]),\n",
    "        ('NGTDM', sns.color_palette()[7]),\n",
    "        ('PET parameter', sns.color_palette()[4])\n",
    "    ]\n",
    ")"
   ]
  },
  {
   "cell_type": "code",
   "execution_count": 72,
   "metadata": {},
   "outputs": [
    {
     "data": {
      "text/plain": [
       "(['original_shape_Elongation',\n",
       "  'original_shape_Flatness',\n",
       "  'original_shape_LeastAxis',\n",
       "  'original_shape_MajorAxis',\n",
       "  'original_shape_Maximum2DDiameterColumn',\n",
       "  'original_shape_Maximum2DDiameterRow'],\n",
       " 610)"
      ]
     },
     "execution_count": 72,
     "metadata": {},
     "output_type": "execute_result"
    }
   ],
   "source": [
    "X = pd.read_csv('./../../../data_source/to_analysis/no_filter_concat.csv', index_col=0)\n",
    "features = list(X.columns)\n",
    "features[:6], len(features)"
   ]
  },
  {
   "cell_type": "code",
   "execution_count": 73,
   "metadata": {},
   "outputs": [
    {
     "data": {
      "text/plain": [
       "13"
      ]
     },
     "execution_count": 73,
     "metadata": {},
     "output_type": "execute_result"
    }
   ],
   "source": [
    "X.filter(regex='shape').shape[1]"
   ]
  },
  {
   "cell_type": "code",
   "execution_count": 74,
   "metadata": {},
   "outputs": [
    {
     "data": {
      "text/plain": [
       "18.0"
      ]
     },
     "execution_count": 74,
     "metadata": {},
     "output_type": "execute_result"
    }
   ],
   "source": [
    "X.filter(regex='CT_original_firstorder').shape[1] / 3"
   ]
  },
  {
   "cell_type": "code",
   "execution_count": 75,
   "metadata": {},
   "outputs": [
    {
     "data": {
      "text/plain": [
       "92.0"
      ]
     },
     "execution_count": 75,
     "metadata": {},
     "output_type": "execute_result"
    }
   ],
   "source": [
    "X.filter(regex='CT_original').shape[1] / 3"
   ]
  },
  {
   "cell_type": "code",
   "execution_count": 77,
   "metadata": {},
   "outputs": [
    {
     "data": {
      "text/html": [
       "<div>\n",
       "<style scoped>\n",
       "    .dataframe tbody tr th:only-of-type {\n",
       "        vertical-align: middle;\n",
       "    }\n",
       "\n",
       "    .dataframe tbody tr th {\n",
       "        vertical-align: top;\n",
       "    }\n",
       "\n",
       "    .dataframe thead th {\n",
       "        text-align: right;\n",
       "    }\n",
       "</style>\n",
       "<table border=\"1\" class=\"dataframe\">\n",
       "  <thead>\n",
       "    <tr style=\"text-align: right;\">\n",
       "      <th></th>\n",
       "      <th>exp_id</th>\n",
       "      <th>experiment_id</th>\n",
       "      <th>DTreeEstimator__criterion</th>\n",
       "      <th>DTreeEstimator__max_depth</th>\n",
       "      <th>DTreeEstimator__max_features</th>\n",
       "      <th>DTreeEstimator__min_samples_leaf</th>\n",
       "      <th>DTreeEstimator__num_features</th>\n",
       "      <th>StudentTTestSelection__num_features</th>\n",
       "      <th>test_score</th>\n",
       "      <th>train_score</th>\n",
       "      <th>...</th>\n",
       "      <th>MutualInformationSelection__num_features</th>\n",
       "      <th>MutualInformationSelection__num_neighbors</th>\n",
       "      <th>FScoreSelection__num_features</th>\n",
       "      <th>WilcoxonSelection__num_features</th>\n",
       "      <th>ANOVAFvalueSelection__num_features</th>\n",
       "      <th>Chi2Selection__num_features</th>\n",
       "      <th>MRMRSelection__num_features</th>\n",
       "      <th>MRMRSelection__num_neighbors</th>\n",
       "      <th>ReliefFSelection__num_features</th>\n",
       "      <th>ReliefFSelection__num_neighbors</th>\n",
       "    </tr>\n",
       "  </thead>\n",
       "  <tbody>\n",
       "    <tr>\n",
       "      <th>0</th>\n",
       "      <td>44</td>\n",
       "      <td>StudentTTestSelection_DTreeEstimator</td>\n",
       "      <td>entropy</td>\n",
       "      <td>3.0</td>\n",
       "      <td>sqrt</td>\n",
       "      <td>0.345551</td>\n",
       "      <td>43</td>\n",
       "      <td>52.0</td>\n",
       "      <td>0.562179</td>\n",
       "      <td>0.606391</td>\n",
       "      <td>...</td>\n",
       "      <td>NaN</td>\n",
       "      <td>NaN</td>\n",
       "      <td>NaN</td>\n",
       "      <td>NaN</td>\n",
       "      <td>NaN</td>\n",
       "      <td>NaN</td>\n",
       "      <td>NaN</td>\n",
       "      <td>NaN</td>\n",
       "      <td>NaN</td>\n",
       "      <td>NaN</td>\n",
       "    </tr>\n",
       "    <tr>\n",
       "      <th>1</th>\n",
       "      <td>47</td>\n",
       "      <td>StudentTTestSelection_DTreeEstimator</td>\n",
       "      <td>gini</td>\n",
       "      <td>3.0</td>\n",
       "      <td>NaN</td>\n",
       "      <td>0.386659</td>\n",
       "      <td>9</td>\n",
       "      <td>20.0</td>\n",
       "      <td>0.593498</td>\n",
       "      <td>0.631660</td>\n",
       "      <td>...</td>\n",
       "      <td>NaN</td>\n",
       "      <td>NaN</td>\n",
       "      <td>NaN</td>\n",
       "      <td>NaN</td>\n",
       "      <td>NaN</td>\n",
       "      <td>NaN</td>\n",
       "      <td>NaN</td>\n",
       "      <td>NaN</td>\n",
       "      <td>NaN</td>\n",
       "      <td>NaN</td>\n",
       "    </tr>\n",
       "    <tr>\n",
       "      <th>2</th>\n",
       "      <td>64</td>\n",
       "      <td>StudentTTestSelection_DTreeEstimator</td>\n",
       "      <td>gini</td>\n",
       "      <td>NaN</td>\n",
       "      <td>NaN</td>\n",
       "      <td>0.458999</td>\n",
       "      <td>23</td>\n",
       "      <td>93.0</td>\n",
       "      <td>0.592491</td>\n",
       "      <td>0.636623</td>\n",
       "      <td>...</td>\n",
       "      <td>NaN</td>\n",
       "      <td>NaN</td>\n",
       "      <td>NaN</td>\n",
       "      <td>NaN</td>\n",
       "      <td>NaN</td>\n",
       "      <td>NaN</td>\n",
       "      <td>NaN</td>\n",
       "      <td>NaN</td>\n",
       "      <td>NaN</td>\n",
       "      <td>NaN</td>\n",
       "    </tr>\n",
       "    <tr>\n",
       "      <th>3</th>\n",
       "      <td>67</td>\n",
       "      <td>StudentTTestSelection_DTreeEstimator</td>\n",
       "      <td>gini</td>\n",
       "      <td>20.0</td>\n",
       "      <td>sqrt</td>\n",
       "      <td>0.386622</td>\n",
       "      <td>16</td>\n",
       "      <td>80.0</td>\n",
       "      <td>0.578480</td>\n",
       "      <td>0.614730</td>\n",
       "      <td>...</td>\n",
       "      <td>NaN</td>\n",
       "      <td>NaN</td>\n",
       "      <td>NaN</td>\n",
       "      <td>NaN</td>\n",
       "      <td>NaN</td>\n",
       "      <td>NaN</td>\n",
       "      <td>NaN</td>\n",
       "      <td>NaN</td>\n",
       "      <td>NaN</td>\n",
       "      <td>NaN</td>\n",
       "    </tr>\n",
       "    <tr>\n",
       "      <th>4</th>\n",
       "      <td>67</td>\n",
       "      <td>StudentTTestSelection_DTreeEstimator</td>\n",
       "      <td>entropy</td>\n",
       "      <td>5.0</td>\n",
       "      <td>log2</td>\n",
       "      <td>0.475743</td>\n",
       "      <td>39</td>\n",
       "      <td>46.0</td>\n",
       "      <td>0.593315</td>\n",
       "      <td>0.599581</td>\n",
       "      <td>...</td>\n",
       "      <td>NaN</td>\n",
       "      <td>NaN</td>\n",
       "      <td>NaN</td>\n",
       "      <td>NaN</td>\n",
       "      <td>NaN</td>\n",
       "      <td>NaN</td>\n",
       "      <td>NaN</td>\n",
       "      <td>NaN</td>\n",
       "      <td>NaN</td>\n",
       "      <td>NaN</td>\n",
       "    </tr>\n",
       "  </tbody>\n",
       "</table>\n",
       "<p>5 rows × 24 columns</p>\n",
       "</div>"
      ],
      "text/plain": [
       "   exp_id                         experiment_id DTreeEstimator__criterion  \\\n",
       "0      44  StudentTTestSelection_DTreeEstimator                   entropy   \n",
       "1      47  StudentTTestSelection_DTreeEstimator                      gini   \n",
       "2      64  StudentTTestSelection_DTreeEstimator                      gini   \n",
       "3      67  StudentTTestSelection_DTreeEstimator                      gini   \n",
       "4      67  StudentTTestSelection_DTreeEstimator                   entropy   \n",
       "\n",
       "   DTreeEstimator__max_depth DTreeEstimator__max_features  \\\n",
       "0                        3.0                         sqrt   \n",
       "1                        3.0                          NaN   \n",
       "2                        NaN                          NaN   \n",
       "3                       20.0                         sqrt   \n",
       "4                        5.0                         log2   \n",
       "\n",
       "   DTreeEstimator__min_samples_leaf  DTreeEstimator__num_features  \\\n",
       "0                          0.345551                            43   \n",
       "1                          0.386659                             9   \n",
       "2                          0.458999                            23   \n",
       "3                          0.386622                            16   \n",
       "4                          0.475743                            39   \n",
       "\n",
       "   StudentTTestSelection__num_features  test_score  train_score  \\\n",
       "0                                 52.0    0.562179     0.606391   \n",
       "1                                 20.0    0.593498     0.631660   \n",
       "2                                 93.0    0.592491     0.636623   \n",
       "3                                 80.0    0.578480     0.614730   \n",
       "4                                 46.0    0.593315     0.599581   \n",
       "\n",
       "                ...                 MutualInformationSelection__num_features  \\\n",
       "0               ...                                                      NaN   \n",
       "1               ...                                                      NaN   \n",
       "2               ...                                                      NaN   \n",
       "3               ...                                                      NaN   \n",
       "4               ...                                                      NaN   \n",
       "\n",
       "   MutualInformationSelection__num_neighbors FScoreSelection__num_features  \\\n",
       "0                                        NaN                           NaN   \n",
       "1                                        NaN                           NaN   \n",
       "2                                        NaN                           NaN   \n",
       "3                                        NaN                           NaN   \n",
       "4                                        NaN                           NaN   \n",
       "\n",
       "  WilcoxonSelection__num_features  ANOVAFvalueSelection__num_features  \\\n",
       "0                             NaN                                 NaN   \n",
       "1                             NaN                                 NaN   \n",
       "2                             NaN                                 NaN   \n",
       "3                             NaN                                 NaN   \n",
       "4                             NaN                                 NaN   \n",
       "\n",
       "   Chi2Selection__num_features  MRMRSelection__num_features  \\\n",
       "0                          NaN                          NaN   \n",
       "1                          NaN                          NaN   \n",
       "2                          NaN                          NaN   \n",
       "3                          NaN                          NaN   \n",
       "4                          NaN                          NaN   \n",
       "\n",
       "   MRMRSelection__num_neighbors  ReliefFSelection__num_features  \\\n",
       "0                           NaN                             NaN   \n",
       "1                           NaN                             NaN   \n",
       "2                           NaN                             NaN   \n",
       "3                           NaN                             NaN   \n",
       "4                           NaN                             NaN   \n",
       "\n",
       "   ReliefFSelection__num_neighbors  \n",
       "0                              NaN  \n",
       "1                              NaN  \n",
       "2                              NaN  \n",
       "3                              NaN  \n",
       "4                              NaN  \n",
       "\n",
       "[5 rows x 24 columns]"
      ]
     },
     "execution_count": 77,
     "metadata": {},
     "output_type": "execute_result"
    }
   ],
   "source": [
    "results = pd.read_csv(\n",
    "    './../../../data_source/results/with_pet_outliers_100evals_100reps_univariate_sffs_nofilter_dfs.csv', \n",
    "    index_col=0\n",
    ")\n",
    "#results = pd.read_csv('./../../../data_source/results/with_pet_outliers_60evals_40reps_univariate_sffs_nofilter_dfs.csv', index_col=0)\n",
    "results.head()"
   ]
  },
  {
   "cell_type": "code",
   "execution_count": 90,
   "metadata": {},
   "outputs": [
    {
     "data": {
      "text/plain": [
       "(800, 24)"
      ]
     },
     "execution_count": 90,
     "metadata": {},
     "output_type": "execute_result"
    }
   ],
   "source": [
    "results.shape"
   ]
  },
  {
   "cell_type": "code",
   "execution_count": 78,
   "metadata": {},
   "outputs": [
    {
     "data": {
      "text/plain": [
       "0    [10 10 10 10 10 10 10 10 10 10 10 10 10 10 10 ...\n",
       "1    [10 10 10 10 10 10 10 10  6  1  0  1  2  0  0 ...\n",
       "2    [10 10 10 10 10 10 10 10 10 10 10 10 10 10 10 ...\n",
       "3    [10 10 10 10 10 10 10  8 10  9  7  7  8  7  7 ...\n",
       "4    [10 10 10 10 10 10 10 10 10 10 10 10 10 10  9 ...\n",
       "Name: feature_votes, dtype: object"
      ]
     },
     "execution_count": 78,
     "metadata": {},
     "output_type": "execute_result"
    }
   ],
   "source": [
    "votes = results['feature_votes']\n",
    "votes.head()"
   ]
  },
  {
   "cell_type": "code",
   "execution_count": 79,
   "metadata": {},
   "outputs": [
    {
     "data": {
      "text/plain": [
       "637"
      ]
     },
     "execution_count": 79,
     "metadata": {},
     "output_type": "execute_result"
    }
   ],
   "source": [
    "len(list(votes.values[0].replace('\\n', '').replace('[', '').replace(']', '').replace(' ', '')))"
   ]
  },
  {
   "cell_type": "code",
   "execution_count": 82,
   "metadata": {},
   "outputs": [
    {
     "data": {
      "text/plain": [
       "637"
      ]
     },
     "execution_count": 82,
     "metadata": {},
     "output_type": "execute_result"
    }
   ],
   "source": [
    "len(list(votes[0].replace(' ', '').replace('\\n', ''))[1:-1])"
   ]
  },
  {
   "cell_type": "code",
   "execution_count": 91,
   "metadata": {},
   "outputs": [
    {
     "data": {
      "text/html": [
       "<div>\n",
       "<style scoped>\n",
       "    .dataframe tbody tr th:only-of-type {\n",
       "        vertical-align: middle;\n",
       "    }\n",
       "\n",
       "    .dataframe tbody tr th {\n",
       "        vertical-align: top;\n",
       "    }\n",
       "\n",
       "    .dataframe thead th {\n",
       "        text-align: right;\n",
       "    }\n",
       "</style>\n",
       "<table border=\"1\" class=\"dataframe\">\n",
       "  <thead>\n",
       "    <tr style=\"text-align: right;\">\n",
       "      <th></th>\n",
       "      <th>votes</th>\n",
       "      <th>labels</th>\n",
       "    </tr>\n",
       "  </thead>\n",
       "  <tbody>\n",
       "    <tr>\n",
       "      <th>0</th>\n",
       "      <td>1899</td>\n",
       "      <td>original_shape_Elongation</td>\n",
       "    </tr>\n",
       "    <tr>\n",
       "      <th>1</th>\n",
       "      <td>1517</td>\n",
       "      <td>original_shape_LeastAxis</td>\n",
       "    </tr>\n",
       "    <tr>\n",
       "      <th>2</th>\n",
       "      <td>1343</td>\n",
       "      <td>original_shape_Maximum2DDiameterSlice</td>\n",
       "    </tr>\n",
       "    <tr>\n",
       "      <th>3</th>\n",
       "      <td>1310</td>\n",
       "      <td>original_shape_Maximum2DDiameterColumn</td>\n",
       "    </tr>\n",
       "    <tr>\n",
       "      <th>4</th>\n",
       "      <td>1239</td>\n",
       "      <td>original_shape_MinorAxis</td>\n",
       "    </tr>\n",
       "  </tbody>\n",
       "</table>\n",
       "</div>"
      ],
      "text/plain": [
       "   votes                                  labels\n",
       "0   1899               original_shape_Elongation\n",
       "1   1517                original_shape_LeastAxis\n",
       "2   1343   original_shape_Maximum2DDiameterSlice\n",
       "3   1310  original_shape_Maximum2DDiameterColumn\n",
       "4   1239                original_shape_MinorAxis"
      ]
     },
     "execution_count": 91,
     "metadata": {},
     "output_type": "execute_result"
    }
   ],
   "source": [
    "# Goal:\n",
    "# * Sort votes and collect corresponding labels.\n",
    "\n",
    "global_votes = np.zeros(X.shape[1], dtype=int)\n",
    "for str_array in votes:\n",
    "    _votes = list(str_array.replace(' ', '').replace('\\n', ''))\n",
    "    votes_arr = np.array(list(map(int, list(_votes[1:-1]))), dtype=int)\n",
    "    global_votes += votes_arr[:610]\n",
    "\n",
    "idx = np.argsort(global_votes)[::-1]\n",
    "labels = np.array(features)[idx]\n",
    "sorted_votes = np.trim_zeros(global_votes[idx], trim='b')\n",
    "labels = labels[:len(sorted_votes)]\n",
    "\n",
    "\n",
    "data = pd.DataFrame(\n",
    "    {\n",
    "        'votes': sorted_votes,\n",
    "        'labels': labels,\n",
    "        \n",
    "    }\n",
    ")\n",
    "data.head()"
   ]
  },
  {
   "cell_type": "code",
   "execution_count": 92,
   "metadata": {},
   "outputs": [
    {
     "data": {
      "text/plain": [
       "(1899, 1899)"
      ]
     },
     "execution_count": 92,
     "metadata": {},
     "output_type": "execute_result"
    }
   ],
   "source": [
    "# Sanity check.\n",
    "max(global_votes), sorted_votes[0]"
   ]
  },
  {
   "cell_type": "code",
   "execution_count": 93,
   "metadata": {},
   "outputs": [
    {
     "data": {
      "text/plain": [
       "(610, 134)"
      ]
     },
     "execution_count": 93,
     "metadata": {},
     "output_type": "execute_result"
    }
   ],
   "source": [
    "len(global_votes), len(sorted_votes)"
   ]
  },
  {
   "cell_type": "code",
   "execution_count": 94,
   "metadata": {},
   "outputs": [],
   "source": [
    "def prep_feature_labels(labels):\n",
    "    prep_labels = []\n",
    "    for label in labels:\n",
    "        comps = label.split('_')\n",
    "\n",
    "        if len(comps) == 1:\n",
    "            prep_labels.append(label.title())\n",
    "        elif len(comps) == 2:\n",
    "            new_label = '{}: {}'.format(comps[0], comps[1])\n",
    "            prep_labels.append(new_label)\n",
    "        elif len(comps) == 3:\n",
    "            filter_type, feature_type, name = comps\n",
    "            if len(name) > 15:\n",
    "                #name_comps = re.findall('[A-Z][^A-Z]*', name)\n",
    "                #name = ('-\\n').join((('').join(name_comps[:2]), ('').join(name_comps[2:])))\n",
    "                new_label = '{}'.format(name)\n",
    "            else:\n",
    "                new_label = '{}'.format(name)\n",
    "            prep_labels.append(new_label)\n",
    "        elif len(comps) == 4:\n",
    "            image_type, filter_type, feature_type, name = comps\n",
    "            if len(name) > 15:\n",
    "                #name_comps = re.findall('[A-Z][^A-Z]*', name)\n",
    "                #name = ('-\\n').join((('').join(name_comps[:2]), ('').join(name_comps[2:])))\n",
    "                new_label = '\\n{}'.format(name)\n",
    "            else:\n",
    "                new_label = '{}'.format(name)\n",
    "            prep_labels.append(new_label)\n",
    "            \n",
    "    return prep_labels"
   ]
  },
  {
   "cell_type": "code",
   "execution_count": 95,
   "metadata": {},
   "outputs": [],
   "source": [
    "def feature_labels(labels):    \n",
    "    \n",
    "    keys = []\n",
    "    for label in labels:\n",
    "        if 'shape' in label:\n",
    "            keys.append('Shape')\n",
    "        elif 'firstorder' in label:\n",
    "            keys.append('First Order')\n",
    "        elif 'glcm' in label:\n",
    "            keys.append('GLCM')\n",
    "        elif 'glrlm' in label:\n",
    "            keys.append('GLRLM')\n",
    "        elif 'glszm' in label:\n",
    "            keys.append('GLSZM')\n",
    "        elif 'gldm' in label:\n",
    "            keys.append('GLDM')\n",
    "        elif 'ngtdm' in label:\n",
    "            keys.append('NGTDM')\n",
    "        elif 'PETparam' in label:\n",
    "            keys.append('PET parameter')\n",
    "        else:\n",
    "            keys.append('Clinical')\n",
    "\n",
    "    return keys"
   ]
  },
  {
   "cell_type": "code",
   "execution_count": 96,
   "metadata": {},
   "outputs": [
    {
     "data": {
      "image/png": "[encoded data removed]",
      "text/plain": [
       "<Figure size 1080x648 with 2 Axes>"
      ]
     },
     "metadata": {},
     "output_type": "display_data"
    }
   ],
   "source": [
    "keys = feature_labels(labels)\n",
    "handles = [\n",
    "    mpatches.Patch(color=colours[key], label=key) for key in prep_labels\n",
    "]\n",
    "\n",
    "fig, axes = plt.subplots(nrows=2, figsize=(15, 9))\n",
    "plt.tick_params(axis='both', labelsize=12)\n",
    "\n",
    "sns.barplot(\n",
    "    x=np.arange(np.size(sorted_votes)), \n",
    "    y=sorted_votes, \n",
    "    ax=axes[0], \n",
    "    hue=keys,\n",
    "    palette=colours,\n",
    ")\n",
    "feature_id = np.arange(1, sorted_votes.size, 5)\n",
    "axes[0].set_title('Frequency of selected features', fontsize=15)\n",
    "axes[0].set_xticks(feature_id)\n",
    "axes[0].set_xticklabels(feature_id)\n",
    "axes[0].set_ylabel('Counts', fontsize=16)\n",
    "axes[0].set_xlabel('Feature Indicator', fontsize=16)\n",
    "axes[0].legend(\n",
    "    handles=handles,\n",
    "    title='Feature Categories:', \n",
    "    title_fontsize=15,\n",
    "    loc='upper center', \n",
    "    bbox_to_anchor=(0.5, -0.25), \n",
    "    fancybox=True, \n",
    "    shadow=True, \n",
    "    fontsize=14,\n",
    "    ncol=4,\n",
    "    labelspacing=0.25\n",
    ")\n",
    "\n",
    "n = 15\n",
    "keys = feature_labels(labels[:n])\n",
    "sns.barplot(\n",
    "    x=np.arange(np.size(sorted_votes[:n])), \n",
    "    y=sorted_votes[:n], \n",
    "    ax=axes[1], \n",
    "    hue=keys,\n",
    "    palette=colours,\n",
    ")\n",
    "fnames = prep_feature_labels(labels[:n])\n",
    "#axes[1].legend().set_visible(False)\n",
    "axes[1].set_title('The {} most frequently selected features'.format(n), fontsize=15)\n",
    "axes[1].set_xticklabels(fnames, rotation=45, ha='right', va='center_baseline')\n",
    "axes[1].set_ylabel('Counts', fontsize=14)\n",
    "\n",
    "plt.subplots_adjust(hspace=1)\n",
    "\n",
    "plt.savefig(\n",
    "    #'./../../../figures/biomarkers_200evals_40reps.png',\n",
    "    #'./../../../figures/biomarkers_60evals_40reps.png',\n",
    "    './../../../figures/biomarkers_100evals_100reps.png',\n",
    "    bbox_inches='tight',\n",
    "    transparent=True,\n",
    "    dpi=600, \n",
    ")"
   ]
  },
  {
   "cell_type": "code",
   "execution_count": 97,
   "metadata": {},
   "outputs": [
    {
     "data": {
      "text/plain": [
       "{'shape': 13,\n",
       " 'firstorder': 18,\n",
       " 'glcm': 23,\n",
       " 'glrlm': 16,\n",
       " 'glszm': 13,\n",
       " 'gldm': 9,\n",
       " 'ngtdm': 0}"
      ]
     },
     "execution_count": 97,
     "metadata": {},
     "output_type": "execute_result"
    }
   ],
   "source": [
    "cats = ['shape',\n",
    "        'firstorder',\n",
    "        'glcm',\n",
    "        'glrlm',\n",
    "        'glszm',\n",
    "        'gldm',\n",
    "        'ngtdm']\n",
    "res = {}\n",
    "for cat in cats:\n",
    "    p = 0\n",
    "    c = 0\n",
    "    for label in labels:\n",
    "        if cat in label:\n",
    "            c = c + 1\n",
    "    res[cat] = c\n",
    "            \n",
    "res"
   ]
  },
  {
   "cell_type": "code",
   "execution_count": 98,
   "metadata": {},
   "outputs": [
    {
     "data": {
      "text/plain": [
       "array([1899, 1517, 1343, 1310, 1239, 1167, 1092, 1081, 1028,  974,  944,\n",
       "        926,  919,  914,  893,  871,  840,  825,  799,  791,  772,  771,\n",
       "        767,  759,  725,  724,  713,  670,  630,  626,  622,  578,  572,\n",
       "        566,  549,  546,  529,  528,  528,  508,  507,  498,  494,  492,\n",
       "        463,  457,  430,  426,  419,  408,  402,  402,  390,  386,  380,\n",
       "        378,  334,  332,  325,  321,  315,  311,  308,  291,  278,  261,\n",
       "        252,  238,  233,  228,  228,  208,  195,  182,  176,  152,  152,\n",
       "        148,  147,  146,  146,  135,  134,  124,  113,  106,  105,   98,\n",
       "         96,   88,   86,   80,   75,   72,   66,   63,   45,   44,   34,\n",
       "         28,   28,   23,   21,   21,   19,   13,   13,   12,   11,   11,\n",
       "         11,    9,    8,    8,    7,    7,    6,    5,    4,    3,    3,\n",
       "          3,    3,    3,    2,    2,    1,    1,    1,    1,    1,    1,\n",
       "          1,    1])"
      ]
     },
     "execution_count": 98,
     "metadata": {},
     "output_type": "execute_result"
    }
   ],
   "source": [
    "sorted_votes"
   ]
  },
  {
   "cell_type": "code",
   "execution_count": 99,
   "metadata": {},
   "outputs": [
    {
     "data": {
      "text/plain": [
       "42"
      ]
     },
     "execution_count": 99,
     "metadata": {},
     "output_type": "execute_result"
    }
   ],
   "source": [
    "# NOTE: Num clinical features.\n",
    "len(labels) - sum(res.values())"
   ]
  },
  {
   "cell_type": "code",
   "execution_count": 100,
   "metadata": {},
   "outputs": [
    {
     "data": {
      "text/plain": [
       "13"
      ]
     },
     "execution_count": 100,
     "metadata": {},
     "output_type": "execute_result"
    }
   ],
   "source": [
    "len(list(X.filter(regex='shape').columns))"
   ]
  },
  {
   "cell_type": "code",
   "execution_count": 101,
   "metadata": {},
   "outputs": [
    {
     "data": {
      "text/plain": [
       "276"
      ]
     },
     "execution_count": 101,
     "metadata": {},
     "output_type": "execute_result"
    }
   ],
   "source": [
    "len(list(X.filter(regex='CT').columns))"
   ]
  },
  {
   "cell_type": "code",
   "execution_count": 102,
   "metadata": {},
   "outputs": [
    {
     "data": {
      "text/plain": [
       "279"
      ]
     },
     "execution_count": 102,
     "metadata": {},
     "output_type": "execute_result"
    }
   ],
   "source": [
    "len(list(X.filter(regex='PET').columns))"
   ]
  },
  {
   "cell_type": "code",
   "execution_count": 103,
   "metadata": {},
   "outputs": [
    {
     "name": "stdout",
     "output_type": "stream",
     "text": [
      "Age : 914\n",
      "Years Smoking : 893\n",
      "Naxogin Days : 871\n",
      "Sex_M : 840\n",
      "ICD-10_C02 : 825\n",
      "ICD-10_C03 : 799\n",
      "ICD-10_C04 : 791\n",
      "ICD-10_C05 : 772\n",
      "ICD-10_C06 : 771\n",
      "ICD-10_C09 : 767\n",
      "ICD-10_C10 : 759\n",
      "ICD-10_C12 : 725\n",
      "ICD-10_C13 : 724\n",
      "ICD-10_C32 : 713\n",
      "T Stage_2 : 670\n",
      "T Stage_3 : 630\n",
      "T Stage_4 : 626\n",
      "N Stage_1 : 622\n",
      "N Stage_2 : 578\n",
      "N Stage_3 : 572\n",
      "Histology_1.0 : 566\n",
      "Histology_2.0 : 549\n",
      "Histology_3.0 : 546\n",
      "HPV_1 : 529\n",
      "HPV_2 : 528\n",
      "ECOG_1 : 528\n",
      "ECOG_2 : 508\n",
      "Charlson_1 : 507\n",
      "Charlson_2 : 498\n",
      "Charlson_3 : 494\n",
      "Charlson_4 : 492\n",
      "Charlson_5 : 463\n",
      "Cisplatin_1 : 457\n",
      "Cisplatin_2 : 430\n",
      "Cisplatin_3 : 426\n",
      "Cisplatin_4 : 419\n",
      "Cisplatin_5 : 408\n",
      "Cisplatin_6 : 402\n",
      "Stage 1 : 402\n",
      "Stage 2 : 390\n",
      "Stage 3 : 386\n",
      "Stage 4 : 380\n"
     ]
    }
   ],
   "source": [
    "nogos = list(X.filter(regex='shape').columns) \n",
    "nogos = nogos + list(X.filter(regex='CT').columns) \n",
    "nogos = nogos + list(X.filter(regex='PET').columns)\n",
    "\n",
    "cols = {}\n",
    "for num, col in enumerate(X.columns):\n",
    "    if col not in nogos:\n",
    "        cols[col] = sorted_votes[num]\n",
    "        print(col, ':', sorted_votes[num])\n",
    "        \n",
    "# Pasienten er mann/kvinne er relativt viktig. Det er flere menn enn kvinner\n",
    "# i datasettet. Kan være knyttet til HPV variabel fordi ikke utypisk at menn får HPV?.\n",
    "\n",
    "# "
   ]
  },
  {
   "cell_type": "code",
   "execution_count": 110,
   "metadata": {},
   "outputs": [
    {
     "data": {
      "image/png": "[encoded data removed]",
      "text/plain": [
       "<Figure size 1152x504 with 1 Axes>"
      ]
     },
     "metadata": {},
     "output_type": "display_data"
    }
   ],
   "source": [
    "x_coords = np.arange(len(cols.values()))\n",
    "clinical_labels = prep_feature_labels(cols.keys())\n",
    "\n",
    "plt.figure(figsize=(16, 7))\n",
    "plt.title('Selected Clinical Features', fontsize=16)\n",
    "sns.barplot(x=x_coords, y=list(cols.values()))\n",
    "plt.xticks(x_coords, clinical_labels, rotation=45, ha='right', fontsize=14)\n",
    "plt.ylabel('Number of Votes', fontsize=16)\n",
    "#plt.ylim([0, 250])\n",
    "plt.tight_layout()\n",
    "plt.savefig(\n",
    "    #'./../../../figures/clinical_feature_biomarker.png',\n",
    "    './../../../figures/clinical_feature_100evals_100reps_biomarker.png',\n",
    "    bbox_inches='tight',\n",
    "    transparent=True,\n",
    "    dpi=600, \n",
    ")"
   ]
  },
  {
   "cell_type": "code",
   "execution_count": 105,
   "metadata": {},
   "outputs": [
    {
     "data": {
      "text/html": [
       "<div>\n",
       "<style scoped>\n",
       "    .dataframe tbody tr th:only-of-type {\n",
       "        vertical-align: middle;\n",
       "    }\n",
       "\n",
       "    .dataframe tbody tr th {\n",
       "        vertical-align: top;\n",
       "    }\n",
       "\n",
       "    .dataframe thead th {\n",
       "        text-align: right;\n",
       "    }\n",
       "</style>\n",
       "<table border=\"1\" class=\"dataframe\">\n",
       "  <thead>\n",
       "    <tr style=\"text-align: right;\">\n",
       "      <th></th>\n",
       "      <th>Votes</th>\n",
       "    </tr>\n",
       "  </thead>\n",
       "  <tbody>\n",
       "    <tr>\n",
       "      <th>Age</th>\n",
       "      <td>914</td>\n",
       "    </tr>\n",
       "    <tr>\n",
       "      <th>Years Smoking</th>\n",
       "      <td>893</td>\n",
       "    </tr>\n",
       "    <tr>\n",
       "      <th>Naxogin Days</th>\n",
       "      <td>871</td>\n",
       "    </tr>\n",
       "    <tr>\n",
       "      <th>Sex_M</th>\n",
       "      <td>840</td>\n",
       "    </tr>\n",
       "    <tr>\n",
       "      <th>ICD-10_C02</th>\n",
       "      <td>825</td>\n",
       "    </tr>\n",
       "  </tbody>\n",
       "</table>\n",
       "</div>"
      ],
      "text/plain": [
       "               Votes\n",
       "Age              914\n",
       "Years Smoking    893\n",
       "Naxogin Days     871\n",
       "Sex_M            840\n",
       "ICD-10_C02       825"
      ]
     },
     "execution_count": 105,
     "metadata": {},
     "output_type": "execute_result"
    }
   ],
   "source": [
    "# Group by encoded features.\n",
    "df_clinical = pd.DataFrame.from_dict(cols, orient='index', columns=['Votes'])\n",
    "df_clinical.head()"
   ]
  },
  {
   "cell_type": "code",
   "execution_count": 106,
   "metadata": {
    "scrolled": true
   },
   "outputs": [
    {
     "data": {
      "text/html": [
       "<div>\n",
       "<style scoped>\n",
       "    .dataframe tbody tr th:only-of-type {\n",
       "        vertical-align: middle;\n",
       "    }\n",
       "\n",
       "    .dataframe tbody tr th {\n",
       "        vertical-align: top;\n",
       "    }\n",
       "\n",
       "    .dataframe thead th {\n",
       "        text-align: right;\n",
       "    }\n",
       "</style>\n",
       "<table border=\"1\" class=\"dataframe\">\n",
       "  <thead>\n",
       "    <tr style=\"text-align: right;\">\n",
       "      <th></th>\n",
       "      <th>Votes</th>\n",
       "      <th>groups</th>\n",
       "    </tr>\n",
       "  </thead>\n",
       "  <tbody>\n",
       "    <tr>\n",
       "      <th>Age</th>\n",
       "      <td>914</td>\n",
       "      <td>Age</td>\n",
       "    </tr>\n",
       "    <tr>\n",
       "      <th>Years Smoking</th>\n",
       "      <td>893</td>\n",
       "      <td>Years Smoking</td>\n",
       "    </tr>\n",
       "    <tr>\n",
       "      <th>Naxogin Days</th>\n",
       "      <td>871</td>\n",
       "      <td>Naxogin Days</td>\n",
       "    </tr>\n",
       "    <tr>\n",
       "      <th>Sex_M</th>\n",
       "      <td>840</td>\n",
       "      <td>Sex_M</td>\n",
       "    </tr>\n",
       "    <tr>\n",
       "      <th>ICD-10_C02</th>\n",
       "      <td>825</td>\n",
       "      <td>IDC-10</td>\n",
       "    </tr>\n",
       "  </tbody>\n",
       "</table>\n",
       "</div>"
      ],
      "text/plain": [
       "               Votes         groups\n",
       "Age              914            Age\n",
       "Years Smoking    893  Years Smoking\n",
       "Naxogin Days     871   Naxogin Days\n",
       "Sex_M            840          Sex_M\n",
       "ICD-10_C02       825         IDC-10"
      ]
     },
     "execution_count": 106,
     "metadata": {},
     "output_type": "execute_result"
    }
   ],
   "source": [
    "grouper = []\n",
    "for num, label in enumerate(df_clinical.index):\n",
    "    if 'ICD-10' in label:\n",
    "        grouper.append('IDC-10')\n",
    "    elif 'Stage' in label:\n",
    "        grouper.append('Stage')\n",
    "    elif 'Histology' in label:\n",
    "        grouper.append('Histology')\n",
    "    elif 'HPV' in label:\n",
    "        grouper.append('HPV')\n",
    "    elif 'ECOG' in label:\n",
    "        grouper.append('ECOG')\n",
    "    elif 'Charlson' in label:\n",
    "        grouper.append('Charlson')\n",
    "    elif 'Cisplatin' in label:\n",
    "        grouper.append('Cisplatin')\n",
    "    else:\n",
    "        grouper.append(label)\n",
    "\n",
    "df_clinical['groups'] = grouper\n",
    "\n",
    "df_clinical.head()"
   ]
  },
  {
   "cell_type": "code",
   "execution_count": 107,
   "metadata": {},
   "outputs": [
    {
     "data": {
      "image/png": "[encoded data removed]",
      "text/plain": [
       "<Figure size 1080x576 with 1 Axes>"
      ]
     },
     "metadata": {},
     "output_type": "display_data"
    }
   ],
   "source": [
    "# Missing: \n",
    "df_clinical_grps = df_clinical.groupby('groups').sum()\n",
    "\n",
    "plt.figure(figsize=(15, 8))\n",
    "sns.set(font_scale=1.5)\n",
    "sns.barplot(y='Votes', x=df_clinical_grps.index, data=df_clinical_grps)\n",
    "plt.xlabel('')\n",
    "plt.xticks(rotation=45)\n",
    "plt.tight_layout()\n",
    "plt.savefig(\n",
    "    #'./../../../figures/grouped_clinical_feature_biomarker.png',\n",
    "    './../../../figures/grouped_100evals_100reps_clinical_feature_biomarker.png',\n",
    "    bbox_inches='tight',\n",
    "    transparent=True,\n",
    "    dpi=600, \n",
    ")"
   ]
  },
  {
   "cell_type": "code",
   "execution_count": 109,
   "metadata": {},
   "outputs": [
    {
     "data": {
      "text/plain": [
       "array([471, 571])"
      ]
     },
     "execution_count": 109,
     "metadata": {},
     "output_type": "execute_result"
    }
   ],
   "source": [
    "np.squeeze(np.where(results['test_score'] == results['test_score'].max()))"
   ]
  },
  {
   "cell_type": "code",
   "execution_count": 108,
   "metadata": {},
   "outputs": [
    {
     "ename": "TypeError",
     "evalue": "only size-1 arrays can be converted to Python scalars",
     "output_type": "error",
     "traceback": [
      "\u001b[0;31m-----------------------------------------------------------------\u001b[0m",
      "\u001b[0;31mTypeError\u001b[0m                       Traceback (most recent call last)",
      "\u001b[0;32m<ipython-input-108-f40084eb4746>\u001b[0m in \u001b[0;36m<module>\u001b[0;34m()\u001b[0m\n\u001b[0;32m----> 1\u001b[0;31m \u001b[0midx\u001b[0m \u001b[0;34m=\u001b[0m \u001b[0mint\u001b[0m\u001b[0;34m(\u001b[0m\u001b[0mnp\u001b[0m\u001b[0;34m.\u001b[0m\u001b[0msqueeze\u001b[0m\u001b[0;34m(\u001b[0m\u001b[0mnp\u001b[0m\u001b[0;34m.\u001b[0m\u001b[0mwhere\u001b[0m\u001b[0;34m(\u001b[0m\u001b[0mresults\u001b[0m\u001b[0;34m[\u001b[0m\u001b[0;34m'test_score'\u001b[0m\u001b[0;34m]\u001b[0m \u001b[0;34m==\u001b[0m \u001b[0mresults\u001b[0m\u001b[0;34m[\u001b[0m\u001b[0;34m'test_score'\u001b[0m\u001b[0;34m]\u001b[0m\u001b[0;34m.\u001b[0m\u001b[0mmax\u001b[0m\u001b[0;34m(\u001b[0m\u001b[0;34m)\u001b[0m\u001b[0;34m)\u001b[0m\u001b[0;34m)\u001b[0m\u001b[0;34m)\u001b[0m\u001b[0;34m\u001b[0m\u001b[0m\n\u001b[0m\u001b[1;32m      2\u001b[0m \u001b[0mbest_run\u001b[0m \u001b[0;34m=\u001b[0m \u001b[0mresults\u001b[0m\u001b[0;34m.\u001b[0m\u001b[0miloc\u001b[0m\u001b[0;34m[\u001b[0m\u001b[0midx\u001b[0m\u001b[0;34m,\u001b[0m \u001b[0;34m:\u001b[0m\u001b[0;34m]\u001b[0m\u001b[0;34m\u001b[0m\u001b[0m\n\u001b[1;32m      3\u001b[0m \u001b[0mbest_run_votes\u001b[0m \u001b[0;34m=\u001b[0m \u001b[0mbest_run\u001b[0m\u001b[0;34m[\u001b[0m\u001b[0;34m'feature_votes'\u001b[0m\u001b[0;34m]\u001b[0m\u001b[0;34m\u001b[0m\u001b[0m\n\u001b[1;32m      4\u001b[0m \u001b[0m_votes\u001b[0m \u001b[0;34m=\u001b[0m \u001b[0mlist\u001b[0m\u001b[0;34m(\u001b[0m\u001b[0mbest_run_votes\u001b[0m\u001b[0;34m.\u001b[0m\u001b[0mreplace\u001b[0m\u001b[0;34m(\u001b[0m\u001b[0;34m' '\u001b[0m\u001b[0;34m,\u001b[0m \u001b[0;34m''\u001b[0m\u001b[0;34m)\u001b[0m\u001b[0;34m.\u001b[0m\u001b[0mreplace\u001b[0m\u001b[0;34m(\u001b[0m\u001b[0;34m'\\n'\u001b[0m\u001b[0;34m,\u001b[0m \u001b[0;34m''\u001b[0m\u001b[0;34m)\u001b[0m\u001b[0;34m)\u001b[0m\u001b[0;34m\u001b[0m\u001b[0m\n\u001b[1;32m      5\u001b[0m \u001b[0mvotes_arr\u001b[0m \u001b[0;34m=\u001b[0m \u001b[0mnp\u001b[0m\u001b[0;34m.\u001b[0m\u001b[0marray\u001b[0m\u001b[0;34m(\u001b[0m\u001b[0mlist\u001b[0m\u001b[0;34m(\u001b[0m\u001b[0mmap\u001b[0m\u001b[0;34m(\u001b[0m\u001b[0mint\u001b[0m\u001b[0;34m,\u001b[0m \u001b[0mlist\u001b[0m\u001b[0;34m(\u001b[0m\u001b[0m_votes\u001b[0m\u001b[0;34m[\u001b[0m\u001b[0;36m1\u001b[0m\u001b[0;34m:\u001b[0m\u001b[0;34m-\u001b[0m\u001b[0;36m1\u001b[0m\u001b[0;34m]\u001b[0m\u001b[0;34m)\u001b[0m\u001b[0;34m)\u001b[0m\u001b[0;34m)\u001b[0m\u001b[0;34m,\u001b[0m \u001b[0mdtype\u001b[0m\u001b[0;34m=\u001b[0m\u001b[0mint\u001b[0m\u001b[0;34m)\u001b[0m\u001b[0;34m\u001b[0m\u001b[0m\n",
      "\u001b[0;31mTypeError\u001b[0m: only size-1 arrays can be converted to Python scalars"
     ]
    }
   ],
   "source": [
    "idx = int(np.squeeze(np.where(results['test_score'] == results['test_score'].max())))\n",
    "best_run = results.iloc[idx, :]\n",
    "best_run_votes = best_run['feature_votes']\n",
    "_votes = list(best_run_votes.replace(' ', '').replace('\\n', ''))\n",
    "votes_arr = np.array(list(map(int, list(_votes[1:-1]))), dtype=int)\n",
    "\n",
    "idx = np.argsort(votes_arr)[::-1]\n",
    "labels = np.array(features)[idx]\n",
    "sorted_votes = np.trim_zeros(votes_arr[idx], trim='b')\n",
    "labels = prep_feature_labels(labels[:len(sorted_votes)])\n",
    "\n",
    "y_coords = np.arange(np.size(labels))\n",
    "\n",
    "plt.figure(figsize=(8, 15))\n",
    "sns.set(font_scale=1.5)\n",
    "sns.barplot(y=labels, x=sorted_votes, )\n",
    "plt.xlabel('Votes')\n",
    "plt.yticks(y_coords, labels, va='bottom', fontsize=14)\n",
    "plt.tight_layout()\n",
    "\n",
    "plt.savefig(\n",
    "    './../../../figures/best_run_features.png',\n",
    "    bbox_inches='tight',\n",
    "    transparent=True,\n",
    "    dpi=600, \n",
    ")"
   ]
  },
  {
   "cell_type": "code",
   "execution_count": null,
   "metadata": {},
   "outputs": [],
   "source": [
    "# Group by encoded features.\n",
    "df_clinical = pd.DataFrame(sorted_votes, columns=['Votes'])\n",
    "df_clinical.index = labels\n",
    "df_clinical.head()"
   ]
  },
  {
   "cell_type": "code",
   "execution_count": null,
   "metadata": {},
   "outputs": [],
   "source": [
    "grouper = []\n",
    "for num, label in enumerate(df_clinical.index):\n",
    "    if 'ICD-10' in label:\n",
    "        grouper.append('IDC-10')\n",
    "    elif 'Stage' in label:\n",
    "        grouper.append('Stage')\n",
    "    elif 'Histology' in label:\n",
    "        grouper.append('Histology')\n",
    "    elif 'HPV' in label:\n",
    "        grouper.append('HPV')\n",
    "    elif 'ECOG' in label:\n",
    "        grouper.append('ECOG')\n",
    "    elif 'Charlson' in label:\n",
    "        grouper.append('Charlson')\n",
    "    elif 'Cisplatin' in label:\n",
    "        grouper.append('Cisplatin')\n",
    "    else:\n",
    "        grouper.append(label)\n",
    "\n",
    "df_clinical['groups'] = grouper\n",
    "\n",
    "df_clinical.head()"
   ]
  },
  {
   "cell_type": "code",
   "execution_count": null,
   "metadata": {
    "scrolled": false
   },
   "outputs": [],
   "source": [
    "# Missing: \n",
    "df_clinical_grps = df_clinical.groupby('groups').sum()\n",
    "\n",
    "plt.figure(figsize=(10, 15))\n",
    "sns.set(font_scale=1.5)\n",
    "sns.barplot(x='Votes', y=df_clinical_grps.index, data=df_clinical_grps)\n",
    "plt.xlabel('Votes')\n",
    "plt.ylabel('')\n",
    "plt.xticks(rotation=45)\n",
    "plt.tight_layout()\n",
    "plt.savefig(\n",
    "    './../../../figures/grouped_best_run_features.png',\n",
    "    bbox_inches='tight',\n",
    "    transparent=True,\n",
    "    dpi=600, \n",
    ")"
   ]
  },
  {
   "cell_type": "code",
   "execution_count": null,
   "metadata": {},
   "outputs": [],
   "source": []
  }
 ],
 "metadata": {
  "anaconda-cloud": {},
  "kernelspec": {
   "display_name": "Python [conda env:anaconda]",
   "language": "python",
   "name": "conda-env-anaconda-py"
  },
  "language_info": {
   "codemirror_mode": {
    "name": "ipython",
    "version": 3
   },
   "file_extension": ".py",
   "mimetype": "text/x-python",
   "name": "python",
   "nbconvert_exporter": "python",
   "pygments_lexer": "ipython3",
   "version": "3.6.6"
  }
 },
 "nbformat": 4,
 "nbformat_minor": 2
}
