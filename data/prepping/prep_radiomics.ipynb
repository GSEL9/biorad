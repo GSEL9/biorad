{
 "cells": [
  {
   "cell_type": "markdown",
   "metadata": {},
   "source": [
    "# Post processing of Extracted Radiomic Features "
   ]
  },
  {
   "cell_type": "markdown",
   "metadata": {},
   "source": [
    "**TODO:** \n",
    "* Remove features constant across gray levels.\n",
    "* Include GL discretiztion level in features varying across GL."
   ]
  },
  {
   "cell_type": "code",
   "execution_count": 1,
   "metadata": {},
   "outputs": [],
   "source": [
    "import sys\n",
    "sys.path.append('./../utils/')\n",
    "\n",
    "import os\n",
    "import re\n",
    "\n",
    "import numpy as np\n",
    "import pandas as pd\n",
    "\n",
    "import ioutil\n",
    "\n",
    "from transforms import Whitening\n",
    "from processing import PostProcessor\n",
    "\n",
    "from sklearn.preprocessing import StandardScaler\n",
    "\n",
    "import seaborn as sns\n",
    "import matplotlib.pyplot as plt\n",
    "%matplotlib inline"
   ]
  },
  {
   "cell_type": "code",
   "execution_count": 2,
   "metadata": {},
   "outputs": [],
   "source": [
    "def zero_var_filter(df, gl_bins=['32', '64', '128'], thresh=1e-15):\n",
    "\n",
    "    output = {}\n",
    "    for label in np.unique(df.columns):\n",
    "\n",
    "        features = df.loc[:, label]\n",
    "\n",
    "        if sum(features.var(axis=1)) < thresh:\n",
    "            output[str(label)] = features.iloc[:, 0]\n",
    "        else:\n",
    "            for num, gl_bin in enumerate(gl_bins):\n",
    "                output[f'{label}_{gl_bin}bins'] = features.iloc[:, num]\n",
    "\n",
    "    return pd.DataFrame(output)"
   ]
  },
  {
   "cell_type": "code",
   "execution_count": 3,
   "metadata": {},
   "outputs": [],
   "source": [
    "true_index = np.load('./../../../data_source/patient_id.npy')\n",
    "removeables = [38, 45, 82]\n",
    "true_index = np.array([idx for idx in true_index if not idx in removeables])"
   ]
  },
  {
   "cell_type": "code",
   "execution_count": 4,
   "metadata": {},
   "outputs": [],
   "source": [
    "# Globals.\n",
    "THRESH = 1e-10\n",
    "FILTER_TYPE = 'original'"
   ]
  },
  {
   "cell_type": "markdown",
   "metadata": {},
   "source": [
    "# Shape features"
   ]
  },
  {
   "cell_type": "code",
   "execution_count": 5,
   "metadata": {},
   "outputs": [],
   "source": [
    "shape_features = [\n",
    "    './../../../data_source/radiomic_features/shape/shape_features.csv'\n",
    "]"
   ]
  },
  {
   "cell_type": "code",
   "execution_count": 6,
   "metadata": {},
   "outputs": [],
   "source": [
    "shape_processsor = PostProcessor(\n",
    "    path_to_features=shape_features, \n",
    "    indices=true_index, \n",
    "    filter_type=FILTER_TYPE, \n",
    "    error_dir='./../../../data_source/to_analysis/shape/errors/'\n",
    ")"
   ]
  },
  {
   "cell_type": "code",
   "execution_count": 7,
   "metadata": {},
   "outputs": [
    {
     "data": {
      "text/plain": [
       "<processing.PostProcessor at 0x1124d82e8>"
      ]
     },
     "execution_count": 7,
     "metadata": {},
     "output_type": "execute_result"
    }
   ],
   "source": [
    "shape_processsor.process(drop_redundant=True, drop_missing=True)\n",
    "shape_processsor.to_file(\n",
    "    path_to_dir='./../../../data_source/to_analysis/shape'\n",
    ")"
   ]
  },
  {
   "cell_type": "markdown",
   "metadata": {},
   "source": [
    "# First order features"
   ]
  },
  {
   "cell_type": "code",
   "execution_count": 8,
   "metadata": {},
   "outputs": [],
   "source": [
    "ct_firstorder_features = [\n",
    "    './../../../data_source/radiomic_features/firstorder/ct32_firstorder_no_filter_config.csv',\n",
    "    './../../../data_source/radiomic_features/firstorder/ct64_firstorder_no_filter_config.csv',\n",
    "    './../../../data_source/radiomic_features/firstorder/ct128_firstorder_no_filter_config.csv',\n",
    "]\n",
    "pet_firstorder_features = [\n",
    "    './../../../data_source/radiomic_features/firstorder/pet32_firstorder_no_filter_config.csv',\n",
    "    './../../../data_source/radiomic_features/firstorder/pet64_firstorder_no_filter_config.csv',\n",
    "    './../../../data_source/radiomic_features/firstorder/pet128_firstorder_no_filter_config.csv',\n",
    "]"
   ]
  },
  {
   "cell_type": "code",
   "execution_count": 9,
   "metadata": {},
   "outputs": [],
   "source": [
    "ct_firstorder_processsor = PostProcessor(\n",
    "    path_to_features=ct_firstorder_features, \n",
    "    indices=true_index, \n",
    "    filter_type=FILTER_TYPE, \n",
    "    error_dir='./../../../data_source/to_analysis/firstorder/errors/'\n",
    ")\n",
    "pet_firstorder_processsor = PostProcessor(\n",
    "    path_to_features=pet_firstorder_features, \n",
    "    indices=true_index, \n",
    "    filter_type=FILTER_TYPE, \n",
    "    error_dir='./../../../data_source/to_analysis/firstorder/errors/'\n",
    ")"
   ]
  },
  {
   "cell_type": "code",
   "execution_count": 10,
   "metadata": {},
   "outputs": [
    {
     "data": {
      "text/plain": [
       "<processing.PostProcessor at 0x127460fd0>"
      ]
     },
     "execution_count": 10,
     "metadata": {},
     "output_type": "execute_result"
    }
   ],
   "source": [
    "ct_firstorder_processsor.process(drop_redundant=True, drop_missing=True)\n",
    "ct_firstorder_processsor.to_file(\n",
    "    path_to_dir='./../../../data_source/to_analysis/firstorder/'\n",
    ")\n",
    "pet_firstorder_processsor.process(drop_redundant=True, drop_missing=True)\n",
    "pet_firstorder_processsor.to_file(\n",
    "    path_to_dir='./../../../data_source/to_analysis/firstorder/'\n",
    ")"
   ]
  },
  {
   "cell_type": "code",
   "execution_count": 11,
   "metadata": {},
   "outputs": [],
   "source": [
    "ct_firstorder = zero_var_filter(\n",
    "    ct_firstorder_processsor.concatenated,\n",
    "    gl_bins=['32', '64', '128'], \n",
    "    thresh=1e-15\n",
    ")\n",
    "pet_firstorder = zero_var_filter(\n",
    "    pet_firstorder_processsor.concatenated,\n",
    "    gl_bins=['32', '64', '128'], \n",
    "    thresh=1e-15\n",
    ")"
   ]
  },
  {
   "cell_type": "markdown",
   "metadata": {},
   "source": [
    "# Texture features"
   ]
  },
  {
   "cell_type": "code",
   "execution_count": 12,
   "metadata": {},
   "outputs": [],
   "source": [
    "ct_texture_features = [\n",
    "    './../../../data_source/radiomic_features/texture/ct32_texture_no_filter_config.csv',\n",
    "    './../../../data_source/radiomic_features/texture/ct64_texture_no_filter_config.csv',\n",
    "    './../../../data_source/radiomic_features/texture/ct128_texture_no_filter_config.csv',\n",
    "]\n",
    "pet_texture_features = [\n",
    "    './../../../data_source/radiomic_features/texture/pet32_texture_no_filter_config.csv',\n",
    "    './../../../data_source/radiomic_features/texture/pet64_texture_no_filter_config.csv',\n",
    "    './../../../data_source/radiomic_features/texture/pet128_texture_no_filter_config.csv',\n",
    "]"
   ]
  },
  {
   "cell_type": "code",
   "execution_count": 13,
   "metadata": {},
   "outputs": [],
   "source": [
    "ct_texture_processsor = PostProcessor(\n",
    "    path_to_features=ct_texture_features, \n",
    "    indices=true_index, \n",
    "    filter_type=FILTER_TYPE, \n",
    "    error_dir='./../../../data_source/to_analysis/texture/errors/'\n",
    ")\n",
    "pet_texture_processsor = PostProcessor(\n",
    "    path_to_features=pet_texture_features, \n",
    "    indices=true_index, \n",
    "    filter_type=FILTER_TYPE, \n",
    "    error_dir='./../../../data_source/to_analysis/texture/errors/'\n",
    ")"
   ]
  },
  {
   "cell_type": "code",
   "execution_count": 14,
   "metadata": {},
   "outputs": [
    {
     "data": {
      "text/plain": [
       "<processing.PostProcessor at 0x12747aeb8>"
      ]
     },
     "execution_count": 14,
     "metadata": {},
     "output_type": "execute_result"
    }
   ],
   "source": [
    "ct_texture_processsor.process(drop_redundant=True, drop_missing=True)\n",
    "ct_texture_processsor.to_file(\n",
    "    path_to_dir='./../../../data_source/to_analysis/texture/'\n",
    ")\n",
    "pet_texture_processsor.process(drop_redundant=True, drop_missing=True)\n",
    "pet_texture_processsor.to_file(\n",
    "    path_to_dir='./../../../data_source/to_analysis/texture/'\n",
    ")"
   ]
  },
  {
   "cell_type": "code",
   "execution_count": 15,
   "metadata": {},
   "outputs": [],
   "source": [
    "ct_texture = zero_var_filter(\n",
    "    ct_texture_processsor.concatenated,\n",
    "    gl_bins=['32', '64', '128'], \n",
    "    thresh=1e-15\n",
    ")\n",
    "pet_texture = zero_var_filter(\n",
    "    pet_texture_processsor.concatenated,\n",
    "    gl_bins=['32', '64', '128'], \n",
    "    thresh=1e-15\n",
    ")"
   ]
  },
  {
   "cell_type": "markdown",
   "metadata": {},
   "source": [
    "## Concatenate Features"
   ]
  },
  {
   "cell_type": "code",
   "execution_count": 16,
   "metadata": {},
   "outputs": [
    {
     "data": {
      "text/plain": [
       "((195, 248), (195, 244))"
      ]
     },
     "execution_count": 16,
     "metadata": {},
     "output_type": "execute_result"
    }
   ],
   "source": [
    "all_ct_features = pd.concat((ct_firstorder, ct_texture),axis=1)\n",
    "all_pet_features = pd.concat((pet_firstorder, pet_texture),axis=1)\n",
    "\n",
    "all_ct_features.shape, all_pet_features.shape"
   ]
  },
  {
   "cell_type": "code",
   "execution_count": 17,
   "metadata": {},
   "outputs": [],
   "source": [
    "all_ct_features.columns = ['CT_{}'.format(col) for col in all_ct_features.columns]\n",
    "all_pet_features.columns = ['PET_{}'.format(col) for col in all_pet_features.columns]"
   ]
  },
  {
   "cell_type": "code",
   "execution_count": 18,
   "metadata": {},
   "outputs": [],
   "source": [
    "_clinical = pd.read_csv('./../../../data_source/to_analysis/clinical_params.csv', index_col=0)\n",
    "_pet_params = pd.read_csv('./../../../data_source/to_analysis/pet_params.csv', index_col=0)\n",
    "\n",
    "clinical = _clinical.loc[true_index, :]\n",
    "pet_params = _pet_params.loc[true_index, :]"
   ]
  },
  {
   "cell_type": "code",
   "execution_count": 20,
   "metadata": {},
   "outputs": [
    {
     "data": {
      "text/plain": [
       "((195, 13), (195, 248), (195, 244), (195, 42), (195, 3))"
      ]
     },
     "execution_count": 20,
     "metadata": {},
     "output_type": "execute_result"
    }
   ],
   "source": [
    "shape_processsor.concatenated.shape, all_ct_features.shape, all_pet_features.shape, clinical.shape, pet_params.shape"
   ]
  },
  {
   "cell_type": "code",
   "execution_count": 21,
   "metadata": {},
   "outputs": [
    {
     "data": {
      "text/plain": [
       "(195, 550)"
      ]
     },
     "execution_count": 21,
     "metadata": {},
     "output_type": "execute_result"
    }
   ],
   "source": [
    "X = pd.concat(\n",
    "    (\n",
    "        shape_processsor.concatenated, \n",
    "        clinical, \n",
    "        all_ct_features, \n",
    "        all_pet_features, \n",
    "        pet_params\n",
    "    ), axis=1\n",
    ")\n",
    "np.shape(X)"
   ]
  },
  {
   "cell_type": "code",
   "execution_count": 22,
   "metadata": {},
   "outputs": [],
   "source": [
    "X.to_csv('./../../../data_source/to_analysis/anomaly_filtered_concat.csv')"
   ]
  },
  {
   "cell_type": "code",
   "execution_count": null,
   "metadata": {},
   "outputs": [],
   "source": []
  }
 ],
 "metadata": {
  "anaconda-cloud": {},
  "kernelspec": {
   "display_name": "Python [conda env:anaconda]",
   "language": "python",
   "name": "conda-env-anaconda-py"
  },
  "language_info": {
   "codemirror_mode": {
    "name": "ipython",
    "version": 3
   },
   "file_extension": ".py",
   "mimetype": "text/x-python",
   "name": "python",
   "nbconvert_exporter": "python",
   "pygments_lexer": "ipython3",
   "version": "3.6.6"
  }
 },
 "nbformat": 4,
 "nbformat_minor": 2
}
