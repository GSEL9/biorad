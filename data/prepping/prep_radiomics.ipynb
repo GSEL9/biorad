{
 "cells": [
  {
   "cell_type": "markdown",
   "metadata": {},
   "source": [
    "# Post processing of Extracted Radiomic Features "
   ]
  },
  {
   "cell_type": "markdown",
   "metadata": {},
   "source": [
    "# TODO: Remove features constant across gray levels!!!"
   ]
  },
  {
   "cell_type": "code",
   "execution_count": null,
   "metadata": {},
   "outputs": [],
   "source": []
  },
  {
   "cell_type": "code",
   "execution_count": 1,
   "metadata": {},
   "outputs": [],
   "source": [
    "# Intention Hassan transform: Render feature independent of gray level discretization."
   ]
  },
  {
   "cell_type": "code",
   "execution_count": 2,
   "metadata": {},
   "outputs": [],
   "source": [
    "import sys\n",
    "sys.path.append('./../utils/')\n",
    "\n",
    "import os\n",
    "import re\n",
    "\n",
    "import numpy as np\n",
    "import pandas as pd\n",
    "\n",
    "import ioutil\n",
    "\n",
    "from transforms import Whitening\n",
    "from processing import PostProcessor\n",
    "\n",
    "from sklearn.preprocessing import StandardScaler\n",
    "\n",
    "import seaborn as sns\n",
    "import matplotlib.pyplot as plt\n",
    "%matplotlib inline"
   ]
  },
  {
   "cell_type": "code",
   "execution_count": 3,
   "metadata": {},
   "outputs": [],
   "source": [
    "true_index = np.load('./../../../data_source/patient_id.npy')\n",
    "\n",
    "removeables = [38, 45, 82]\n",
    "true_index = np.array([idx for idx in true_index if not idx in removeables])"
   ]
  },
  {
   "cell_type": "code",
   "execution_count": 4,
   "metadata": {},
   "outputs": [],
   "source": [
    "# Globals.\n",
    "FILTER_TYPE = 'original'"
   ]
  },
  {
   "cell_type": "markdown",
   "metadata": {},
   "source": [
    "## Process Raw Features"
   ]
  },
  {
   "cell_type": "code",
   "execution_count": 5,
   "metadata": {},
   "outputs": [],
   "source": [
    "shape_features = [\n",
    "    './../../../data_source/radiomic_features/shape/shape_features.csv'\n",
    "]\n",
    "ct_firstorder_features = [\n",
    "    './../../../data_source/radiomic_features/firstorder/ct32_firstorder_no_filter_config.csv',\n",
    "    './../../../data_source/radiomic_features/firstorder/ct64_firstorder_no_filter_config.csv',\n",
    "    './../../../data_source/radiomic_features/firstorder/ct128_firstorder_no_filter_config.csv',\n",
    "]\n",
    "pet_firstorder_features = [\n",
    "    './../../../data_source/radiomic_features/firstorder/pet32_firstorder_no_filter_config.csv',\n",
    "    './../../../data_source/radiomic_features/firstorder/pet64_firstorder_no_filter_config.csv',\n",
    "    './../../../data_source/radiomic_features/firstorder/pet128_firstorder_no_filter_config.csv',\n",
    "]\n",
    "ct_texture_features = [\n",
    "    './../../../data_source/radiomic_features/texture/ct32_texture_no_filter_config.csv',\n",
    "    './../../../data_source/radiomic_features/texture/ct64_texture_no_filter_config.csv',\n",
    "    './../../../data_source/radiomic_features/texture/ct128_texture_no_filter_config.csv',\n",
    "]\n",
    "pet_texture_features = [\n",
    "    './../../../data_source/radiomic_features/texture/pet32_texture_no_filter_config.csv',\n",
    "    './../../../data_source/radiomic_features/texture/pet64_texture_no_filter_config.csv',\n",
    "    './../../../data_source/radiomic_features/texture/pet128_texture_no_filter_config.csv',\n",
    "]"
   ]
  },
  {
   "cell_type": "markdown",
   "metadata": {},
   "source": [
    "# Shape features"
   ]
  },
  {
   "cell_type": "code",
   "execution_count": 6,
   "metadata": {},
   "outputs": [],
   "source": [
    "shape_processsor = PostProcessor(\n",
    "    path_to_features=shape_features, \n",
    "    indices=true_index, \n",
    "    filter_type=FILTER_TYPE, \n",
    "    error_dir='./../../../data_source/to_analysis/shape/errors/'\n",
    ")"
   ]
  },
  {
   "cell_type": "code",
   "execution_count": 7,
   "metadata": {},
   "outputs": [
    {
     "data": {
      "text/plain": [
       "<processing.PostProcessor at 0x10bac2f60>"
      ]
     },
     "execution_count": 7,
     "metadata": {},
     "output_type": "execute_result"
    }
   ],
   "source": [
    "shape_processsor.process(drop_redundant=True, drop_missing=True)\n",
    "shape_processsor.to_file(\n",
    "    path_to_dir='./../../../data_source/to_analysis/shape'\n",
    ")"
   ]
  },
  {
   "cell_type": "markdown",
   "metadata": {},
   "source": [
    "# First order features"
   ]
  },
  {
   "cell_type": "code",
   "execution_count": 8,
   "metadata": {},
   "outputs": [],
   "source": [
    "ct_firstorder_processsor = PostProcessor(\n",
    "    path_to_features=ct_firstorder_features, \n",
    "    indices=true_index, \n",
    "    filter_type=FILTER_TYPE, \n",
    "    error_dir='./../../../data_source/to_analysis/firstorder/errors/'\n",
    ")\n",
    "pet_firstorder_processsor = PostProcessor(\n",
    "    path_to_features=pet_firstorder_features, \n",
    "    indices=true_index, \n",
    "    filter_type=FILTER_TYPE, \n",
    "    error_dir='./../../../data_source/to_analysis/firstorder/errors/'\n",
    ")"
   ]
  },
  {
   "cell_type": "code",
   "execution_count": 9,
   "metadata": {},
   "outputs": [
    {
     "data": {
      "text/plain": [
       "<processing.PostProcessor at 0x120aa4860>"
      ]
     },
     "execution_count": 9,
     "metadata": {},
     "output_type": "execute_result"
    }
   ],
   "source": [
    "ct_firstorder_processsor.process(drop_redundant=True, drop_missing=True)\n",
    "ct_firstorder_processsor.to_file(\n",
    "    path_to_dir='./../../../data_source/to_analysis/firstorder/'\n",
    ")\n",
    "pet_firstorder_processsor.process(drop_redundant=True, drop_missing=True)\n",
    "pet_firstorder_processsor.to_file(\n",
    "    path_to_dir='./../../../data_source/to_analysis/firstorder/'\n",
    ")"
   ]
  },
  {
   "cell_type": "code",
   "execution_count": 18,
   "metadata": {},
   "outputs": [
    {
     "name": "stdout",
     "output_type": "stream",
     "text": [
      "original_firstorder_10Percentile    8173.310416\n",
      "original_firstorder_10Percentile    8173.310416\n",
      "original_firstorder_10Percentile    8173.310416\n",
      "dtype: float64\n",
      "original_firstorder_90Percentile    628.901416\n",
      "original_firstorder_90Percentile    628.901416\n",
      "original_firstorder_90Percentile    628.901416\n",
      "dtype: float64\n",
      "original_firstorder_Energy    1.089917e+21\n",
      "original_firstorder_Energy    1.089917e+21\n",
      "original_firstorder_Energy    1.089917e+21\n",
      "dtype: float64\n",
      "original_firstorder_Entropy    0.142421\n",
      "original_firstorder_Entropy    0.259093\n",
      "original_firstorder_Entropy    0.311371\n",
      "dtype: float64\n",
      "original_firstorder_InterquartileRange    320.726458\n",
      "original_firstorder_InterquartileRange    320.726458\n",
      "original_firstorder_InterquartileRange    320.726458\n",
      "dtype: float64\n",
      "original_firstorder_Kurtosis    647.799718\n",
      "original_firstorder_Kurtosis    647.799718\n",
      "original_firstorder_Kurtosis    647.799718\n",
      "dtype: float64\n",
      "original_firstorder_Maximum    16440.217107\n",
      "original_firstorder_Maximum    16440.217107\n",
      "original_firstorder_Maximum    16440.217107\n",
      "dtype: float64\n",
      "original_firstorder_MeanAbsoluteDeviation    927.168747\n",
      "original_firstorder_MeanAbsoluteDeviation    927.168747\n",
      "original_firstorder_MeanAbsoluteDeviation    927.168747\n",
      "dtype: float64\n",
      "original_firstorder_MeanAbsoluteDeviation    927.168747\n",
      "original_firstorder_Mean                     646.253371\n",
      "original_firstorder_MeanAbsoluteDeviation    927.168747\n",
      "original_firstorder_Mean                     646.253371\n",
      "original_firstorder_MeanAbsoluteDeviation    927.168747\n",
      "original_firstorder_Mean                     646.253371\n",
      "dtype: float64\n",
      "original_firstorder_Median    170.97317\n",
      "original_firstorder_Median    170.97317\n",
      "original_firstorder_Median    170.97317\n",
      "dtype: float64\n",
      "original_firstorder_Minimum    45349.288638\n",
      "original_firstorder_Minimum    45349.288638\n",
      "original_firstorder_Minimum    45349.288638\n",
      "dtype: float64\n",
      "original_firstorder_Range    71887.069549\n",
      "original_firstorder_Range    71887.069549\n",
      "original_firstorder_Range    71887.069549\n",
      "dtype: float64\n",
      "original_firstorder_RobustMeanAbsoluteDeviation    149.976754\n",
      "original_firstorder_RobustMeanAbsoluteDeviation    149.976754\n",
      "original_firstorder_RobustMeanAbsoluteDeviation    149.976754\n",
      "dtype: float64\n",
      "original_firstorder_RootMeanSquared    441.190634\n",
      "original_firstorder_RootMeanSquared    441.190634\n",
      "original_firstorder_RootMeanSquared    441.190634\n",
      "dtype: float64\n",
      "original_firstorder_Skewness    4.942286\n",
      "original_firstorder_Skewness    4.942286\n",
      "original_firstorder_Skewness    4.942286\n",
      "dtype: float64\n",
      "original_firstorder_TotalEnergy    1.089917e+21\n",
      "original_firstorder_TotalEnergy    1.089917e+21\n",
      "original_firstorder_TotalEnergy    1.089917e+21\n",
      "dtype: float64\n",
      "original_firstorder_Uniformity    0.016823\n",
      "original_firstorder_Uniformity    0.018867\n",
      "original_firstorder_Uniformity    0.008626\n",
      "dtype: float64\n",
      "original_firstorder_Variance    1.487185e+08\n",
      "original_firstorder_Variance    1.487185e+08\n",
      "original_firstorder_Variance    1.487185e+08\n",
      "dtype: float64\n",
      "original_firstorder_10Percentile    8173.310416\n",
      "original_firstorder_10Percentile    8173.310416\n",
      "original_firstorder_10Percentile    8173.310416\n",
      "dtype: float64\n",
      "original_firstorder_90Percentile    628.901416\n",
      "original_firstorder_90Percentile    628.901416\n",
      "original_firstorder_90Percentile    628.901416\n",
      "dtype: float64\n",
      "original_firstorder_Energy    1.089917e+21\n",
      "original_firstorder_Energy    1.089917e+21\n",
      "original_firstorder_Energy    1.089917e+21\n",
      "dtype: float64\n",
      "original_firstorder_Entropy    0.142421\n",
      "original_firstorder_Entropy    0.259093\n",
      "original_firstorder_Entropy    0.311371\n",
      "dtype: float64\n",
      "original_firstorder_InterquartileRange    320.726458\n",
      "original_firstorder_InterquartileRange    320.726458\n",
      "original_firstorder_InterquartileRange    320.726458\n",
      "dtype: float64\n",
      "original_firstorder_Kurtosis    647.799718\n",
      "original_firstorder_Kurtosis    647.799718\n",
      "original_firstorder_Kurtosis    647.799718\n",
      "dtype: float64\n",
      "original_firstorder_Maximum    16440.217107\n",
      "original_firstorder_Maximum    16440.217107\n",
      "original_firstorder_Maximum    16440.217107\n",
      "dtype: float64\n",
      "original_firstorder_MeanAbsoluteDeviation    927.168747\n",
      "original_firstorder_MeanAbsoluteDeviation    927.168747\n",
      "original_firstorder_MeanAbsoluteDeviation    927.168747\n",
      "dtype: float64\n",
      "original_firstorder_MeanAbsoluteDeviation    927.168747\n",
      "original_firstorder_Mean                     646.253371\n",
      "original_firstorder_MeanAbsoluteDeviation    927.168747\n",
      "original_firstorder_Mean                     646.253371\n",
      "original_firstorder_MeanAbsoluteDeviation    927.168747\n",
      "original_firstorder_Mean                     646.253371\n",
      "dtype: float64\n",
      "original_firstorder_Median    170.97317\n",
      "original_firstorder_Median    170.97317\n",
      "original_firstorder_Median    170.97317\n",
      "dtype: float64\n",
      "original_firstorder_Minimum    45349.288638\n",
      "original_firstorder_Minimum    45349.288638\n",
      "original_firstorder_Minimum    45349.288638\n",
      "dtype: float64\n",
      "original_firstorder_Range    71887.069549\n",
      "original_firstorder_Range    71887.069549\n",
      "original_firstorder_Range    71887.069549\n",
      "dtype: float64\n",
      "original_firstorder_RobustMeanAbsoluteDeviation    149.976754\n",
      "original_firstorder_RobustMeanAbsoluteDeviation    149.976754\n",
      "original_firstorder_RobustMeanAbsoluteDeviation    149.976754\n",
      "dtype: float64\n",
      "original_firstorder_RootMeanSquared    441.190634\n",
      "original_firstorder_RootMeanSquared    441.190634\n",
      "original_firstorder_RootMeanSquared    441.190634\n",
      "dtype: float64\n",
      "original_firstorder_Skewness    4.942286\n",
      "original_firstorder_Skewness    4.942286\n",
      "original_firstorder_Skewness    4.942286\n",
      "dtype: float64\n",
      "original_firstorder_TotalEnergy    1.089917e+21\n",
      "original_firstorder_TotalEnergy    1.089917e+21\n",
      "original_firstorder_TotalEnergy    1.089917e+21\n",
      "dtype: float64\n",
      "original_firstorder_Uniformity    0.016823\n",
      "original_firstorder_Uniformity    0.018867\n",
      "original_firstorder_Uniformity    0.008626\n",
      "dtype: float64\n",
      "original_firstorder_Variance    1.487185e+08\n",
      "original_firstorder_Variance    1.487185e+08\n",
      "original_firstorder_Variance    1.487185e+08\n",
      "dtype: float64\n",
      "original_firstorder_10Percentile    8173.310416\n",
      "original_firstorder_10Percentile    8173.310416\n",
      "original_firstorder_10Percentile    8173.310416\n",
      "dtype: float64\n",
      "original_firstorder_90Percentile    628.901416\n",
      "original_firstorder_90Percentile    628.901416\n",
      "original_firstorder_90Percentile    628.901416\n",
      "dtype: float64\n",
      "original_firstorder_Energy    1.089917e+21\n",
      "original_firstorder_Energy    1.089917e+21\n",
      "original_firstorder_Energy    1.089917e+21\n",
      "dtype: float64\n",
      "original_firstorder_Entropy    0.142421\n",
      "original_firstorder_Entropy    0.259093\n",
      "original_firstorder_Entropy    0.311371\n",
      "dtype: float64\n",
      "original_firstorder_InterquartileRange    320.726458\n",
      "original_firstorder_InterquartileRange    320.726458\n",
      "original_firstorder_InterquartileRange    320.726458\n",
      "dtype: float64\n",
      "original_firstorder_Kurtosis    647.799718\n",
      "original_firstorder_Kurtosis    647.799718\n",
      "original_firstorder_Kurtosis    647.799718\n",
      "dtype: float64\n",
      "original_firstorder_Maximum    16440.217107\n",
      "original_firstorder_Maximum    16440.217107\n",
      "original_firstorder_Maximum    16440.217107\n",
      "dtype: float64\n",
      "original_firstorder_MeanAbsoluteDeviation    927.168747\n",
      "original_firstorder_MeanAbsoluteDeviation    927.168747\n",
      "original_firstorder_MeanAbsoluteDeviation    927.168747\n",
      "dtype: float64\n",
      "original_firstorder_MeanAbsoluteDeviation    927.168747\n",
      "original_firstorder_Mean                     646.253371\n",
      "original_firstorder_MeanAbsoluteDeviation    927.168747\n",
      "original_firstorder_Mean                     646.253371\n",
      "original_firstorder_MeanAbsoluteDeviation    927.168747\n",
      "original_firstorder_Mean                     646.253371\n",
      "dtype: float64\n",
      "original_firstorder_Median    170.97317\n",
      "original_firstorder_Median    170.97317\n",
      "original_firstorder_Median    170.97317\n",
      "dtype: float64\n",
      "original_firstorder_Minimum    45349.288638\n",
      "original_firstorder_Minimum    45349.288638\n",
      "original_firstorder_Minimum    45349.288638\n",
      "dtype: float64\n",
      "original_firstorder_Range    71887.069549\n",
      "original_firstorder_Range    71887.069549\n",
      "original_firstorder_Range    71887.069549\n",
      "dtype: float64\n",
      "original_firstorder_RobustMeanAbsoluteDeviation    149.976754\n",
      "original_firstorder_RobustMeanAbsoluteDeviation    149.976754\n",
      "original_firstorder_RobustMeanAbsoluteDeviation    149.976754\n",
      "dtype: float64\n",
      "original_firstorder_RootMeanSquared    441.190634\n",
      "original_firstorder_RootMeanSquared    441.190634\n",
      "original_firstorder_RootMeanSquared    441.190634\n",
      "dtype: float64\n",
      "original_firstorder_Skewness    4.942286\n",
      "original_firstorder_Skewness    4.942286\n",
      "original_firstorder_Skewness    4.942286\n",
      "dtype: float64\n",
      "original_firstorder_TotalEnergy    1.089917e+21\n",
      "original_firstorder_TotalEnergy    1.089917e+21\n",
      "original_firstorder_TotalEnergy    1.089917e+21\n",
      "dtype: float64\n",
      "original_firstorder_Uniformity    0.016823\n",
      "original_firstorder_Uniformity    0.018867\n",
      "original_firstorder_Uniformity    0.008626\n",
      "dtype: float64\n",
      "original_firstorder_Variance    1.487185e+08\n",
      "original_firstorder_Variance    1.487185e+08\n",
      "original_firstorder_Variance    1.487185e+08\n",
      "dtype: float64\n"
     ]
    }
   ],
   "source": [
    "# Remove firstorder features constant across GL discretization.\n",
    "for col in ct_firstorder_processsor.concatenated.columns:\n",
    "    features = ct_firstorder_processsor.concatenated.filter(regex=col)\n",
    "    print(features.var(axis=0))"
   ]
  },
  {
   "cell_type": "code",
   "execution_count": 23,
   "metadata": {},
   "outputs": [
    {
     "data": {
      "text/plain": [
       "2      7.754818e-26\n",
       "4      0.000000e+00\n",
       "5      0.000000e+00\n",
       "8      0.000000e+00\n",
       "10     0.000000e+00\n",
       "11     0.000000e+00\n",
       "12     0.000000e+00\n",
       "13     0.000000e+00\n",
       "14     0.000000e+00\n",
       "15     0.000000e+00\n",
       "16     0.000000e+00\n",
       "18     0.000000e+00\n",
       "21     3.101927e-25\n",
       "22     0.000000e+00\n",
       "23     0.000000e+00\n",
       "24     0.000000e+00\n",
       "25     0.000000e+00\n",
       "26     0.000000e+00\n",
       "27     0.000000e+00\n",
       "29     0.000000e+00\n",
       "30     0.000000e+00\n",
       "31     0.000000e+00\n",
       "32     0.000000e+00\n",
       "34     0.000000e+00\n",
       "35     0.000000e+00\n",
       "36     0.000000e+00\n",
       "37     4.846761e-27\n",
       "39     1.240771e-24\n",
       "40     0.000000e+00\n",
       "42     0.000000e+00\n",
       "           ...     \n",
       "213    0.000000e+00\n",
       "215    4.963084e-24\n",
       "216    0.000000e+00\n",
       "217    0.000000e+00\n",
       "218    3.101927e-25\n",
       "220    0.000000e+00\n",
       "222    0.000000e+00\n",
       "223    0.000000e+00\n",
       "224    0.000000e+00\n",
       "225    1.985233e-23\n",
       "228    0.000000e+00\n",
       "229    0.000000e+00\n",
       "230    0.000000e+00\n",
       "231    0.000000e+00\n",
       "232    0.000000e+00\n",
       "233    0.000000e+00\n",
       "239    0.000000e+00\n",
       "240    0.000000e+00\n",
       "241    0.000000e+00\n",
       "242    0.000000e+00\n",
       "243    1.938705e-26\n",
       "244    1.240771e-24\n",
       "246    0.000000e+00\n",
       "247    0.000000e+00\n",
       "248    0.000000e+00\n",
       "249    0.000000e+00\n",
       "250    0.000000e+00\n",
       "252    0.000000e+00\n",
       "253    0.000000e+00\n",
       "254    0.000000e+00\n",
       "Length: 195, dtype: float64"
      ]
     },
     "execution_count": 23,
     "metadata": {},
     "output_type": "execute_result"
    }
   ],
   "source": [
    "features.var(axis=1)"
   ]
  },
  {
   "cell_type": "markdown",
   "metadata": {},
   "source": [
    "# Texture features"
   ]
  },
  {
   "cell_type": "code",
   "execution_count": 29,
   "metadata": {},
   "outputs": [],
   "source": [
    "ct_texture_processsor = PostProcessor(\n",
    "    path_to_features=ct_texture_features, \n",
    "    indices=true_index, \n",
    "    filter_type=FILTER_TYPE, \n",
    "    error_dir='./../../../data_source/to_analysis/texture/errors/'\n",
    ")\n",
    "pet_texture_processsor = PostProcessor(\n",
    "    path_to_features=pet_texture_features, \n",
    "    indices=true_index, \n",
    "    filter_type=FILTER_TYPE, \n",
    "    error_dir='./../../../data_source/to_analysis/texture/errors/'\n",
    ")"
   ]
  },
  {
   "cell_type": "code",
   "execution_count": 30,
   "metadata": {},
   "outputs": [
    {
     "data": {
      "text/plain": [
       "<processing.PostProcessor at 0x126c48f60>"
      ]
     },
     "execution_count": 30,
     "metadata": {},
     "output_type": "execute_result"
    }
   ],
   "source": [
    "ct_texture_processsor.process(drop_redundant=True, drop_missing=True)\n",
    "ct_texture_processsor.to_file(\n",
    "    path_to_dir='./../../../data_source/to_analysis/texture/'\n",
    ")\n",
    "pet_texture_processsor.process(drop_redundant=True, drop_missing=True)\n",
    "pet_texture_processsor.to_file(\n",
    "    path_to_dir='./../../../data_source/to_analysis/texture/'\n",
    ")"
   ]
  },
  {
   "cell_type": "markdown",
   "metadata": {},
   "source": [
    "## Concatenate Features"
   ]
  },
  {
   "cell_type": "code",
   "execution_count": 31,
   "metadata": {},
   "outputs": [
    {
     "data": {
      "text/plain": [
       "((195, 276), (195, 276))"
      ]
     },
     "execution_count": 31,
     "metadata": {},
     "output_type": "execute_result"
    }
   ],
   "source": [
    "all_ct_features = pd.concat(\n",
    "    (\n",
    "        ct_firstorder_processsor.concatenated, \n",
    "        ct_texture_processsor.concatenated\n",
    "    ),\n",
    "    axis=1\n",
    ")\n",
    "all_pet_features = pd.concat(\n",
    "    (\n",
    "        ct_firstorder_processsor.concatenated, \n",
    "        ct_texture_processsor.concatenated\n",
    "    ),\n",
    "    axis=1\n",
    ")\n",
    "all_ct_features.shape, all_pet_features.shape"
   ]
  },
  {
   "cell_type": "code",
   "execution_count": 32,
   "metadata": {},
   "outputs": [],
   "source": [
    "all_ct_features.columns = ['CT_{}'.format(col) for col in all_ct_features.columns]\n",
    "all_pet_features.columns = ['PET_{}'.format(col) for col in all_pet_features.columns]"
   ]
  },
  {
   "cell_type": "code",
   "execution_count": 33,
   "metadata": {},
   "outputs": [],
   "source": [
    "clinical = pd.read_csv('./../../../data_source/to_analysis/clinical_params.csv', index_col=0)\n",
    "pet_params = pd.read_csv('./../../../data_source/to_analysis/pet_params.csv', index_col=0)"
   ]
  },
  {
   "cell_type": "code",
   "execution_count": 34,
   "metadata": {},
   "outputs": [
    {
     "data": {
      "text/plain": [
       "(198, 610)"
      ]
     },
     "execution_count": 34,
     "metadata": {},
     "output_type": "execute_result"
    }
   ],
   "source": [
    "X = pd.concat(\n",
    "    (\n",
    "        shape_processsor.concatenated, \n",
    "        clinical, \n",
    "        all_ct_features, \n",
    "        all_pet_features, \n",
    "        pet_params\n",
    "    ), axis=1\n",
    ")\n",
    "np.shape(X)"
   ]
  },
  {
   "cell_type": "code",
   "execution_count": 35,
   "metadata": {},
   "outputs": [],
   "source": [
    "X.to_csv('./../../../data_source/to_analysis/anomaly_filtered_concat.csv')"
   ]
  },
  {
   "cell_type": "code",
   "execution_count": null,
   "metadata": {},
   "outputs": [],
   "source": []
  }
 ],
 "metadata": {
  "anaconda-cloud": {},
  "kernelspec": {
   "display_name": "Python [conda env:anaconda]",
   "language": "python",
   "name": "conda-env-anaconda-py"
  },
  "language_info": {
   "codemirror_mode": {
    "name": "ipython",
    "version": 3
   },
   "file_extension": ".py",
   "mimetype": "text/x-python",
   "name": "python",
   "nbconvert_exporter": "python",
   "pygments_lexer": "ipython3",
   "version": "3.6.6"
  }
 },
 "nbformat": 4,
 "nbformat_minor": 2
}
