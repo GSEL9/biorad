{
 "cells": [
  {
   "cell_type": "markdown",
   "metadata": {},
   "source": [
    "# Extracted Feature Processing "
   ]
  },
  {
   "cell_type": "code",
   "execution_count": 1,
   "metadata": {},
   "outputs": [],
   "source": [
    "import os\n",
    "import re\n",
    "\n",
    "import numpy as np\n",
    "import pandas as pd"
   ]
  },
  {
   "cell_type": "code",
   "execution_count": 2,
   "metadata": {},
   "outputs": [
    {
     "data": {
      "text/plain": [
       "array([ 2,  4,  5,  8, 10])"
      ]
     },
     "execution_count": 2,
     "metadata": {},
     "output_type": "execute_result"
    }
   ],
   "source": [
    "true_index = np.load('./../../../data_source/patient_id.npy')\n",
    "true_index[:5]"
   ]
  },
  {
   "cell_type": "code",
   "execution_count": 3,
   "metadata": {},
   "outputs": [],
   "source": [
    "def get_file_name(path_to_file):\n",
    "    name, _ = path_to_file.split('.')\n",
    "    return name\n",
    "\n",
    "\n",
    "def get_discr_level(path_to_file):\n",
    "    return re.findall('\\d+', path_to_file)[0]"
   ]
  },
  {
   "cell_type": "code",
   "execution_count": 4,
   "metadata": {},
   "outputs": [],
   "source": [
    "# References to disk locations.\n",
    "raw_source = './../../../data_source/radiomic_features/no_filter/'\n",
    "prep_source = './../../../data_source/to_analysis/no_filter/'\n",
    "\n",
    "# Target feature category.\n",
    "target_class = 'original'\n",
    "\n",
    "error_dir = './../../../data_source/radiomic_features/no_filter/errors/'\n",
    "\n",
    "# Individual file names.\n",
    "ct_labels = [\n",
    "    'ct_no_filter30.csv',\n",
    "    'ct_no_filter50.csv',\n",
    "    'ct_no_filter70.csv',\n",
    "    'ct_no_filter90.csv',\n",
    "    'ct_no_filter110.csv',\n",
    "    'ct_no_filter130.csv'\n",
    "]\n",
    "pet_labels = [\n",
    "    'pet_no_filter30.csv',\n",
    "    'pet_no_filter50.csv',\n",
    "    'pet_no_filter70.csv',\n",
    "    'pet_no_filter90.csv',\n",
    "    'pet_no_filter110.csv',\n",
    "    'pet_no_filter130.csv'\n",
    "]"
   ]
  },
  {
   "cell_type": "code",
   "execution_count": 5,
   "metadata": {},
   "outputs": [],
   "source": [
    "# Filter out redundant columns.\n",
    "ct_data, pet_data = [], []\n",
    "for ct_label, pet_label in zip(ct_labels, pet_labels):\n",
    "    \n",
    "    ct_path = os.path.join(raw_source, ct_label)\n",
    "    pet_path = os.path.join(raw_source, pet_label)\n",
    "\n",
    "    ct_data.append(\n",
    "        pd.read_csv(ct_path, index_col=3).filter(regex=target_class)\n",
    "    )\n",
    "    pet_data.append(\n",
    "        pd.read_csv(pet_path, index_col=3).filter(regex=target_class)\n",
    "    )"
   ]
  },
  {
   "cell_type": "code",
   "execution_count": 6,
   "metadata": {},
   "outputs": [
    {
     "name": "stdout",
     "output_type": "stream",
     "text": [
      "(198, 92) (198, 92)\n",
      "(198, 92) (198, 92)\n",
      "(198, 92) (198, 92)\n",
      "(198, 92) (198, 92)\n",
      "(198, 92) (198, 92)\n",
      "(198, 92) (198, 92)\n"
     ]
    }
   ],
   "source": [
    "# Sanity check on number of extracted features.\n",
    "for ct_dset, pet_dset in zip(ct_data, pet_data):\n",
    "    print(np.shape(ct_dset), np.shape(pet_dset))"
   ]
  },
  {
   "cell_type": "code",
   "execution_count": 7,
   "metadata": {},
   "outputs": [
    {
     "data": {
      "text/plain": [
       "False"
      ]
     },
     "execution_count": 7,
     "metadata": {},
     "output_type": "execute_result"
    }
   ],
   "source": [
    "# Sanity check on shape features.\n",
    "np.array_equal(ct_data[0].values, pet_data[0].values)"
   ]
  },
  {
   "cell_type": "code",
   "execution_count": 8,
   "metadata": {},
   "outputs": [
    {
     "name": "stdout",
     "output_type": "stream",
     "text": [
      "True\n",
      "True\n",
      "True\n",
      "True\n",
      "True\n",
      "True\n",
      "True\n",
      "True\n",
      "True\n",
      "True\n",
      "True\n",
      "True\n"
     ]
    }
   ],
   "source": [
    "# Sanity check on indexing.\n",
    "for ct_dset, pet_dset in zip(ct_data, pet_data):\n",
    "    print(np.array_equal(ct_dset.index.values, true_index)) \n",
    "    print(np.array_equal(pet_dset.index.values, true_index))"
   ]
  },
  {
   "cell_type": "code",
   "execution_count": 9,
   "metadata": {},
   "outputs": [
    {
     "name": "stdout",
     "output_type": "stream",
     "text": [
      "CT missing:  ['CT30_original_ngtdm_Contrast']\n",
      "CT missing:  ['CT50_original_ngtdm_Contrast']\n",
      "CT missing:  ['CT70_original_ngtdm_Contrast']\n",
      "CT missing:  ['CT90_original_ngtdm_Contrast']\n",
      "CT missing:  ['CT110_original_ngtdm_Contrast']\n",
      "CT missing:  ['CT130_original_ngtdm_Contrast']\n"
     ]
    }
   ],
   "source": [
    "verbose = 1\n",
    "\n",
    "# Save data to disk.\n",
    "for num, (ct_set, pet_set) in enumerate(zip(ct_data, pet_data)):\n",
    "    # Update column labels.\n",
    "    ct_set.columns = [\n",
    "        'CT{}_{}'.format(get_discr_level(ct_labels[num]), label) \n",
    "        for label in ct_set.columns\n",
    "    ]\n",
    "    pet_set.columns = [\n",
    "        'PET{}_{}'.format(get_discr_level(pet_labels[num]), label) \n",
    "        for label in pet_set.columns\n",
    "    ]\n",
    "    \n",
    "    # Drop redundant columns.\n",
    "    ct_redundant = ct_set.columns[ct_set.var() == 0.0].values\n",
    "    pet_redundant = pet_set.columns[pet_set.var() == 0.0].values\n",
    "    \n",
    "    if len(ct_redundant) > 0:\n",
    "        if verbose > 0:\n",
    "            print('CT redundant: ', ct_redundant)\n",
    "\n",
    "        ct_red_path = os.path.join(error_dir, 'redundant_{}'.format(ct_labels[num]))\n",
    "        pd.Series(ct_redundant).to_csv(ct_red_path)\n",
    "        ct_set.drop(ct_redundant, axis=1, inplace=True)\n",
    "        \n",
    "    if len(pet_redundant) > 0:        \n",
    "        if verbose > 0:\n",
    "            print('PET redundant: ', pet_redundant)\n",
    "            \n",
    "        pet_red_path = os.path.join(error_dir, 'redundant_{}'.format(pet_labels[num]))\n",
    "        pd.Series(pet_redundant).to_csv(pet_red_path)\n",
    "        pet_set.drop(pet_redundant, axis=1, inplace=True)\n",
    "    \n",
    "    # Drop columns with missing values.\n",
    "    ct_miss = ct_set.columns[ct_set.isnull().any()].values\n",
    "    pet_miss = pet_set.columns[pet_set.isnull().any()].values\n",
    "        \n",
    "    if len(ct_miss) > 0:\n",
    "        if verbose > 0:\n",
    "            print('CT missing: ', ct_miss)\n",
    "        \n",
    "        ct_miss_path = os.path.join(error_dir, 'missing_{}'.format(ct_labels[num]))\n",
    "        pd.Series(ct_miss).to_csv(ct_miss_path)\n",
    "        ct_set.drop(ct_miss, axis=1, inplace=True)\n",
    "        \n",
    "    if len(pet_miss) > 0:\n",
    "        if verbose > 0:\n",
    "            print('PET missing: ', pet_miss)\n",
    "        \n",
    "        pet_miss_path = os.path.join(error_dir, 'missing_{}'.format(pet_labels[num]))\n",
    "        pd.Series(pet_miss).to_csv(ct_miss_path)\n",
    "        pet_set.drop(pet_miss, axis=1, inplace=True)\n",
    "        \n",
    "\n",
    "    # Save data sets to disk.\n",
    "    ct_set.to_csv(os.path.join(prep_source, ct_labels[num]))\n",
    "    pet_set.to_csv(os.path.join(prep_source, pet_labels[num]))"
   ]
  },
  {
   "cell_type": "code",
   "execution_count": null,
   "metadata": {},
   "outputs": [],
   "source": []
  }
 ],
 "metadata": {
  "anaconda-cloud": {},
  "kernelspec": {
   "display_name": "Python [conda env:anaconda]",
   "language": "python",
   "name": "conda-env-anaconda-py"
  },
  "language_info": {
   "codemirror_mode": {
    "name": "ipython",
    "version": 3
   },
   "file_extension": ".py",
   "mimetype": "text/x-python",
   "name": "python",
   "nbconvert_exporter": "python",
   "pygments_lexer": "ipython3",
   "version": "3.6.6"
  }
 },
 "nbformat": 4,
 "nbformat_minor": 2
}
