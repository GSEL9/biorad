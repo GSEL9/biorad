{
 "cells": [
  {
   "cell_type": "markdown",
   "metadata": {},
   "source": [
    "# Radiomic Feature Post-processing "
   ]
  },
  {
   "cell_type": "code",
   "execution_count": null,
   "metadata": {},
   "outputs": [],
   "source": [
    "# Intention Hassan transform: Render feature independent of gray level discretization."
   ]
  },
  {
   "cell_type": "code",
   "execution_count": 1,
   "metadata": {},
   "outputs": [],
   "source": [
    "import sys\n",
    "sys.path.append('./../utils/')\n",
    "\n",
    "import os\n",
    "import re\n",
    "\n",
    "import numpy as np\n",
    "import pandas as pd\n",
    "\n",
    "import ioutil\n",
    "import transforms\n",
    "\n",
    "from processing import PostProcessor\n",
    "from sklearn.preprocessing import StandardScaler"
   ]
  },
  {
   "cell_type": "code",
   "execution_count": 2,
   "metadata": {},
   "outputs": [],
   "source": [
    "true_index = np.load('./../../../data_source/patient_id.npy')"
   ]
  },
  {
   "cell_type": "code",
   "execution_count": 3,
   "metadata": {},
   "outputs": [],
   "source": [
    "# Globals.\n",
    "FILTER_TYPE = 'original'"
   ]
  },
  {
   "cell_type": "markdown",
   "metadata": {},
   "source": [
    "## Process Raw Features"
   ]
  },
  {
   "cell_type": "code",
   "execution_count": 4,
   "metadata": {},
   "outputs": [],
   "source": [
    "ct_feature_files = [\n",
    "    #'./../../../data_source/radiomic_features/alise/ct_128_no_filter_config.csv',\n",
    "    './../../../data_source/radiomic_features/no_filter/ct_32_no_filter_config.csv',\n",
    "    './../../../data_source/radiomic_features/no_filter/ct_64_no_filter_config.csv',\n",
    "    './../../../data_source/radiomic_features/no_filter/ct_128_no_filter_config.csv',\n",
    "    #'./../../../data_source/radiomic_features/gauss/ct_32_05gauss_config.csv',\n",
    "    #'./../../../data_source/radiomic_features/gauss/ct_64_05gauss_config.csv',\n",
    "    #'./../../../data_source/radiomic_features/gauss/ct_128_05gauss_config.csv',\n",
    "    #'./../../../data_source/radiomic_features/sqroot/ct_32_sqroot_config.csv',\n",
    "    #'./../../../data_source/radiomic_features/sqroot/ct_64_sqroot_config.csv',\n",
    "    #'./../../../data_source/radiomic_features/sqroot/ct_128_sqroot_config.csv'\n",
    "]\n",
    "pet_feature_files = [\n",
    "    #'./../../../data_source/radiomic_features/alise/pet_16_sqroot_config.csv',\n",
    "    './../../../data_source/radiomic_features/no_filter/pet_32_no_filter_config.csv',\n",
    "    './../../../data_source/radiomic_features/no_filter/pet_64_no_filter_config.csv',\n",
    "    './../../../data_source/radiomic_features/no_filter/pet_128_no_filter_config.csv'\n",
    "    #'./../../../data_source/radiomic_features/gauss/pet_32_05gauss_config.csv',\n",
    "    #'./../../../data_source/radiomic_features/gauss/pet_64_05gauss_config.csv',\n",
    "    #'./../../../data_source/radiomic_features/gauss/pet_128_05gauss_config.csv',\n",
    "    #'./../../../data_source/radiomic_features/sqroot/pet_32_sqroot_config.csv',\n",
    "    #'./../../../data_source/radiomic_features/sqroot/pet_64_sqroot_config.csv',\n",
    "    #'./../../../data_source/radiomic_features/sqroot/pet_128_sqroot_config.csv'\n",
    "]"
   ]
  },
  {
   "cell_type": "code",
   "execution_count": 5,
   "metadata": {},
   "outputs": [],
   "source": [
    "ct_processor = PostProcessor(\n",
    "    path_to_features=ct_feature_files, \n",
    "    indices=true_index, \n",
    "    filter_type=FILTER_TYPE, \n",
    "    error_dir='./../../../data_source/to_analysis/no_filter/errors/'\n",
    ")"
   ]
  },
  {
   "cell_type": "code",
   "execution_count": 6,
   "metadata": {},
   "outputs": [
    {
     "name": "stdout",
     "output_type": "stream",
     "text": [
      "Num missing features: 1\n",
      "Num missing features: 1\n",
      "Num missing features: 1\n"
     ]
    },
    {
     "data": {
      "text/plain": [
       "<processing.PostProcessor at 0x1086891d0>"
      ]
     },
     "execution_count": 6,
     "metadata": {},
     "output_type": "execute_result"
    }
   ],
   "source": [
    "ct_processor.process(drop_redundant=False, drop_missing=True)\n",
    "ct_processor.to_file(\n",
    "    path_to_dir='./../../../data_source/to_analysis/no_filter/'\n",
    ")"
   ]
  },
  {
   "cell_type": "code",
   "execution_count": 7,
   "metadata": {},
   "outputs": [],
   "source": [
    "pet_processor = PostProcessor(\n",
    "    path_to_features=pet_feature_files, \n",
    "    indices=true_index, \n",
    "    filter_type=FILTER_TYPE, \n",
    "    error_dir='./../../../data_source/to_analysis/no_filter/errors/'\n",
    ")"
   ]
  },
  {
   "cell_type": "code",
   "execution_count": 8,
   "metadata": {},
   "outputs": [
    {
     "data": {
      "text/plain": [
       "<processing.PostProcessor at 0x119a765c0>"
      ]
     },
     "execution_count": 8,
     "metadata": {},
     "output_type": "execute_result"
    }
   ],
   "source": [
    "pet_processor.process(drop_redundant=False, drop_missing=True)\n",
    "pet_processor.to_file(\n",
    "    path_to_dir='./../../../data_source/to_analysis/no_filter/'\n",
    ")"
   ]
  },
  {
   "cell_type": "code",
   "execution_count": 9,
   "metadata": {},
   "outputs": [
    {
     "data": {
      "text/plain": [
       "((198, 273), (198, 276))"
      ]
     },
     "execution_count": 9,
     "metadata": {},
     "output_type": "execute_result"
    }
   ],
   "source": [
    "ct_features = ct_processor.concatenated\n",
    "pet_features = pet_processor.concatenated\n",
    "np.shape(ct_features), np.shape(pet_features)"
   ]
  },
  {
   "cell_type": "markdown",
   "metadata": {},
   "source": [
    "## Concatenate Features"
   ]
  },
  {
   "cell_type": "code",
   "execution_count": 10,
   "metadata": {},
   "outputs": [],
   "source": [
    "shape_feats = pd.read_csv('./../../../data_source/to_analysis/radiomics_shape.csv', index_col=0)\n",
    "clinical = pd.read_csv('./../../../data_source/to_analysis/clinical_params.csv', index_col=0)\n",
    "pet_params = pd.read_csv('./../../../data_source/to_analysis/pet_params.csv', index_col=0)"
   ]
  },
  {
   "cell_type": "code",
   "execution_count": 11,
   "metadata": {},
   "outputs": [],
   "source": [
    "ct_features.columns = ['CT_{}'.format(col) for col in ct_features.columns]\n",
    "pet_features.columns = ['PET_{}'.format(col) for col in pet_features.columns]"
   ]
  },
  {
   "cell_type": "code",
   "execution_count": 12,
   "metadata": {},
   "outputs": [
    {
     "data": {
      "text/plain": [
       "(198, 607)"
      ]
     },
     "execution_count": 12,
     "metadata": {},
     "output_type": "execute_result"
    }
   ],
   "source": [
    "X = pd.concat((shape_feats, clinical, ct_features, pet_features, pet_params), axis=1)\n",
    "np.shape(X)"
   ]
  },
  {
   "cell_type": "code",
   "execution_count": 13,
   "metadata": {},
   "outputs": [],
   "source": [
    "X.to_csv('./../../../data_source/to_analysis/no_filter_concat.csv')"
   ]
  },
  {
   "cell_type": "code",
   "execution_count": null,
   "metadata": {},
   "outputs": [],
   "source": []
  }
 ],
 "metadata": {
  "anaconda-cloud": {},
  "kernelspec": {
   "display_name": "Python [conda env:anaconda]",
   "language": "python",
   "name": "conda-env-anaconda-py"
  },
  "language_info": {
   "codemirror_mode": {
    "name": "ipython",
    "version": 3
   },
   "file_extension": ".py",
   "mimetype": "text/x-python",
   "name": "python",
   "nbconvert_exporter": "python",
   "pygments_lexer": "ipython3",
   "version": "3.6.6"
  }
 },
 "nbformat": 4,
 "nbformat_minor": 2
}
