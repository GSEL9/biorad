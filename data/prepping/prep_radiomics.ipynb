{
 "cells": [
  {
   "cell_type": "markdown",
   "metadata": {},
   "source": [
    "# Post processing of Extracted Radiomic Features "
   ]
  },
  {
   "cell_type": "markdown",
   "metadata": {},
   "source": [
    "**TODO:** \n",
    "* Remove features constant across gray levels.\n",
    "* Include GL discretiztion level in features varying across GL."
   ]
  },
  {
   "cell_type": "code",
   "execution_count": 57,
   "metadata": {},
   "outputs": [],
   "source": [
    "import sys\n",
    "sys.path.append('./../utils/')\n",
    "\n",
    "import os\n",
    "import re\n",
    "\n",
    "import numpy as np\n",
    "import pandas as pd\n",
    "\n",
    "import ioutil\n",
    "\n",
    "from transforms import Whitening\n",
    "from processing import PostProcessor\n",
    "\n",
    "from sklearn.preprocessing import StandardScaler\n",
    "\n",
    "import seaborn as sns\n",
    "import matplotlib.pyplot as plt\n",
    "%matplotlib inline"
   ]
  },
  {
   "cell_type": "code",
   "execution_count": 58,
   "metadata": {},
   "outputs": [],
   "source": [
    "true_index = np.load('./../../../data_source/patient_id.npy')\n",
    "\n",
    "removeables = [38, 45, 82]\n",
    "true_index = np.array([idx for idx in true_index if not idx in removeables])"
   ]
  },
  {
   "cell_type": "code",
   "execution_count": 59,
   "metadata": {},
   "outputs": [],
   "source": [
    "# Globals.\n",
    "THRESH = 1e-10\n",
    "FILTER_TYPE = 'original'"
   ]
  },
  {
   "cell_type": "markdown",
   "metadata": {},
   "source": [
    "## Process Raw Features"
   ]
  },
  {
   "cell_type": "code",
   "execution_count": 60,
   "metadata": {},
   "outputs": [],
   "source": [
    "shape_features = [\n",
    "    './../../../data_source/radiomic_features/shape/shape_features.csv'\n",
    "]\n",
    "ct_firstorder_features = [\n",
    "    './../../../data_source/radiomic_features/firstorder/ct32_firstorder_no_filter_config.csv',\n",
    "    './../../../data_source/radiomic_features/firstorder/ct64_firstorder_no_filter_config.csv',\n",
    "    './../../../data_source/radiomic_features/firstorder/ct128_firstorder_no_filter_config.csv',\n",
    "]\n",
    "pet_firstorder_features = [\n",
    "    './../../../data_source/radiomic_features/firstorder/pet32_firstorder_no_filter_config.csv',\n",
    "    './../../../data_source/radiomic_features/firstorder/pet64_firstorder_no_filter_config.csv',\n",
    "    './../../../data_source/radiomic_features/firstorder/pet128_firstorder_no_filter_config.csv',\n",
    "]\n",
    "ct_texture_features = [\n",
    "    './../../../data_source/radiomic_features/texture/ct32_texture_no_filter_config.csv',\n",
    "    './../../../data_source/radiomic_features/texture/ct64_texture_no_filter_config.csv',\n",
    "    './../../../data_source/radiomic_features/texture/ct128_texture_no_filter_config.csv',\n",
    "]\n",
    "pet_texture_features = [\n",
    "    './../../../data_source/radiomic_features/texture/pet32_texture_no_filter_config.csv',\n",
    "    './../../../data_source/radiomic_features/texture/pet64_texture_no_filter_config.csv',\n",
    "    './../../../data_source/radiomic_features/texture/pet128_texture_no_filter_config.csv',\n",
    "]"
   ]
  },
  {
   "cell_type": "markdown",
   "metadata": {},
   "source": [
    "# Shape features"
   ]
  },
  {
   "cell_type": "code",
   "execution_count": 62,
   "metadata": {},
   "outputs": [],
   "source": [
    "shape_processsor = PostProcessor(\n",
    "    path_to_features=shape_features, \n",
    "    indices=true_index, \n",
    "    filter_type=FILTER_TYPE, \n",
    "    error_dir='./../../../data_source/to_analysis/shape/errors/'\n",
    ")"
   ]
  },
  {
   "cell_type": "code",
   "execution_count": 63,
   "metadata": {},
   "outputs": [
    {
     "data": {
      "text/plain": [
       "<processing.PostProcessor at 0x116ee8240>"
      ]
     },
     "execution_count": 63,
     "metadata": {},
     "output_type": "execute_result"
    }
   ],
   "source": [
    "shape_processsor.process(drop_redundant=True, drop_missing=True)\n",
    "shape_processsor.to_file(\n",
    "    path_to_dir='./../../../data_source/to_analysis/shape'\n",
    ")"
   ]
  },
  {
   "cell_type": "markdown",
   "metadata": {},
   "source": [
    "# First order features"
   ]
  },
  {
   "cell_type": "code",
   "execution_count": 64,
   "metadata": {},
   "outputs": [],
   "source": [
    "ct_firstorder_processsor = PostProcessor(\n",
    "    path_to_features=ct_firstorder_features, \n",
    "    indices=true_index, \n",
    "    filter_type=FILTER_TYPE, \n",
    "    error_dir='./../../../data_source/to_analysis/firstorder/errors/'\n",
    ")\n",
    "pet_firstorder_processsor = PostProcessor(\n",
    "    path_to_features=pet_firstorder_features, \n",
    "    indices=true_index, \n",
    "    filter_type=FILTER_TYPE, \n",
    "    error_dir='./../../../data_source/to_analysis/firstorder/errors/'\n",
    ")"
   ]
  },
  {
   "cell_type": "code",
   "execution_count": 65,
   "metadata": {},
   "outputs": [
    {
     "data": {
      "text/plain": [
       "<processing.PostProcessor at 0x11e18cef0>"
      ]
     },
     "execution_count": 65,
     "metadata": {},
     "output_type": "execute_result"
    }
   ],
   "source": [
    "ct_firstorder_processsor.process(drop_redundant=True, drop_missing=True)\n",
    "ct_firstorder_processsor.to_file(\n",
    "    path_to_dir='./../../../data_source/to_analysis/firstorder/'\n",
    ")\n",
    "pet_firstorder_processsor.process(drop_redundant=True, drop_missing=True)\n",
    "pet_firstorder_processsor.to_file(\n",
    "    path_to_dir='./../../../data_source/to_analysis/firstorder/'\n",
    ")"
   ]
  },
  {
   "cell_type": "markdown",
   "metadata": {},
   "source": [
    "# Texture features"
   ]
  },
  {
   "cell_type": "code",
   "execution_count": 29,
   "metadata": {},
   "outputs": [],
   "source": [
    "ct_texture_processsor = PostProcessor(\n",
    "    path_to_features=ct_texture_features, \n",
    "    indices=true_index, \n",
    "    filter_type=FILTER_TYPE, \n",
    "    error_dir='./../../../data_source/to_analysis/texture/errors/'\n",
    ")\n",
    "pet_texture_processsor = PostProcessor(\n",
    "    path_to_features=pet_texture_features, \n",
    "    indices=true_index, \n",
    "    filter_type=FILTER_TYPE, \n",
    "    error_dir='./../../../data_source/to_analysis/texture/errors/'\n",
    ")"
   ]
  },
  {
   "cell_type": "code",
   "execution_count": 30,
   "metadata": {},
   "outputs": [
    {
     "data": {
      "text/plain": [
       "<processing.PostProcessor at 0x126c48f60>"
      ]
     },
     "execution_count": 30,
     "metadata": {},
     "output_type": "execute_result"
    }
   ],
   "source": [
    "ct_texture_processsor.process(drop_redundant=True, drop_missing=True)\n",
    "ct_texture_processsor.to_file(\n",
    "    path_to_dir='./../../../data_source/to_analysis/texture/'\n",
    ")\n",
    "pet_texture_processsor.process(drop_redundant=True, drop_missing=True)\n",
    "pet_texture_processsor.to_file(\n",
    "    path_to_dir='./../../../data_source/to_analysis/texture/'\n",
    ")"
   ]
  },
  {
   "cell_type": "markdown",
   "metadata": {},
   "source": [
    "## Concatenate Features"
   ]
  },
  {
   "cell_type": "code",
   "execution_count": 31,
   "metadata": {},
   "outputs": [
    {
     "data": {
      "text/plain": [
       "((195, 276), (195, 276))"
      ]
     },
     "execution_count": 31,
     "metadata": {},
     "output_type": "execute_result"
    }
   ],
   "source": [
    "all_ct_features = pd.concat(\n",
    "    (\n",
    "        ct_firstorder_processsor.concatenated, \n",
    "        ct_texture_processsor.concatenated\n",
    "    ),\n",
    "    axis=1\n",
    ")\n",
    "all_pet_features = pd.concat(\n",
    "    (\n",
    "        ct_firstorder_processsor.concatenated, \n",
    "        ct_texture_processsor.concatenated\n",
    "    ),\n",
    "    axis=1\n",
    ")\n",
    "all_ct_features.shape, all_pet_features.shape"
   ]
  },
  {
   "cell_type": "code",
   "execution_count": 32,
   "metadata": {},
   "outputs": [],
   "source": [
    "all_ct_features.columns = ['CT_{}'.format(col) for col in all_ct_features.columns]\n",
    "all_pet_features.columns = ['PET_{}'.format(col) for col in all_pet_features.columns]"
   ]
  },
  {
   "cell_type": "code",
   "execution_count": 33,
   "metadata": {},
   "outputs": [],
   "source": [
    "clinical = pd.read_csv('./../../../data_source/to_analysis/clinical_params.csv', index_col=0)\n",
    "pet_params = pd.read_csv('./../../../data_source/to_analysis/pet_params.csv', index_col=0)"
   ]
  },
  {
   "cell_type": "code",
   "execution_count": 34,
   "metadata": {},
   "outputs": [
    {
     "data": {
      "text/plain": [
       "(198, 610)"
      ]
     },
     "execution_count": 34,
     "metadata": {},
     "output_type": "execute_result"
    }
   ],
   "source": [
    "X = pd.concat(\n",
    "    (\n",
    "        shape_processsor.concatenated, \n",
    "        clinical, \n",
    "        all_ct_features, \n",
    "        all_pet_features, \n",
    "        pet_params\n",
    "    ), axis=1\n",
    ")\n",
    "np.shape(X)"
   ]
  },
  {
   "cell_type": "code",
   "execution_count": 35,
   "metadata": {},
   "outputs": [],
   "source": [
    "X.to_csv('./../../../data_source/to_analysis/anomaly_filtered_concat.csv')"
   ]
  },
  {
   "cell_type": "code",
   "execution_count": null,
   "metadata": {},
   "outputs": [],
   "source": []
  }
 ],
 "metadata": {
  "anaconda-cloud": {},
  "kernelspec": {
   "display_name": "Python [conda env:anaconda]",
   "language": "python",
   "name": "conda-env-anaconda-py"
  },
  "language_info": {
   "codemirror_mode": {
    "name": "ipython",
    "version": 3
   },
   "file_extension": ".py",
   "mimetype": "text/x-python",
   "name": "python",
   "nbconvert_exporter": "python",
   "pygments_lexer": "ipython3",
   "version": "3.6.6"
  }
 },
 "nbformat": 4,
 "nbformat_minor": 2
}
