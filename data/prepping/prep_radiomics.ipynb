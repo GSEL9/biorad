{
 "cells": [
  {
   "cell_type": "markdown",
   "metadata": {},
   "source": [
    "# Radiomic Feature Post-processing "
   ]
  },
  {
   "cell_type": "code",
   "execution_count": 1,
   "metadata": {},
   "outputs": [],
   "source": [
    "import sys\n",
    "sys.path.append('./../utils/')\n",
    "\n",
    "import os\n",
    "import re\n",
    "\n",
    "import numpy as np\n",
    "import pandas as pd\n",
    "\n",
    "import ioutil\n",
    "\n",
    "from sklearn.preprocessing import StandardScaler"
   ]
  },
  {
   "cell_type": "code",
   "execution_count": 2,
   "metadata": {},
   "outputs": [],
   "source": [
    "hassan_transforms = {\n",
    "    # Nv: Number of voxels in ROI.\n",
    "    'firstorder_Entropy': lambda f, Nv: f * np.log(Nv), \n",
    "    # Ng: Numer of gray levels in image.\n",
    "    'glcm_DifferenceEntropy': lambda f, Ng: f / np.log(Ng ** 2),\n",
    "    'glcm_JointEntropy': lambda f, Ng: f / np.log(Ng ** 2),\n",
    "    'glcm_SumEntropy': lambda f, Ng: f / np.log(Ng ** 2),\n",
    "    'glcm_Contrast': lambda f, Ng: f / (Ng ** 2),\n",
    "    'glcm_DifferenceVariance': lambda f, Ng: f / (Ng ** 2),\n",
    "    'glcm_SumAverage': lambda f, Ng: f / Ng,\n",
    "    'glcm_DifferenceAverage': lambda f, Ng: f / Ng, \n",
    "    # Ng: Numer of gray levels in image.\n",
    "    'glrlm_GrayLevelNonUniformity': lambda f, Ng: f * Ng,\n",
    "    'glrlm_HighGrayLevelRunEmphasis': lambda f, Ng: f / (Ng ** 2),\n",
    "    'glrlm_ShortRunHighGrayLevelEmphasis': lambda f, Ng: f / (Ng ** 2),\n",
    "    # Ng: Numer of gray levels in image.\n",
    "    'ngtdm_Contrast': lambda f, Ng: f / Ng,\n",
    "    'ngtdm_Complexity': lambda f, Ng: f / (Ng ** 3),\n",
    "    'ngtdm_Strength': lambda f, Ng: f / (Ng ** 2),\n",
    "     \n",
    "}"
   ]
  },
  {
   "cell_type": "code",
   "execution_count": 3,
   "metadata": {},
   "outputs": [],
   "source": [
    "# Bin widths used in gray level discretization.\n",
    "ct_bin_widths = {\n",
    "    '30': 114.71, \n",
    "    '50': 68.82,\n",
    "    '70': 49.16,\n",
    "    '90': 38.24,\n",
    "    '110': 31.28,\n",
    "    '130': 26.47\n",
    "}\n",
    "pet_bin_widths = {\n",
    "    '30': 0.47,\n",
    "    '50': 0.28,\n",
    "    '70': 0.2,\n",
    "    '90': 0.155,\n",
    "    '110': 0.13,\n",
    "    '130': 0.10\n",
    "}"
   ]
  },
  {
   "cell_type": "code",
   "execution_count": 4,
   "metadata": {},
   "outputs": [],
   "source": [
    "# Globals\n",
    "THRESH = 1e-8\n",
    "verbose = 1\n",
    "hassan_transform = False\n",
    "FILTER_TYPE = 'original'\n",
    "\n",
    "# References to disk locations.\n",
    "raw_source = './../../../data_source/radiomic_features/no_filter/'\n",
    "prep_source = './../../../data_source/to_analysis/no_filter/'\n",
    "\n",
    "path_ct_concat = './../../../data_source/to_analysis/ct_no_filter_concat.csv'\n",
    "path_pet_concat = './../../../data_source/to_analysis/pet_no_filter_concat.csv'"
   ]
  },
  {
   "cell_type": "code",
   "execution_count": 5,
   "metadata": {},
   "outputs": [
    {
     "data": {
      "text/plain": [
       "array([ 2,  4,  5,  8, 10])"
      ]
     },
     "execution_count": 5,
     "metadata": {},
     "output_type": "execute_result"
    }
   ],
   "source": [
    "true_index = np.load('./../../../data_source/patient_id.npy')\n",
    "true_index[:5]"
   ]
  },
  {
   "cell_type": "code",
   "execution_count": 6,
   "metadata": {},
   "outputs": [],
   "source": [
    "# Handling shape features.\n",
    "#ct_shape = pd.read_csv('./../../../data_source/radiomic_features/shape/ct_shape.csv', index_col=0)\n",
    "#pet_shape = pd.read_csv('./../../../data_source/radiomic_features/shape/pet_shape.csv', index_col=0)\n",
    "\n",
    "#ct_shape.shape, pet_shape.shape"
   ]
  },
  {
   "cell_type": "code",
   "execution_count": 7,
   "metadata": {},
   "outputs": [],
   "source": [
    "#ct_shape = ct_shape[ct_shape.filter(regex='original').columns]\n",
    "#pet_shape = pet_shape[pet_shape.filter(regex='original').columns]\n",
    "\n",
    "#ct_shape.shape, pet_shape.shape\n",
    "\n",
    "#np.array_equal(ct_shape.values, pet_shape.values)\n",
    "\n",
    "#ct_shape.index = true_index\n",
    "\n",
    "# Write to disk.\n",
    "#ct_shape.to_csv('./../../../data_source/to_analysis/radiomics_shape.csv')"
   ]
  },
  {
   "cell_type": "code",
   "execution_count": 8,
   "metadata": {},
   "outputs": [
    {
     "data": {
      "text/html": [
       "<div>\n",
       "<style scoped>\n",
       "    .dataframe tbody tr th:only-of-type {\n",
       "        vertical-align: middle;\n",
       "    }\n",
       "\n",
       "    .dataframe tbody tr th {\n",
       "        vertical-align: top;\n",
       "    }\n",
       "\n",
       "    .dataframe thead th {\n",
       "        text-align: right;\n",
       "    }\n",
       "</style>\n",
       "<table border=\"1\" class=\"dataframe\">\n",
       "  <thead>\n",
       "    <tr style=\"text-align: right;\">\n",
       "      <th></th>\n",
       "      <th>original_shape_Elongation</th>\n",
       "      <th>original_shape_Flatness</th>\n",
       "      <th>original_shape_LeastAxis</th>\n",
       "      <th>original_shape_MajorAxis</th>\n",
       "      <th>original_shape_Maximum2DDiameterColumn</th>\n",
       "      <th>original_shape_Maximum2DDiameterRow</th>\n",
       "      <th>original_shape_Maximum2DDiameterSlice</th>\n",
       "      <th>original_shape_Maximum3DDiameter</th>\n",
       "      <th>original_shape_MinorAxis</th>\n",
       "      <th>original_shape_Sphericity</th>\n",
       "      <th>original_shape_SurfaceArea</th>\n",
       "      <th>original_shape_SurfaceVolumeRatio</th>\n",
       "      <th>original_shape_Volume</th>\n",
       "    </tr>\n",
       "  </thead>\n",
       "  <tbody>\n",
       "    <tr>\n",
       "      <th>2</th>\n",
       "      <td>0.738882</td>\n",
       "      <td>0.723925</td>\n",
       "      <td>27.060529</td>\n",
       "      <td>37.380273</td>\n",
       "      <td>41.976184</td>\n",
       "      <td>44.598206</td>\n",
       "      <td>42.720019</td>\n",
       "      <td>45.617979</td>\n",
       "      <td>27.619612</td>\n",
       "      <td>0.661532</td>\n",
       "      <td>4860.055715</td>\n",
       "      <td>0.283517</td>\n",
       "      <td>17142.0</td>\n",
       "    </tr>\n",
       "    <tr>\n",
       "      <th>4</th>\n",
       "      <td>0.796900</td>\n",
       "      <td>0.629917</td>\n",
       "      <td>19.845151</td>\n",
       "      <td>31.504408</td>\n",
       "      <td>38.587563</td>\n",
       "      <td>35.468296</td>\n",
       "      <td>29.410882</td>\n",
       "      <td>38.704005</td>\n",
       "      <td>25.105855</td>\n",
       "      <td>0.701721</td>\n",
       "      <td>3126.087371</td>\n",
       "      <td>0.323578</td>\n",
       "      <td>9661.0</td>\n",
       "    </tr>\n",
       "    <tr>\n",
       "      <th>5</th>\n",
       "      <td>0.600926</td>\n",
       "      <td>0.535140</td>\n",
       "      <td>22.515072</td>\n",
       "      <td>42.073251</td>\n",
       "      <td>46.065171</td>\n",
       "      <td>43.011626</td>\n",
       "      <td>32.015621</td>\n",
       "      <td>46.454279</td>\n",
       "      <td>25.282894</td>\n",
       "      <td>0.762365</td>\n",
       "      <td>4063.633046</td>\n",
       "      <td>0.250625</td>\n",
       "      <td>16214.0</td>\n",
       "    </tr>\n",
       "    <tr>\n",
       "      <th>8</th>\n",
       "      <td>0.784571</td>\n",
       "      <td>0.414247</td>\n",
       "      <td>30.263897</td>\n",
       "      <td>73.057649</td>\n",
       "      <td>74.148500</td>\n",
       "      <td>80.956779</td>\n",
       "      <td>65.764732</td>\n",
       "      <td>83.438600</td>\n",
       "      <td>57.318945</td>\n",
       "      <td>0.520001</td>\n",
       "      <td>15698.615155</td>\n",
       "      <td>0.226355</td>\n",
       "      <td>69354.0</td>\n",
       "    </tr>\n",
       "    <tr>\n",
       "      <th>10</th>\n",
       "      <td>0.690320</td>\n",
       "      <td>0.539743</td>\n",
       "      <td>19.449801</td>\n",
       "      <td>36.035312</td>\n",
       "      <td>33.286634</td>\n",
       "      <td>38.013156</td>\n",
       "      <td>33.015148</td>\n",
       "      <td>43.150898</td>\n",
       "      <td>24.875896</td>\n",
       "      <td>0.643822</td>\n",
       "      <td>3658.448414</td>\n",
       "      <td>0.340352</td>\n",
       "      <td>10749.0</td>\n",
       "    </tr>\n",
       "  </tbody>\n",
       "</table>\n",
       "</div>"
      ],
      "text/plain": [
       "    original_shape_Elongation  original_shape_Flatness  \\\n",
       "2                    0.738882                 0.723925   \n",
       "4                    0.796900                 0.629917   \n",
       "5                    0.600926                 0.535140   \n",
       "8                    0.784571                 0.414247   \n",
       "10                   0.690320                 0.539743   \n",
       "\n",
       "    original_shape_LeastAxis  original_shape_MajorAxis  \\\n",
       "2                  27.060529                 37.380273   \n",
       "4                  19.845151                 31.504408   \n",
       "5                  22.515072                 42.073251   \n",
       "8                  30.263897                 73.057649   \n",
       "10                 19.449801                 36.035312   \n",
       "\n",
       "    original_shape_Maximum2DDiameterColumn  \\\n",
       "2                                41.976184   \n",
       "4                                38.587563   \n",
       "5                                46.065171   \n",
       "8                                74.148500   \n",
       "10                               33.286634   \n",
       "\n",
       "    original_shape_Maximum2DDiameterRow  \\\n",
       "2                             44.598206   \n",
       "4                             35.468296   \n",
       "5                             43.011626   \n",
       "8                             80.956779   \n",
       "10                            38.013156   \n",
       "\n",
       "    original_shape_Maximum2DDiameterSlice  original_shape_Maximum3DDiameter  \\\n",
       "2                               42.720019                         45.617979   \n",
       "4                               29.410882                         38.704005   \n",
       "5                               32.015621                         46.454279   \n",
       "8                               65.764732                         83.438600   \n",
       "10                              33.015148                         43.150898   \n",
       "\n",
       "    original_shape_MinorAxis  original_shape_Sphericity  \\\n",
       "2                  27.619612                   0.661532   \n",
       "4                  25.105855                   0.701721   \n",
       "5                  25.282894                   0.762365   \n",
       "8                  57.318945                   0.520001   \n",
       "10                 24.875896                   0.643822   \n",
       "\n",
       "    original_shape_SurfaceArea  original_shape_SurfaceVolumeRatio  \\\n",
       "2                  4860.055715                           0.283517   \n",
       "4                  3126.087371                           0.323578   \n",
       "5                  4063.633046                           0.250625   \n",
       "8                 15698.615155                           0.226355   \n",
       "10                 3658.448414                           0.340352   \n",
       "\n",
       "    original_shape_Volume  \n",
       "2                 17142.0  \n",
       "4                  9661.0  \n",
       "5                 16214.0  \n",
       "8                 69354.0  \n",
       "10                10749.0  "
      ]
     },
     "execution_count": 8,
     "metadata": {},
     "output_type": "execute_result"
    }
   ],
   "source": [
    "shape_feats = pd.read_csv('./../../../data_source/to_analysis/radiomics_shape.csv', index_col=0)\n",
    "shape_feats.head()"
   ]
  },
  {
   "cell_type": "code",
   "execution_count": 9,
   "metadata": {},
   "outputs": [
    {
     "data": {
      "text/plain": [
       "Index(['original_shape_Elongation', 'original_shape_Flatness',\n",
       "       'original_shape_LeastAxis', 'original_shape_MajorAxis',\n",
       "       'original_shape_Maximum2DDiameterColumn',\n",
       "       'original_shape_Maximum2DDiameterRow',\n",
       "       'original_shape_Maximum2DDiameterSlice',\n",
       "       'original_shape_Maximum3DDiameter', 'original_shape_MinorAxis',\n",
       "       'original_shape_Sphericity', 'original_shape_SurfaceArea',\n",
       "       'original_shape_SurfaceVolumeRatio', 'original_shape_Volume'],\n",
       "      dtype='object')"
      ]
     },
     "execution_count": 9,
     "metadata": {},
     "output_type": "execute_result"
    }
   ],
   "source": [
    "shape_feats.columns"
   ]
  },
  {
   "cell_type": "code",
   "execution_count": 10,
   "metadata": {},
   "outputs": [
    {
     "data": {
      "text/plain": [
       "(198, 13)"
      ]
     },
     "execution_count": 10,
     "metadata": {},
     "output_type": "execute_result"
    }
   ],
   "source": [
    "shape_feats.shape"
   ]
  },
  {
   "cell_type": "code",
   "execution_count": 11,
   "metadata": {},
   "outputs": [],
   "source": [
    "def get_file_name(path_to_file):\n",
    "    name, _ = path_to_file.split('.')\n",
    "    return name\n",
    "\n",
    "\n",
    "def get_discr_level(path_to_file):\n",
    "    return re.findall('\\d+', path_to_file)[0]"
   ]
  },
  {
   "cell_type": "code",
   "execution_count": 12,
   "metadata": {},
   "outputs": [],
   "source": [
    "# Target feature category.\n",
    "target_class = 'original'\n",
    "\n",
    "error_dir = './../../../data_source/radiomic_features/no_filter/errors/'\n",
    "\n",
    "# Individual file names.\n",
    "ct_labels = [\n",
    "    'ct_no_filter30.csv',\n",
    "    'ct_no_filter50.csv',\n",
    "    'ct_no_filter70.csv',\n",
    "    'ct_no_filter90.csv',\n",
    "    'ct_no_filter110.csv',\n",
    "    'ct_no_filter130.csv'\n",
    "]\n",
    "pet_labels = [\n",
    "    'pet_no_filter30.csv',\n",
    "    'pet_no_filter50.csv',\n",
    "    'pet_no_filter70.csv',\n",
    "    'pet_no_filter90.csv',\n",
    "    'pet_no_filter110.csv',\n",
    "    'pet_no_filter130.csv'\n",
    "]"
   ]
  },
  {
   "cell_type": "code",
   "execution_count": 13,
   "metadata": {},
   "outputs": [],
   "source": [
    "# Filter out redundant columns.\n",
    "ct_data, pet_data = [], []\n",
    "for ct_label, pet_label in zip(ct_labels, pet_labels):\n",
    "    \n",
    "    ct_path = os.path.join(raw_source, ct_label)\n",
    "    pet_path = os.path.join(raw_source, pet_label)\n",
    "\n",
    "    ct_data.append(\n",
    "        pd.read_csv(ct_path, index_col=3).filter(regex=target_class)\n",
    "    )\n",
    "    pet_data.append(\n",
    "        pd.read_csv(pet_path, index_col=3).filter(regex=target_class)\n",
    "    )"
   ]
  },
  {
   "cell_type": "code",
   "execution_count": 14,
   "metadata": {},
   "outputs": [
    {
     "name": "stdout",
     "output_type": "stream",
     "text": [
      "(198, 92) (198, 92)\n",
      "(198, 92) (198, 92)\n",
      "(198, 92) (198, 92)\n",
      "(198, 92) (198, 92)\n",
      "(198, 92) (198, 92)\n",
      "(198, 92) (198, 92)\n"
     ]
    }
   ],
   "source": [
    "# Sanity check on number of extracted features.\n",
    "for ct_dset, pet_dset in zip(ct_data, pet_data):\n",
    "    print(np.shape(ct_dset), np.shape(pet_dset))"
   ]
  },
  {
   "cell_type": "code",
   "execution_count": 15,
   "metadata": {},
   "outputs": [
    {
     "data": {
      "text/plain": [
       "False"
      ]
     },
     "execution_count": 15,
     "metadata": {},
     "output_type": "execute_result"
    }
   ],
   "source": [
    "# Sanity check on shape features.\n",
    "np.array_equal(ct_data[0].values, pet_data[0].values)"
   ]
  },
  {
   "cell_type": "code",
   "execution_count": 16,
   "metadata": {},
   "outputs": [
    {
     "name": "stdout",
     "output_type": "stream",
     "text": [
      "True\n",
      "True\n",
      "True\n",
      "True\n",
      "True\n",
      "True\n",
      "True\n",
      "True\n",
      "True\n",
      "True\n",
      "True\n",
      "True\n"
     ]
    }
   ],
   "source": [
    "# Sanity check on indexing.\n",
    "for ct_dset, pet_dset in zip(ct_data, pet_data):\n",
    "    print(np.array_equal(ct_dset.index.values, true_index)) \n",
    "    print(np.array_equal(pet_dset.index.values, true_index))"
   ]
  },
  {
   "cell_type": "code",
   "execution_count": 17,
   "metadata": {},
   "outputs": [],
   "source": [
    "# Check which CT features are affected by varying gray levels.\n",
    "ct_feats = ct_data[0].columns.values\n",
    "pet_feats = pet_data[0].columns.values\n",
    "\n",
    "ct_concat = pd.concat(ct_data, axis=1)\n",
    "pet_concat = pd.concat(pet_data, axis=1)\n",
    "\n",
    "np.shape(ct_concat), np.shape(pet_concat)\n",
    "\n",
    "ct_aff = {}\n",
    "for ct_feat in ct_feats:\n",
    "    sample_var = sum(ct_concat.filter(regex=ct_feat).var(axis=1))\n",
    "    if sample_var > THRESH:\n",
    "        ct_aff[ct_feat] = sample_var    \n",
    "        \n",
    "pet_aff = {}\n",
    "for pet_feat in pet_feats:\n",
    "    sample_var = sum(pet_concat.filter(regex=pet_feat).var(axis=1))\n",
    "    if sample_var > THRESH:\n",
    "        pet_aff[pet_feat] = sample_var"
   ]
  },
  {
   "cell_type": "code",
   "execution_count": 18,
   "metadata": {},
   "outputs": [
    {
     "data": {
      "text/plain": [
       "{'original_firstorder_Mean': 2.8434588974201125,\n",
       " 'original_glcm_Id': 0.03170531213380771,\n",
       " 'original_glcm_Idm': 0.0471028680265421,\n",
       " 'original_glrlm_GrayLevelNonUniformity': 297672277.9242542,\n",
       " 'original_glrlm_RunLengthNonUniformity': 7864905.922775112,\n",
       " 'original_glszm_GrayLevelNonUniformity': 21257.570027487858,\n",
       " 'original_glszm_SizeZoneNonUniformity': 848.3131422365024,\n",
       " 'original_gldm_DependenceNonUniformity': 37279309154.86914}"
      ]
     },
     "execution_count": 18,
     "metadata": {},
     "output_type": "execute_result"
    }
   ],
   "source": [
    "ct_aff"
   ]
  },
  {
   "cell_type": "code",
   "execution_count": 19,
   "metadata": {
    "scrolled": true
   },
   "outputs": [
    {
     "data": {
      "text/plain": [
       "{'original_firstorder_Entropy': 56.82753748170258,\n",
       " 'original_firstorder_Mean': 96.4146715750742,\n",
       " 'original_firstorder_Uniformity': 0.33373759320493135,\n",
       " 'original_glcm_Autocorrelation': 11422132.521787163,\n",
       " 'original_glcm_ClusterProminence': 2054238143588.8792,\n",
       " 'original_glcm_ClusterShade': 546294328.7873932,\n",
       " 'original_glcm_ClusterTendency': 2733240.7672368553,\n",
       " 'original_glcm_Contrast': 1417.7355479008154,\n",
       " 'original_glcm_Correlation': 0.008335539213400703,\n",
       " 'original_glcm_DifferenceAverage': 42.46276857030805,\n",
       " 'original_glcm_DifferenceEntropy': 43.57517833842609,\n",
       " 'original_glcm_DifferenceVariance': 537.916550203315,\n",
       " 'original_glcm_Id': 4.4598762084188595,\n",
       " 'original_glcm_Idm': 5.759670903720736,\n",
       " 'original_glcm_Idmn': 3.1267298062091885e-05,\n",
       " 'original_glcm_Idn': 0.0008525450625065627,\n",
       " 'original_glcm_Imc1': 0.4030534210879458,\n",
       " 'original_glcm_Imc2': 0.02274239628271493,\n",
       " 'original_glcm_InverseVariance': 0.329584096969585,\n",
       " 'original_glcm_JointAverage': 8777.295889660025,\n",
       " 'original_glcm_JointEnergy': 0.1032637303078231,\n",
       " 'original_glcm_JointEntropy': 164.07049985430115,\n",
       " 'original_glcm_MaximumProbability': 0.11659582060369726,\n",
       " 'original_glcm_SumAverage': 35109.183558640085,\n",
       " 'original_glcm_SumEntropy': 59.88624052866177,\n",
       " 'original_glcm_SumSquares': 177940.60759007456,\n",
       " 'original_glrlm_GrayLevelNonUniformity': 97376073.04564752,\n",
       " 'original_glrlm_GrayLevelNonUniformityNormalized': 0.3697214380157155,\n",
       " 'original_glrlm_GrayLevelVariance': 125974.1354807513,\n",
       " 'original_glrlm_HighGrayLevelRunEmphasis': 5075937.706252981,\n",
       " 'original_glrlm_LongRunEmphasis': 4171.196065274213,\n",
       " 'original_glrlm_LongRunHighGrayLevelEmphasis': 3682675648.223415,\n",
       " 'original_glrlm_LongRunLowGrayLevelEmphasis': 84.61677681703867,\n",
       " 'original_glrlm_LowGrayLevelRunEmphasis': 0.1752105678988211,\n",
       " 'original_glrlm_RunEntropy': 24.832072347514245,\n",
       " 'original_glrlm_RunLengthNonUniformity': 6449395970.109434,\n",
       " 'original_glrlm_RunLengthNonUniformityNormalized': 3.0602367340897896,\n",
       " 'original_glrlm_RunPercentage': 1.1364060841034611,\n",
       " 'original_glrlm_RunVariance': 1332.8998550989875,\n",
       " 'original_glrlm_ShortRunEmphasis': 1.6784792032314426,\n",
       " 'original_glrlm_ShortRunHighGrayLevelEmphasis': 3106493.88750626,\n",
       " 'original_glrlm_ShortRunLowGrayLevelEmphasis': 0.04816185631988005,\n",
       " 'original_glszm_GrayLevelNonUniformity': 447998.46847588423,\n",
       " 'original_glszm_GrayLevelNonUniformityNormalized': 0.5467294041787727,\n",
       " 'original_glszm_GrayLevelVariance': 45230.31464371237,\n",
       " 'original_glszm_HighGrayLevelZoneEmphasis': 7311593.986227376,\n",
       " 'original_glszm_LargeAreaEmphasis': 2.3522743832293076e+16,\n",
       " 'original_glszm_LargeAreaHighGrayLevelEmphasis': 2.0273660339070407e+19,\n",
       " 'original_glszm_LargeAreaLowGrayLevelEmphasis': 714572886375169.6,\n",
       " 'original_glszm_LowGrayLevelZoneEmphasis': 1.354679764490689,\n",
       " 'original_glszm_SizeZoneNonUniformity': 8560658.83535471,\n",
       " 'original_glszm_SizeZoneNonUniformityNormalized': 0.744062737943468,\n",
       " 'original_glszm_SmallAreaEmphasis': 1.8461725517624592,\n",
       " 'original_glszm_SmallAreaHighGrayLevelEmphasis': 2183525.081193051,\n",
       " 'original_glszm_SmallAreaLowGrayLevelEmphasis': 0.1073292114073945,\n",
       " 'original_glszm_ZoneEntropy': 178.7173927918564,\n",
       " 'original_glszm_ZonePercentage': 0.4250967430187648,\n",
       " 'original_glszm_ZoneVariance': 1.888292725111013e+16,\n",
       " 'original_gldm_DependenceEntropy': 18.52169729895769,\n",
       " 'original_gldm_DependenceNonUniformity': 1410190364.9764695,\n",
       " 'original_gldm_DependenceNonUniformityNormalized': 0.02653083239651778,\n",
       " 'original_gldm_DependenceVariance': 52121.70953190235,\n",
       " 'original_gldm_GrayLevelNonUniformity': 429737104.2030114,\n",
       " 'original_gldm_GrayLevelVariance': 194902.2709757069,\n",
       " 'original_gldm_HighGrayLevelEmphasis': 10652637.025760138,\n",
       " 'original_gldm_LargeDependenceEmphasis': 351892.62951248995,\n",
       " 'original_gldm_LargeDependenceHighGrayLevelEmphasis': 1794371153899.5203,\n",
       " 'original_gldm_LargeDependenceLowGrayLevelEmphasis': 20398.698180561372,\n",
       " 'original_gldm_LowGrayLevelEmphasis': 0.15063727722308498,\n",
       " 'original_gldm_SmallDependenceEmphasis': 0.2887626932331493,\n",
       " 'original_gldm_SmallDependenceHighGrayLevelEmphasis': 91298.99459267639,\n",
       " 'original_gldm_SmallDependenceLowGrayLevelEmphasis': 6.324906422894994e-06,\n",
       " 'original_ngtdm_Busyness': 20422.098272569892,\n",
       " 'original_ngtdm_Coarseness': 0.00020341919165429653,\n",
       " 'original_ngtdm_Complexity': 2893900.362811511,\n",
       " 'original_ngtdm_Contrast': 0.14197466402176456,\n",
       " 'original_ngtdm_Strength': 225.14901128671735}"
      ]
     },
     "execution_count": 19,
     "metadata": {},
     "output_type": "execute_result"
    }
   ],
   "source": [
    "pet_aff"
   ]
  },
  {
   "cell_type": "code",
   "execution_count": 20,
   "metadata": {},
   "outputs": [],
   "source": [
    "Nv = shape_feats['original_shape_Volume'].values"
   ]
  },
  {
   "cell_type": "code",
   "execution_count": 21,
   "metadata": {},
   "outputs": [
    {
     "name": "stdout",
     "output_type": "stream",
     "text": [
      "CT missing:  ['original_ngtdm_Contrast']\n",
      "CT missing:  ['original_ngtdm_Contrast']\n",
      "CT missing:  ['original_ngtdm_Contrast']\n",
      "CT missing:  ['original_ngtdm_Contrast']\n",
      "CT missing:  ['original_ngtdm_Contrast']\n",
      "CT missing:  ['original_ngtdm_Contrast']\n"
     ]
    }
   ],
   "source": [
    "# Save data to disk.\n",
    "for num, (ct_set, pet_set) in enumerate(zip(ct_data, pet_data)):\n",
    "    \n",
    "    # Drop redundant columns.\n",
    "    ct_redundant = ct_set.columns[ct_set.var() == 0.0].values\n",
    "    pet_redundant = pet_set.columns[pet_set.var() == 0.0].values\n",
    "    \n",
    "    if len(ct_redundant) > 0:\n",
    "        if verbose > 0:\n",
    "            print('CT redundant: ', ct_redundant)\n",
    "\n",
    "        ct_red_path = os.path.join(error_dir, 'redundant_{}'.format(ct_labels[num]))\n",
    "        pd.Series(ct_redundant).to_csv(ct_red_path)\n",
    "        ct_set.drop(ct_redundant, axis=1, inplace=True)\n",
    "        \n",
    "    if len(pet_redundant) > 0:        \n",
    "        if verbose > 0:\n",
    "            print('PET redundant: ', pet_redundant)\n",
    "            \n",
    "        pet_red_path = os.path.join(error_dir, 'redundant_{}'.format(pet_labels[num]))\n",
    "        pd.Series(pet_redundant).to_csv(pet_red_path)\n",
    "        pet_set.drop(pet_redundant, axis=1, inplace=True)\n",
    "    \n",
    "    # Drop columns with missing values.\n",
    "    ct_miss = ct_set.columns[ct_set.isnull().any()].values\n",
    "    pet_miss = pet_set.columns[pet_set.isnull().any()].values\n",
    "        \n",
    "    if len(ct_miss) > 0:\n",
    "        if verbose > 0:\n",
    "            print('CT missing: ', ct_miss)\n",
    "        \n",
    "        ct_miss_path = os.path.join(error_dir, 'missing_{}'.format(ct_labels[num]))\n",
    "        pd.Series(ct_miss).to_csv(ct_miss_path)\n",
    "        ct_set.drop(ct_miss, axis=1, inplace=True)\n",
    "        \n",
    "    if len(pet_miss) > 0:\n",
    "        if verbose > 0:\n",
    "            print('PET missing: ', pet_miss)\n",
    "        \n",
    "        pet_miss_path = os.path.join(error_dir, 'missing_{}'.format(pet_labels[num]))\n",
    "        pd.Series(pet_miss).to_csv(ct_miss_path)\n",
    "        pet_set.drop(pet_miss, axis=1, inplace=True)\n",
    "        \n",
    "    # Replace the former featue deffinition with the modified versions.\n",
    "    if hassan_transform:\n",
    "        for key, transf in hassan_transforms.items():\n",
    "            if key in ct_miss:\n",
    "                pass\n",
    "            else:\n",
    "                target_feat = ct_set.filter(regex=key).columns.values\n",
    "                # TEMP: Hack to remove add GLNUM when searching for GLNU.\n",
    "                if len(target_feat) > 1:\n",
    "                    target_feat = target_feat[0]\n",
    "                    \n",
    "                if len(target_feat) == 1:\n",
    "                    data = np.squeeze(ct_set[target_feat].values)\n",
    "                    if 'firstorder_Entropy' in target_feat[0]:\n",
    "                        ct_set.loc[:, target_feat] = transf(data, Nv)[:, np.newaxis]\n",
    "                    else:\n",
    "                        Ng = int(list(ct_bin_widths.keys())[num])\n",
    "                        ct_set.loc[:, target_feat] = transf(data, Ng)[:, np.newaxis]\n",
    "                        \n",
    "    # Update column labels.\n",
    "    ct_set.columns = [\n",
    "        'CT{}_{}'.format(get_discr_level(ct_labels[num]), label) \n",
    "        for label in ct_set.columns\n",
    "    ]\n",
    "    pet_set.columns = [\n",
    "        'PET{}_{}'.format(get_discr_level(pet_labels[num]), label) \n",
    "        for label in pet_set.columns\n",
    "    ]\n",
    "    # Save data sets to disk.\n",
    "    if hassan_transform:\n",
    "        ct_set.to_csv(os.path.join(prep_source, 'hassan_{}'.format(ct_labels[num])))\n",
    "        pet_set.to_csv(os.path.join(prep_source, 'hassan_{}'.format(pet_labels[num])))\n",
    "    else:\n",
    "        ct_set.to_csv(os.path.join(prep_source, ct_labels[num]))\n",
    "        pet_set.to_csv(os.path.join(prep_source, pet_labels[num]))"
   ]
  },
  {
   "cell_type": "code",
   "execution_count": 22,
   "metadata": {},
   "outputs": [
    {
     "data": {
      "text/plain": [
       "((198, 91), (198, 92))"
      ]
     },
     "execution_count": 22,
     "metadata": {},
     "output_type": "execute_result"
    }
   ],
   "source": [
    "ct_data[0].shape, pet_data[0].shape"
   ]
  },
  {
   "cell_type": "code",
   "execution_count": 23,
   "metadata": {},
   "outputs": [
    {
     "data": {
      "text/plain": [
       "((198, 546), (198, 552))"
      ]
     },
     "execution_count": 23,
     "metadata": {},
     "output_type": "execute_result"
    }
   ],
   "source": [
    "ct_concat = pd.concat(ct_data, axis=1)\n",
    "pet_concat = pd.concat(pet_data, axis=1)\n",
    "\n",
    "ct_concat.shape, pet_concat.shape"
   ]
  },
  {
   "cell_type": "code",
   "execution_count": 24,
   "metadata": {},
   "outputs": [],
   "source": [
    "# Save to disk.\n",
    "ct_concat.to_csv(path_ct_concat)\n",
    "pet_concat.to_csv(path_pet_concat)"
   ]
  },
  {
   "cell_type": "code",
   "execution_count": null,
   "metadata": {
    "slideshow": {
     "slide_type": "fragment"
    }
   },
   "outputs": [],
   "source": []
  }
 ],
 "metadata": {
  "anaconda-cloud": {},
  "kernelspec": {
   "display_name": "Python [conda env:anaconda]",
   "language": "python",
   "name": "conda-env-anaconda-py"
  },
  "language_info": {
   "codemirror_mode": {
    "name": "ipython",
    "version": 3
   },
   "file_extension": ".py",
   "mimetype": "text/x-python",
   "name": "python",
   "nbconvert_exporter": "python",
   "pygments_lexer": "ipython3",
   "version": "3.6.6"
  }
 },
 "nbformat": 4,
 "nbformat_minor": 2
}
