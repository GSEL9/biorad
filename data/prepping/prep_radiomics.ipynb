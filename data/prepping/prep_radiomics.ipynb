{
 "cells": [
  {
   "cell_type": "markdown",
   "metadata": {},
   "source": [
    "# Radiomic Feature Post-processing "
   ]
  },
  {
   "cell_type": "code",
   "execution_count": null,
   "metadata": {},
   "outputs": [],
   "source": [
    "# Intention Hassan transform: Render feature independent of gray level discretization."
   ]
  },
  {
   "cell_type": "code",
   "execution_count": 1,
   "metadata": {},
   "outputs": [],
   "source": [
    "import sys\n",
    "sys.path.append('./../utils/')\n",
    "\n",
    "import os\n",
    "import re\n",
    "\n",
    "import numpy as np\n",
    "import pandas as pd\n",
    "\n",
    "import ioutil\n",
    "import transforms\n",
    "\n",
    "from processing import PostProcessor\n",
    "from sklearn.preprocessing import StandardScaler"
   ]
  },
  {
   "cell_type": "code",
   "execution_count": 2,
   "metadata": {},
   "outputs": [],
   "source": [
    "# Load Hassan transformation functions.\n",
    "hassan_transf = transforms.hassan_transforms(None)"
   ]
  },
  {
   "cell_type": "code",
   "execution_count": 3,
   "metadata": {},
   "outputs": [],
   "source": [
    "# Globals\n",
    "THRESH = 1e-8\n",
    "FILTER_TYPE = 'sigma'"
   ]
  },
  {
   "cell_type": "code",
   "execution_count": 4,
   "metadata": {},
   "outputs": [],
   "source": [
    "true_index = np.load('./../../../data_source/patient_id.npy')"
   ]
  },
  {
   "cell_type": "markdown",
   "metadata": {},
   "source": [
    "## Raw Features"
   ]
  },
  {
   "cell_type": "code",
   "execution_count": 5,
   "metadata": {},
   "outputs": [],
   "source": [
    "# Individual file names from feature extraction.\n",
    "ct_feature_files = [\n",
    "    #'./../../../data_source/radiomic_features/gauss/ct_32_05gauss_config.csv',\n",
    "    #'./../../../data_source/radiomic_features/gauss/ct_64_05gauss_config.csv',\n",
    "    #'./../../../data_source/radiomic_features/gauss/ct_128_05gauss_config.csv',\n",
    "    './../../../data_source/radiomic_features/sqroot/ct_32_sqroot_config.csv',\n",
    "    './../../../data_source/radiomic_features/sqroot/ct_64_sqroot_config.csv',\n",
    "    './../../../data_source/radiomic_features/sqroot/ct_128_sqroot_config.csv'\n",
    "]\n",
    "pet_feature_files = [\n",
    "    #'./../../../data_source/radiomic_features/gauss/pet_32_05gauss_config.csv',\n",
    "    #'./../../../data_source/radiomic_features/gauss/pet_64_05gauss_config.csv',\n",
    "    #'./../../../data_source/radiomic_features/gauss/pet_128_05gauss_config.csv',\n",
    "    './../../../data_source/radiomic_features/sqroot/pet_32_sqroot_config.csv',\n",
    "    './../../../data_source/radiomic_features/sqroot/pet_64_sqroot_config.csv',\n",
    "    './../../../data_source/radiomic_features/sqroot/pet_128_sqroot_config.csv'\n",
    "]"
   ]
  },
  {
   "cell_type": "code",
   "execution_count": 6,
   "metadata": {},
   "outputs": [
    {
     "name": "stdout",
     "output_type": "stream",
     "text": [
      "Num missing features: 1\n",
      "Num missing features: 1\n",
      "Num missing features: 1\n"
     ]
    }
   ],
   "source": [
    "ct_processor = PostProcessor(\n",
    "    path_to_features=ct_feature_files, \n",
    "    indices=true_index, \n",
    "    filter_type='squareroot', \n",
    "    error_dir='./../../../data_source/to_analysis/sqroot/errors/'\n",
    ")\n",
    "ct_features = ct_processor.produce(drop_redundant=True, drop_missing=True)"
   ]
  },
  {
   "cell_type": "code",
   "execution_count": 7,
   "metadata": {},
   "outputs": [],
   "source": [
    "pet_processor = PostProcessor(\n",
    "    path_to_features=pet_feature_files, \n",
    "    indices=true_index, \n",
    "    filter_type='squareroot', \n",
    "    error_dir='./../../../data_source/to_analysis/sqroot/errors/'\n",
    ")\n",
    "pet_features = pet_processor.produce(drop_redundant=True, drop_missing=True)"
   ]
  },
  {
   "cell_type": "code",
   "execution_count": 8,
   "metadata": {},
   "outputs": [
    {
     "name": "stdout",
     "output_type": "stream",
     "text": [
      "(198, 91) (198, 92)\n",
      "(198, 91) (198, 92)\n",
      "(198, 91) (198, 92)\n"
     ]
    }
   ],
   "source": [
    "# Check number of extracted features.\n",
    "for ct_dset, pet_dset in zip(ct_features, pet_features):\n",
    "    print(np.shape(ct_dset), np.shape(pet_dset))"
   ]
  },
  {
   "cell_type": "code",
   "execution_count": null,
   "metadata": {},
   "outputs": [],
   "source": []
  },
  {
   "cell_type": "code",
   "execution_count": null,
   "metadata": {},
   "outputs": [],
   "source": []
  },
  {
   "cell_type": "code",
   "execution_count": null,
   "metadata": {},
   "outputs": [],
   "source": []
  },
  {
   "cell_type": "code",
   "execution_count": null,
   "metadata": {},
   "outputs": [],
   "source": []
  },
  {
   "cell_type": "code",
   "execution_count": null,
   "metadata": {},
   "outputs": [],
   "source": []
  },
  {
   "cell_type": "code",
   "execution_count": null,
   "metadata": {},
   "outputs": [],
   "source": []
  },
  {
   "cell_type": "code",
   "execution_count": null,
   "metadata": {},
   "outputs": [],
   "source": []
  },
  {
   "cell_type": "code",
   "execution_count": null,
   "metadata": {},
   "outputs": [],
   "source": [
    "def get_discr_level(path_to_file):\n",
    "    return re.findall('\\d+', path_to_file)[0]\n",
    "\n",
    "\n",
    "# Save data to disk.\n",
    "for num, (ct_set, pet_set) in enumerate(zip(ct_data, pet_data)):\n",
    "    # Update column labels.\n",
    "    ct_set.columns = [\n",
    "        'CT{}_{}'.format(get_discr_level(ct_labels[num]), label) \n",
    "        for label in ct_set.columns\n",
    "    ]\n",
    "    pet_set.columns = [\n",
    "        'PET{}_{}'.format(get_discr_level(pet_labels[num]), label) \n",
    "        for label in pet_set.columns\n",
    "    ]"
   ]
  },
  {
   "cell_type": "code",
   "execution_count": null,
   "metadata": {},
   "outputs": [],
   "source": [
    "shape_feats = pd.read_csv('./../../../data_source/to_analysis/radiomics_shape.csv', index_col=0)\n",
    "clinical = pd.read_csv('./../../../data_source/to_analysis/clinical_params.csv', index_col=0)\n",
    "pet_params = pd.read_csv('./../../../data_source/to_analysis/pet_params.csv', index_col=0)"
   ]
  },
  {
   "cell_type": "code",
   "execution_count": null,
   "metadata": {},
   "outputs": [],
   "source": [
    "X = pd.concat(\n",
    "    (clinical, shape_feats, pet_params, ct_set, pet_set), \n",
    "    axis=1\n",
    ")\n",
    "X.shape"
   ]
  },
  {
   "cell_type": "code",
   "execution_count": null,
   "metadata": {},
   "outputs": [],
   "source": [
    "X.head()"
   ]
  },
  {
   "cell_type": "code",
   "execution_count": null,
   "metadata": {},
   "outputs": [],
   "source": [
    "X.to_csv('./../../../data_source/to_analysis/gauss05_complete.csv')"
   ]
  },
  {
   "cell_type": "markdown",
   "metadata": {},
   "source": [
    "## Combine Feature Sets"
   ]
  },
  {
   "cell_type": "code",
   "execution_count": null,
   "metadata": {},
   "outputs": [],
   "source": []
  },
  {
   "cell_type": "code",
   "execution_count": null,
   "metadata": {},
   "outputs": [],
   "source": [
    "ct_concat = pd.concat(ct_data, axis=1)\n",
    "pet_concat = pd.concat(pet_data, axis=1)\n",
    "\n",
    "ct_concat.shape, pet_concat.shape"
   ]
  },
  {
   "cell_type": "code",
   "execution_count": null,
   "metadata": {},
   "outputs": [],
   "source": [
    "# Save to disk.\n",
    "#ct_concat.to_csv(path_ct_concat)\n",
    "#pet_concat.to_csv(path_pet_concat)"
   ]
  },
  {
   "cell_type": "code",
   "execution_count": null,
   "metadata": {
    "slideshow": {
     "slide_type": "fragment"
    }
   },
   "outputs": [],
   "source": []
  },
  {
   "cell_type": "code",
   "execution_count": null,
   "metadata": {},
   "outputs": [],
   "source": []
  },
  {
   "cell_type": "code",
   "execution_count": null,
   "metadata": {},
   "outputs": [],
   "source": [
    "\n",
    "pet_params.head()"
   ]
  },
  {
   "cell_type": "code",
   "execution_count": null,
   "metadata": {},
   "outputs": [],
   "source": []
  },
  {
   "cell_type": "code",
   "execution_count": null,
   "metadata": {},
   "outputs": [],
   "source": [
    "ct_concat.head()"
   ]
  },
  {
   "cell_type": "code",
   "execution_count": null,
   "metadata": {},
   "outputs": [],
   "source": [
    "pet_concat.head()"
   ]
  },
  {
   "cell_type": "code",
   "execution_count": null,
   "metadata": {},
   "outputs": [],
   "source": []
  },
  {
   "cell_type": "code",
   "execution_count": null,
   "metadata": {},
   "outputs": [],
   "source": []
  },
  {
   "cell_type": "code",
   "execution_count": null,
   "metadata": {},
   "outputs": [],
   "source": [
    "path_ct_concat = './../../../data_source/to_analysis/ct_no_filter_concat.csv'\n",
    "path_pet_concat = './../../../data_source/to_analysis/pet_no_filter_concat.csv'"
   ]
  },
  {
   "cell_type": "code",
   "execution_count": null,
   "metadata": {},
   "outputs": [],
   "source": [
    "X = pd.concat(\n",
    "    (clinical, ct_set, pet_set, pet_params), axis=1\n",
    ")"
   ]
  },
  {
   "cell_type": "code",
   "execution_count": null,
   "metadata": {},
   "outputs": [],
   "source": [
    "X.head()"
   ]
  },
  {
   "cell_type": "code",
   "execution_count": null,
   "metadata": {},
   "outputs": [],
   "source": [
    "X.to_csv('./../../../data_source/to_analysis/squareroot_complete.csv')"
   ]
  },
  {
   "cell_type": "code",
   "execution_count": null,
   "metadata": {},
   "outputs": [],
   "source": [
    "ct_set.to_csv('./../../../data_source/to_analysis/sqroot/ct_128_sqroot.csv')"
   ]
  },
  {
   "cell_type": "code",
   "execution_count": null,
   "metadata": {},
   "outputs": [],
   "source": [
    "pet_set.to_csv('./../../../data_source/to_analysis/sqroot/pet_16_sqroot.csv')"
   ]
  },
  {
   "cell_type": "code",
   "execution_count": null,
   "metadata": {},
   "outputs": [],
   "source": [
    "shape_feats = pd.read_csv('./../../../data_source/to_analysis/radiomics_shape.csv', index_col=0)"
   ]
  }
 ],
 "metadata": {
  "anaconda-cloud": {},
  "kernelspec": {
   "display_name": "Python [conda env:anaconda]",
   "language": "python",
   "name": "conda-env-anaconda-py"
  },
  "language_info": {
   "codemirror_mode": {
    "name": "ipython",
    "version": 3
   },
   "file_extension": ".py",
   "mimetype": "text/x-python",
   "name": "python",
   "nbconvert_exporter": "python",
   "pygments_lexer": "ipython3",
   "version": "3.6.6"
  }
 },
 "nbformat": 4,
 "nbformat_minor": 2
}
