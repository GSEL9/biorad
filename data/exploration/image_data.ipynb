{
 "cells": [
  {
   "cell_type": "markdown",
   "metadata": {},
   "source": [
    "# Image Analysis\n",
    "\n",
    "**To Dos**\n",
    "* Create a text file with collected image metadata."
   ]
  },
  {
   "cell_type": "code",
   "execution_count": 1,
   "metadata": {},
   "outputs": [],
   "source": [
    "import sys\n",
    "sys.path.append('./_backend/')\n",
    "\n",
    "import nrrd\n",
    "import utils\n",
    "import ioutil\n",
    "\n",
    "import numpy as np\n",
    "import pandas as pd\n",
    "\n",
    "from scipy import stats\n",
    "\n",
    "import seaborn as sns\n",
    "import matplotlib.pyplot as plt\n",
    "\n",
    "%matplotlib inline"
   ]
  },
  {
   "cell_type": "code",
   "execution_count": 2,
   "metadata": {},
   "outputs": [],
   "source": [
    "path_ct_imagedir = './../../../data_source/raw_images/ct_cropped/' \n",
    "path_masksdir = './../../../data_source/raw_images/masks_cropped/'\n",
    "path_pet_imagedir = './../../../data_source/raw_images/pet_cropped/'"
   ]
  },
  {
   "cell_type": "code",
   "execution_count": 3,
   "metadata": {},
   "outputs": [],
   "source": [
    "PATIENT_ID = np.load('./../../../data_source/patient_id.npy')"
   ]
  },
  {
   "cell_type": "code",
   "execution_count": 4,
   "metadata": {},
   "outputs": [],
   "source": [
    "paths_ct_images = ioutil.sample_paths(\n",
    "    path_ct_imagedir, path_masksdir, target_format='nrrd'\n",
    ")\n",
    "paths_pet_images = ioutil.sample_paths(\n",
    "    path_pet_imagedir, path_masksdir, target_format='nrrd'\n",
    ")"
   ]
  },
  {
   "cell_type": "code",
   "execution_count": 5,
   "metadata": {},
   "outputs": [
    {
     "data": {
      "text/plain": [
       "(198, 198)"
      ]
     },
     "execution_count": 5,
     "metadata": {},
     "output_type": "execute_result"
    }
   ],
   "source": [
    "len(paths_ct_images), len(paths_pet_images)"
   ]
  },
  {
   "cell_type": "code",
   "execution_count": 9,
   "metadata": {},
   "outputs": [],
   "source": [
    "# Image shapes.\n",
    "ct_shapes, pet_shapes = [], []\n",
    "for ct_path, pet_path in zip(paths_ct_images, paths_pet_images):\n",
    "    _, ct_header = nrrd.read(ct_path['Image'])\n",
    "    _, pet_header = nrrd.read(pet_path['Image'])\n",
    "    ct_shapes.append(ct_header['sizes'])\n",
    "    pet_shapes.append(pet_header['sizes'])"
   ]
  },
  {
   "cell_type": "code",
   "execution_count": 14,
   "metadata": {},
   "outputs": [
    {
     "data": {
      "text/plain": [
       "[array([82, 83, 68]),\n",
       " array([69, 64, 74]),\n",
       " array([73, 70, 82]),\n",
       " array([ 81, 106, 114])]"
      ]
     },
     "execution_count": 14,
     "metadata": {},
     "output_type": "execute_result"
    }
   ],
   "source": [
    "ct_shapes[:4]"
   ]
  },
  {
   "cell_type": "code",
   "execution_count": 15,
   "metadata": {},
   "outputs": [
    {
     "data": {
      "text/plain": [
       "[array([82, 83, 68]),\n",
       " array([69, 64, 74]),\n",
       " array([73, 70, 82]),\n",
       " array([ 81, 106, 114])]"
      ]
     },
     "execution_count": 15,
     "metadata": {},
     "output_type": "execute_result"
    }
   ],
   "source": [
    "pet_shapes[:4]"
   ]
  },
  {
   "cell_type": "code",
   "execution_count": 16,
   "metadata": {},
   "outputs": [
    {
     "data": {
      "text/plain": [
       "True"
      ]
     },
     "execution_count": 16,
     "metadata": {},
     "output_type": "execute_result"
    }
   ],
   "source": [
    "# CT images coreg with PET (???). Thus, CT and PET stacks per\n",
    "# patient are equally shaped.\n",
    "np.array_equal(ct_shapes, pet_shapes)"
   ]
  },
  {
   "cell_type": "markdown",
   "metadata": {},
   "source": [
    "## CT "
   ]
  },
  {
   "cell_type": "code",
   "execution_count": 5,
   "metadata": {},
   "outputs": [],
   "source": [
    "ct_data, ct_mdata = {}, {}\n",
    "for ct_path in paths_ct_images:\n",
    "    data, header = nrrd.read(ct_path['Image'])\n",
    "    ct_mdata[ct_path['Patient']] = header\n",
    "    ct_data[ct_path['Patient']] = data"
   ]
  },
  {
   "cell_type": "code",
   "execution_count": null,
   "metadata": {},
   "outputs": [],
   "source": [
    "# Look for tumor location + Gaussian kernel\n",
    "# * Group patients according to where tumor located?"
   ]
  },
  {
   "cell_type": "code",
   "execution_count": 19,
   "metadata": {},
   "outputs": [],
   "source": [
    "tumor_dims = [str(items['sizes']) for items in ct_mdata.values()]\n",
    "tumor_sizes = [np.product(items['sizes']) for items in ct_mdata.values()]"
   ]
  },
  {
   "cell_type": "code",
   "execution_count": 25,
   "metadata": {},
   "outputs": [
    {
     "data": {
      "text/plain": [
       "(20, 88)"
      ]
     },
     "execution_count": 25,
     "metadata": {},
     "output_type": "execute_result"
    }
   ],
   "source": [
    "tumor_sizes.index(min(tumor_sizes)), tumor_sizes.index(max(tumor_sizes))"
   ]
  },
  {
   "cell_type": "code",
   "execution_count": 26,
   "metadata": {},
   "outputs": [
    {
     "data": {
      "text/plain": [
       "('[48 52 56]', '[146 135 140]')"
      ]
     },
     "execution_count": 26,
     "metadata": {},
     "output_type": "execute_result"
    }
   ],
   "source": [
    "tumor_dims[20], tumor_dims[88]"
   ]
  },
  {
   "cell_type": "code",
   "execution_count": 12,
   "metadata": {},
   "outputs": [
    {
     "data": {
      "text/plain": [
       "<matplotlib.axes._subplots.AxesSubplot at 0x1819ee7b8>"
      ]
     },
     "execution_count": 12,
     "metadata": {},
     "output_type": "execute_result"
    },
    {
     "data": {
      "image/png": "[encoded data removed]",
      "text/plain": [
       "<Figure size 864x864 with 1 Axes>"
      ]
     },
     "metadata": {},
     "output_type": "display_data"
    }
   ],
   "source": [
    "# Boxplots of image intensity values.\n",
    "# * May be too crowded due to multiple patients.\n",
    "\n",
    "plt.figure(figsize=(12, 12))\n",
    "# https://python-graph-gallery.com/38-show-number-of-observation-on-boxplot/\n",
    "sns.boxplot(x=df_ct.columns, data=df_ct)"
   ]
  },
  {
   "cell_type": "markdown",
   "metadata": {},
   "source": [
    "## PET "
   ]
  },
  {
   "cell_type": "code",
   "execution_count": 8,
   "metadata": {},
   "outputs": [],
   "source": [
    "#pet_data = {}\n",
    "#for pet_path in paths_pet_images:\n",
    "#    data, _ = nrrd.read(pet_path['Image'])\n",
    "#    pet_data[pet_path['Patient']] = data"
   ]
  },
  {
   "cell_type": "code",
   "execution_count": null,
   "metadata": {},
   "outputs": [],
   "source": []
  }
 ],
 "metadata": {
  "anaconda-cloud": {},
  "kernelspec": {
   "display_name": "Python [conda env:anaconda]",
   "language": "python",
   "name": "conda-env-anaconda-py"
  },
  "language_info": {
   "codemirror_mode": {
    "name": "ipython",
    "version": 3
   },
   "file_extension": ".py",
   "mimetype": "text/x-python",
   "name": "python",
   "nbconvert_exporter": "python",
   "pygments_lexer": "ipython3",
   "version": "3.6.6"
  }
 },
 "nbformat": 4,
 "nbformat_minor": 2
}
