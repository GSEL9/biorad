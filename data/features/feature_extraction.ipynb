{
 "cells": [
  {
   "cell_type": "markdown",
   "metadata": {},
   "source": [
    "# Radiomics Feature Extraction\n",
    "\n",
    "Extracting features from PET and CT images."
   ]
  },
  {
   "cell_type": "code",
   "execution_count": 1,
   "metadata": {},
   "outputs": [],
   "source": [
    "import os\n",
    "import nrrd\n",
    "import utils \n",
    "import radiomics\n",
    "\n",
    "import numpy as np\n",
    "import pandas as pd\n",
    "import matplotlib.pyplot as plt\n",
    "\n",
    "from feature_extraction import feature_extractor\n",
    "\n",
    "%matplotlib inline"
   ]
  },
  {
   "cell_type": "code",
   "execution_count": 2,
   "metadata": {},
   "outputs": [],
   "source": [
    "path_masksdir = './../../../data_source/images/masks_nrrd/'\n",
    "base_thresh_mask = './../../../data_source/images/masks_resegm_nrrd/'\n",
    "path_ct_imagedir = './../../../data_source/images/ct_anomaly_filtered_nrrd/'\n",
    "path_pet_imagedir = './../../../data_source/images/pet_anomaly_filtered_nrrd/'"
   ]
  },
  {
   "cell_type": "code",
   "execution_count": 3,
   "metadata": {},
   "outputs": [],
   "source": [
    "paths_ct_images = utils.sample_paths(\n",
    "    path_ct_imagedir, path_masksdir, target_format='nrrd'\n",
    ")\n",
    "paths_pet_images = utils.sample_paths(\n",
    "    path_pet_imagedir, path_masksdir, target_format='nrrd'\n",
    ")"
   ]
  },
  {
   "cell_type": "markdown",
   "metadata": {},
   "source": [
    "## Setup"
   ]
  },
  {
   "cell_type": "code",
   "execution_count": null,
   "metadata": {},
   "outputs": [],
   "source": [
    "def z_score_transform(image, n=None):\n",
    "    # Texture features is shown to be more stable after GL normalizations.\n",
    "    # Ref: Voxel size and gray level normalization of CT radiomic features \n",
    "    #      in lung cancer.\n",
    "    _image = np.copy(image)\n",
    "    \n",
    "    # Z-score transformation.\n",
    "    image_std = np.std(_image)\n",
    "    image_zscore = (_image - np.mean(_image)) / image_std\n",
    "    \n",
    "    # Remove outliers.\n",
    "    if n is not None:\n",
    "        outliers = n * image_std \n",
    "        image_zscore = np.clip(image_zscore, -1.0 * outliers, outliers)\n",
    "\n",
    "    return image_zscore\n",
    "\n",
    "\n",
    "def bin_widths(path_images, nbins, n=3, z_scoring=False, outlier_removal=None):\n",
    "    \"\"\"Average min and max to compare histogram across stacks.\n",
    "    Fixed bin iwdth (and not fixed bin size) to compare texture\n",
    "    features across stacks.\n",
    "    \n",
    "    \"\"\"\n",
    "    img_max, img_min = [], []\n",
    "    for image_path in path_images:\n",
    "        image, _ = nrrd.read(image_path['Image'])\n",
    "        \n",
    "        if z_scoring:\n",
    "            image = z_score_transform(image, n=outlier_removal)\n",
    "        \n",
    "        img_max.append(np.ceil(np.max(image)))\n",
    "        img_min.append(np.floor(np.min(image)))\n",
    "  \n",
    "    return (np.mean(img_max) - np.mean(img_min)) / nbins"
   ]
  },
  {
   "cell_type": "code",
   "execution_count": null,
   "metadata": {},
   "outputs": [],
   "source": [
    "bin_widths(paths_ct_images, 32), bin_widths(paths_ct_images, 64), bin_widths(paths_ct_images, 128)"
   ]
  },
  {
   "cell_type": "code",
   "execution_count": null,
   "metadata": {},
   "outputs": [],
   "source": [
    "bin_widths(paths_pet_images, 32), bin_widths(paths_pet_images, 64), bin_widths(paths_pet_images, 128)"
   ]
  },
  {
   "cell_type": "code",
   "execution_count": null,
   "metadata": {},
   "outputs": [],
   "source": [
    "print(bin_widths(paths_ct_images, 32, z_scoring=True, outlier_removal=3))\n",
    "print(bin_widths(paths_ct_images, 64, z_scoring=True, outlier_removal=3))\n",
    "print(bin_widths(paths_ct_images, 128, z_scoring=True, outlier_removal=3))"
   ]
  },
  {
   "cell_type": "markdown",
   "metadata": {},
   "source": [
    "## Mask resegmentation"
   ]
  },
  {
   "cell_type": "code",
   "execution_count": 6,
   "metadata": {},
   "outputs": [],
   "source": [
    "def threshold(image, mask, thresh=None):\n",
    "    # REF: \n",
    "    # * Effects of CT threshold value to make a surface bone model \n",
    "    #   on accuracy of shape-based registration in a CT-based navigation \n",
    "    #   system for hip surgery.\n",
    "    \n",
    "    _mask = np.copy(mask)\n",
    "    _mask[np.where(image > thresh)] = 0\n",
    "    \n",
    "    return _mask"
   ]
  },
  {
   "cell_type": "code",
   "execution_count": 7,
   "metadata": {},
   "outputs": [],
   "source": [
    "base_thresh_mask = './../../../data_source/images/masks_resegm_nrrd/'\n",
    "for image_path in paths_ct_images:\n",
    "    image, _ = nrrd.read(image_path['Image'])\n",
    "    mask, _ = nrrd.read(image_path['Mask'])\n",
    "\n",
    "    mask_thresh = threshold(image, mask, thresh=1500)\n",
    "    mask_thresh_path = os.path.join(base_thresh_mask, image_path['Image'].split('/')[-1])\n",
    "\n",
    "    nrrd.write(mask_thresh_path, mask_thresh)"
   ]
  },
  {
   "cell_type": "code",
   "execution_count": 8,
   "metadata": {},
   "outputs": [],
   "source": [
    "# Update file paths to re-segmented masks.\n",
    "paths_ct_images = utils.sample_paths(\n",
    "    path_ct_imagedir, base_thresh_mask, target_format='nrrd'\n",
    ")\n",
    "paths_pet_images = utils.sample_paths(\n",
    "    path_pet_imagedir, base_thresh_mask, target_format='nrrd'\n",
    ")"
   ]
  },
  {
   "cell_type": "markdown",
   "metadata": {},
   "source": [
    "## Calculate features"
   ]
  },
  {
   "cell_type": "code",
   "execution_count": 13,
   "metadata": {},
   "outputs": [
    {
     "name": "stdout",
     "output_type": "stream",
     "text": [
      "Initiated feature extraction.\n"
     ]
    },
    {
     "name": "stderr",
     "output_type": "stream",
     "text": [
      "[Parallel(n_jobs=3)]: Using backend LokyBackend with 3 concurrent workers.\n",
      "[Parallel(n_jobs=3)]: Done  44 tasks      | elapsed:    6.7s\n",
      "[Parallel(n_jobs=3)]: Done 195 out of 195 | elapsed:   28.0s finished\n",
      "[Parallel(n_jobs=3)]: Using backend LokyBackend with 3 concurrent workers.\n"
     ]
    },
    {
     "name": "stdout",
     "output_type": "stream",
     "text": [
      "Initiated feature extraction.\n"
     ]
    },
    {
     "name": "stderr",
     "output_type": "stream",
     "text": [
      "[Parallel(n_jobs=3)]: Done  44 tasks      | elapsed:    6.1s\n",
      "[Parallel(n_jobs=3)]: Done 195 out of 195 | elapsed:   27.6s finished\n",
      "[Parallel(n_jobs=3)]: Using backend LokyBackend with 3 concurrent workers.\n"
     ]
    },
    {
     "name": "stdout",
     "output_type": "stream",
     "text": [
      "Initiated feature extraction.\n"
     ]
    },
    {
     "name": "stderr",
     "output_type": "stream",
     "text": [
      "[Parallel(n_jobs=3)]: Done  44 tasks      | elapsed:    6.3s\n",
      "[Parallel(n_jobs=3)]: Done 195 out of 195 | elapsed:   28.7s finished\n"
     ]
    }
   ],
   "source": [
    "ct_param_files = [\n",
    "    #'./parameter_files/shape/shape_config.yaml',\n",
    "    #'./parameter_files/firstorder/ct32_firstorder_no_filter_config.yaml',\n",
    "    #'./parameter_files/firstorder/ct64_firstorder_no_filter_config.yaml',\n",
    "    #'./parameter_files/firstorder/ct128_firstorder_no_filter_config.yaml'\n",
    "    './parameter_files/texture/ct32_texture_no_filter_config.yaml',\n",
    "    './parameter_files/texture/ct64_texture_no_filter_config.yaml',\n",
    "    './parameter_files/texture/ct128_texture_no_filter_config.yaml',\n",
    "]\n",
    "ct_feature_files = [\n",
    "    #'./../../../data_source/radiomic_features/shape/shape_features.csv',\n",
    "    #'./../../../data_source/radiomic_features/firstorder/ct32_firstorder_no_filter_config.csv',\n",
    "    #'./../../../data_source/radiomic_features/firstorder/ct64_firstorder_no_filter_config.csv',\n",
    "    #'./../../../data_source/radiomic_features/firstorder/ct128_firstorder_no_filter_config.csv'\n",
    "    './../../../data_source/radiomic_features/texture/ct32_texture_no_filter_config.csv',\n",
    "    './../../../data_source/radiomic_features/texture/ct64_texture_no_filter_config.csv',\n",
    "    './../../../data_source/radiomic_features/texture/ct128_texture_no_filter_config.csv',\n",
    "]\n",
    "for ct_param_file, ct_feature_file in zip(ct_param_files, ct_feature_files):\n",
    "    feature_extractor(\n",
    "        ct_param_file,\n",
    "        paths_ct_images, \n",
    "        verbose=1, \n",
    "        path_to_results=ct_feature_file\n",
    "    )"
   ]
  },
  {
   "cell_type": "code",
   "execution_count": 14,
   "metadata": {},
   "outputs": [
    {
     "name": "stderr",
     "output_type": "stream",
     "text": [
      "[Parallel(n_jobs=3)]: Using backend LokyBackend with 3 concurrent workers.\n"
     ]
    },
    {
     "name": "stdout",
     "output_type": "stream",
     "text": [
      "Initiated feature extraction.\n"
     ]
    },
    {
     "name": "stderr",
     "output_type": "stream",
     "text": [
      "[Parallel(n_jobs=3)]: Done  44 tasks      | elapsed:    5.5s\n",
      "[Parallel(n_jobs=3)]: Done 195 out of 195 | elapsed:   25.9s finished\n",
      "[Parallel(n_jobs=3)]: Using backend LokyBackend with 3 concurrent workers.\n"
     ]
    },
    {
     "name": "stdout",
     "output_type": "stream",
     "text": [
      "Initiated feature extraction.\n"
     ]
    },
    {
     "name": "stderr",
     "output_type": "stream",
     "text": [
      "[Parallel(n_jobs=3)]: Done  44 tasks      | elapsed:    5.8s\n",
      "[Parallel(n_jobs=3)]: Done 195 out of 195 | elapsed:   27.9s finished\n",
      "[Parallel(n_jobs=3)]: Using backend LokyBackend with 3 concurrent workers.\n"
     ]
    },
    {
     "name": "stdout",
     "output_type": "stream",
     "text": [
      "Initiated feature extraction.\n"
     ]
    },
    {
     "name": "stderr",
     "output_type": "stream",
     "text": [
      "[Parallel(n_jobs=3)]: Done  44 tasks      | elapsed:    8.1s\n",
      "[Parallel(n_jobs=3)]: Done 195 out of 195 | elapsed:   35.6s finished\n"
     ]
    }
   ],
   "source": [
    "pet_param_files = [\n",
    "    #'./parameter_files/firstorder/pet32_firstorder_no_filter_config.yaml',\n",
    "    #'./parameter_files/firstorder/pet64_firstorder_no_filter_config.yaml',\n",
    "    #'./parameter_files/firstorder/pet128_firstorder_no_filter_config.yaml'\n",
    "    './parameter_files/texture/pet32_texture_no_filter_config.yaml',\n",
    "    './parameter_files/texture/pet64_texture_no_filter_config.yaml',\n",
    "    './parameter_files/texture/pet128_texture_no_filter_config.yaml',\n",
    "]\n",
    "pet_feature_files = [\n",
    "    #'./../../../data_source/radiomic_features/firstorder/pet32_firstorder_no_filter_config.csv',\n",
    "    #'./../../../data_source/radiomic_features/firstorder/pet64_firstorder_no_filter_config.csv',\n",
    "    #'./../../../data_source/radiomic_features/firstorder/pet128_firstorder_no_filter_config.csv'\n",
    "    './../../../data_source/radiomic_features/texture/pet32_texture_no_filter_config.csv',\n",
    "    './../../../data_source/radiomic_features/texture/pet64_texture_no_filter_config.csv',\n",
    "    './../../../data_source/radiomic_features/texture/pet128_texture_no_filter_config.csv',\n",
    "]\n",
    "for pet_param_file, pet_feature_file in zip(pet_param_files, pet_feature_files):\n",
    "    feature_extractor(\n",
    "        pet_param_file,\n",
    "        paths_pet_images, \n",
    "        verbose=1, \n",
    "        path_to_results=pet_feature_file\n",
    "    )"
   ]
  },
  {
   "cell_type": "code",
   "execution_count": null,
   "metadata": {},
   "outputs": [],
   "source": []
  }
 ],
 "metadata": {
  "anaconda-cloud": {},
  "kernelspec": {
   "display_name": "Python [conda env:anaconda]",
   "language": "python",
   "name": "conda-env-anaconda-py"
  },
  "language_info": {
   "codemirror_mode": {
    "name": "ipython",
    "version": 3
   },
   "file_extension": ".py",
   "mimetype": "text/x-python",
   "name": "python",
   "nbconvert_exporter": "python",
   "pygments_lexer": "ipython3",
   "version": "3.6.6"
  }
 },
 "nbformat": 4,
 "nbformat_minor": 2
}
