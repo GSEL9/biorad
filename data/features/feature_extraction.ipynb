{
 "cells": [
  {
   "cell_type": "markdown",
   "metadata": {},
   "source": [
    "# Radiomics Feature Extraction\n",
    "\n",
    "Extracting features from PET and CT images."
   ]
  },
  {
   "cell_type": "code",
   "execution_count": 57,
   "metadata": {},
   "outputs": [],
   "source": [
    "import nrrd\n",
    "import utils \n",
    "\n",
    "import numpy as np\n",
    "import pandas as pd\n",
    "\n",
    "from feature_extraction import feature_extractor"
   ]
  },
  {
   "cell_type": "code",
   "execution_count": 58,
   "metadata": {},
   "outputs": [],
   "source": [
    "# Path to images.\n",
    "path_ct_imagedir = './../../../data_source/images/ct_nrrd/'\n",
    "path_pet_imagedir = './../../../data_source/images/pet_nrrd/'\n",
    "path_masksdir = './../../../data_source/images/masks_nrrd/'"
   ]
  },
  {
   "cell_type": "code",
   "execution_count": 59,
   "metadata": {},
   "outputs": [],
   "source": [
    "paths_ct_images = utils.sample_paths(\n",
    "    path_ct_imagedir, path_masksdir, target_format='nrrd'\n",
    ")\n",
    "paths_pet_images = utils.sample_paths(\n",
    "    path_pet_imagedir, path_masksdir, target_format='nrrd'\n",
    ")"
   ]
  },
  {
   "cell_type": "markdown",
   "metadata": {},
   "source": [
    "## Setup"
   ]
  },
  {
   "cell_type": "code",
   "execution_count": 33,
   "metadata": {},
   "outputs": [
    {
     "data": {
      "text/plain": [
       "1137.0715821445751"
      ]
     },
     "execution_count": 33,
     "metadata": {},
     "output_type": "execute_result"
    }
   ],
   "source": [
    "# Calculate largest CT mean.\n",
    "max_ct_mean = 0\n",
    "for ct_path in paths_ct_images:\n",
    "    ct_img, _ = nrrd.read(ct_path['Image'])\n",
    "    ct_mean = np.mean(ct_img)\n",
    "    if max_ct_mean < ct_mean:\n",
    "        max_ct_mean = ct_mean\n",
    "max_ct_mean"
   ]
  },
  {
   "cell_type": "code",
   "execution_count": 34,
   "metadata": {},
   "outputs": [
    {
     "data": {
      "text/plain": [
       "2.9584255243064477"
      ]
     },
     "execution_count": 34,
     "metadata": {},
     "output_type": "execute_result"
    }
   ],
   "source": [
    "# Calculate largest PET mean.\n",
    "max_pet_mean = 0\n",
    "for pet_path in paths_pet_images:\n",
    "    pet_img, _ = nrrd.read(pet_path['Image'])\n",
    "    pet_mean = np.mean(pet_img)\n",
    "    if max_pet_mean < pet_mean:\n",
    "        max_pet_mean = pet_mean\n",
    "max_pet_mean"
   ]
  },
  {
   "cell_type": "code",
   "execution_count": 83,
   "metadata": {},
   "outputs": [
    {
     "data": {
      "text/plain": [
       "26.470882142818404"
      ]
     },
     "execution_count": 83,
     "metadata": {},
     "output_type": "execute_result"
    }
   ],
   "source": [
    "# Calculate CT bin width.\n",
    "ct_min, ct_max = [], []\n",
    "for ct_path in paths_ct_images:\n",
    "    ct_img, _ = nrrd.read(ct_path['Image'])\n",
    "    ct_min.append(np.min(ct_img)), ct_max.append(np.max(ct_img))\n",
    "(np.mean(ct_max) - np.mean(ct_min)) / 130"
   ]
  },
  {
   "cell_type": "code",
   "execution_count": 118,
   "metadata": {},
   "outputs": [
    {
     "data": {
      "text/plain": [
       "0.15495644511239912"
      ]
     },
     "execution_count": 118,
     "metadata": {},
     "output_type": "execute_result"
    }
   ],
   "source": [
    "# Calculate PET bin width.\n",
    "pet_min, pet_max = [], []\n",
    "for pet_path in paths_pet_images:\n",
    "    pet_img, _ = nrrd.read(pet_path['Image'])\n",
    "    pet_min.append(np.min(pet_img)), pet_max.append(np.max(pet_img))\n",
    "(np.mean(pet_max) - np.mean(pet_min)) / 90"
   ]
  },
  {
   "cell_type": "code",
   "execution_count": 39,
   "metadata": {},
   "outputs": [
    {
     "data": {
      "text/plain": [
       "(16645, 33690.5, 33260.32828282828, 55138)"
      ]
     },
     "execution_count": 39,
     "metadata": {},
     "output_type": "execute_result"
    }
   ],
   "source": [
    "# Statistics on the number of unique values in CT\n",
    "ct_unique = []\n",
    "for ct_path in paths_ct_images:\n",
    "    ct_img, _ = nrrd.read(ct_path['Image'])\n",
    "    ct_unique.append(len(np.unique(ct_img)))\n",
    "np.min(ct_unique), np.median(ct_unique), np.mean(ct_unique), np.max(ct_unique)"
   ]
  },
  {
   "cell_type": "code",
   "execution_count": 40,
   "metadata": {},
   "outputs": [
    {
     "data": {
      "text/plain": [
       "(6554, 29242.5, 30151.065656565657, 58276)"
      ]
     },
     "execution_count": 40,
     "metadata": {},
     "output_type": "execute_result"
    }
   ],
   "source": [
    "# Statistics on the number of unique values in PET\n",
    "pet_unique = []\n",
    "for pet_path in paths_pet_images:\n",
    "    pet_img, _ = nrrd.read(pet_path['Image'])\n",
    "    pet_unique.append(len(np.unique(pet_img)))\n",
    "np.min(pet_unique), np.median(pet_unique), np.mean(pet_unique), np.max(pet_unique)"
   ]
  },
  {
   "cell_type": "markdown",
   "metadata": {},
   "source": [
    "## Calculate features"
   ]
  },
  {
   "cell_type": "code",
   "execution_count": 125,
   "metadata": {},
   "outputs": [
    {
     "name": "stdout",
     "output_type": "stream",
     "text": [
      "Initiated feature extraction.\n"
     ]
    },
    {
     "name": "stderr",
     "output_type": "stream",
     "text": [
      "[Parallel(n_jobs=3)]: Using backend LokyBackend with 3 concurrent workers.\n",
      "[Parallel(n_jobs=3)]: Done  44 tasks      | elapsed:    6.8s\n",
      "[Parallel(n_jobs=3)]: Done 198 out of 198 | elapsed:   29.0s finished\n"
     ]
    }
   ],
   "source": [
    "ct_features = feature_extractor(\n",
    "    './parameter_files/no_filter/ct_130_config.yaml', \n",
    "    paths_ct_images, \n",
    "    verbose=1, \n",
    "    path_to_results='./../../../data_source/radiomic_features/no_filter/ct_no_filter130.csv'\n",
    ")"
   ]
  },
  {
   "cell_type": "code",
   "execution_count": 126,
   "metadata": {},
   "outputs": [
    {
     "name": "stderr",
     "output_type": "stream",
     "text": [
      "[Parallel(n_jobs=3)]: Using backend LokyBackend with 3 concurrent workers.\n"
     ]
    },
    {
     "name": "stdout",
     "output_type": "stream",
     "text": [
      "Initiated feature extraction.\n"
     ]
    },
    {
     "name": "stderr",
     "output_type": "stream",
     "text": [
      "[Parallel(n_jobs=3)]: Done  44 tasks      | elapsed:    6.5s\n",
      "[Parallel(n_jobs=3)]: Done 198 out of 198 | elapsed:   26.7s finished\n"
     ]
    }
   ],
   "source": [
    "pet_features = feature_extractor(\n",
    "    './parameter_files/no_filter/pet_130_config.yaml',\n",
    "    paths_pet_images, \n",
    "    verbose=1, \n",
    "    path_to_results='./../../../data_source/radiomic_features/no_filter/pet_no_filter130.csv'\n",
    ")"
   ]
  },
  {
   "cell_type": "code",
   "execution_count": null,
   "metadata": {},
   "outputs": [],
   "source": []
  }
 ],
 "metadata": {
  "anaconda-cloud": {},
  "kernelspec": {
   "display_name": "Python [conda env:anaconda]",
   "language": "python",
   "name": "conda-env-anaconda-py"
  },
  "language_info": {
   "codemirror_mode": {
    "name": "ipython",
    "version": 3
   },
   "file_extension": ".py",
   "mimetype": "text/x-python",
   "name": "python",
   "nbconvert_exporter": "python",
   "pygments_lexer": "ipython3",
   "version": "3.6.6"
  }
 },
 "nbformat": 4,
 "nbformat_minor": 2
}
