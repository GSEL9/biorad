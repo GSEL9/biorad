{
 "cells": [
  {
   "cell_type": "markdown",
   "metadata": {},
   "source": [
    "# Radiomics Feature Extraction\n",
    "\n",
    "Extracting features from PET and CT images."
   ]
  },
  {
   "cell_type": "code",
   "execution_count": 1,
   "metadata": {},
   "outputs": [],
   "source": [
    "import nrrd\n",
    "import utils \n",
    "\n",
    "import numpy as np\n",
    "import pandas as pd\n",
    "\n",
    "from feature_extraction import feature_extractor"
   ]
  },
  {
   "cell_type": "code",
   "execution_count": 2,
   "metadata": {},
   "outputs": [],
   "source": [
    "# Path to images.\n",
    "path_ct_imagedir = './../../../data_source/images/ct_nrrd/'\n",
    "path_pet_imagedir = './../../../data_source/images/pet_nrrd/'\n",
    "path_masksdir = './../../../data_source/images/masks_nrrd/'"
   ]
  },
  {
   "cell_type": "code",
   "execution_count": 3,
   "metadata": {},
   "outputs": [],
   "source": [
    "paths_ct_images = utils.sample_paths(\n",
    "    path_ct_imagedir, path_masksdir, target_format='nrrd'\n",
    ")\n",
    "paths_pet_images = utils.sample_paths(\n",
    "    path_pet_imagedir, path_masksdir, target_format='nrrd'\n",
    ")"
   ]
  },
  {
   "cell_type": "markdown",
   "metadata": {},
   "source": [
    "## Setup"
   ]
  },
  {
   "cell_type": "code",
   "execution_count": 4,
   "metadata": {},
   "outputs": [],
   "source": [
    "def bin_widths(path_images, nbins):\n",
    "    \"\"\"Average min and max to compare histogram across stacks.\n",
    "    Fixed bin iwdth (and not fixed bin size) to compare texture\n",
    "    features across stacks.\n",
    "    \n",
    "    \"\"\"\n",
    "    \n",
    "    img_max, img_min = [], []\n",
    "    for image_path in path_images:\n",
    "        image, _ = nrrd.read(image_path['Image'])\n",
    "        img_max.append(np.ceil(np.max(image)))\n",
    "        img_min.append(np.floor(np.min(image)))\n",
    "        \n",
    "    #print(np.mean(img_max))\n",
    "        \n",
    "    return (np.mean(img_max) - np.mean(img_min)) / nbins"
   ]
  },
  {
   "cell_type": "code",
   "execution_count": null,
   "metadata": {},
   "outputs": [],
   "source": [
    "bin_widths(paths_ct_images, 32), bin_widths(paths_ct_images, 64), bin_widths(paths_ct_images, 128)"
   ]
  },
  {
   "cell_type": "code",
   "execution_count": null,
   "metadata": {},
   "outputs": [],
   "source": [
    "bin_widths(paths_pet_images, 16)#, bin_widths(paths_pet_images, 64), bin_widths(paths_pet_images, 128)"
   ]
  },
  {
   "cell_type": "markdown",
   "metadata": {},
   "source": [
    "## Calculate features"
   ]
  },
  {
   "cell_type": "code",
   "execution_count": 5,
   "metadata": {},
   "outputs": [
    {
     "name": "stdout",
     "output_type": "stream",
     "text": [
      "Initiated feature extraction.\n"
     ]
    },
    {
     "name": "stderr",
     "output_type": "stream",
     "text": [
      "[Parallel(n_jobs=3)]: Using backend LokyBackend with 3 concurrent workers.\n",
      "[Parallel(n_jobs=3)]: Done  44 tasks      | elapsed:   23.3s\n",
      "[Parallel(n_jobs=3)]: Done 198 out of 198 | elapsed:  1.1min finished\n"
     ]
    }
   ],
   "source": [
    "ct_param_files = [\n",
    "    './parameter_files/alise/ct_128_sqroot_config.yaml',\n",
    "    #'./parameter_files/no_filter/ct_32_no_filter_config.yaml',\n",
    "    #'./parameter_files/no_filter/ct_64_no_filter_config.yaml',\n",
    "    #'./parameter_files/no_filter/ct_128_no_filter_config.yaml',\n",
    "    #'./parameter_files/gauss/ct_32_05gauss_config.yaml',\n",
    "    #'./parameter_files/gauss/ct_64_05gauss_config.yaml',\n",
    "    #'./parameter_files/gauss/ct_128_05gauss_config.yaml',\n",
    "    #'./parameter_files/sqroot/ct_32_sqroot_config.yaml',\n",
    "    #'./parameter_files/sqroot/ct_64_sqroot_config.yaml',\n",
    "    #'./parameter_files/sqroot/ct_128_sqroot_config.yaml'\n",
    "]\n",
    "ct_feature_files = [\n",
    "    './../../../data_source/radiomic_features/alise/ct_128_no_filter_config.csv',\n",
    "    #'./../../../data_source/radiomic_features/no_filter/ct_32_no_filter_config.csv',\n",
    "    #'./../../../data_source/radiomic_features/no_filter/ct_64_no_filter_config.csv',\n",
    "    #'./../../../data_source/radiomic_features/no_filter/ct_128_no_filter_config.csv',\n",
    "    #'./../../../data_source/radiomic_features/gauss/ct_32_05gauss_config.csv',\n",
    "    #'./../../../data_source/radiomic_features/gauss/ct_64_05gauss_config.csv',\n",
    "    #'./../../../data_source/radiomic_features/gauss/ct_128_05gauss_config.csv',\n",
    "    #'./../../../data_source/radiomic_features/sqroot/ct_32_sqroot_config.csv',\n",
    "    #'./../../../data_source/radiomic_features/sqroot/ct_64_sqroot_config.csv',\n",
    "    #'./../../../data_source/radiomic_features/sqroot/ct_128_sqroot_config.csv'\n",
    "]\n",
    "for ct_param_file, ct_feature_file in zip(ct_param_files, ct_feature_files):\n",
    "    feature_extractor(\n",
    "        ct_param_file,\n",
    "        paths_ct_images, \n",
    "        verbose=1, \n",
    "        path_to_results=ct_feature_file\n",
    "    )"
   ]
  },
  {
   "cell_type": "code",
   "execution_count": 6,
   "metadata": {},
   "outputs": [
    {
     "name": "stdout",
     "output_type": "stream",
     "text": [
      "Initiated feature extraction.\n"
     ]
    },
    {
     "name": "stderr",
     "output_type": "stream",
     "text": [
      "[Parallel(n_jobs=3)]: Using backend LokyBackend with 3 concurrent workers.\n",
      "[Parallel(n_jobs=3)]: Done  44 tasks      | elapsed:    9.6s\n",
      "[Parallel(n_jobs=3)]: Done 198 out of 198 | elapsed:   46.6s finished\n"
     ]
    }
   ],
   "source": [
    "pet_param_files = [\n",
    "    './parameter_files/alise/pet_16_sqroot_config.yaml',\n",
    "    #'./parameter_files/no_filter/pet_32_no_filter_config.yaml',\n",
    "    #'./parameter_files/no_filter/pet_64_no_filter_config.yaml',\n",
    "    #'./parameter_files/no_filter/pet_128_no_filter_config.yaml'\n",
    "    #'./parameter_files/gauss/pet_32_05gauss_config.yaml',\n",
    "    #'./parameter_files/gauss/pet_64_05gauss_config.yaml',\n",
    "    #'./parameter_files/gauss/pet_128_05gauss_config.yaml',\n",
    "    #'./parameter_files/sqroot/pet_32_sqroot_config.yaml',\n",
    "    #'./parameter_files/sqroot/pet_64_sqroot_config.yaml',\n",
    "    #'./parameter_files/sqroot/pet_128_sqroot_config.yaml'\n",
    "]\n",
    "pet_feature_files = [\n",
    "    './../../../data_source/radiomic_features/alise/pet_16_sqroot_config.csv',\n",
    "    #'./../../../data_source/radiomic_features/no_filter/pet_32_no_filter_config.csv',\n",
    "    #'./../../../data_source/radiomic_features/no_filter/pet_64_no_filter_config.csv',\n",
    "    #'./../../../data_source/radiomic_features/no_filter/pet_128_no_filter_config.csv'\n",
    "    #'./../../../data_source/radiomic_features/gauss/pet_32_05gauss_config.csv',\n",
    "    #'./../../../data_source/radiomic_features/gauss/pet_64_05gauss_config.csv',\n",
    "    #'./../../../data_source/radiomic_features/gauss/pet_128_05gauss_config.csv',\n",
    "    #'./../../../data_source/radiomic_features/sqroot/pet_32_sqroot_config.csv',\n",
    "    #'./../../../data_source/radiomic_features/sqroot/pet_64_sqroot_config.csv',\n",
    "    #'./../../../data_source/radiomic_features/sqroot/pet_128_sqroot_config.csv'\n",
    "]\n",
    "for pet_param_file, pet_feature_file in zip(pet_param_files, pet_feature_files):\n",
    "    feature_extractor(\n",
    "        pet_param_file,\n",
    "        paths_pet_images, \n",
    "        verbose=1, \n",
    "        path_to_results=pet_feature_file\n",
    "    )"
   ]
  },
  {
   "cell_type": "code",
   "execution_count": null,
   "metadata": {},
   "outputs": [],
   "source": []
  }
 ],
 "metadata": {
  "anaconda-cloud": {},
  "kernelspec": {
   "display_name": "Python [conda env:anaconda]",
   "language": "python",
   "name": "conda-env-anaconda-py"
  },
  "language_info": {
   "codemirror_mode": {
    "name": "ipython",
    "version": 3
   },
   "file_extension": ".py",
   "mimetype": "text/x-python",
   "name": "python",
   "nbconvert_exporter": "python",
   "pygments_lexer": "ipython3",
   "version": "3.6.6"
  }
 },
 "nbformat": 4,
 "nbformat_minor": 2
}
